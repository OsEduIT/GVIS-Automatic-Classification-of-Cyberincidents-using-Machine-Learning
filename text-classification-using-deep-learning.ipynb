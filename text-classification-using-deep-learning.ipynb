{
 "cells": [
  {
   "cell_type": "markdown",
   "id": "c723a3cb",
   "metadata": {
    "id": "6aHMymbYdPB4",
    "papermill": {
     "duration": 0.072615,
     "end_time": "2022-06-14T10:26:38.525133",
     "exception": false,
     "start_time": "2022-06-14T10:26:38.452518",
     "status": "completed"
    },
    "tags": []
   },
   "source": [
    "# Word2Vec + LSTM"
   ]
  },
  {
   "cell_type": "markdown",
   "id": "a6bb2038",
   "metadata": {
    "papermill": {
     "duration": 0.069289,
     "end_time": "2022-06-14T10:26:38.663407",
     "exception": false,
     "start_time": "2022-06-14T10:26:38.594118",
     "status": "completed"
    },
    "tags": []
   },
   "source": [
    "# Instalación de librerias"
   ]
  },
  {
   "cell_type": "code",
   "execution_count": 1,
   "id": "0d722763",
   "metadata": {
    "execution": {
     "iopub.execute_input": "2022-06-14T10:26:38.897807Z",
     "iopub.status.busy": "2022-06-14T10:26:38.897372Z",
     "iopub.status.idle": "2022-06-14T10:26:45.795208Z",
     "shell.execute_reply": "2022-06-14T10:26:45.794484Z"
    },
    "id": "vxJPrN90t3Ns",
    "papermill": {
     "duration": 7.021009,
     "end_time": "2022-06-14T10:26:45.797432",
     "exception": false,
     "start_time": "2022-06-14T10:26:38.776423",
     "status": "completed"
    },
    "tags": []
   },
   "outputs": [],
   "source": [
    "import numpy as np \n",
    "import pandas as pd\n",
    "import matplotlib.pyplot as plt\n",
    "import seaborn as sns\n",
    "from keras.preprocessing.text import Tokenizer\n",
    "from keras.preprocessing.sequence import pad_sequences\n",
    "from keras.models import Sequential\n",
    "from keras.layers import Dense, Embedding, LSTM, SpatialDropout1D, Flatten\n",
    "from keras.layers.convolutional import Conv1D\n",
    "from keras.layers.convolutional import MaxPooling1D\n",
    "from keras.layers.embeddings import Embedding\n",
    "from sklearn.model_selection import train_test_split\n",
    "from keras.utils.np_utils import to_categorical\n",
    "from keras.callbacks import EarlyStopping\n",
    "from keras.layers import Dropout\n",
    "import re\n",
    "from nltk.corpus import stopwords\n",
    "from nltk import word_tokenize\n",
    "#STOPWORDS = set(stopwords.words('english'))\n",
    "from bs4 import BeautifulSoup\n",
    "#import plotly.graph_objs as go\n",
    "#import plotly.plotly as py\n",
    "#import cufflinks\n",
    "#from IPython.core.interactiveshell import InteractiveShell\n",
    "#import plotly.figure_factory as ff\n",
    "#InteractiveShell.ast_node_interactivity = 'all'\n",
    "#from plotly.offline import iplot\n",
    "#cufflinks.go_offline()\n",
    "#cufflinks.set_config_file(world_readable=True, theme='pearl')\n",
    "from sklearn import metrics\n",
    "from sklearn.feature_extraction.text import TfidfVectorizer, CountVectorizer"
   ]
  },
  {
   "cell_type": "markdown",
   "id": "ae7ef19b",
   "metadata": {
    "id": "UbV8d_SwdUCk",
    "papermill": {
     "duration": 0.066781,
     "end_time": "2022-06-14T10:26:45.931549",
     "exception": false,
     "start_time": "2022-06-14T10:26:45.864768",
     "status": "completed"
    },
    "tags": []
   },
   "source": [
    "# Cargar el Corpus"
   ]
  },
  {
   "cell_type": "code",
   "execution_count": 2,
   "id": "13eac4dd",
   "metadata": {
    "execution": {
     "iopub.execute_input": "2022-06-14T10:26:46.097458Z",
     "iopub.status.busy": "2022-06-14T10:26:46.097180Z",
     "iopub.status.idle": "2022-06-14T10:26:46.180039Z",
     "shell.execute_reply": "2022-06-14T10:26:46.179347Z"
    },
    "id": "-zlarJIiUPpB",
    "papermill": {
     "duration": 0.161586,
     "end_time": "2022-06-14T10:26:46.182096",
     "exception": false,
     "start_time": "2022-06-14T10:26:46.020510",
     "status": "completed"
    },
    "tags": []
   },
   "outputs": [],
   "source": [
    "df = pd.read_csv(\"../input/datos01/datos.csv\")"
   ]
  },
  {
   "cell_type": "code",
   "execution_count": 3,
   "id": "4ac82a8c",
   "metadata": {
    "execution": {
     "iopub.execute_input": "2022-06-14T10:26:46.313984Z",
     "iopub.status.busy": "2022-06-14T10:26:46.313165Z",
     "iopub.status.idle": "2022-06-14T10:26:46.338386Z",
     "shell.execute_reply": "2022-06-14T10:26:46.337600Z"
    },
    "id": "qFzuObv_dnuO",
    "outputId": "d2b0a0fa-5ed2-4b30-f58b-e4b98f0a426c",
    "papermill": {
     "duration": 0.093704,
     "end_time": "2022-06-14T10:26:46.341355",
     "exception": false,
     "start_time": "2022-06-14T10:26:46.247651",
     "status": "completed"
    },
    "tags": []
   },
   "outputs": [
    {
     "name": "stdout",
     "output_type": "stream",
     "text": [
      "<class 'pandas.core.frame.DataFrame'>\n",
      "RangeIndex: 8918 entries, 0 to 8917\n",
      "Data columns (total 2 columns):\n",
      " #   Column            Non-Null Count  Dtype \n",
      "---  ------            --------------  ----- \n",
      " 0   desp_clean_final  8901 non-null   object\n",
      " 1   INCIBE TAXONOMY   8918 non-null   object\n",
      "dtypes: object(2)\n",
      "memory usage: 139.5+ KB\n"
     ]
    }
   ],
   "source": [
    "df.info()"
   ]
  },
  {
   "cell_type": "code",
   "execution_count": 4,
   "id": "6b12ee23",
   "metadata": {
    "execution": {
     "iopub.execute_input": "2022-06-14T10:26:46.481900Z",
     "iopub.status.busy": "2022-06-14T10:26:46.481240Z",
     "iopub.status.idle": "2022-06-14T10:26:46.495124Z",
     "shell.execute_reply": "2022-06-14T10:26:46.494424Z"
    },
    "id": "n0gS_sQVgtmN",
    "outputId": "766e2e0c-4c42-4f03-b5b0-98096040b557",
    "papermill": {
     "duration": 0.082784,
     "end_time": "2022-06-14T10:26:46.497147",
     "exception": false,
     "start_time": "2022-06-14T10:26:46.414363",
     "status": "completed"
    },
    "tags": []
   },
   "outputs": [
    {
     "data": {
      "text/html": [
       "<div>\n",
       "<style scoped>\n",
       "    .dataframe tbody tr th:only-of-type {\n",
       "        vertical-align: middle;\n",
       "    }\n",
       "\n",
       "    .dataframe tbody tr th {\n",
       "        vertical-align: top;\n",
       "    }\n",
       "\n",
       "    .dataframe thead th {\n",
       "        text-align: right;\n",
       "    }\n",
       "</style>\n",
       "<table border=\"1\" class=\"dataframe\">\n",
       "  <thead>\n",
       "    <tr style=\"text-align: right;\">\n",
       "      <th></th>\n",
       "      <th>desp_clean_final</th>\n",
       "      <th>INCIBE TAXONOMY</th>\n",
       "    </tr>\n",
       "  </thead>\n",
       "  <tbody>\n",
       "    <tr>\n",
       "      <th>0</th>\n",
       "      <td>compani websit breach sometim around februari ...</td>\n",
       "      <td>HC</td>\n",
       "    </tr>\n",
       "    <tr>\n",
       "      <th>1</th>\n",
       "      <td>decemb 29 2011 theft laptop park car san franc...</td>\n",
       "      <td>DL</td>\n",
       "    </tr>\n",
       "    <tr>\n",
       "      <th>2</th>\n",
       "      <td>bdo contract rubio perform financi audit servi...</td>\n",
       "      <td>DL</td>\n",
       "    </tr>\n",
       "    <tr>\n",
       "      <th>3</th>\n",
       "      <td>februari 10 2012 dhi mortgag becam awar softwa...</td>\n",
       "      <td>HC</td>\n",
       "    </tr>\n",
       "    <tr>\n",
       "      <th>4</th>\n",
       "      <td>offic burglari new year eve 2011 result loss h...</td>\n",
       "      <td>DL</td>\n",
       "    </tr>\n",
       "  </tbody>\n",
       "</table>\n",
       "</div>"
      ],
      "text/plain": [
       "                                    desp_clean_final INCIBE TAXONOMY\n",
       "0  compani websit breach sometim around februari ...              HC\n",
       "1  decemb 29 2011 theft laptop park car san franc...              DL\n",
       "2  bdo contract rubio perform financi audit servi...              DL\n",
       "3  februari 10 2012 dhi mortgag becam awar softwa...              HC\n",
       "4  offic burglari new year eve 2011 result loss h...              DL"
      ]
     },
     "execution_count": 4,
     "metadata": {},
     "output_type": "execute_result"
    }
   ],
   "source": [
    "df.head()"
   ]
  },
  {
   "cell_type": "code",
   "execution_count": 5,
   "id": "51af852c",
   "metadata": {
    "execution": {
     "iopub.execute_input": "2022-06-14T10:26:46.634819Z",
     "iopub.status.busy": "2022-06-14T10:26:46.634298Z",
     "iopub.status.idle": "2022-06-14T10:26:46.638551Z",
     "shell.execute_reply": "2022-06-14T10:26:46.637887Z"
    },
    "id": "vSXnBGNIUtcb",
    "outputId": "2277f9ed-7403-43d2-d3e1-50089703a8f5",
    "papermill": {
     "duration": 0.075777,
     "end_time": "2022-06-14T10:26:46.641159",
     "exception": false,
     "start_time": "2022-06-14T10:26:46.565382",
     "status": "completed"
    },
    "tags": []
   },
   "outputs": [
    {
     "name": "stdout",
     "output_type": "stream",
     "text": [
      "8918\n"
     ]
    }
   ],
   "source": [
    "print(len(df))"
   ]
  },
  {
   "cell_type": "code",
   "execution_count": 6,
   "id": "c1692438",
   "metadata": {
    "execution": {
     "iopub.execute_input": "2022-06-14T10:26:46.787126Z",
     "iopub.status.busy": "2022-06-14T10:26:46.786881Z",
     "iopub.status.idle": "2022-06-14T10:26:46.795220Z",
     "shell.execute_reply": "2022-06-14T10:26:46.794462Z"
    },
    "id": "fqOMq9HwgHxP",
    "papermill": {
     "duration": 0.079435,
     "end_time": "2022-06-14T10:26:46.797004",
     "exception": false,
     "start_time": "2022-06-14T10:26:46.717569",
     "status": "completed"
    },
    "tags": []
   },
   "outputs": [],
   "source": [
    "df1 = df.dropna(axis='index',how='any') "
   ]
  },
  {
   "cell_type": "code",
   "execution_count": 7,
   "id": "0fc40f0b",
   "metadata": {
    "execution": {
     "iopub.execute_input": "2022-06-14T10:26:46.935209Z",
     "iopub.status.busy": "2022-06-14T10:26:46.934528Z",
     "iopub.status.idle": "2022-06-14T10:26:46.939101Z",
     "shell.execute_reply": "2022-06-14T10:26:46.938429Z"
    },
    "id": "bZMNGBwlgOWf",
    "outputId": "a428220d-a1e8-4167-f0e9-6080140fcf0e",
    "papermill": {
     "duration": 0.077118,
     "end_time": "2022-06-14T10:26:46.941397",
     "exception": false,
     "start_time": "2022-06-14T10:26:46.864279",
     "status": "completed"
    },
    "tags": []
   },
   "outputs": [
    {
     "name": "stdout",
     "output_type": "stream",
     "text": [
      "8918\n",
      "8901\n"
     ]
    }
   ],
   "source": [
    "print(len(df))\n",
    "print(len(df1))"
   ]
  },
  {
   "cell_type": "code",
   "execution_count": 8,
   "id": "b4b41643",
   "metadata": {
    "execution": {
     "iopub.execute_input": "2022-06-14T10:26:47.076711Z",
     "iopub.status.busy": "2022-06-14T10:26:47.075957Z",
     "iopub.status.idle": "2022-06-14T10:26:47.085015Z",
     "shell.execute_reply": "2022-06-14T10:26:47.084334Z"
    },
    "id": "JfzDCQh0gYQW",
    "outputId": "502a2601-577b-407b-f82f-5da030beeb83",
    "papermill": {
     "duration": 0.079398,
     "end_time": "2022-06-14T10:26:47.087030",
     "exception": false,
     "start_time": "2022-06-14T10:26:47.007632",
     "status": "completed"
    },
    "tags": []
   },
   "outputs": [
    {
     "data": {
      "text/html": [
       "<div>\n",
       "<style scoped>\n",
       "    .dataframe tbody tr th:only-of-type {\n",
       "        vertical-align: middle;\n",
       "    }\n",
       "\n",
       "    .dataframe tbody tr th {\n",
       "        vertical-align: top;\n",
       "    }\n",
       "\n",
       "    .dataframe thead th {\n",
       "        text-align: right;\n",
       "    }\n",
       "</style>\n",
       "<table border=\"1\" class=\"dataframe\">\n",
       "  <thead>\n",
       "    <tr style=\"text-align: right;\">\n",
       "      <th></th>\n",
       "      <th>desp_clean_final</th>\n",
       "      <th>INCIBE TAXONOMY</th>\n",
       "    </tr>\n",
       "  </thead>\n",
       "  <tbody>\n",
       "    <tr>\n",
       "      <th>0</th>\n",
       "      <td>compani websit breach sometim around februari ...</td>\n",
       "      <td>HC</td>\n",
       "    </tr>\n",
       "    <tr>\n",
       "      <th>1</th>\n",
       "      <td>decemb 29 2011 theft laptop park car san franc...</td>\n",
       "      <td>DL</td>\n",
       "    </tr>\n",
       "    <tr>\n",
       "      <th>2</th>\n",
       "      <td>bdo contract rubio perform financi audit servi...</td>\n",
       "      <td>DL</td>\n",
       "    </tr>\n",
       "    <tr>\n",
       "      <th>3</th>\n",
       "      <td>februari 10 2012 dhi mortgag becam awar softwa...</td>\n",
       "      <td>HC</td>\n",
       "    </tr>\n",
       "    <tr>\n",
       "      <th>4</th>\n",
       "      <td>offic burglari new year eve 2011 result loss h...</td>\n",
       "      <td>DL</td>\n",
       "    </tr>\n",
       "  </tbody>\n",
       "</table>\n",
       "</div>"
      ],
      "text/plain": [
       "                                    desp_clean_final INCIBE TAXONOMY\n",
       "0  compani websit breach sometim around februari ...              HC\n",
       "1  decemb 29 2011 theft laptop park car san franc...              DL\n",
       "2  bdo contract rubio perform financi audit servi...              DL\n",
       "3  februari 10 2012 dhi mortgag becam awar softwa...              HC\n",
       "4  offic burglari new year eve 2011 result loss h...              DL"
      ]
     },
     "execution_count": 8,
     "metadata": {},
     "output_type": "execute_result"
    }
   ],
   "source": [
    "df1.head()"
   ]
  },
  {
   "cell_type": "code",
   "execution_count": 9,
   "id": "0e29c90a",
   "metadata": {
    "execution": {
     "iopub.execute_input": "2022-06-14T10:26:47.221852Z",
     "iopub.status.busy": "2022-06-14T10:26:47.221479Z",
     "iopub.status.idle": "2022-06-14T10:26:47.228384Z",
     "shell.execute_reply": "2022-06-14T10:26:47.227706Z"
    },
    "id": "n53xVEzoDlre",
    "outputId": "3ba7cc71-1ab8-4ff0-b436-f7ad695341f8",
    "papermill": {
     "duration": 0.076891,
     "end_time": "2022-06-14T10:26:47.230247",
     "exception": false,
     "start_time": "2022-06-14T10:26:47.153356",
     "status": "completed"
    },
    "tags": []
   },
   "outputs": [
    {
     "data": {
      "text/plain": [
       "['DL', 'DOI', 'HC', 'OTHERS', 'PAC', 'THEFT', 'UAI']"
      ]
     },
     "execution_count": 9,
     "metadata": {},
     "output_type": "execute_result"
    }
   ],
   "source": [
    "labels = sorted(df1['INCIBE TAXONOMY'].unique())\n",
    "labels"
   ]
  },
  {
   "cell_type": "code",
   "execution_count": 10,
   "id": "6229d51d",
   "metadata": {
    "execution": {
     "iopub.execute_input": "2022-06-14T10:26:47.365058Z",
     "iopub.status.busy": "2022-06-14T10:26:47.364398Z",
     "iopub.status.idle": "2022-06-14T10:26:47.371913Z",
     "shell.execute_reply": "2022-06-14T10:26:47.371258Z"
    },
    "id": "i4sKavamGgxr",
    "outputId": "cf127e90-9b34-416a-ad63-2892d04c90ee",
    "papermill": {
     "duration": 0.076938,
     "end_time": "2022-06-14T10:26:47.374009",
     "exception": false,
     "start_time": "2022-06-14T10:26:47.297071",
     "status": "completed"
    },
    "tags": []
   },
   "outputs": [
    {
     "data": {
      "text/plain": [
       "HC        2527\n",
       "DOI       1854\n",
       "THEFT     1728\n",
       "DL        1416\n",
       "OTHERS     702\n",
       "PAC        606\n",
       "UAI         68\n",
       "Name: INCIBE TAXONOMY, dtype: int64"
      ]
     },
     "execution_count": 10,
     "metadata": {},
     "output_type": "execute_result"
    }
   ],
   "source": [
    "df1['INCIBE TAXONOMY'].value_counts() #datos desbalaneceados"
   ]
  },
  {
   "cell_type": "markdown",
   "id": "f7135aea",
   "metadata": {
    "id": "jua--DtOHERQ",
    "papermill": {
     "duration": 0.070392,
     "end_time": "2022-06-14T10:26:47.513248",
     "exception": false,
     "start_time": "2022-06-14T10:26:47.442856",
     "status": "completed"
    },
    "tags": []
   },
   "source": [
    "# Visualizacion"
   ]
  },
  {
   "cell_type": "code",
   "execution_count": 11,
   "id": "8b733668",
   "metadata": {
    "execution": {
     "iopub.execute_input": "2022-06-14T10:26:47.656231Z",
     "iopub.status.busy": "2022-06-14T10:26:47.655539Z",
     "iopub.status.idle": "2022-06-14T10:26:47.875224Z",
     "shell.execute_reply": "2022-06-14T10:26:47.874518Z"
    },
    "id": "S7toQK5JGuds",
    "outputId": "40a9a135-e75b-4e87-f219-c7719bbb4474",
    "papermill": {
     "duration": 0.293763,
     "end_time": "2022-06-14T10:26:47.877255",
     "exception": false,
     "start_time": "2022-06-14T10:26:47.583492",
     "status": "completed"
    },
    "tags": []
   },
   "outputs": [
    {
     "data": {
      "image/png": "[encoded data removed]",
      "text/plain": [
       "<Figure size 432x288 with 1 Axes>"
      ]
     },
     "metadata": {
      "needs_background": "light"
     },
     "output_type": "display_data"
    }
   ],
   "source": [
    "import matplotlib.pyplot as plt\n",
    "df1['INCIBE TAXONOMY'].value_counts().plot.bar()\n",
    "plt.show()"
   ]
  },
  {
   "cell_type": "markdown",
   "id": "8053a965",
   "metadata": {
    "id": "Bh5taIqeJPpt",
    "papermill": {
     "duration": 0.069959,
     "end_time": "2022-06-14T10:26:48.018812",
     "exception": false,
     "start_time": "2022-06-14T10:26:47.948853",
     "status": "completed"
    },
    "tags": []
   },
   "source": [
    "# Split Data for Train and Test\n"
   ]
  },
  {
   "cell_type": "markdown",
   "id": "dc04f503",
   "metadata": {
    "id": "QNaqlKvfLfza",
    "papermill": {
     "duration": 0.071665,
     "end_time": "2022-06-14T10:26:48.159554",
     "exception": false,
     "start_time": "2022-06-14T10:26:48.087889",
     "status": "completed"
    },
    "tags": []
   },
   "source": [
    "Vectorizar la descripción"
   ]
  },
  {
   "cell_type": "code",
   "execution_count": 12,
   "id": "9a5ea20e",
   "metadata": {
    "execution": {
     "iopub.execute_input": "2022-06-14T10:26:48.301001Z",
     "iopub.status.busy": "2022-06-14T10:26:48.300745Z",
     "iopub.status.idle": "2022-06-14T10:26:48.550709Z",
     "shell.execute_reply": "2022-06-14T10:26:48.548884Z"
    },
    "papermill": {
     "duration": 0.321505,
     "end_time": "2022-06-14T10:26:48.552622",
     "exception": false,
     "start_time": "2022-06-14T10:26:48.231117",
     "status": "completed"
    },
    "tags": []
   },
   "outputs": [
    {
     "name": "stdout",
     "output_type": "stream",
     "text": [
      "Found 13616 unique tokens.\n"
     ]
    }
   ],
   "source": [
    "# Maximo numero de palabras usadas\n",
    "MAX_NB_WORDS = 50000\n",
    "# Maximo numero de palabras en cada descripción\n",
    "MAX_SEQUENCE_LENGTH = 300\n",
    "# La dimensión del embeding\n",
    "EMBEDDING_DIM = 200\n",
    "\n",
    "tokenizer = Tokenizer(num_words=MAX_NB_WORDS, filters='!\"#$%&()*+,-./:;<=>?@[\\]^_`{|}~', lower=True)\n",
    "tokenizer.fit_on_texts(df1['desp_clean_final'].values)\n",
    "word_index = tokenizer.word_index\n",
    "print('Found %s unique tokens.' % len(word_index))"
   ]
  },
  {
   "cell_type": "code",
   "execution_count": 13,
   "id": "7ae26763",
   "metadata": {
    "execution": {
     "iopub.execute_input": "2022-06-14T10:26:48.709156Z",
     "iopub.status.busy": "2022-06-14T10:26:48.708421Z",
     "iopub.status.idle": "2022-06-14T10:26:48.730480Z",
     "shell.execute_reply": "2022-06-14T10:26:48.729770Z"
    },
    "papermill": {
     "duration": 0.122452,
     "end_time": "2022-06-14T10:26:48.746469",
     "exception": false,
     "start_time": "2022-06-14T10:26:48.624017",
     "status": "completed"
    },
    "tags": []
   },
   "outputs": [
    {
     "name": "stdout",
     "output_type": "stream",
     "text": [
      "{'inform': 1, 'breach': 2, 'number': 3, 'secur': 4, 'name': 5, 'locat': 6, 'employe': 7, 'social': 8, 'address': 9, 'access': 10, 'card': 11, 'may': 12, 'patient': 13, 'data': 14, 'custom': 15, 'includ': 16, 'date': 17, 'theft': 18, 'person': 19, 'contain': 20, 'unauthor': 21, 'account': 22, 'email': 23, 'affect': 24, 'credit': 25, 'comput': 26, 'record': 27, 'offic': 28, 'use': 29, 'health': 30, 'laptop': 31, 'provid': 32, 'incid': 33, 'expos': 34, 'compani': 35, 'birth': 36, 'stolen': 37, 'servic': 38, 'medic': 39, 'system': 40, 'file': 41, 'discov': 42, 'report': 43, 'hacker': 44, 'investig': 45, 'notifi': 46, 'accessdisclosur': 47, 'student': 48, 'gener': 49, 'password': 50, 'attorney': 51, 'compromis': 52, 'former': 53, 'individu': 54, 'one': 55, 'also': 56, 'websit': 57, 'peopl': 58, 'hackingit': 59, 'payment': 60, 'state': 61, 'result': 62, 'bank': 63, 'sent': 64, 'server': 65, 'onlin': 66, 'indiana': 67, 'phone': 68, 'user': 69, 'univers': 70, 'two': 71, 'document': 72, 'current': 73, 'depart': 74, 'store': 75, 'insur': 76, 'financi': 77, 'member': 78, 'drive': 79, 'found': 80, 'tax': 81, 'year': 82, 'fraudul': 83, 'ident': 84, 'occur': 85, 'databas': 86, 'receiv': 87, 'hospit': 88, 'sensit': 89, 'client': 90, 'protect': 91, 'work': 92, 'januari': 93, 'contact': 94, 'hack': 95, 'involv': 96, '2011': 97, 'post': 98, 'million': 99, 'code': 100, 'juli': 101, 'novemb': 102, 'could': 103, 'center': 104, 'new': 105, 'march': 106, 'octob': 107, 'charg': 108, 'obtain': 109, 'attack': 110, 'april': 111, 'august': 112, 'june': 113, '2012': 114, 'decemb': 115, 'network': 116, 'parti': 117, 'call': 118, 'septemb': 119, 'human': 120, '2016': 121, 'around': 122, 'california': 123, 'licens': 124, 'said': 125, 'februari': 126, 'time': 127, 'home': 128, 'appear': 129, 'us': 130, 'driver': 131, 'mail': 132, 'claim': 133, 'letter': 134, 'specif': 135, 'notif': 136, '2017': 137, 'debit': 138, 'total': 139, 'id': 140, 'devic': 141, 'loss': 142, 'potenti': 143, 'determin': 144, 'fraud': 145, 'last': 146, 'group': 147, 'least': 148, '2013': 149, 'learn': 150, 'school': 151, 'believ': 152, 'immedi': 153, 'exposur': 154, 'activ': 155, 'abl': 156, 'associ': 157, 'relat': 158, 'hard': 159, 'addit': 160, '2010': 161, 'encrypt': 162, 'made': 163, 'process': 164, 'manag': 165, 'purchas': 166, 'accord': 167, 'inc': 168, 'issu': 169, 'identifi': 170, 'month': 171, 'site': 172, 'applic': 173, 'public': 174, 'avail': 175, 'bill': 176, 'error': 177, 'first': 178, 'place': 179, 'malwar': 180, 'certain': 181, 'gain': 182, 'resid': 183, 'third': 184, 'vendor': 185, 'counti': 186, 'three': 187, 'plan': 188, 'program': 189, 'car': 190, 'feder': 191, 'form': 192, 'return': 193, 'softwar': 194, 'reveal': 195, 'taken': 196, 'usernam': 197, 'staff': 198, 'list': 199, 'identif': 200, 'expir': 201, 'type': 202, 'sever': 203, 'check': 204, 'care': 205, '1': 206, 'lost': 207, 'order': 208, 'ssn': 209, 'author': 210, 'busi': 211, 'remov': 212, 'employ': 213, 'law': 214, 'firm': 215, 'district': 216, 'chang': 217, 'caus': 218, 'possibl': 219, 'releas': 220, 'updat': 221, 'recent': 222, 'telephon': 223, 'statement': 224, 'accident': 225, '15': 226, 'offici': 227, 'back': 228, 'allow': 229, 'polic': 230, 'case': 231, 'clinic': 232, 'confirm': 233, 'began': 234, 'administr': 235, 'miss': 236, 'outsid': 237, 'sometim': 238, 'intern': 239, '12': 240, '2014': 241, 'well': 242, 'monitor': 243, 'citi': 244, 'disclos': 245, 'took': 246, 'commun': 247, 'victim': 248, 'mani': 249, 'question': 250, '10': 251, 'electron': 252, 'agenc': 253, 'notic': 254, 'approxim': 255, 'four': 256, 'copi': 257, 'view': 258, 'pay': 259, 'respons': 260, 'without': 261, '2015': 262, 'dishonest': 263, 'consum': 264, 'estim': 265, 'paper': 266, 'make': 267, 'offer': 268, 'physician': 269, 'part': 270, 'detail': 271, 'target': 272, 'w2': 273, 'thousand': 274, 'transact': 275, 'free': 276, 'someon': 277, 'lawsuit': 278, 'base': 279, 'awar': 280, 'internet': 281, 'confidenti': 282, '2009': 283, 'privat': 284, 'unclear': 285, 'via': 286, 'anoth': 287, 'colleg': 288, 'unknown': 289, 'would': 290, 'evid': 291, 'misus': 292, 'phish': 293, 'treatment': 294, 'attempt': 295, 'contractor': 296, 'restaur': 297, 'web': 298, 'collect': 299, 'risk': 300, 'sinc': 301, 'dispos': 302, 'tape': 303, 'search': 304, 'payrol': 305, 'hotel': 306, '30': 307, '20': 308, 'test': 309, 'happen': 310, 'take': 311, 'enforc': 312, '2': 313, 'forens': 314, 'day': 315, '8': 316, 'arrest': 317, 'sentenc': 318, 'full': 319, 'box': 320, '11': 321, 'prison': 322, 'hundr': 323, 'request': 324, 'info': 325, '24': 326, 'left': 327, 'malici': 328, 'action': 329, '13': 330, 'unencrypt': 331, 'organ': 332, 'alert': 333, 'burglari': 334, '25': 335, 'court': 336, '3': 337, '6': 338, 'within': 339, 'say': 340, 'research': 341, 'count': 342, 'worker': 343, 'becam': 344, 'login': 345, '14': 346, 'stole': 347, 'inadvert': 348, '22': 349, 'particip': 350, 'week': 351, '18': 352, '5': 353, '4': 354, 'privaci': 355, 'facil': 356, 'amount': 357, '2008': 358, '23': 359, 'like': 360, 'anyon': 361, 'dumpster': 362, '16': 363, '28': 364, 'polici': 365, 'famili': 366, 'diagnos': 367, 'link': 368, 'steal': 369, 'crimin': 370, 'open': 371, '21': 372, '26': 373, 'follow': 374, 'earli': 375, '27': 376, 'five': 377, 'visit': 378, 'review': 379, 'york': 380, 'procedur': 381, 'unit': 382, 'benefit': 383, '17': 384, 'spreadsheet': 385, 'impact': 386, 'late': 387, 'assist': 388, 'backup': 389, 'owner': 390, 'announc': 391, 'extern': 392, 'fail': 393, 'nation': 394, 'instal': 395, 'ask': 396, 'oper': 397, '9': 398, 'improp': 399, 'requir': 400, '7': 401, 'limit': 402, 'regard': 403, 'guilti': 404, 'medicaid': 405, 'class': 406, 'man': 407, 'healthcar': 408, 'digit': 409, 'suffer': 410, 'faculti': 411, 'loan': 412, 'howev': 413, '19': 414, 'gender': 415, 'skype': 416, 'local': 417, 'team': 418, 'texa': 419, 'publicli': 420, 'vehicl': 421, 'sourc': 422, 'storag': 423, 'leak': 424, 'vulner': 425, 'experienc': 426, 'step': 427, 'news': 428, '2007': 429, '31': 430, 'thirdparti': 431, 'flash': 432, 'connect': 433, 'multipl': 434, 'hire': 435, 'retail': 436, 'ir': 437, 'technolog': 438, 'fire': 439, 'set': 440, 'problem': 441, 'attach': 442, 'friday': 443, 'page': 444, 'histori': 445, 'enrol': 446, 'diagnosi': 447, 'purpos': 448, 'due': 449, 'cyber': 450, 'credenti': 451, 'note': 452, 'union': 453, 'enter': 454, 'florida': 455, 'creat': 456, 'download': 457, 'doctor': 458, '29': 459, 'monday': 460, 'parent': 461, 'direct': 462, 'area': 463, 'cost': 464, 'violat': 465, '2005': 466, 'infect': 467, 'need': 468, 'share': 469, 'nearli': 470, 'lock': 471, 'face': 472, '2006': 473, 'intrus': 474, 'plead': 475, 'detect': 476, 'andor': 477, 'corpor': 478, 'reason': 479, 'indic': 480, 'prevent': 481, 'personnel': 482, 'still': 483, 'launch': 484, 'sold': 485, 'support': 486, 'known': 487, 'govern': 488, 'hour': 489, 'nationwid': 490, 'end': 491, 'upon': 492, 'viru': 493, 'point': 494, 'googl': 495, 'belong': 496, 'campu': 497, 'discoveri': 498, 'warn': 499, 'children': 500, 'disclosur': 501, 'desktop': 502, 'went': 503, 'job': 504, 'repres': 505, 'portabl': 506, 'accus': 507, 'san': 508, 'send': 509, 'print': 510, 'settlement': 511, 'ring': 512, 'second': 513, 'origin': 514, 'alleg': 515, 'conspiraci': 516, 'delet': 517, 'necessari': 518, 'though': 519, 'woman': 520, 'period': 521, 'paid': 522, 'statu': 523, 'agre': 524, 'conduct': 525, 'concern': 526, 'thiev': 527, 'whose': 528, 'properti': 529, 'mortgag': 530, 'resourc': 531, 'american': 532, 'skim': 533, 'complet': 534, 'north': 535, 'recov': 536, 'regist': 537, 'similar': 538, 'dental': 539, 'item': 540, 'partner': 541, 'grade': 542, 'commit': 543, 'best': 544, 'park': 545, 'clear': 546, 'educ': 547, 'suspici': 548, 'medicar': 549, 'fbi': 550, 'experian': 551, 'consult': 552, 'help': 553, 'later': 554, 'continu': 555, 'along': 556, 'disabl': 557, 'expert': 558, 'contract': 559, 'other': 560, 'hous': 561, 'unspecifi': 562, 'shred': 563, 'whether': 564, 'reset': 565, 'equip': 566, 'age': 567, 'room': 568, 'st': 569, 'caught': 570, 'initi': 571, 'institut': 572, 'fine': 573, 'seen': 574, 'log': 575, 'prescript': 576, 'six': 577, 'nurs': 578, '2018': 579, 'perform': 580, 'compens': 581, 'host': 582, 'submit': 583, 'show': 584, 'go': 585, 'pm': 586, 'reflect': 587, 'audit': 588, 'high': 589, 'retir': 590, 'mistak': 591, 'ongo': 592, 'practic': 593, 'media': 594, 'httpsocrportalhhsgovocrbreachbreachreportjsfjsessionid9bf4af': 595, 'messag': 596, 'sell': 597, 'measur': 598, 'envelop': 599, 'close': 600, 'depend': 601, 'salari': 602, 'market': 603, 'sale': 604, 'america': 605, 'broke': 606, 'small': 607, 'washington': 608, '100': 609, 'damag': 610, 'xray': 611, 'fund': 612, 'recipi': 613, 'emerg': 614, 'put': 615, 'although': 616, 'minimum': 617, 'oblig': 618, 'incom': 619, 'illeg': 620, 'combin': 621, 'appli': 622, 'cardhold': 623, 'suspect': 624, 'past': 625, 'schedul': 626, 'find': 627, 'lab': 628, 'pin': 629, 'differ': 630, 'old': 631, 'way': 632, 'anonym': 633, 'disclaim': 634, 'trigger': 635, 'act': 636, 'deposit': 637, 'see': 638, '500': 639, 'cd': 640, 'sign': 641, 'men': 642, 'passwordprotect': 643, 'main': 644, 'carolina': 645, 'physic': 646, 'destroy': 647, 'hh': 648, 'app': 649, 'major': 650, 'seven': 651, 'agent': 652, 'ship': 653, 'atm': 654, 'blue': 655, 'complaint': 656, 'recycl': 657, 'veteran': 658, 'held': 659, 'engin': 660, 'forum': 661, 'dollar': 662, 'aid': 663, 'mistakenli': 664, 'insid': 665, 'rout': 666, 'far': 667, 'respond': 668, 'across': 669, 'treat': 670, 'imag': 671, 'advis': 672, 'track': 673, 'fals': 674, 'statut': 675, 'own': 676, 'either': 677, 'central': 678, 'wrong': 679, 'cvv': 680, 'maintain': 681, 'child': 682, 'divis': 683, 'station': 684, 'correct': 685, 'separ': 686, 'transfer': 687, 'surround': 688, 'led': 689, 'encourag': 690, 'region': 691, 'long': 692, '2004': 693, 'eight': 694, 'onto': 695, 'lead': 696, 'chief': 697, 'game': 698, 'unnam': 699, 'llc': 700, 'captur': 701, 'smsadd': 702, 'skypeyoul': 703, 'creditfre': 704, 'reach': 705, 'design': 706, 'acquir': 707, 'suit': 708, 'stop': 709, 'incorrect': 710, 'rule': 711, 'move': 712, 'came': 713, 'allegedli': 714, 'informationth': 715, 'cover': 716, 'disk': 717, 'want': 718, 'present': 719, 'even': 720, 'aggrav': 721, 'inappropri': 722, 'know': 723, 'express': 724, 'execut': 725, 'tri': 726, 'variou': 727, 'termin': 728, 'among': 729, 'unusu': 730, 'scan': 731, 'prior': 732, 'money': 733, 'natur': 734, 'soni': 735, 'look': 736, 'chain': 737, 'pointofsal': 738, 'dump': 739, 'subscrib': 740, 'told': 741, 'tjx': 742, 'dob': 743, 'possess': 744, 'south': 745, 'surgeri': 746, 'scheme': 747, 'indict': 748, 'portal': 749, 'never': 750, 'hampshir': 751, 'facebook': 752, 'exposedupd': 753, 'get': 754, 'packag': 755, 'distribut': 756, 'build': 757, 'hash': 758, 'cash': 759, 'shut': 760, 'larg': 761, 'solut': 762, 'scam': 763, 'drug': 764, 'special': 765, 'crime': 766, 'develop': 767, 'content': 768, 'industri': 769, 'memori': 770, 'futur': 771, 'line': 772, 'legitim': 773, 'yet': 774, 'shop': 775, 'board': 776, 'alreadi': 777, 'admit': 778, 'uncov': 779, 'balanc': 780, 'improperli': 781, 'massachusett': 782, 'hold': 783, 'verif': 784, 'read': 785, 'control': 786, 'ecommerc': 787, 'independ': 788, 'publish': 789, 'affili': 790, 'demograph': 791, 'food': 792, 'citizen': 793, 'unsecur': 794, 'exchang': 795, 'voter': 796, 'book': 797, 'beneficiari': 798, 'creditdebit': 799, 'write': 800, 'actual': 801, 'properli': 802, 'trash': 803, 'cours': 804, 'appoint': 805, 'refund': 806, 'film': 807, 'handl': 808, 'previous': 809, 'ad': 810, 'machin': 811, 'cabinet': 812, 'alumni': 813, 'pleas': 814, 'engag': 815, 'illinoi': 816, 'implement': 817, 'ransomwar': 818, 'phi': 819, 'bag': 820, 'laboratori': 821, 'passport': 822, 'morn': 823, 'thumb': 824, 'registr': 825, 'platform': 826, 'membership': 827, 'street': 828, 'resort': 829, 'countri': 830, 'commiss': 831, 'ga': 832, 'photo': 833, '2002': 834, 'seek': 835, '50': 836, 'start': 837, 'merchant': 838, 'maryland': 839, 'earlier': 840, 'legal': 841, 'behalf': 842, 'secret': 843, 'ip': 844, 'oregon': 845, 'upload': 846, 'given': 847, 'fix': 848, 'reserv': 849, 'ten': 850, 'come': 851, 'leav': 852, 'checkout': 853, 'affectedupd': 854, 'teacher': 855, 'intrud': 856, 'train': 857, 'visa': 858, 'right': 859, 'entiti': 860, 'profil': 861, 'graduat': 862, 'matter': 863, 'ce': 864, 'weekend': 865, 'condit': 866, 'analysi': 867, 'instruct': 868, 'visibl': 869, 'dr': 870, 'util': 871, 'pose': 872, 'club': 873, 'product': 874, 'informationmor': 875, '2000': 876, 'cybersecur': 877, 'flaw': 878, 'prepar': 879, 'holder': 880, 'coverag': 881, '2003': 882, 'invest': 883, 'folder': 884, 'infiltr': 885, 'numer': 886, 'trade': 887, 'misplac': 888, 'situat': 889, 'event': 890, 'global': 891, 'cyberattack': 892, 'serv': 893, 'hipaa': 894, 'subject': 895, 'everi': 896, 'key': 897, 'appar': 898, 'safeguard': 899, 'restitut': 900, 'connecticut': 901, 'women': 902, 'save': 903, 'settl': 904, 'today': 905, 'might': 906, 'jersey': 907, 'recommend': 908, 'temporarili': 909, 'medicin': 910, '1000': 911, 'admiss': 912, 'remain': 913, 'profession': 914, 'twitter': 915, 'broken': 916, 'longer': 917, 'tuesday': 918, 'live': 919, 'breachmor': 920, 'west': 921, 'mastercard': 922, 'bin': 923, 'protectmyid': 924, 'reportedli': 925, 'eastern': 926, 'wire': 927, 'run': 928, 'travel': 929, 'mobil': 930, 'virginia': 931, 'va': 932, 'forward': 933, 'kept': 934, 'next': 935, 'effort': 936, 'southern': 937, 'rather': 938, 'attend': 939, '1099': 940, 'life': 941, 'transport': 942, 'block': 943, 'valley': 944, 'bar': 945, 'examin': 946, 'shield': 947, 'dismiss': 948, 'breachupd': 949, 'largest': 950, 'much': 951, 'refer': 952, 'director': 953, 'heartland': 954, 'chicago': 955, 'involvedth': 956, '40': 957, 'near': 958, 'delay': 959, 'transmit': 960, 'arizona': 961, 'easili': 962, '800': 963, 'studi': 964, 'burglar': 965, 'spam': 966, 'thief': 967, 'lo': 968, 'civil': 969, 'wage': 970, 'corp': 971, 'co': 972, 'senior': 973, 'abund': 974, 'promptli': 975, '200': 976, 'dozen': 977, 'fall': 978, 'role': 979, 'correspond': 980, 'intend': 981, 'sophist': 982, 'nine': 983, 'diagnost': 984, 'valu': 985, 'routin': 986, 'elect': 987, 'singl': 988, 'scope': 989, 'real': 990, 'convict': 991, 'nonprofit': 992, 'lawyer': 993, 'instead': 994, 'subsequ': 995, 'ensur': 996, 'guest': 997, 'forc': 998, 'exploit': 999, 'entir': 1000, 'hand': 1001, 'pharmaci': 1002, 'trust': 1003, 'window': 1004, 'label': 1005, 'arriv': 1006, 'suppli': 1007, 'temporari': 1008, 'previou': 1009, 'judg': 1010, 'portion': 1011, 'authent': 1012, 'broker': 1013, 'sheriff': 1014, 'transcript': 1015, 'cross': 1016, 'thought': 1017, 'restor': 1018, 'cell': 1019, 'score': 1020, 'briefcas': 1021, 'caution': 1022, 'unfortun': 1023, 'su': 1024, 'michael': 1025, 'processor': 1026, 'ftc': 1027, 'anthem': 1028, 'auditor': 1029, 'inject': 1030, 'unabl': 1031, 'worth': 1032, 'titl': 1033, 'remot': 1034, 'certif': 1035, 'pennsylvania': 1036, 'tool': 1037, 'santa': 1038, 'turn': 1039, 'retain': 1040, 'birthdat': 1041, 'utah': 1042, 'eye': 1043, 'plu': 1044, 'fact': 1045, 'quickli': 1046, 'suggest': 1047, 'behind': 1048, 'disc': 1049, 'coconspir': 1050, 'conspir': 1051, 'comment': 1052, 'kaiser': 1053, 'standard': 1054, 'assign': 1055, 'justic': 1056, 'postal': 1057, 'taxpay': 1058, 'radiolog': 1059, 'angel': 1060, 'grand': 1061, 'visitor': 1062, 'technic': 1063, 'spous': 1064, 'begin': 1065, 'brand': 1066, 'skimmer': 1067, 'function': 1068, 'bug': 1069, 'answer': 1070, 'race': 1071, 'safe': 1072, 'salt': 1073, 'paperwork': 1074, 'francisco': 1075, 'regul': 1076, '401k': 1077, 'prospect': 1078, 'entri': 1079, 'minnesota': 1080, 'net': 1081, 'defraud': 1082, 'brought': 1083, 'plaintiff': 1084, 'subsidiari': 1085, 'hr': 1086, 'transit': 1087, 'extent': 1088, 'reimburs': 1089, 'retire': 1090, 'offlin': 1091, 'per': 1092, 'cannot': 1093, 'wednesday': 1094, 'po': 1095, 'assess': 1096, 'thursday': 1097, 'fake': 1098, 'throughout': 1099, 'half': 1100, 'abandon': 1101, 'receipt': 1102, '3000': 1103, 'camera': 1104, 'discard': 1105, 'project': 1106, 'partial': 1107, 'pension': 1108, 'traffic': 1109, 'scienc': 1110, '100000': 1111, 'eventu': 1112, 'expens': 1113, 'meant': 1114, 'colorado': 1115, 'gather': 1116, 'ceo': 1117, 'sex': 1118, 'buy': 1119, 'pass': 1120, 'agreement': 1121, 'seem': 1122, 'volunt': 1123, 'presid': 1124, 'vickeri': 1125, 'improv': 1126, 'usb': 1127, 'fee': 1128, 'replac': 1129, 'posit': 1130, 'becom': 1131, 'excel': 1132, 'mental': 1133, 'common': 1134, 'retriev': 1135, 'larger': 1136, 'suspend': 1137, 'allclear': 1138, '600': 1139, 'realiz': 1140, 'pictur': 1141, 'advantag': 1142, 'soon': 1143, 'bureau': 1144, 'gift': 1145, 'intent': 1146, 'import': 1147, 'lake': 1148, 'shortli': 1149, 'press': 1150, 'deni': 1151, 'upgrad': 1152, 'ago': 1153, 'oct': 1154, 'donor': 1155, 'chase': 1156, '200000': 1157, '5000': 1158, '15000': 1159, 'alter': 1160, 'world': 1161, '20000': 1162, 'sabr': 1163, '1999': 1164, 'increas': 1165, 'hit': 1166, 'decrypt': 1167, 'give': 1168, 'financ': 1169, 'instanc': 1170, 'descript': 1171, 'militari': 1172, 'kroll': 1173, 'att': 1174, 'insert': 1175, 'defens': 1176, 'perpetr': 1177, 'serious': 1178, 'click': 1179, 'thrown': 1180, 'text': 1181, 'expect': 1182, 'feloni': 1183, '2001': 1184, 'spokesperson': 1185, 'directli': 1186, 'saint': 1187, 'saw': 1188, 'integr': 1189, 'evalu': 1190, 'river': 1191, 'materi': 1192, 'deal': 1193, 'fewer': 1194, 'northern': 1195, 'georgia': 1196, '900': 1197, 'behavior': 1198, 'ohio': 1199, 'night': 1200, 'featur': 1201, 'primari': 1202, 'piec': 1203, 'screen': 1204, 'top': 1205, 'numbersth': 1206, 'relationship': 1207, 'pacif': 1208, 'estat': 1209, 'coordin': 1210, 'art': 1211, 'equifax': 1212, 'guard': 1213, 'carrier': 1214, 'ocr': 1215, 'extens': 1216, 'appl': 1217, 'appropri': 1218, 'latest': 1219, 'fit': 1220, 'revenu': 1221, 'docusign': 1222, 'hidden': 1223, 'trace': 1224, 'tennesse': 1225, 'plaintext': 1226, 'kansa': 1227, 'alabama': 1228, 'yahoo': 1229, 'clerk': 1230, 'clean': 1231, 'sec': 1232, 'russian': 1233, 'casino': 1234, 'discharg': 1235, 'field': 1236, 'branch': 1237, 'zip': 1238, 'atlanta': 1239, 'headquart': 1240, 'glitch': 1241, 'foreign': 1242, 'must': 1243, 'cloud': 1244, 'diego': 1245, 'librari': 1246, 'beyond': 1247, 'particular': 1248, 'spring': 1249, 'protocol': 1250, 'success': 1251, 'airlin': 1252, 'groceri': 1253, 'background': 1254, 'classact': 1255, 'massiv': 1256, 'exact': 1257, 'academ': 1258, 'let': 1259, 'happenedon': 1260, 'carri': 1261, 'method': 1262, 'signific': 1263, 'silver': 1264, 'effect': 1265, 'demand': 1266, 'dropbox': 1267, 'dec': 1268, 'minut': 1269, 'less': 1270, 'term': 1271, '32': 1272, 'supervis': 1273, 'subcontractor': 1274, 'gave': 1275, 'popular': 1276, 'penn': 1277, 'adob': 1278, 'jan': 1279, 'kreb': 1280, 'format': 1281, 'farm': 1282, 'capit': 1283, 'depot': 1284, '300': 1285, 'delta': 1286, 'front': 1287, 'horizon': 1288, 'almost': 1289, 'good': 1290, 'ca': 1291, 'knowledg': 1292, 'mr': 1293, 'roster': 1294, 'desk': 1295, 'establish': 1296, 'mountain': 1297, 'typic': 1298, 'weight': 1299, 'autom': 1300, 'donat': 1301, 'sheet': 1302, 'assur': 1303, 'academi': 1304, '45': 1305, 'understand': 1306, 'swipe': 1307, 'pdf': 1308, 'describ': 1309, 'jefferson': 1310, 'cv': 1311, 'actor': 1312, 'signatur': 1313, 'bought': 1314, 'archiv': 1315, 'video': 1316, 'summer': 1317, '60': 1318, 'truck': 1319, 'counterfeit': 1320, 'emori': 1321, 'hear': 1322, 'ephi': 1323, 'specifc': 1324, 'marit': 1325, 'binder': 1326, 'prompt': 1327, 'mainten': 1328, '1990': 1329, 'iowa': 1330, 'hawaii': 1331, 'tampa': 1332, 'exist': 1333, '1998': 1334, '30000': 1335, 'proper': 1336, 'shore': 1337, 'adequ': 1338, 'recoveri': 1339, 'la': 1340, 'usa': 1341, 'low': 1342, 'enabl': 1343, 'normal': 1344, 'franchis': 1345, 'trunk': 1346, 'coupl': 1347, 'ransom': 1348, 'categori': 1349, 'mass': 1350, 'campaign': 1351, 'sure': 1352, 'sql': 1353, 'sharehold': 1354, 'dmv': 1355, 'withdraw': 1356, 'player': 1357, 'affair': 1358, 'missouri': 1359, 'road': 1360, 'krebsonsecur': 1361, 'wyndham': 1362, 'automat': 1363, 'paypal': 1364, 'precaut': 1365, 'residenti': 1366, 'adp': 1367, 'informationupd': 1368, 'mutual': 1369, 'inmat': 1370, 'surgic': 1371, 'surgeon': 1372, 'therapi': 1373, 'level': 1374, 'callsend': 1375, 'consist': 1376, 'air': 1377, 'east': 1378, 'adult': 1379, 'brother': 1380, 'exactli': 1381, 'height': 1382, 'break': 1383, 'configur': 1384, 'hill': 1385, 'propos': 1386, 'cooper': 1387, 'ac': 1388, 'magnet': 1389, 'apolog': 1390, 'kind': 1391, 'conclud': 1392, 'seri': 1393, 'town': 1394, 'neiman': 1395, 'marcu': 1396, 'ct': 1397, 'breakin': 1398, 'stori': 1399, '250000': 1400, 'morgan': 1401, 'mark': 1402, '10000': 1403, 'abus': 1404, 'boston': 1405, 'sear': 1406, 'microsoft': 1407, 'aug': 1408, 'playstat': 1409, 'asset': 1410, 'labor': 1411, 'display': 1412, 'pad': 1413, 'oklahoma': 1414, 'fulli': 1415, 'rang': 1416, 'written': 1417, 'firewal': 1418, 'unlock': 1419, 'uniqu': 1420, 'ethnic': 1421, 'manual': 1422, 'allclearid': 1423, 'misconfigur': 1424, 'stanford': 1425, 'bay': 1426, 'rate': 1427, 'holiday': 1428, 'entertain': 1429, 'numbersmor': 1430, 'orang': 1431, 'interest': 1432, 'neglig': 1433, 'fax': 1434, 'valid': 1435, 'advanc': 1436, 'mean': 1437, 'exampl': 1438, 'away': 1439, 'hunt': 1440, 'unidentifi': 1441, 'amazon': 1442, 'inspector': 1443, 'tech': 1444, 'servicesmor': 1445, 'unattend': 1446, 'version': 1447, 'cybercrimin': 1448, 'plain': 1449, 'cancel': 1450, 'forg': 1451, 'pled': 1452, 'unemploy': 1453, 'jail': 1454, 'somehow': 1455, 'citibank': 1456, '400': 1457, 'walgreen': 1458, 'script': 1459, 'loui': 1460, 'decid': 1461, 'final': 1462, 'billion': 1463, 'got': 1464, 'seton': 1465, 'daili': 1466, 'counsel': 1467, 'spokesman': 1468, 'suppos': 1469, 'survey': 1470, 'pilot': 1471, 'tmobil': 1472, 'specialist': 1473, 'supervisor': 1474, 'vote': 1475, 'courier': 1476, 'brokerag': 1477, 'erron': 1478, 'repair': 1479, 'star': 1480, 'armi': 1481, 'viewabl': 1482, 'dalla': 1483, 'marin': 1484, 'avoid': 1485, 'imperson': 1486, 'deliveri': 1487, 'domain': 1488, 'penalti': 1489, 'tie': 1490, 'safeti': 1491, 'island': 1492, 'beach': 1493, 'kitchen': 1494, 'consid': 1495, 'neither': 1496, 'pattern': 1497, 'unlik': 1498, 'select': 1499, 'keep': 1500, 'ihg': 1501, 'brief': 1502, 'remind': 1503, 'extract': 1504, 'pizza': 1505, '400000': 1506, 'failur': 1507, 'franklin': 1508, 'monthli': 1509, 'wrote': 1510, 'approv': 1511, 'invoic': 1512, 'worldwid': 1513, 'professor': 1514, 'defac': 1515, 'giant': 1516, 'lot': 1517, 'tablet': 1518, 'space': 1519, 'john': 1520, 'chines': 1521, 'cal': 1522, 'upmc': 1523, 'schnuck': 1524, 'sentara': 1525, 'injuri': 1526, 'hardwar': 1527, '8000': 1528, 'referr': 1529, 'beverag': 1530, 'creek': 1531, 'staf': 1532, 'remedi': 1533, 'harm': 1534, 'goal': 1535, 'photograph': 1536, 'defend': 1537, 'china': 1538, 'idaho': 1539, '50000': 1540, 'affectedmor': 1541, 'dc': 1542, 'meet': 1543, 'duti': 1544, 'zoo': 1545, 'fort': 1546, 'commerci': 1547, 'fargo': 1548, 'spoof': 1549, 'thorough': 1550, '6000': 1551, 'short': 1552, 'thing': 1553, 'progress': 1554, 'cisco': 1555, 'reward': 1556, 'season': 1557, 'explain': 1558, 'resolv': 1559, 'power': 1560, 'languag': 1561, 'harvard': 1562, '1200': 1563, 'outpati': 1564, 'mcdonald': 1565, 'marriott': 1566, 'wireless': 1567, '33': 1568, 'young': 1569, 'cach': 1570, 'queen': 1571, 'didnt': 1572, 'acknowledg': 1573, 'incidentnetwork': 1574, 'netflix': 1575, 'myheritag': 1576, 'joseph': 1577, '700': 1578, 'candid': 1579, 'afternoon': 1580, 'welfar': 1581, 'recruit': 1582, 'resign': 1583, 'percent': 1584, 'index': 1585, 'ran': 1586, 'black': 1587, 'middl': 1588, 'door': 1589, 'workstat': 1590, 'respect': 1591, 'offsit': 1592, 'wholesal': 1593, 'comprehens': 1594, 'arrang': 1595, 'acquisit': 1596, 'arkansa': 1597, 'dba': 1598, 'databreach': 1599, 'reader': 1600, 'verifi': 1601, 'houston': 1602, 'miami': 1603, 'compromisedth': 1604, 'probat': 1605, 'enhanc': 1606, 'done': 1607, 'ba': 1608, 'compli': 1609, '2016the': 1610, 'fortun': 1611, 'incidentmor': 1612, 'permiss': 1613, 'analyz': 1614, 'tell': 1615, 'borrow': 1616, 'blog': 1617, 'annual': 1618, 'none': 1619, 'white': 1620, 'pii': 1621, 'that': 1622, 'rais': 1623, 'varieti': 1624, 'pump': 1625, 'eleven': 1626, 'dvd': 1627, 'stock': 1628, 'janitor': 1629, 'vacat': 1630, 'sought': 1631, 'scatter': 1632, '150': 1633, 'lulzsec': 1634, 'wisconsin': 1635, '1997': 1636, 'postcard': 1637, 'verizon': 1638, 'appeal': 1639, 'cancer': 1640, 'blood': 1641, 'ucla': 1642, 'ear': 1643, 'opm': 1644, 'linkedin': 1645, 'dnc': 1646, 'nevro': 1647, 'aperio': 1648, 'cdrom': 1649, 'claimant': 1650, 'bankruptci': 1651, 'permanent': 1652, 'fidel': 1653, 'deduct': 1654, '150000': 1655, 'council': 1656, 'manner': 1657, 'ventur': 1658, 'mission': 1659, 'massmutu': 1660, 'payer': 1661, 'policyhold': 1662, 'phoni': 1663, 'summit': 1664, 'exam': 1665, '55': 1666, '4000': 1667, 'minor': 1668, 'pick': 1669, 'charl': 1670, '2014the': 1671, 'unintent': 1672, 'riversid': 1673, 'motor': 1674, 'psycholog': 1675, 'saturday': 1676, 'older': 1677, 'vermont': 1678, 'cruz': 1679, 'berkeley': 1680, 'rent': 1681, 'friend': 1682, 'phoenix': 1683, 'fish': 1684, 'pittsburgh': 1685, 'load': 1686, 'rehabilit': 1687, 'stay': 1688, 'prescrib': 1689, 'accept': 1690, 'usual': 1691, 'franchise': 1692, 'solicit': 1693, 'career': 1694, 'restrict': 1695, 'commenc': 1696, 'chanc': 1697, 'efil': 1698, 'boe': 1699, 'nov': 1700, 'scholarship': 1701, 'patch': 1702, 'workforc': 1703, 'rel': 1704, 'enterpris': 1705, 'technician': 1706, 'tv': 1707, 'owe': 1708, 'weak': 1709, 'pile': 1710, 'secretari': 1711, 'stack': 1712, '300000': 1713, '36': 1714, 'maximum': 1715, 'auction': 1716, 'mostli': 1717, 'strip': 1718, 'blizzard': 1719, '35': 1720, 'master': 1721, '9000': 1722, 'stratfor': 1723, '7000': 1724, 'polit': 1725, 'michigan': 1726, 'instructor': 1727, '37': 1728, 'pull': 1729, 'breachth': 1730, 'aetna': 1731, 'nebraska': 1732, 'affin': 1733, 'chat': 1734, 'theftlaptop': 1735, 'isol': 1736, 'stub': 1737, 'earn': 1738, 'sunday': 1739, 'complianc': 1740, 'intercept': 1741, 'disrupt': 1742, 'raid': 1743, 'household': 1744, 'sutter': 1745, 'accid': 1746, 'summari': 1747, '32000': 1748, 'input': 1749, 'deliv': 1750, 'guarantor': 1751, 'mitig': 1752, 'toll': 1753, 'hotlin': 1754, 'focus': 1755, 'palm': 1756, 'recogn': 1757, 'water': 1758, 'administ': 1759, 'advertis': 1760, 'resolut': 1761, 'affectedth': 1762, 'hsbc': 1763, 'prosecutor': 1764, 'vision': 1765, 'fashion': 1766, 'figur': 1767, 'coast': 1768, 'command': 1769, 'littl': 1770, 'inn': 1771, 'unawar': 1772, 'ticket': 1773, 'unlaw': 1774, 'garden': 1775, 'spent': 1776, 'birthday': 1777, 'reject': 1778, 'section': 1779, 'ever': 1780, 'attent': 1781, 'wash': 1782, 'basic': 1783, 'side': 1784, 'fictiti': 1785, 'virgin': 1786, 'plant': 1787, 'mishandl': 1788, 'leader': 1789, 'foster': 1790, 'outdat': 1791, 'franci': 1792, 'falsifi': 1793, 'flood': 1794, 'printout': 1795, 'complain': 1796, 'bu': 1797, 'guess': 1798, 'knew': 1799, 'join': 1800, 'soldier': 1801, 'ceridian': 1802, 'electr': 1803, '250': 1804, 'airway': 1805, '25000': 1806, 'enough': 1807, 'surveil': 1808, 'compet': 1809, 'begun': 1810, 'wit': 1811, 'rental': 1812, 'accret': 1813, 'prosecut': 1814, 'mug': 1815, 'degre': 1816, '1996': 1817, 'memo': 1818, 'warehous': 1819, 'sept': 1820, 'hannaford': 1821, 'supermarket': 1822, 'gonzalez': 1823, 'jp': 1824, 'httpsocrportalhhsgovocrbreachbreachreportjsf': 1825, 'landfil': 1826, 'verifon': 1827, 'molina': 1828, 'dln': 1829, 'comscor': 1830, 'sinai': 1831, 'harri': 1832, 'robberi': 1833, 'head': 1834, 'proprietari': 1835, 'pend': 1836, 'hall': 1837, 'destin': 1838, 'td': 1839, 'barn': 1840, 'occup': 1841, 'bring': 1842, 'ambul': 1843, 'western': 1844, 'prepaid': 1845, 'ipad': 1846, 'oracl': 1847, 'lincoln': 1848, 'econom': 1849, 'seal': 1850, 'blame': 1851, 'regular': 1852, 'dh': 1853, 'extend': 1854, 'advisor': 1855, 'motiv': 1856, 'canada': 1857, 'addressesth': 1858, 'maker': 1859, 'metropolitan': 1860, 'customersth': 1861, 'watch': 1862, 'est': 1863, 'up': 1864, 'nevada': 1865, 'delawar': 1866, 'chariti': 1867, 'togeth': 1868, 'energi': 1869, 'elit': 1870, 'colleagu': 1871, 'compromisedmor': 1872, 'redact': 1873, 'articl': 1874, 'martin': 1875, 'vega': 1876, 'buyer': 1877, 'greater': 1878, 'jacket': 1879, 'music': 1880, 'virtual': 1881, 'numbermor': 1882, 'match': 1883, 'revis': 1884, 'llp': 1885, 'therefor': 1886, 'patientsth': 1887, 'spread': 1888, 'browser': 1889, 'onsit': 1890, 'antonio': 1891, 'regret': 1892, 'brian': 1893, 'deploy': 1894, 'happenedw': 1895, 'spa': 1896, 'seattl': 1897, 'regularli': 1898, 's3': 1899, 'resum': 1900, 'dilig': 1901, 'merchandis': 1902, 'feel': 1903, 'toy': 1904, '1098t': 1905, 'tuition': 1906, 'grant': 1907, 'seriou': 1908, 'aim': 1909, 'lyfe': 1910, 'challeng': 1911, 'suffici': 1912, 'waiter': 1913, 'kid': 1914, 'accomplic': 1915, 'fingerprint': 1916, 'adopt': 1917, 'larceni': 1918, 'spend': 1919, 'metlif': 1920, 'undergradu': 1921, 'juvenil': 1922, 'custodian': 1923, 'suspicion': 1924, 'forgeri': 1925, 'gpa': 1926, 'fell': 1927, 'play': 1928, 'api': 1929, 'orthoped': 1930, 'citigroup': 1931, '40000': 1932, 'intellig': 1933, 'unrel': 1934, 'enrolle': 1935, 'inaccur': 1936, 'saic': 1937, 'committe': 1938, 'columbia': 1939, '1400': 1940, 'apart': 1941, 'undisclos': 1942, 'leas': 1943, 'color': 1944, '85': 1945, '80': 1946, 'port': 1947, 'dept': 1948, 'iron': 1949, 'disappear': 1950, 'arm': 1951, 'mari': 1952, 'confer': 1953, 'deloitt': 1954, 'feb': 1955, 'certegi': 1956, 'plastic': 1957, 'isnt': 1958, 'consolid': 1959, 'trustwav': 1960, 'noth': 1961, 'orlando': 1962, 'chart': 1963, 'dairi': 1964, 'synxi': 1965, 'midwest': 1966, 'starwood': 1967, 'cox': 1968, 'zdnet': 1969, 'hiv': 1970, '247ai': 1971, 'patholog': 1972, 'jim': 1973, 'roll': 1974, 'decis': 1975, 'sacramento': 1976, 'someth': 1977, 'son': 1978, 'clearli': 1979, 'joint': 1980, 'certifi': 1981, 'pro': 1982, 'reduc': 1983, 'kiosk': 1984, 'nobl': 1985, 'mexico': 1986, 'unifi': 1987, 'webserv': 1988, 'conceal': 1989, 'elimin': 1990, 'patientsupd': 1991, 'custodi': 1992, 'bell': 1993, 'sport': 1994, 'big': 1995, 'superior': 1996, '10th': 1997, 'definit': 1998, 'incidentth': 1999, 'campus': 2000, 'complimentari': 2001, 'elig': 2002, 'mount': 2003, 'competitor': 2004, 'mile': 2005, 'motion': 2006, 'king': 2007, 'calendar': 2008, 'oversea': 2009, 'napa': 2010, 'allianc': 2011, 'meal': 2012, 'exclud': 2013, 'incur': 2014, 'rob': 2015, 'cpa': 2016, 'stolenth': 2017, 'analyst': 2018, 'ag': 2019, 'reloc': 2020, 'auto': 2021, 'et': 2022, 'despit': 2023, 'frame': 2024, 'sierra': 2025, 'infrastructur': 2026, '7eleven': 2027, 'stripe': 2028, 'premier': 2029, 'environment': 2030, '1st': 2031, 'prioriti': 2032, 'anyth': 2033, 'springfield': 2034, 'msg': 2035, 'radio': 2036, 'dfcu': 2037, 'copilot': 2038, 'wait': 2039, 'r': 2040, 'bottom': 2041, 'better': 2042, 'pc': 2043, 'apto': 2044, 'statist': 2045, 'episod': 2046, 'weve': 2047, 'export': 2048, 'substitut': 2049, 'tamper': 2050, 'wide': 2051, 'humangood': 2052, 'mall': 2053, 'outdoor': 2054, 'spot': 2055, 'hartford': 2056, 'tower': 2057, '12000': 2058, '70': 2059, 'treasur': 2060, '1995': 2061, 'dentist': 2062, 'highli': 2063, 'airport': 2064, 'broward': 2065, '38': 2066, '1500': 2067, 'batch': 2068, 'deputi': 2069, 'threat': 2070, 'teen': 2071, '48': 2072, 'lower': 2073, 'epsilon': 2074, '2011updat': 2075, '42': 2076, '600000': 2077, 'televis': 2078, '90': 2079, 'simpli': 2080, 'nashvil': 2081, 'extrem': 2082, 'domest': 2083, 'bart': 2084, '94': 2085, 'altern': 2086, 'steam': 2087, 'russia': 2088, 'flight': 2089, 'commission': 2090, 'ernst': 2091, 'cybercrim': 2092, 'plea': 2093, 'averag': 2094, 'studio': 2095, '80000': 2096, 'navi': 2097, 'homeland': 2098, 'theftupd': 2099, '44': 2100, 'mongodb': 2101, 'ocean': 2102, '1600': 2103, 'movi': 2104, '49': 2105, '500000': 2106, 'size': 2107, 'stem': 2108, 'monetari': 2109, 'vincent': 2110, 'explan': 2111, 'countrywid': 2112, 'mississippi': 2113, 'whenev': 2114, 'dont': 2115, 'ultrasound': 2116, 'muir': 2117, 'easi': 2118, 'pf': 2119, 'vineyard': 2120, 'trump': 2121, 'kimpton': 2122, 'athlet': 2123, 'token': 2124, 'guardian': 2125, 'ngo': 2126, 'uber': 2127, 'sexual': 2128, 'democrat': 2129, 'sinderbrand': 2130, 'ipa': 2131, 'civ': 2132, 'uam': 2133, 'massood': 2134, 'equiti': 2135, 'relev': 2136, 'length': 2137, 'chip': 2138, 'paycheck': 2139, 'inquiri': 2140, '18000': 2141, '14000': 2142, 'mt': 2143, 'stamp': 2144, 'minim': 2145, 'mid': 2146, 'fabric': 2147, 'quarterli': 2148, 'proceed': 2149, 'i9': 2150, 'laptopupd': 2151, 'argu': 2152, 'lap': 2153, 'incidentupd': 2154, '2013updat': 2155, 'uc': 2156, 'shown': 2157, 'wake': 2158, '7th': 2159, 'med': 2160, 'wast': 2161, 'wine': 2162, 'debt': 2163, 'speak': 2164, '30th': 2165, 'urg': 2166, 'abm': 2167, 'license': 2168, 'cvv2': 2169, 'compil': 2170, 'liberti': 2171, 'mention': 2172, 'intuit': 2173, 'deli': 2174, 'lend': 2175, '39': 2176, 'prefer': 2177, 'el': 2178, 'cottag': 2179, 'georg': 2180, 'corner': 2181, 'decommiss': 2182, 'sort': 2183, 'oak': 2184, '1300': 2185, 'newspap': 2186, 'scammer': 2187, 'subset': 2188, 'litig': 2189, 'comnet': 2190, 'transmiss': 2191, 'everyon': 2192, 'enclos': 2193, 'chiropract': 2194, 'inconveni': 2195, 'voicemail': 2196, 'loyalti': 2197, 'pretend': 2198, 'treasuri': 2199, 'virus': 2200, 'weather': 2201, 'spear': 2202, 'green': 2203, 'urolog': 2204, 'oilandgasjobsearchcom': 2205, 'vari': 2206, 'death': 2207, 'tip': 2208, 'meepo': 2209, 'stage': 2210, 'garag': 2211, 'wipe': 2212, 'bear': 2213, 'eg': 2214, 'nonpubl': 2215, '179882': 2216, 'packet': 2217, 'youth': 2218, 'seiz': 2219, 'session': 2220, 'unprotect': 2221, 'municip': 2222, 'accountsupd': 2223, 'walmart': 2224, 'microfilm': 2225, 'brochur': 2226, 'northwest': 2227, 'temp': 2228, 'repeatedli': 2229, 'profit': 2230, 'husband': 2231, 'rank': 2232, 'deceas': 2233, 'primarili': 2234, 'els': 2235, 'neighbor': 2236, 'underground': 2237, 'patron': 2238, 'kentucki': 2239, '2500': 2240, 'reissu': 2241, '1800': 2242, 'celebr': 2243, 'extort': 2244, 'resold': 2245, 'lone': 2246, 'briar': 2247, 'commonwealth': 2248, 'opportun': 2249, 'foundat': 2250, 'hide': 2251, 'crew': 2252, '180': 2253, 'interview': 2254, 'lexisnexi': 2255, 'denver': 2256, 'europ': 2257, 'trip': 2258, 'hole': 2259, 'warren': 2260, 'switch': 2261, 'pentagon': 2262, 'consent': 2263, 'investor': 2264, 'datath': 2265, 'baltimor': 2266, 'aaron': 2267, 'prove': 2268, 'ymca': 2269, 'subway': 2270, 'aw': 2271, 'cslea': 2272, 'scrambl': 2273, 'bj': 2274, 'comfort': 2275, '16000': 2276, 'lunch': 2277, 'bloomberg': 2278, 'cabl': 2279, 'interact': 2280, 'ameritrad': 2281, 'string': 2282, 'ibm': 2283, 'rb': 2284, 'dot': 2285, 'thoma': 2286, 'overnight': 2287, 'albert': 2288, 'wendi': 2289, 'probabl': 2290, 'alaska': 2291, 'bcb': 2292, 'locker': 2293, 'bone': 2294, 'densiti': 2295, 'milwauke': 2296, 'vice': 2297, 'gigabyt': 2298, 'acct': 2299, 'kdad': 2300, 'arlington': 2301, 'cm': 2302, 'lme': 2303, 'samaritan': 2304, 'beauti': 2305, 'highprofil': 2306, 'rite': 2307, 'portfolio': 2308, 'avm': 2309, 'amd': 2310, 'wall': 2311, 'neurocar': 2312, 'nbc': 2313, 'rock': 2314, 'chairman': 2315, 'journal': 2316, 'motherboard': 2317, 'podiatri': 2318, 'kromtech': 2319, 'kadri': 2320, 'chronologyprivacyrightsorg': 2321, 'northwestern': 2322, 'ss': 2323, 'perri': 2324, 'shave': 2325, 'modifi': 2326, 'drop': 2327, 'permit': 2328, 'brokerdeal': 2329, 'destruct': 2330, 'add': 2331, 'squar': 2332, 'sponsor': 2333, 'multist': 2334, 'em': 2335, 'accessedupd': 2336, 'inhom': 2337, 'column': 2338, '75': 2339, 'therapist': 2340, '4500': 2341, 'jose': 2342, 'shutdown': 2343, 'dun': 2344, 'prohibit': 2345, '70000': 2346, 'pursu': 2347, 'vs': 2348, 'sutherland': 2349, 'hope': 2350, 'ucsf': 2351, '11th': 2352, 'numbersfor': 2353, 'dedic': 2354, 'tollfre': 2355, 'trojan': 2356, 'tabl': 2357, '1992': 2358, 'dmhc': 2359, 'neglect': 2360, 'automot': 2361, 'penetr': 2362, 'louisiana': 2363, 'cathol': 2364, 'dave': 2365, 'allergi': 2366, '430': 2367, 'golden': 2368, 'subscript': 2369, 'newslett': 2370, 'dealership': 2371, 'robert': 2372, '46': 2373, 'detroit': 2374, '60000': 2375, 'iphon': 2376, 'photocopi': 2377, 'incorrectli': 2378, 'employeesth': 2379, 'datamor': 2380, 'al': 2381, 'observ': 2382, 'contribut': 2383, 'think': 2384, 'acer': 2385, 'manufactur': 2386, 'nevertheless': 2387, 'precautionari': 2388, 'lodg': 2389, 'sincer': 2390, 'explor': 2391, 'w': 2392, 'christi': 2393, 'madison': 2394, 'informationwhat': 2395, 'toward': 2396, 'capabl': 2397, 'unless': 2398, 'involvedw': 2399, 'navig': 2400, 'fraudster': 2401, '2017what': 2402, 'produc': 2403, 'outcom': 2404, 'roughli': 2405, 'abbottstorecom': 2406, '140': 2407, 'talx': 2408, 'journey': 2409, 'mcdavid': 2410, 'sampl': 2411, 'fifteen': 2412, 'bodi': 2413, 'hp': 2414, 'oneyear': 2415, 'marijuana': 2416, 'decept': 2417, '75000': 2418, 'firefight': 2419, 'activist': 2420, 'immigr': 2421, 'amazoncom': 2422, 'occas': 2423, 'cut': 2424, 'wind': 2425, 'alon': 2426, 'paul': 2427, 'indianapoli': 2428, '17000': 2429, 'intact': 2430, 'statewid': 2431, 'sat': 2432, 'kern': 2433, 'refus': 2434, 'span': 2435, 'embed': 2436, 'drivethru': 2437, 'threaten': 2438, 'promot': 2439, 'omaha': 2440, 'jpmorgan': 2441, 'hbgari': 2442, 'warner': 2443, 'shell': 2444, 'land': 2445, 'freeway': 2446, 'disciplin': 2447, 'channel': 2448, 'twice': 2449, 'botnet': 2450, 'duplic': 2451, 'shopper': 2452, '95': 2453, 'church': 2454, 'pertain': 2455, 'semest': 2456, 'epic': 2457, 'bethesda': 2458, 'tr': 2459, 'award': 2460, 'tuft': 2461, 'cashier': 2462, 'wilder': 2463, 'mine': 2464, 'complex': 2465, 'blind': 2466, 'cartridg': 2467, 'unintend': 2468, 'vcu': 2469, 'usp': 2470, 'fox': 2471, 'shot': 2472, 'elementari': 2473, 'freedom': 2474, 'ward': 2475, 'redirect': 2476, 'quiz': 2477, 'civilian': 2478, 'vpn': 2479, 'fill': 2480, 'anytim': 2481, 'undergo': 2482, 'goe': 2483, 'groupon': 2484, 'england': 2485, 'outlet': 2486, 'miamidad': 2487, 'nasa': 2488, 'aviat': 2489, 'chri': 2490, 'disput': 2491, 'disgruntl': 2492, 'registri': 2493, 'gone': 2494, 'compact': 2495, 'christma': 2496, '43': 2497, 'strategi': 2498, 'zaman': 2499, 'albani': 2500, 'henri': 2501, 'born': 2502, 'valuabl': 2503, 'commerc': 2504, 'constitut': 2505, 'closet': 2506, 'metro': 2507, 'cleric': 2508, 'often': 2509, 'louisvil': 2510, 'boulder': 2511, 'nc': 2512, 'blueshield': 2513, 'fold': 2514, 'burlington': 2515, 'bucket': 2516, 'cooki': 2517, 'wellpoint': 2518, 'self': 2519, 'attende': 2520, 'htc': 2521, 'comcast': 2522, 'wineri': 2523, 'inventori': 2524, 'eri': 2525, 'allegi': 2526, 'upguard': 2527, 'baptist': 2528, 'subpoena': 2529, 'fcc': 2530, 'ummc': 2531, '1980': 2532, 'ohsu': 2533, 'bitcoin': 2534, 'milton': 2535, 'heart': 2536, 'taxact': 2537, 'mackeep': 2538, 'hei': 2539, 'troy': 2540, 'occ': 2541, 'vast': 2542, 'bjc': 2543, 'meridianemr': 2544, 'cardiac': 2545, 'revolut': 2546, 'inspir': 2547, '179829': 2548, 'ill': 2549, 'purg': 2550, 'thrift': 2551, 'contend': 2552, 'indymac': 2553, 'manhattan': 2554, 'receptionist': 2555, 'etc': 2556, 'element': 2557, 'incorpor': 2558, 'affidavit': 2559, 'experi': 2560, 'usc': 2561, 'dine': 2562, 'tutor': 2563, 'starbuck': 2564, 'scripp': 2565, 'mailbox': 2566, 'cautiou': 2567, '08282013': 2568, 'disciplinari': 2569, 'resel': 2570, 'healthi': 2571, 'boy': 2572, 'mother': 2573, 'stanley': 2574, 'chapman': 2575, '26000': 2576, 'passwordsupd': 2577, 'competit': 2578, 'bradstreet': 2579, 'model': 2580, 'premium': 2581, 'demonstr': 2582, 'floor': 2583, 'mix': 2584, 'disast': 2585, 'wish': 2586, 'irvin': 2587, 'keystrok': 2588, 'paytim': 2589, 'expand': 2590, 'unsolicit': 2591, 'princip': 2592, '29th': 2593, 'exposedth': 2594, 'gear': 2595, 'carddebit': 2596, 'regrett': 2597, 'anderson': 2598, 'newer': 2599, 'montana': 2600, 'dakota': 2601, 'rhode': 2602, 'cart': 2603, 'hors': 2604, 'timemor': 2605, '8th': 2606, 'nvidia': 2607, 'sight': 2608, 'oversight': 2609, 'formerli': 2610, 'sleep': 2611, 'avenu': 2612, 'orient': 2613, 'analyt': 2614, 'casualti': 2615, 'ed': 2616, 'ocea': 2617, 'tumblr': 2618, 'informaiton': 2619, 'steakhous': 2620, 'debitcredit': 2621, 'vha': 2622, 'toyota': 2623, 'exemploye': 2624, 'companyth': 2625, '2016more': 2626, 'oncolog': 2627, 'snapchat': 2628, 'convinc': 2629, 'gross': 2630, 'v': 2631, 'hitec': 2632, 'eric': 2633, '35000': 2634, 'directori': 2635, 'brows': 2636, 'thu': 2637, 'regain': 2638, 'schwan': 2639, 'spay': 2640, 'thank': 2641, 'circumst': 2642, '3rd': 2643, 'ascensu': 2644, 'c': 2645, 'abil': 2646, 'department': 2647, 'forgot': 2648, 'concept': 2649, 'david': 2650, 'core': 2651, 'aon': 2652, 'hewitt': 2653, '18th': 2654, 'trick': 2655, 'graphik': 2656, 'dimens': 2657, 'gmail': 2658, 'coupon': 2659, 'renov': 2660, 'discuss': 2661, 'oe3': 2662, 'moment': 2663, 'valencia': 2664, 'austin': 2665, 'defin': 2666, 'uk': 2667, 'charact': 2668, 'incent': 2669, 'torranc': 2670, 'workrel': 2671, 'bed': 2672, 'twofactor': 2673, 'william': 2674, '39dollarglass': 2675, 'fourteen': 2676, 'grab': 2677, 'partnership': 2678, 'hydro': 2679, 'flask': 2680, 'accur': 2681, 'inbox': 2682, 'encount': 2683, 'underway': 2684, 'dispatch': 2685, 'midoctob': 2686, 'dark': 2687, 'beautyblend': 2688, 'fast': 2689, 'psychologist': 2690, 'felon': 2691, 'relief': 2692, 'trial': 2693, 'aloha': 2694, 'url': 2695, 'workplac': 2696, 'tipster': 2697, 'easier': 2698, 'tallahasse': 2699, '65': 2700, 'elderli': 2701, 'instrument': 2702, 'ebay': 2703, 'cardin': 2704, 'manipul': 2705, '47': 2706, 'lack': 2707, 'dean': 2708, 'holi': 2709, 'blank': 2710, 'uw': 2711, 'genesco': 2712, 'conveni': 2713, 'specul': 2714, 'strengthen': 2715, 'slip': 2716, 'warrant': 2717, 'honor': 2718, 'readi': 2719, '34': 2720, 'usapa': 2721, '57': 2722, 'comptrol': 2723, 'blockbust': 2724, 'superintend': 2725, 'gym': 2726, 'onyx': 2727, 'sega': 2728, 'pb': 2729, 'taxat': 2730, 'companyissu': 2731, 'femal': 2732, 'violenc': 2733, 'critic': 2734, 'counter': 2735, 'zero': 2736, 'southwest': 2737, 'smoki': 2738, 'bright': 2739, 'minneapoli': 2740, 'intervent': 2741, 'howard': 2742, 'printer': 2743, 'difficult': 2744, 'declin': 2745, '36000': 2746, 'backpack': 2747, 'eugen': 2748, 'price': 2749, '175': 2750, 'frequent': 2751, 'hijack': 2752, 'buffalo': 2753, 'verisign': 2754, 'gov': 2755, 'refurbish': 2756, 'motorola': 2757, 'peacock': 2758, 'bridgepoint': 2759, 'mo': 2760, 'infant': 2761, 'except': 2762, 'everyth': 2763, 'compliant': 2764, 'ford': 2765, '911': 2766, 'partiesupd': 2767, 'rebat': 2768, 'epn': 2769, 'fileshar': 2770, 'deactiv': 2771, 'proof': 2772, 'concord': 2773, 'naval': 2774, '53': 2775, 'governmentissu': 2776, 'fairfax': 2777, 'vital': 2778, 'swiss': 2779, 'gotten': 2780, 'convert': 2781, 'agricultur': 2782, 'crook': 2783, 'recal': 2784, 'edison': 2785, 'confisc': 2786, 'surplu': 2787, 'en': 2788, 'wsu': 2789, 'stick': 2790, 'vaccin': 2791, 'luggag': 2792, 'portland': 2793, 'thanksgiv': 2794, 'stream': 2795, 'asid': 2796, 'issuer': 2797, 'buster': 2798, 'puerto': 2799, 'hopkin': 2800, 'laps': 2801, '1700': 2802, 'exceed': 2803, 'ron': 2804, 'sk': 2805, 'elsewher': 2806, 'flu': 2807, 'defect': 2808, 'terabyt': 2809, 'immun': 2810, 'alam': 2811, 'bluecross': 2812, 'pretti': 2813, 'wvu': 2814, 'tribun': 2815, 'westin': 2816, 'sand': 2817, 'nearbi': 2818, 'seconddegre': 2819, 'heritag': 2820, 'psychiatr': 2821, 'pack': 2822, 'cu': 2823, 'abc': 2824, 'doesnt': 2825, 'citat': 2826, 'intel': 2827, 'armour': 2828, 'pera': 2829, 'accompani': 2830, 'respiratori': 2831, 'parcel': 2832, 'httpwwwmassgovocabrdocsidtheftdatabreachwebreport2016pdf': 2833, 'theftpap': 2834, 'jason': 2835, 'barnaba': 2836, 'blackberri': 2837, 'orthopaed': 2838, 'barrel': 2839, 'optometri': 2840, 'feet': 2841, 'thedarkoverlord': 2842, 'psn': 2843, 'light': 2844, 'consequ': 2845, 'liabl': 2846, 'intens': 2847, 'agincourt': 2848, 'wallboard': 2849, 'kmart': 2850, 'neurolog': 2851, 'border': 2852, 'iss': 2853, 'circuit': 2854, '6300': 2855, 'collabor': 2856, 'spoken': 2857, 'hospic': 2858, 'dynacar': 2859, 'nielsen': 2860, 'coldfus': 2861, 'development': 2862, 'palmer': 2863, 'beef': 2864, 'there': 2865, 'saidth': 2866, 'wada': 2867, 'foursquar': 2868, 'keepkey': 2869, 'wishbon': 2870, 'httphealthitsecuritycomnewsvauniversityhealthsystemsecuritybr': 2871, 'schoolzilla': 2872, 'oneplu': 2873, 'bezop': 2874, 'milford': 2875, 'securadyn': 2876, 'advancedonlin': 2877, 'onemain': 2878, 'residentsif': 2879, 'pratt': 2880, '2012updat': 2881, 'oakland': 2882, 'midmarch': 2883, 'cloth': 2884, 'pci': 2885, 'investacorp': 2886, 'ec': 2887, 'numbersupd': 2888, '2700': 2889, 'adpi': 2890, 'osceola': 2891, 'accum': 2892, 'wilton': 2893, 'presum': 2894, 'modif': 2895, 'craft': 2896, 'finish': 2897, 'raleigh': 2898, 'oncampu': 2899, 'shouldnt': 2900, 'anasazi': 2901, 'narcot': 2902, 'cdcr': 2903, 'briefli': 2904, 'cogent': 2905, 'smartphon': 2906, '11082013': 2907, 'societi': 2908, 'usi': 2909, 'stand': 2910, 'cite': 2911, '2013the': 2912, 'wj': 2913, 'bradley': 2914, 'cocacola': 2915, 'davi': 2916, 'barcod': 2917, 'histor': 2918, '125': 2919, 'arcadia': 2920, 'ii': 2921, 'deadlin': 2922, '55000': 2923, 'solano': 2924, 'accountsth': 2925, 'keylog': 2926, 'clientsth': 2927, 'adjust': 2928, 'cloudbas': 2929, '18773717902': 2930, 'encinita': 2931, '1989': 2932, 'signup': 2933, 'barbara': 2934, 'webpag': 2935, 'cleanup': 2936, 'viator': 2937, 'albertson': 2938, 'timefram': 2939, 'regulatori': 2940, 'godiva': 2941, 'tini': 2942, 'mike': 2943, 'corday': 2944, 'fridaymor': 2945, 'apparel': 2946, 'mileag': 2947, 'oppenheim': 2948, 'lime': 2949, 'ucr': 2950, 'covina': 2951, 'informaton': 2952, 'mandarin': 2953, 'md': 2954, 'estmor': 2955, 'museum': 2956, 'passwordsmor': 2957, 'theatr': 2958, '6400': 2959, 'grainger': 2960, 'tunecor': 2961, 'bakeri': 2962, 'happenedth': 2963, 'jb': 2964, 'autosport': 2965, '2015the': 2966, 'ia': 2967, 'withhold': 2968, '21st': 2969, 'withheld': 2970, 'golf': 2971, 'lamp': 2972, 'involvedbas': 2973, 'consider': 2974, 'premis': 2975, 'centro': 2976, 'veriti': 2977, 'simpl': 2978, 'multicolor': 2979, 'navihealth': 2980, 'driveth': 2981, 'pmi': 2982, 'investigationmor': 2983, 'systemth': 2984, 'deem': 2985, 'fl': 2986, 'doc': 2987, 'exfiltr': 2988, 'websitemor': 2989, 'dd': 2990, 'sole': 2991, 'novat': 2992, 'specimen': 2993, 'highest': 2994, 'accountmor': 2995, 'yoga': 2996, 'mmpc': 2997, 'birthmor': 2998, 'luqu': 2999, 'qvc': 3000, 'readabl': 3001, 'accordingli': 3002, 'great': 3003, 'networkmor': 3004, 'referenc': 3005, 'lasoc': 3006, 'laptopmor': 3007, 'hostag': 3008, 'cuddl': 3009, 'dud': 3010, 'exposedmor': 3011, 'recreat': 3012, '6th': 3013, 'perman': 3014, 'unsuspect': 3015, 'techniqu': 3016, 'reput': 3017, 'happenedaft': 3018, '2200': 3019, 'memphi': 3020, 'tab': 3021, 'strong': 3022, 'coffe': 3023, 'introduc': 3024, '13th': 3025, 'anthoni': 3026, 'affectedwhat': 3027, 'repeat': 3028, 'zymo': 3029, 'abb': 3030, 'danger': 3031, 'true': 3032, 'elev': 3033, 'flagship': 3034, 'wife': 3035, 'rockyou': 3036, 'suntrust': 3037, '11000': 3038, 'await': 3039, 'garbag': 3040, 'watson': 3041, 'ground': 3042, 'burn': 3043, 'mexican': 3044, '4th': 3045, 'monro': 3046, 'dentaquest': 3047, '21000': 3048, 'twelv': 3049, 'unus': 3050, 'citizenship': 3051, '1960': 3052, 'launder': 3053, 'spree': 3054, 'furnitur': 3055, 'shipment': 3056, 'mask': 3057, 'controversi': 3058, 'passeng': 3059, 'chen': 3060, '68': 3061, '1994': 3062, '1993': 3063, 'aftra': 3064, 'murphi': 3065, 'con': 3066, 'artist': 3067, 'likelihood': 3068, 'bridg': 3069, 'dartmouth': 3070, 'misconduct': 3071, 'silverpop': 3072, 'osu': 3073, 'honda': 3074, 'plainfield': 3075, 'metal': 3076, 'ember': 3077, '350': 3078, 'pocket': 3079, 'evict': 3080, 'doubl': 3081, 'eagl': 3082, 'poor': 3083, 'wave': 3084, 'grow': 3085, 'unclaim': 3086, '2300': 3087, 'defunct': 3088, 'urban': 3089, 'pnc': 3090, 'plaza': 3091, '211': 3092, 'wordpress': 3093, 'buri': 3094, 'malfunct': 3095, 'pacer': 3096, 'journalist': 3097, 'inact': 3098, 'peac': 3099, 'merlin': 3100, 'cocc': 3101, 'cardsupd': 3102, 'kb': 3103, 'decad': 3104, 'smile': 3105, 'rival': 3106, 'lockhe': 3107, 'ravelri': 3108, '74': 3109, '09032013': 3110, 'protest': 3111, 'cdph': 3112, 'antisec': 3113, 'choic': 3114, 'fourth': 3115, 'lectur': 3116, 'staffer': 3117, 'mybartgov': 3118, 'sit': 3119, 'placement': 3120, 'jone': 3121, 'clearanc': 3122, 'twoyear': 3123, 'misdemeanor': 3124, 'jackson': 3125, '2400': 3126, 'clara': 3127, 'obama': 3128, 'watchdog': 3129, 'renter': 3130, 'romanian': 3131, 'ffa': 3132, 'pressur': 3133, 'oppos': 3134, 'idea': 3135, 'harbor': 3136, 'twenti': 3137, 'advoc': 3138, 'unmask': 3139, 'care2': 3140, 'miller': 3141, 'pleasant': 3142, 'freez': 3143, '650000': 3144, 'juri': 3145, 'petit': 3146, '2100': 3147, 'hair': 3148, 'oink': 3149, '409': 3150, 'alcohol': 3151, 'assault': 3152, 'militarysinglescom': 3153, 'esingl': 3154, 'counselor': 3155, 'peertop': 3156, 'searchabl': 3157, 'sjsu': 3158, 'provis': 3159, 'ua': 3160, 'speaker': 3161, 'smart': 3162, 'cpu': 3163, '12162013': 3164, 'cleaner': 3165, 'appel': 3166, 'unpublish': 3167, 'isu': 3168, 'newli': 3169, 'opinion': 3170, 'cowork': 3171, 'snyder': 3172, 'kpmg': 3173, 'philadelphia': 3174, 'handheld': 3175, 'hmo': 3176, 'aol': 3177, 'montgomeri': 3178, 'republican': 3179, 'mechan': 3180, 'layer': 3181, 'undercov': 3182, 'jc': 3183, 'penney': 3184, 'p': 3185, 'rico': 3186, 'ltd': 3187, 'ms': 3188, 'allen': 3189, 'spokeswoman': 3190, 'pfizer': 3191, 'msu': 3192, 'uf': 3193, 'round': 3194, 'northeastern': 3195, 'compris': 3196, 'perhap': 3197, 'heard': 3198, 'panel': 3199, 'nasdaq': 3200, 'nuclear': 3201, '120': 3202, 'radiologist': 3203, 'fight': 3204, 'dhss': 3205, 'inpati': 3206, 'granvil': 3207, 'audio': 3208, 'goodwil': 3209, 'smith': 3210, '3500': 3211, '12500': 3212, '650': 3213, '1991': 3214, 'speech': 3215, 'nmff': 3216, 'hollywood': 3217, 'copier': 3218, 'brook': 3219, 'bep': 3220, 'troubl': 3221, 'dialysi': 3222, 'outreach': 3223, 'discontinu': 3224, 'mayor': 3225, 'compromisedupd': 3226, 'villag': 3227, 'invas': 3228, 'unsuccess': 3229, 'duh': 3230, 'hcfcu': 3231, 'lawrenc': 3232, 'corpu': 3233, 'vmi': 3234, 'addict': 3235, 'dosag': 3236, 'chrome': 3237, 'pirat': 3238, 'habit': 3239, 'founder': 3240, 'theftpaperfilm': 3241, 'theftdesktop': 3242, 'bizmat': 3243, 'incidentelectron': 3244, 'wei': 3245, 'alton': 3246, 'lane': 3247, 'renew': 3248, 'sandlotconnect': 3249, 'pregnanc': 3250, 'concentra': 3251, 'mh': 3252, 'advisori': 3253, 'fraction': 3254, 'ic': 3255, 'augusta': 3256, 'segment': 3257, 'payday': 3258, 'tap': 3259, 'micro': 3260, 'dyn': 3261, 'outag': 3262, 'taxi': 3263, 'environ': 3264, 'achiev': 3265, 'mandiant': 3266, 'sender': 3267, 'screenshot': 3268, 'pharmaceut': 3269, 'oitnb': 3270, 'persist': 3271, 'thirdpartyi': 3272, 'saidit': 3273, 'movement': 3274, 'seeker': 3275, 'scribd': 3276, 'band': 3277, 'crack': 3278, 'millionupd': 3279, 'divin': 3280, 'unclassifi': 3281, 'scott': 3282, 'senat': 3283, 'itupd': 3284, 'maci': 3285, 'pair': 3286, '160000': 3287, 'coinbas': 3288, 'goldman': 3289, 'sach': 3290, 'pediatr': 3291, 'tinder': 3292, 'linguist': 3293, 'labmd': 3294, 'flexibl': 3295, 'pl': 3296, 'queri': 3297, 'transpar': 3298, 'vbulletin': 3299, 'fiduciari': 3300, 'liquor': 3301, '24th': 3302, 'cab': 3303, 'salli': 3304, 'samsung': 3305, 'currenc': 3306, 'breast': 3307, 'dominion': 3308, 'footbal': 3309, 'deep': 3310, 'humana': 3311, 'dekalb': 3312, 'hyatt': 3313, 'earbit': 3314, 'doj': 3315, 'joan': 3316, 'jett': 3317, 'trove': 3318, 'fanci': 3319, 'hhsc': 3320, 'poc': 3321, 'pwned': 3322, '340': 3323, 'root': 3324, 'pac': 3325, 'friendfind': 3326, 'stanchfield': 3327, 'arbi': 3328, 'spiral': 3329, 'vumc': 3330, 'backend': 3331, 'ajla': 3332, 'theyr': 3333, 'aoa': 3334, 'diachenko': 3335, 'newborn': 3336, 'instagram': 3337, 'abort': 3338, 'launchpoint': 3339, 'kaleida': 3340, 'svr': 3341, 'susquehanna': 3342, 'tio': 3343, 'orbitz': 3344, 'substanti': 3345, 'myperson': 3346, 'tci': 3347, 'adventist': 3348, 'bcbsm': 3349, 'pharmacist': 3350, 'merci': 3351, 'substanc': 3352, 'apa': 3353, 'tjuh': 3354, 'honi': 3355, 'barri': 3356, 'kinet': 3357, 'ati': 3358, 'ey': 3359, 'novozym': 3360, 'merger': 3361, 'bdo': 3362, 'rubio': 3363, 'dhi': 3364, 'prequalif': 3365, 'liabil': 3366, 'eve': 3367, 'californian': 3368, 'unreason': 3369, 'prep': 3370, '522': 3371, 'ceremoni': 3372, '05302013': 3373, 'catch': 3374, 'flyer': 3375, 'linen': 3376, 'petco': 3377, 'cchc': 3378, 'cryptograph': 3379, 'transcend': 3380, '850000': 3381, 'probe': 3382, 'computerupd': 3383, 'inspect': 3384, 'at': 3385, 'apprehend': 3386, 'valparaiso': 3387, 'ihss': 3388, '12112012': 3389, 'weisermazar': 3390, 'banweb': 3391, 'rosenth': 3392, 'unitedhealthcar': 3393, 'scout': 3394, 'middecemb': 3395, 'anaheim': 3396, 'walnut': 3397, 'rollin': 3398, 'exclus': 3399, 'quarter': 3400, 'imit': 3401, 'alien': 3402, '56000': 3403, 'automobil': 3404, '07112013': 3405, 'quantiti': 3406, '09062013': 3407, 'radiant': 3408, 'barber': 3409, 'grove': 3410, 'intranet': 3411, '1162014': 3412, 'supplier': 3413, 'abroad': 3414, 'van': 3415, 'periodth': 3416, 'breachedth': 3417, 'tree': 3418, 'easter': 3419, 'liaison': 3420, 'variabl': 3421, 'annuiti': 3422, 'thier': 3423, 'informationcurr': 3424, 'lakeshor': 3425, '9986': 3426, 'syme': 3427, 'sorenson': 3428, 'taylor': 3429, 'war': 3430, 'laci': 3431, 'ultim': 3432, 'collector': 3433, 'desert': 3434, '1900': 3435, 'interpret': 3436, 'nerv': 3437, 'pain': 3438, 'inaccess': 3439, 'ext': 3440, 'recordkeep': 3441, '18669792595': 3442, 'mateo': 3443, 'smmc': 3444, 'birthth': 3445, '4222014': 3446, 'passwordsth': 3447, '51': 3448, '888': 3449, 'flashthumb': 3450, 'occupi': 3451, 'acm': 3452, 'wyom': 3453, 'scientif': 3454, 'homeless': 3455, 'hmi': 3456, 'watsonvil': 3457, 'evolut': 3458, 'yacht': 3459, 'informationaccord': 3460, 'sitemor': 3461, 'cook': 3462, 'brag': 3463, 'sixtyseven': 3464, 'dermatolog': 3465, 'individualsth': 3466, 'turbotax': 3467, '845': 3468, 'stanislau': 3469, 'informat': 3470, 'dictat': 3471, 'prc': 3472, 'ar': 3473, 'richard': 3474, 'atkinson': 3475, 'addres': 3476, 'surnam': 3477, 'wp': 3478, 'wattpad': 3479, 'yapston': 3480, 'scottrad': 3481, 'fresno': 3482, 'conserv': 3483, 'showtix4u': 3484, 'banker': 3485, 'graingercom': 3486, 'android': 3487, 'systema': 3488, 'vessel': 3489, 'township': 3490, 'cid': 3491, 'abovemor': 3492, 'manor': 3493, 'sequoia': 3494, 'farmer': 3495, 'pet': 3496, 'confid': 3497, 'charit': 3498, 'ken': 3499, 'investigationth': 3500, 'recoveredth': 3501, 'task': 3502, 'zocdoc': 3503, 'otherwis': 3504, '16th': 3505, 'misappropri': 3506, 'digniti': 3507, 'onlineth': 3508, 'cautionth': 3509, 'inventiv': 3510, 'reschedul': 3511, 'systemsmor': 3512, 'anyway': 3513, 'usersmor': 3514, 'edgewat': 3515, 'terrac': 3516, '9th': 3517, 'anesthesia': 3518, 'intermitt': 3519, 'zazzl': 3520, 'gate': 3521, 'assum': 3522, 'theftth': 3523, 'premiumbeat': 3524, 'gato': 3525, 'voluntari': 3526, 'voluntarili': 3527, '1100': 3528, 'theater': 3529, 'venu': 3530, 'atlanti': 3531, 'ghi': 3532, 'hicn': 3533, 'sjeccd': 3534, 'react': 3535, 'swiftli': 3536, 'reconfigur': 3537, '26th': 3538, '120000': 3539, 'bleacher': 3540, 'kporg': 3541, 'copay': 3542, '104': 3543, 'filer': 3544, 'incidentwhat': 3545, 'conclus': 3546, 'pool': 3547, 'tend': 3548, 'antiviru': 3549, 'followup': 3550, '113': 3551, 'qualifi': 3552, 'ascertain': 3553, 'extra': 3554, 'intex': 3555, 'midjanuari': 3556, 'jofit': 3557, 'precis': 3558, 'epiq': 3559, 'systemwhat': 3560, 'advic': 3561, 'metwest': 3562, 'terra': 3563, 'proce': 3564, 'narr': 3565, '2017more': 3566, 'involvedif': 3567, 'certainli': 3568, 'expertis': 3569, 'policeon': 3570, 'tn': 3571, 'moder': 3572, 'quench': 3573, '02102017': 3574, 'involvedfor': 3575, 'incircl': 3576, 'nmg': 3577, 'jack': 3578, 'dld': 3579, 'thoroughli': 3580, 'undertaken': 3581, 'option': 3582, 'encod': 3583, 'bath': 3584, 'revers': 3585, 'keller': 3586, 'hz': 3587, 'whole': 3588, 'shoe': 3589, 'inde': 3590, 'credco': 3591, 'purport': 3592, 'readili': 3593, 'tactic': 3594, 'flow': 3595, 'closer': 3596, 'davidchjcom': 3597, 'involvedon': 3598, 'mind': 3599, 'indepth': 3600, 'programmat': 3601, 'agenda': 3602, 'identitywork': 3603, '04302018': 3604, 'coppa': 3605, '80910': 3606, '6242011': 3607, 'rapid': 3608, 'hillsborough': 3609, 'dog': 3610, 'chargesupd': 3611, 'amr': 3612, '53000': 3613, 'pa': 3614, 'alley': 3615, 'wachovia': 3616, 'learner': 3617, 'chevron': 3618, 'dispens': 3619, 'lie': 3620, 'licenc': 3621, 'eateri': 3622, 'aldaco': 3623, 'lose': 3624, 'tenncar': 3625, '23rd': 3626, 'illegitim': 3627, 'stephani': 3628, 'woloski': 3629, 'cyberspac': 3630, 'downtown': 3631, 'alamo': 3632, 'marsh': 3633, '375000': 3634, '17th': 3635, '15th': 3636, '1987': 3637, 'discrep': 3638, 'voucher': 3639, 'spywar': 3640, 'rockland': 3641, 'caller': 3642, 'jacksonvil': 3643, 'pensacola': 3644, 'aultman': 3645, 'dock': 3646, 'parttim': 3647, '144': 3648, '880': 3649, 'dcf': 3650, 'escap': 3651, 'creditcard': 3652, 'hygien': 3653, 'outfit': 3654, 'charlott': 3655, '2010updat': 3656, '12210': 3657, '225': 3658, 'undetect': 3659, '54': 3660, 'tcc': 3661, 'hisd': 3662, 'mānoa': 3663, 'cafe': 3664, '110': 3665, 'confin': 3666, 'edit': 3667, '20092010': 3668, 'tenant': 3669, 'gawker': 3670, '11411': 3671, 'programm': 3672, 'deviantart': 3673, 'squad': 3674, 'plate': 3675, 'taco': 3676, 'huskydirectcom': 3677, 'survivor': 3678, 'telecommun': 3679, 'highway': 3680, 'admin': 3681, 'j': 3682, 'timeshar': 3683, 'deer': 3684, 'ridg': 3685, 'smaller': 3686, 'prudenti': 3687, 'seacoast': 3688, '39000': 3689, 'lsf': 3690, 'saloon': 3691, 'steak': 3692, 'pcpa': 3693, 'itun': 3694, 'reli': 3695, '2600': 3696, '117': 3697, '128000': 3698, 'uninsur': 3699, 'religi': 3700, 'umass': 3701, 'confess': 3702, 'webbas': 3703, 'dslreportscom': 3704, 'alongsid': 3705, 'knowingli': 3706, 'stolenupd': 3707, 'boyfriend': 3708, '65000': 3709, 'wing': 3710, 'juan': 3711, 'threw': 3712, 'unseal': 3713, 'sector': 3714, 'detent': 3715, 'jepsen': 3716, '22updat': 3717, 'threedigit': 3718, 'lafranc': 3719, 'azdp': 3720, 'void': 3721, 'tsa': 3722, 'swedish': 3723, 'unlv': 3724, '13000': 3725, 'offens': 3726, '163000': 3727, 'suspens': 3728, 'shoot': 3729, 'homepag': 3730, 'richmond': 3731, 'classroom': 3732, 'episd': 3733, 'junior': 3734, 'macomb': 3735, 'retali': 3736, 'signal': 3737, 'lawmak': 3738, 'northrop': 3739, 'steel': 3740, 'utsa': 3741, '12222011': 3742, 'fairview': 3743, 'proactiv': 3744, 'realtim': 3745, 'india': 3746, 'hereupd': 3747, 'baker': 3748, 'ftt': 3749, 'contractu': 3750, 'dropout': 3751, 'birmingham': 3752, 'indalex': 3753, 'mandatori': 3754, 'voi': 3755, 'valv': 3756, 'brownsvil': 3757, 'shift': 3758, 'eastwest': 3759, 'rest': 3760, '750000': 3761, '101domaincom': 3762, 'durat': 3763, 'absenc': 3764, 'jeann': 3765, 'keylogg': 3766, 'backdoor': 3767, 'default': 3768, 'muslim': 3769, '6500': 3770, 'butler': 3771, 'myvetdirectcom': 3772, 'gateway': 3773, 'sum': 3774, 'zapposcom': 3775, 'wheel': 3776, 'ancestrycom': 3777, 'genealog': 3778, 'nurseri': 3779, 'php': 3780, 'internetbas': 3781, 'lift': 3782, 'percentag': 3783, '101': 3784, '27000': 3785, 'ate': 3786, 'flore': 3787, 'stapl': 3788, 'departmentupd': 3789, '06122013': 3790, '6200': 3791, 'max': 3792, 'sam': 3793, 'offend': 3794, '350000': 3795, 'burger': 3796, 'skin': 3797, 'fun': 3798, 'unnot': 3799, 'wic': 3800, 'byu': 3801, 'workshop': 3802, 'milk': 3803, 'emerald': 3804, 'girlfriend': 3805, 'dataupd': 3806, 'father': 3807, 'swat': 3808, 'intimid': 3809, 'hewlett': 3810, 'packard': 3811, 'serco': 3812, 'misrepres': 3813, 'reducedpric': 3814, 'teenag': 3815, 'vandal': 3816, 'voic': 3817, 'pulaski': 3818, 'pickup': 3819, 'cq': 3820, 'economist': 3821, 'setup': 3822, 'strang': 3823, 'homicid': 3824, 'firearm': 3825, 'bob': 3826, '230': 3827, 'tote': 3828, 'zaxbi': 3829, 'auburn': 3830, 'denni': 3831, 'sentri': 3832, 'lebanon': 3833, 'windsor': 3834, 'essenti': 3835, 'abilen': 3836, 'ucsd': 3837, 'dsw': 3838, '280000': 3839, 'mci': 3840, '1985': 3841, '29000': 3842, 'nineteen': 3843, 'ut': 3844, 'introduct': 3845, 'wildlif': 3846, 'seventeen': 3847, 'georgetown': 3848, 'harass': 3849, 'creditor': 3850, 'poorli': 3851, 'word': 3852, 'upstat': 3853, 'ny': 3854, 'chair': 3855, 'vnsni': 3856, '1099div': 3857, 'tricar': 3858, 'guarante': 3859, '247': 3860, 'judgment': 3861, 'discount': 3862, 'aha': 3863, 'rip': 3864, 'dissemin': 3865, 'volum': 3866, 'touch': 3867, 'lafayett': 3868, 'republ': 3869, 'lockbox': 3870, 'distanc': 3871, 'felt': 3872, '455000': 3873, '215': 3874, 'bancorp': 3875, '107': 3876, 'struck': 3877, 'officemax': 3878, 'forev': 3879, 'trustco': 3880, 'facilit': 3881, '975': 3882, '41': 3883, '800000': 3884, 'sniffer': 3885, 'practition': 3886, 'nyit': 3887, 'jump': 3888, 'telecom': 3889, 'boost': 3890, 'harvest': 3891, 'kraft': 3892, '0': 3893, '3100': 3894, 'lpl': 3895, 'succeed': 3896, 'horac': 3897, 'johnson': 3898, 'preemploy': 3899, 'battel': 3900, 'mason': 3901, '45000': 3902, 'centocor': 3903, 'windham': 3904, 'insecur': 3905, 'surfac': 3906, 'gang': 3907, 'kiwani': 3908, 'phn': 3909, 'northeast': 3910, 'atlant': 3911, '9500': 3912, 'notebook': 3913, 'spectrum': 3914, 'sixteen': 3915, 'crisi': 3916, 'unlist': 3917, 'de': 3918, 'worldpay': 3919, 'orchestr': 3920, 'dss': 3921, 'atlantabas': 3922, '130': 3923, 'weapon': 3924, 'cornel': 3925, 'mammographi': 3926, 'couldnt': 3927, 'choicepoint': 3928, 'jobrel': 3929, 'umc': 3930, 'hancock': 3931, 'salem': 3932, '200304': 3933, 'specifi': 3934, 'babi': 3935, '130000': 3936, 'blow': 3937, 'categor': 3938, 'osha': 3939, 'methodist': 3940, 'pulmonari': 3941, 'wound': 3942, 'highmark': 3943, '3700': 3944, '145': 3945, 'bronx': 3946, 'cardiolog': 3947, 'gastroenterolog': 3948, 'bistro': 3949, 'lobbi': 3950, 'lutheran': 3951, 'nuanc': 3952, 'taxabl': 3953, 'computer': 3954, 'vancouv': 3955, 'everywher': 3956, 'peter': 3957, 'reservist': 3958, 'infirmari': 3959, 'symptom': 3960, 'walker': 3961, 'graphic': 3962, 'invit': 3963, 'jude': 3964, 'toss': 3965, 'suitcas': 3966, 'nvm': 3967, 'petti': 3968, '3g': 3969, 'merg': 3970, 'bend': 3971, '9210': 3972, 'fan': 3973, 'labusinessconnectcom': 3974, 'kelli': 3975, 'outstand': 3976, 'broadcast': 3977, 'coach': 3978, 'brockport': 3979, 'denial': 3980, 'md5': 3981, 'upward': 3982, 'bound': 3983, 'ulm': 3984, 'unl': 3985, 'structur': 3986, 'olymp': 3987, 'serial': 3988, 'battlenet': 3989, 'selfreport': 3990, 'retrain': 3991, 'turner': 3992, 'theftoth': 3993, 'incidentemail': 3994, 'texasbas': 3995, 'nondriv': 3996, 'marketplac': 3997, 'pathway': 3998, 'obstetr': 3999, 'clinician': 4000, 'jame': 4001, 'sandlot': 4002, 'status': 4003, 'aom': 4004, 'renssela': 4005, 'presbyterian': 4006, 'recordsupd': 4007, 'cardsth': 4008, 'xbox': 4009, 'lizardsquad': 4010, 'denialofservic': 4011, 'grocer': 4012, 'koskinen': 4013, 'recordsth': 4014, 'alm': 4015, 'random': 4016, 'map': 4017, 'built': 4018, 'statesth': 4019, 'noodl': 4020, 'releasedmor': 4021, 'franciscobas': 4022, 'push': 4023, 'usbas': 4024, 'dp': 4025, 'literatur': 4026, 'softwareasaservic': 4027, 'multitud': 4028, 'stress': 4029, 'diseas': 4030, 'sonic': 4031, 'learnedth': 4032, 'vesta': 4033, 'maiwar': 4034, 'bulk': 4035, 'geograph': 4036, 'broad': 4037, 'midapril': 4038, 'cnn': 4039, 'weiler': 4040, '41000': 4041, 'motel': 4042, '146000': 4043, 'mellon': 4044, 'disney': 4045, 'orlean': 4046, 'stoval': 4047, 'finra': 4048, 'butt': 4049, 'qriociti': 4050, 'soe': 4051, 'germani': 4052, 'foxcom': 4053, 'soy': 4054, 'empti': 4055, '07102012': 4056, 'therapeut': 4057, 'fulfil': 4058, 'gamigo': 4059, 'prescreen': 4060, 'wealth': 4061, 'subdomain': 4062, 'unsaf': 4063, 'rogu': 4064, 'bit9': 4065, 'ih': 4066, 'isra': 4067, 'jane': 4068, 'reuter': 4069, 'gsa': 4070, 'detain': 4071, '275': 4072, 'kirkwood': 4073, 'will': 4074, 'monroevil': 4075, 'dam': 4076, 'terrorist': 4077, 'reputationcom': 4078, 'spellman': 4079, 'melt': 4080, 'linod': 4081, '10200': 4082, '44000': 4083, 'lifelin': 4084, 'seventh': 4085, 'yolo': 4086, 'publicresourceorg': 4087, 'leagu': 4088, 'australian': 4089, 'osprey': 4090, 'trendnet': 4091, 'feed': 4092, 'mnsure': 4093, 'helicopt': 4094, 'chesapeak': 4095, 'sheer': 4096, 'wellknown': 4097, 'froedtert': 4098, 'github': 4099, 'redwood': 4100, 'fresh': 4101, 'urm': 4102, 'maricopa': 4103, 'midnovemb': 4104, 'transplant': 4105, 'predict': 4106, 'higher': 4107, 'incomplet': 4108, 'loudoun': 4109, 'brame': 4110, 'preliminari': 4111, 'sheraton': 4112, 'mainli': 4113, 'medtron': 4114, 'bethlehem': 4115, 'benjamin': 4116, 'io': 4117, 'unpreced': 4118, 'smucker': 4119, 'statista': 4120, 'graph': 4121, 'cornerston': 4122, 'arnold': 4123, 'oceansid': 4124, 'deltek': 4125, 'baylor': 4126, 'blown': 4127, 'statementth': 4128, 'stolenin': 4129, 'specialti': 4130, 'attribut': 4131, 'systemmor': 4132, 'snapsavedcom': 4133, 'healthinsur': 4134, 'cosmet': 4135, '56': 4136, 'basebal': 4137, 'muneeb': 4138, 'akhter': 4139, 'lsu': 4140, 'norman': 4141, 'looppay': 4142, 'etrad': 4143, 'httpwwwwftvcomnewsnewslocal9investigatesosceolacountychildr': 4144, 'kemp': 4145, 'cstar': 4146, 'willi': 4147, 'databaseth': 4148, 'oretekor': 4149, '325000': 4150, 'talk': 4151, 'sha1': 4152, 'bf': 4153, 'fridayth': 4154, 'laguna': 4155, 'crowdstrik': 4156, 'anm': 4157, 'stuff': 4158, 'playdom': 4159, 'eddi': 4160, 'bauer': 4161, 'unsettl': 4162, 'clixsens': 4163, 'weebli': 4164, 'leakedsourc': 4165, 'baystat': 4166, 'congress': 4167, 'tigta': 4168, 'beta': 4169, 'tripl': 4170, 'eac': 4171, 'dempsey': 4172, 'wallet': 4173, '12th': 4174, 'compromisedon': 4175, 'legisl': 4176, 'assert': 4177, 'cloudpet': 4178, 'ferguson': 4179, 'coachella': 4180, 'fedex': 4181, 'wslcb': 4182, 'chipotl': 4183, 'vine': 4184, 'onelogin': 4185, 'palmdal': 4186, 'embezzl': 4187, 'ou': 4188, 'buckl': 4189, 'ccisd': 4190, 'ross': 4191, 'billpay': 4192, 'mmg': 4193, '22000': 4194, 'elizabeth': 4195, 'farrar': 4196, 'viacom': 4197, 'upper': 4198, 'rootswebcom': 4199, 'questar': 4200, 'tupelo': 4201, 'mcafe': 4202, 'panera': 4203, 'bread': 4204, 'unitypoint': 4205, 'accesslex': 4206, 'ael': 4207, 'whittak': 4208, 'workout': 4209, 'smoke': 4210, 'characterist': 4211, 'pageup': 4212, 'troia': 4213, 'skill': 4214, 'ffe': 4215, 'goldthwait': 4216, 'snoop': 4217, 'pinnacl': 4218, 'itt': 4219, 'ophthalmolog': 4220, 'camc': 4221, 'spartanburg': 4222, 'provena': 4223, 'coven': 4224, 'forest': 4225, 'greenvil': 4226, 'pvmc': 4227, 'hurley': 4228, 'trmc': 4229, 'urochart': 4230, 'brickwir': 4231, 'picken': 4232, 'podiatrist': 4233, 'lakeview': 4234, 'rosa': 4235, 'sjh': 4236, 'inconsist': 4237, 'powerpoint': 4238, 'riteaid': 4239, 'optimum': 4240, 'inova': 4241, 'continuum': 4242, 'omnicel': 4243, 'es': 4244, 'pediatrician': 4245, 'flown': 4246, 'gerdau': 4247, 'amo': 4248, '239': 4249, 'careevolv': 4250, 'kerr': 4251, 'herewith': 4252, 'autoforward': 4253, 'mise': 4254, 'par': 4255, 'zevin': 4256, 'agri': 4257, 'snake': 4258, '88': 4259, 'sf': 4260, 'pacificacoastsid': 4261, 'impair': 4262, 'rjl': 4263, '3222012': 4264, 'cobra': 4265, 'driveupd': 4266, '4162012': 4267, 'threemonth': 4268, 'indi': 4269, 'mac': 4270, 'hccl': 4271, 'requisit': 4272, 'clc': 4273, 'capitol': 4274, 'pcidss': 4275, 'xrite': 4276, '4400': 4277, 'electronicallystor': 4278, 'ach': 4279, 'bam': 4280, '15399': 4281, 'altrec': 4282, 'nf': 4283, 'bakersfield': 4284, 'goticket': 4285, 'ronald': 4286, '08032012': 4287, 'nordstrom': 4288, 'fsb': 4289, 'creativ': 4290, 'nonmed': 4291, 'ahv': 4292, '260000': 4293, '10242012': 4294, '63': 4295, '09052013': 4296, 'writer': 4297, '16updat': 4298, '11202012': 4299, '28000': 4300, '91000': 4301, 'authoritiesupd': 4302, 'gradi': 4303, '03082013': 4304, 'yuma': 4305, 'recogniz': 4306, 'pg': 4307, '401l': 4308, 'birthupd': 4309, '8300': 4310, 'wwwwiltoncom': 4311, 'bic': 4312, 'dhc': 4313, 'rey': 4314, 'reinhart': 4315, 'foodservic': 4316, 'childcar': 4317, 'codefend': 4318, 'ej': 4319, 'phair': 4320, 'charger': 4321, 'rr': 4322, 'donnelley': 4323, 'maiden': 4324, 'crescent': 4325, '04032013': 4326, 'unisi': 4327, 'tenni': 4328, 'csc': 4329, 'onewest': 4330, '80steescom': 4331, 'beachbodi': 4332, 'shumski': 4333, 'bate': 4334, 'eden': 4335, 'alameda': 4336, '06102013': 4337, '07292013': 4338, 'nelson': 4339, 'synerm': 4340, 'cpt': 4341, 'inland': 4342, '06172013': 4343, '06212013': 4344, 'smog': 4345, '7500': 4346, 'authorizationupd': 4347, 'm2': 4348, 'intrust': 4349, 'unauthori': 4350, 'whisman': 4351, '840000': 4352, 'christoph': 4353, 'wjb': 4354, 'mortag': 4355, 'acount': 4356, 'k': 4357, 'withouth': 4358, 'anitviru': 4359, 'completedth': 4360, 'janitori': 4361, '18882332305': 4362, 'fxtrade': 4363, 'tighten': 4364, 'employess': 4365, 'e': 4366, 'castl': 4367, 'breakdown': 4368, 'fir': 4369, 'pdt': 4370, 'drawer': 4371, 'tim': 4372, 'cole': 4373, 'vfw': 4374, 'membersth': 4375, 'nco': 4376, 'snell': 4377, 'jcm': 4378, 'musician': 4379, 'riskfor': 4380, '14th': 4381, '27th': 4382, 'icd9': 4383, 'fraudstop': 4384, 'edriverfil': 4385, 'informationan': 4386, 'sdsu': 4387, 'craftsman': 4388, '78': 4389, 'anniversari': 4390, 'strict': 4391, 'ucdc': 4392, 'firmissu': 4393, 'july1': 4394, 'documentsth': 4395, 'itth': 4396, 'inlcud': 4397, 'dieguito': 4398, 'calper': 4399, '1986': 4400, 'breachfor': 4401, 'capac': 4402, 'rei': 4403, 'murison': 4404, 'umbrella': 4405, 'expiratin': 4406, 'lawfirm': 4407, 'earthquak': 4408, 'nicknam': 4409, 'jewelosco': 4410, 'shaw': 4411, 'super': 4412, 'cta': 4413, 'pajaro': 4414, 'rescu': 4415, 'sausalito': 4416, '830': 4417, 'breyer': 4418, 'fnf': 4419, 'ticor': 4420, 'gomez': 4421, 'stat': 4422, 'numberth': 4423, 'encryptedth': 4424, 'passwordth': 4425, 'architectur': 4426, 'tout': 4427, 'pst': 4428, 'protectedth': 4429, 'mileageplu': 4430, 'krollidmonitoringservicecom': 4431, '844': 4432, 'eyewear': 4433, 'informatino': 4434, 'usernamepassword': 4435, 'tular': 4436, 'hhsa': 4437, 'visalia': 4438, 'mondayfriday': 4439, 'andelson': 4440, 'fradul': 4441, '375': 4442, 'dungare': 4443, 'thereaft': 4444, 'numbr': 4445, 'conjunct': 4446, 'kong': 4447, 'hong': 4448, 'berger': 4449, 'perinat': 4450, 'ebpma': 4451, 'bio': 4452, 'lee': 4453, 'batteri': 4454, 'bohannon': 4455, 'menlo': 4456, 'largescal': 4457, 'imposs': 4458, 'combat': 4459, 'northridg': 4460, 'facial': 4461, 'schwab': 4462, 'glamglow': 4463, '930': 4464, 'vacavil': 4465, 'paso': 4466, 'herman': 4467, 'honolulu': 4468, 'catalyst': 4469, 'recip': 4470, 'distributor': 4471, 'budget': 4472, 'cst': 4473, 'goleta': 4474, 'ynez': 4475, 'transunion': 4476, 'correctli': 4477, 'cardsmor': 4478, 'royalti': 4479, 'websiteth': 4480, 'cav2': 4481, 'cvc2': 4482, 'attest': 4483, 'pant': 4484, 'stadium': 4485, 'crossblu': 4486, 'accuraci': 4487, 'qualiti': 4488, 'magnolia': 4489, 'twin': 4490, 'convalesc': 4491, 'kaweah': 4492, 'centuri': 4493, 'mitchel': 4494, 'perkinselm': 4495, 'laz': 4496, 'sprout': 4497, 'pivot': 4498, 'whitingturn': 4499, 'optumrx': 4500, 'schwaab': 4501, 'staminu': 4502, 'prosportsdaili': 4503, 'agn': 4504, 'sant': 4505, 'returnsth': 4506, 'happenedbas': 4507, 'hume': 4508, 'christian': 4509, 'camp': 4510, 'organizationth': 4511, 'magnum': 4512, 'boot': 4513, 'devot': 4514, 'beacon': 4515, 'tracker': 4516, '2012the': 4517, 'dashboard': 4518, 'addressesmor': 4519, 'supplement': 4520, 'momentum': 4521, 'nonetheless': 4522, 'partyth': 4523, '115000': 4524, 'mode': 4525, 'predecessor': 4526, 'userid': 4527, 'macbook': 4528, 'recordsmor': 4529, 'thirdpartyth': 4530, 'yubasutt': 4531, 'paidin': 4532, 'inabl': 4533, 'pax': 4534, 'cardsourc': 4535, 'ofa': 4536, 'tiki': 4537, 'baleen': 4538, 'loung': 4539, 'wa': 4540, 'tellurid': 4541, 'blast': 4542, 'bean': 4543, 'wherein': 4544, 'dentistri': 4545, 'quinn': 4546, 'servicesth': 4547, 'meadow': 4548, 'producteev': 4549, 'ie': 4550, 'templat': 4551, 'operationsmor': 4552, 'caloptima': 4553, 'creator': 4554, 'mattermor': 4555, 'welk': 4556, 'httpsoagcagovecrimedatabreachreportssb2464705': 4557, 'wwwidressupcom': 4558, 'fraudmor': 4559, 'armori': 4560, 'alpha': 4561, 'staffth': 4562, 'nonsecur': 4563, 'outlin': 4564, 'nyse': 4565, 'roomwhat': 4566, 'emblemhealth': 4567, 'happenedearli': 4568, 'randomli': 4569, 'mirror': 4570, 'cvvmore': 4571, 'attackwhat': 4572, 'evchc': 4573, 'quest': 4574, '108': 4575, 'hinder': 4576, 'outofpocket': 4577, 'consortium': 4578, 'servicecrimin': 4579, 'irss': 4580, 'orthovisc': 4581, 'monovisc': 4582, 'httpwwwbeckershospitalreviewcomhealthcareinformationtechnologyc': 4583, 'issuemor': 4584, 'unlimit': 4585, 'transcrib': 4586, 'redeem': 4587, 'tirelessli': 4588, 'lacert': 4589, 'accountsmor': 4590, 'importantli': 4591, 'nonbo': 4592, 'bemsid': 4593, 'namesmor': 4594, 'neo': 4595, 'incred': 4596, 'happeneda': 4597, 'interfer': 4598, 'realiti': 4599, 'scrutini': 4600, '2016what': 4601, 'meantim': 4602, 'catalina': 4603, 'postacut': 4604, 'issuesth': 4605, 'individualsmor': 4606, 'httphealthitsecuritycomnewsrehabilitationfacilityreportspati': 4607, 'contrast': 4608, 'robertshawaiicom': 4609, 'individualwhat': 4610, 'michellestallcupcpascom': 4611, 'basi': 4612, 'ftb': 4613, 'investigationon': 4614, 'precursor': 4615, '1099recipi': 4616, 'zest': 4617, 'nsc': 4618, 'involvedthi': 4619, 'cautionwhat': 4620, 'involveda': 4621, 'bulletproof': 4622, 'aggress': 4623, 'srg': 4624, 'erad': 4625, 'blvd': 4626, '272': 4627, 'ave': 4628, 'pkwi': 4629, 'riskmor': 4630, 'pride': 4631, '021117': 4632, '022717': 4633, 'intrusionto': 4634, '02282017': 4635, 'noticewhat': 4636, '232017': 4637, '02062017': 4638, 'thru': 4639, '02232017': 4640, 'ihgbrand': 4641, 'circl': 4642, 'particularli': 4643, 'huge': 4644, 'entrust': 4645, 'informationon': 4646, 'wwwfightgearcom': 4647, 'wwwfitness1stcom': 4648, 'wwwringsidecom': 4649, 'wwwcombatsportscom': 4650, 'campbel': 4651, 'reiter': 4652, 'ilkb': 4653, 'golftec': 4654, 'oxi': 4655, 'dear': 4656, 'personallyidentifi': 4657, 'calib': 4658, 'accountwhat': 4659, 'submiss': 4660, 'blossom': 4661, 'quarantin': 4662, 'cvc': 4663, 'remoteaccess': 4664, 'advers': 4665, 'hilderbrand': 4666, 'clark': 4667, 'policyaccount': 4668, 'investigationwhat': 4669, 'hourli': 4670, 'outlook': 4671, 'vanessachjcom': 4672, 'hbo': 4673, 'pleasanton': 4674, 'dian': 4675, 'lacdmh': 4676, 'youwhat': 4677, 'californiath': 4678, 'alarm': 4679, 'extratim': 4680, '1250': 4681, '745': 4682, 'employmentrel': 4683, 'nient': 4684, 'wrongdo': 4685, 'mom': 4686, 'midamerican': 4687, 'alway': 4688, 'occasion': 4689, '3673': 4690, 'companyown': 4691, '190': 4692, 'imperva': 4693, 'addressesupd': 4694, '4212011': 4695, 'myspac': 4696, 'rockyoucom': 4697, 'grill': 4698, '220000': 4699, '73': 4700, 'uwmc': 4701, 'pumpsupd': 4702, 'huntsvil': 4703, '1012': 4704, '66': 4705, '1530': 4706, 'bail': 4707, 'alexandria': 4708, 'ceas': 4709, 'middletown': 4710, 'woodburi': 4711, 'membersupd': 4712, 'gypsum': 4713, 'seminar': 4714, 'unknowingli': 4715, 'strateg': 4716, 'bluechip': 4717, 'mellow': 4718, 'mushroom': 4719, 'stone': 4720, 'eat': 4721, 'interior': 4722, '792000': 4723, 'durham': 4724, 'teller': 4725, 'reno': 4726, 'style': 4727, 'teletech': 4728, 'fahlgren': 4729, 'merrimack': 4730, '139000': 4731, 'ringlead': 4732, 'mercer': 4733, 'circul': 4734, 'patterson': 4735, 'bvu': 4736, 'loft': 4737, 'comedi': 4738, '24000': 4739, 'staywel': 4740, 'fellow': 4741, '135': 4742, 'linda': 4743, 'transient': 4744, 'universityown': 4745, '143': 4746, 'sp': 4747, 'diem': 4748, 'waitress': 4749, 'curb': 4750, 'mismanag': 4751, 'hallway': 4752, 'negoti': 4753, 'aldi': 4754, 'scanner': 4755, 'traffick': 4756, '473': 4757, 'ing': 4758, 'ky': 4759, 'thirti': 4760, 'overhaul': 4761, 'onetim': 4762, 'japanes': 4763, '163': 4764, '2172011': 4765, 'stein': 4766, 'aventura': 4767, '20082009': 4768, 'givenupd': 4769, 'nonexist': 4770, 'chili': 4771, 'cleveland': 4772, '4132011': 4773, 'stateown': 4774, '95000': 4775, 'homeupd': 4776, 'gnosi': 4777, 'arc': 4778, 'solar': 4779, 'swreg': 4780, 'sten': 4781, 'ballot': 4782, 'acura': 4783, 'logger': 4784, 'storeupd': 4785, 'penf': 4786, 'reportedupd': 4787, 'esrb': 4788, 'usag': 4789, 'uconn': 4790, 'thread': 4791, '142': 4792, 'mayb': 4793, 'distinguish': 4794, 'charter': 4795, 'universityupd': 4796, 'payabl': 4797, 'clientsupd': 4798, 'ft': 4799, '17year': 4800, '550': 4801, 'shutter': 4802, '2800': 4803, 'winamp': 4804, 'who': 4805, 'ski': 4806, 'upset': 4807, 'del': 4808, 'frisco': 4809, 'sullivan': 4810, '864': 4811, 'kisd': 4812, '58': 4813, '110000': 4814, 'spill': 4815, '412': 4816, 'theiv': 4817, 'twc': 4818, 'statutori': 4819, 'alexand': 4820, '5112011': 4821, 'magazin': 4822, 'hrconnect': 4823, 'qdoba': 4824, 'procur': 4825, '90000': 4826, 'porac': 4827, 'onboard': 4828, 'huntington': 4829, 'chicagoarea': 4830, 'keypad': 4831, '84': 4832, '07302012': 4833, 'domino': 4834, 'alphabet': 4835, '170000': 4836, 'ein': 4837, '210000': 4838, '184': 4839, '149': 4840, 'harboron': 4841, 'flag': 4842, 'ban': 4843, '348': 4844, 'rsa': 4845, 'infragard': 4846, 'sweepstak': 4847, '08282012': 4848, 'victor': 4849, 'eaglenet': 4850, '6142011': 4851, '360000': 4852, 'mislabel': 4853, 'london': 4854, 'bulletin': 4855, 'racial': 4856, '6302011': 4857, 'isb': 4858, 'harrisburg': 4859, 'widespread': 4860, 'margarita': 4861, 'mgh': 4862, 'judici': 4863, 'listserv': 4864, 'lewd': 4865, 'noncustodi': 4866, 'noncredit': 4867, 'wilson': 4868, 'purdu': 4869, 'mathemat': 4870, 'convers': 4871, 'unfamiliar': 4872, 'cycl': 4873, '63000': 4874, 'ghost': 4875, 'homeown': 4876, 'dell': 4877, 'assembl': 4878, 'cia': 4879, 'grunman': 4880, 'chronic': 4881, 'delhi': 4882, '08242012': 4883, 'ethic': 4884, 'faction': 4885, 'matrix': 4886, 'joe': 4887, '3262012': 4888, 'amsterdam': 4889, 'supervisori': 4890, 'iqcr': 4891, 'cardboard': 4892, 'isd': 4893, 'wealthi': 4894, 'ohioan': 4895, 'midseptemb': 4896, '12202011': 4897, 'jewish': 4898, 'holocaust': 4899, 'privileg': 4900, 'darc': 4901, 'softwareupd': 4902, '03192013': 4903, 'hint': 4904, 'npsd': 4905, 'ujafeder': 4906, 'surreptiti': 4907, 'schein': 4908, 'veterinarian': 4909, 'willamett': 4910, '12282011': 4911, 'nyc': 4912, '1042012': 4913, '68063': 4914, '5032012': 4915, 'trapwir': 4916, '6updat': 4917, '11152013': 4918, 'aegi': 4919, 'nl': 4920, '232': 4921, 'seat': 4922, 'anonymousantiseclulzsec': 4923, 'basement': 4924, 'diver': 4925, 'weekli': 4926, 'zappo': 4927, 'wichita': 4928, 'workathom': 4929, 'kit': 4930, 'dreamhost': 4931, 'ftp': 4932, 'iberdrola': 4933, 'nyseg': 4934, 'rge': 4935, '07122012': 4936, 'confront': 4937, 'windstream': 4938, 'bargain': 4939, '230000': 4940, 'wifi': 4941, 'shack': 4942, '540': 4943, 'crash': 4944, 'faulti': 4945, 'solitud': 4946, 'ccsu': 4947, 'relay': 4948, 'landlord': 4949, 'wallac': 4950, 'databreachesnet': 4951, '276': 4952, 'summon': 4953, 'transform': 4954, 'b': 4955, 'chose': 4956, 'humboldt': 4957, 'vigil': 4958, 'optic': 4959, 'exercis': 4960, 'wayn': 4961, 'pure': 4962, '04152013': 4963, 'cryptic': 4964, 'belief': 4965, 'caregiv': 4966, 'microfich': 4967, 'yard': 4968, 'tsp': 4969, '06152012': 4970, 'misrepresent': 4971, 'arraign': 4972, 'can': 4973, 'roommat': 4974, 'puerta': 4975, 'formspr': 4976, '450000': 4977, '07202012': 4978, 'fairli': 4979, 'lieu': 4980, 'adjac': 4981, '59': 4982, 'aflac': 4983, 'marri': 4984, 'mar': 4985, 'bmo': 4986, 'hook': 4987, 'sewer': 4988, '11282012': 4989, 'sister': 4990, 'stuf': 4991, '76000': 4992, '200506': 4993, '202': 4994, '10192012': 4995, '14yearold': 4996, '71774': 4997, 'poll': 4998, 'hudson': 4999, 'sprechman': 5000, 'excess': 5001, '71': 5002, 'ektron': 5003, 'hmsa': 5004, '10800': 5005, 'oahu': 5006, 'paymaxx': 5007, 'entitl': 5008, 'seisint': 5009, 'yearupd': 5010, 'duke': 5011, 'librarian': 5012, 'compactor': 5013, '152': 5014, 'googlecom': 5015, 'selfemploy': 5016, 'hunter': 5017, '335': 5018, '171': 5019, 'feedback': 5020, 'teach': 5021, 'bypass': 5022, 'unaffili': 5023, '5800': 5024, 'guardsmen': 5025, '159': 5026, 'wrap': 5027, 'bofa': 5028, 'boce': 5029, 'pricewaterhousecoop': 5030, 'ibil': 5031, 'drove': 5032, 'bankaccount': 5033, '180000': 5034, 'binghamton': 5035, 'foreclosur': 5036, 'speed': 5037, 'greenpoint': 5038, 'stalk': 5039, 'amica': 5040, 'badli': 5041, '373': 5042, 'cbcinnovi': 5043, 'ge': 5044, 'frost': 5045, 'goldleaf': 5046, 'thirteen': 5047, 'fallen': 5048, '5th': 5049, 'maimonid': 5050, 'childsupport': 5051, 'weinstein': 5052, 'mccladrey': 5053, 'diversifi': 5054, 'accentur': 5055, '1415': 5056, 'signon': 5057, 'opt': 5058, 'directv': 5059, 'healthnow': 5060, '266200': 5061, 'nyu': 5062, 'crow': 5063, 'nighttim': 5064, 'uvsc': 5065, 'midmay': 5066, '457': 5067, 'canadian': 5068, 'european': 5069, '10232007': 5070, 'fifth': 5071, '880000': 5072, '256': 5073, 'threeyear': 5074, 'yesterday': 5075, 'selco': 5076, 'framingham': 5077, 'stephen': 5078, 'watt': 5079, 'biggest': 5080, 'bro': 5081, 'wet': 5082, 'dougla': 5083, 'woodlock': 5084, 'subordin': 5085, '1972': 5086, 'sprint': 5087, 'baggag': 5088, 'fca': 5089, 'brunswick': 5090, 'n95': 5091, 'suffolk': 5092, '434': 5093, 'expon': 5094, 'calcul': 5095, 'cbi': 5096, 'aircraft': 5097, 'bid': 5098, 'unm': 5099, 'marshal': 5100, 'ezpawn': 5101, 'fundrais': 5102, '237': 5103, 'payrollrel': 5104, 'fi': 5105, 'update7708': 5106, 'unreimburs': 5107, 'wwwdatasettlementcom': 5108, 'adher': 5109, '125000': 5110, 'veru': 5111, '475': 5112, 'mercuri': 5113, 'mckesson': 5114, 'larson': 5115, 'somebodi': 5116, '67000': 5117, 'unwant': 5118, '2500000': 5119, 'ive': 5120, 'columbu': 5121, 'watkinsvil': 5122, 'athen': 5123, 'sarasota': 5124, 'airtim': 5125, 'paramed': 5126, 'presidenti': 5127, 'disconnect': 5128, 'defer': 5129, 'watertown': 5130, 'kick': 5131, '360': 5132, 'murray': 5133, '106': 5134, 'sweetbay': 5135, '109': 5136, 'undetermin': 5137, 'split': 5138, 'stoke': 5139, 'lunardi': 5140, 'quietli': 5141, 'outbound': 5142, 'yearsupd': 5143, 'declaratori': 5144, 'breachrel': 5145, '826': 5146, 'subprim': 5147, 'invad': 5148, '866': 5149, 'lotteri': 5150, 'sophomor': 5151, 'heist': 5152, 'worldpayupd': 5153, 'hackupd': 5154, 'anikin': 5155, 'considerationupd': 5156, '272011': 5157, 'royal': 5158, '280': 5159, 'genica': 5160, '08202009': 5161, 'conting': 5162, 'jerom': 5163, 'abaquin': 5164, 'gonzal': 5165, 'surrend': 5166, 'forese': 5167, '565': 5168, 'waco': 5169, 'dri': 5170, 'congression': 5171, 'symantec': 5172, 'cone': 5173, 'canyon': 5174, 'bernard': 5175, 'unc': 5176, 'fault': 5177, 'defici': 5178, 'ignor': 5179, 'gmri': 5180, '76': 5181, 'halifax': 5182, '275000': 5183, 'nara': 5184, '446000': 5185, '1222010': 5186, 'tad': 5187, 'yearold': 5188, '42910': 5189, 'luke': 5190, 'atrisk': 5191, '86': 5192, 'tradit': 5193, 'moral': 5194, 'pamlico': 5195, 'piedmont': 5196, 'southwestern': 5197, 'directdeposit': 5198, 'bcbst': 5199, 'bloomington': 5200, '612011': 5201, 'torn': 5202, 'petersburg': 5203, 'prime': 5204, 'thrivent': 5205, 'highland': 5206, '290000': 5207, 'evergreen': 5208, 'millard': 5209, 'programs20042009': 5210, 'nongovern': 5211, 'tulsa': 5212, 'wheaton': 5213, 'manorcar': 5214, 'mad': 5215, 'capper': 5216, 'comb': 5217, 'worst': 5218, '08152013': 5219, 'korea': 5220, 'focu': 5221, 'drain': 5222, 'je': 5223, 'esb': 5224, 'chattanooga': 5225, 'blippi': 5226, 'manila': 5227, 'impound': 5228, 'bowl': 5229, 'underw': 5230, 'fullerton': 5231, 'bepgov': 5232, 'moneyfactorygov': 5233, 'silent': 5234, 'nasti': 5235, 'salud': 5236, 'reassur': 5237, 'prescriptiondrug': 5238, 'quit': 5239, 'surpris': 5240, 'admir': 5241, 'appreci': 5242, 'wasnt': 5243, 'rita': 5244, 'u': 5245, 'l': 5246, 'prairi': 5247, 'brooklyn': 5248, 'purloin': 5249, 'bankrupt': 5250, 'impuls': 5251, 'met': 5252, 'planet': 5253, 'janet': 5254, 'brute': 5255, '470000': 5256, 'badg': 5257, 'unfaircompetit': 5258, 'impli': 5259, '201': 5260, 'brazzer': 5261, 'girl': 5262, 'trident': 5263, 'nonfinanci': 5264, 'cambridg': 5265, 'mysql': 5266, 'perfect': 5267, 'identitytheft': 5268, 'reef': 5269, 'suddenlink': 5270, 'orvi': 5271, 'nomin': 5272, 'reinforc': 5273, 'courthous': 5274, '218': 5275, 'aerospac': 5276, 'rmv': 5277, 'rhinebeck': 5278, 'triangl': 5279, 'handwritten': 5280, 'filedupd': 5281, '5400': 5282, 'prix': 5283, 'clair': 5284, 'repossess': 5285, 'guidanc': 5286, '83': 5287, 'overlap': 5288, '12032013': 5289, 'tm': 5290, 'apha': 5291, '6092012': 5292, 'eharmoni': 5293, 'textbook': 5294, 'obsolet': 5295, 'dealer': 5296, 'inadequ': 5297, '08232013': 5298, 'bruce': 5299, 'neg': 5300, 'impermiss': 5301, 'communicatedmor': 5302, 'listedmor': 5303, 'ps': 5304, 'addresss': 5305, 'nformat': 5306, 'gs': 5307, 'disclosedmor': 5308, 'informationhttpsocrportalhhsgovocrbreachbreachreportjsfjsessionid9bf4af': 5309, 'stolenmor': 5310, 'sanction': 5311, 'mammogram': 5312, 'lossoth': 5313, 'incidentdesktop': 5314, 'computeroth': 5315, 'vein': 5316, 'losspaperfilm': 5317, '336': 5318, 'oig': 5319, 'emg': 5320, 'ahp': 5321, 'treatement': 5322, '622011': 5323, 'vascular': 5324, 'oschner': 5325, 'ptc': 5326, 'zenith': 5327, '232011': 5328, 'religion': 5329, 'medasset': 5330, 'acut': 5331, 'beth': 5332, 'israel': 5333, 'ashley': 5334, 'assurecar': 5335, 'nea': 5336, 'anna': 5337, 'jaqu': 5338, 'dmass': 5339, 'quot': 5340, 'bluecar': 5341, 'miscellan': 5342, 'midtown': 5343, 'clearinghous': 5344, 'coastal': 5345, '136': 5346, '12282012': 5347, 'refuge': 5348, 'needl': 5349, 'caremark': 5350, 'franciscan': 5351, 'aco': 5352, 'pacemak': 5353, '1252014': 5354, '115': 5355, 'jr': 5356, 'bahoonet': 5357, 'n': 5358, 'calif': 5359, '644': 5360, 'salley': 5361, 'divulg': 5362, 'continent': 5363, 'anywher': 5364, 'httpkrebsonsecuritycom201412cowardsattacksonyplaystationmicro': 5365, 'ddo': 5366, 'strap': 5367, 'ideal': 5368, 'turley': 5369, 'cultur': 5370, 'intellectu': 5371, 'trio': 5372, 'tor': 5373, 'releasemor': 5374, 'seagat': 5375, 'promin': 5376, 'cici': 5377, 'alarmingli': 5378, 'hotelsth': 5379, 'slow': 5380, 'dn': 5381, '710': 5382, 'interrupt': 5383, 'intercontinent': 5384, 'crown': 5385, 'califbas': 5386, 'urgent': 5387, 'phisher': 5388, 'establishmentsin': 5389, 'southlak': 5390, 'saa': 5391, 'hoteli': 5392, 'especi': 5393, 'docusigncom': 5394, 'missiv': 5395, 'malwareth': 5396, 'esignatur': 5397, 'countless': 5398, 'molinahealthcarecom': 5399, 'hyperlink': 5400, 'fastfood': 5401, '3600': 5402, 'addrs': 5403, 'hanov': 5404, 'placemark': 5405, 'hotl': 5406, 'passcod': 5407, 'redund': 5408, 'attract': 5409, 'fredrick': 5410, 'farmtofeetcom': 5411, 'construct': 5412, 'unreleas': 5413, '337': 5414, 'jeopard': 5415, 'ree': 5416, 'solicitor': 5417, 'nice': 5418, 'witw': 5419, 'prudent': 5420, 'olympia': 5421, 'haul': 5422, 'saidbut': 5423, 'creditmonitor': 5424, 'plug': 5425, 'monster': 5426, 'usajobsgov': 5427, 'cumul': 5428, 'walt': 5429, 'vend': 5430, '15yearold': 5431, 'er': 5432, 'suncoast': 5433, 'mri': 5434, 'battl': 5435, 'contest': 5436, 'lnc': 5437, 'gainesvil': 5438, '860000': 5439, '09242012': 5440, '10292013': 5441, '08302012': 5442, 'diploma': 5443, 'gridley': 5444, 'delano': 5445, 'orovil': 5446, 'tripadvisor': 5447, 'netherland': 5448, 'spain': 5449, 'welcom': 5450, 'japan': 5451, '642011': 5452, '178': 5453, 'signin': 5454, '93000': 5455, 'xfactor': 5456, 'australia': 5457, 'fiss': 5458, 'ukrain': 5459, 'uniform': 5460, '1142011': 5461, 'amend': 5462, 'mere': 5463, 'uga': 5464, 'metabasi': 5465, 'chamber': 5466, 'highlight': 5467, 'patrol': 5468, 'choos': 5469, '138': 5470, 'udid': 5471, '10012012': 5472, 'playspan': 5473, 'fair': 5474, '64': 5475, '01112013': 5476, 'scdor': 5477, '566': 5478, 'goold': 5479, 'reaction': 5480, 'lineberg': 5481, 'ea': 5482, 'häagendaz': 5483, 'kork': 5484, 'keg': 5485, 'zendesk': 5486, '02222013': 5487, 'purposesupd': 5488, '05012013': 5489, 'evernot': 5490, 'sim': 5491, 'icw': 5492, 'weekth': 5493, 'penal': 5494, '04252013': 5495, '23000': 5496, 'anesthesiologist': 5497, 'manchest': 5498, 'vudu': 5499, '79': 5500, '05242013': 5501, 'involvedupd': 5502, '07182013': 5503, 'livingsoci': 5504, 'mapco': 5505, 'compon': 5506, 'dui': 5507, 'button': 5508, 'edreamz': 5509, '26updat': 5510, 'vendini': 5511, '111': 5512, '2015more': 5513, 'panelist': 5514, 'overturn': 5515, 'classifi': 5516, 'sun': 5517, '06262013': 5518, 'greensboro': 5519, 'curiou': 5520, 'gap': 5521, '1012013': 5522, 'bike': 5523, '206': 5524, '1837': 5525, 'netbook': 5526, 'vietnam': 5527, '10222013': 5528, '12132013': 5529, '12172013': 5530, '19000': 5531, 'melbourn': 5532, 'blackhawk': 5533, '12122013': 5534, 'sunet': 5535, '548': 5536, 'icg': 5537, 'mchenri': 5538, 'pr': 5539, 'newswir': 5540, '11252013': 5541, 'ssm': 5542, '3541': 5543, '11222013': 5544, 'credibl': 5545, 'distract': 5546, 'monterey': 5547, 'midaugust': 5548, 'ouidad': 5549, 'andrew': 5550, 'rail': 5551, 'aggreg': 5552, 'hieu': 5553, 'minh': 5554, '18month': 5555, 'prisonupd': 5556, 'sound': 5557, 'allina': 5558, 'mongohq': 5559, 'tsi': 5560, 'jeffersonvil': 5561, 'nypd': 5562, 'greencastl': 5563, 'macrumor': 5564, 'render': 5565, 'chancellor': 5566, 'madeinoregon': 5567, 'convent': 5568, 'significantli': 5569, '1132014': 5570, '1292014': 5571, 'mislead': 5572, 'seaport': 5573, 'fouryear': 5574, 'unveil': 5575, 'rsi': 5576, '19th': 5577, '480': 5578, 'moor': 5579, 'ebenefit': 5580, 'hilton': 5581, 'datait': 5582, 'singapor': 5583, 'forbescom': 5584, 'creditreport': 5585, 'verfic': 5586, 'rumor': 5587, 'filesth': 5588, 'ride': 5589, 'chicagoth': 5590, 'banc': 5591, 'weakenss': 5592, 'cpp': 5593, 'certainti': 5594, '209000': 5595, 'interim': 5596, 'biomed': 5597, 'bme': 5598, 'vuner': 5599, 'agarw': 5600, 'approach': 5601, 'revok': 5602, 'elightbulbscom': 5603, 'kichlerlightinglight': 5604, 'gari': 5605, 'fitterman': 5606, 'outsourc': 5607, 'kentuckybas': 5608, 'winni': 5609, 'palomar': 5610, 'escondido': 5611, 'govwin': 5612, 'iq': 5613, 'bitcointh': 5614, '14100': 5615, 'bad': 5616, 'storm': 5617, 'nrad': 5618, 'cc': 5619, 'cnet': 5620, 'w0rm': 5621, 'healthscreen': 5622, 'tweet': 5623, 'vicecom': 5624, 'supervalu': 5625, 'cedarssinai': 5626, '1032014': 5627, '9162014': 5628, 'obradi': 5629, 'cpni': 5630, 'hhonor': 5631, 'messageth': 5632, 'noaa': 5633, 'satellit': 5634, 'rathk': 5635, 'xerox': 5636, 'bebe': 5637, 'keypoint': 5638, '48000': 5639, 'chine': 5640, 'employeeth': 5641, 'governor': 5642, 'necessarili': 5643, 'pioneer': 5644, 'secondari': 5645, 'seeth': 5646, 'laid': 5647, 'distinct': 5648, 'astro': 5649, 'webcom': 5650, 'excellu': 5651, 'kyli': 5652, 'palo': 5653, 'alto': 5654, 'startup': 5655, 'careplu': 5656, 'dhh': 5657, 'investigatedmor': 5658, 'cb': 5659, 'evil': 5660, 'jordi': 5661, 'lizard': 5662, 'linger': 5663, 'landri': 5664, 'oshkosh': 5665, '627': 5666, 'tripp': 5667, 'junip': 5668, 'quinci': 5669, '140000': 5670, 'arnett': 5671, 'sitesmor': 5672, 'solid': 5673, 'beat': 5674, 'im': 5675, '950000': 5676, 'cpanel': 5677, 'suscept': 5678, 'stronger': 5679, 'reportth': 5680, 'complic': 5681, 'fdic': 5682, 'riker': 5683, 'kati': 5684, 'blackheart': 5685, 'nake': 5686, 'ocharley': 5687, 'gafe': 5688, 'nfl': 5689, 'opposit': 5690, 'donald': 5691, 'confirmedin': 5692, 'ami': 5693, 'dacey': 5694, 'sussmann': 5695, 'dub': 5696, 'harrison': 5697, 'nick': 5698, 'farmington': 5699, 'laurel': 5700, 'clinton': 5701, 'familiar': 5702, 'cdphp': 5703, 'prosthet': 5704, 'orthot': 5705, 'bon': 5706, 'secour': 5707, 'boca': 5708, 'raton': 5709, 'yearmor': 5710, 'officialsin': 5711, 'menzel': 5712, 'healthrel': 5713, 'questionnair': 5714, 'scenario': 5715, 'porn': 5716, 'wors': 5717, 'fantasi': 5718, 'antidop': 5719, 'deepli': 5720, 'mill': 5721, 'williamsstevenson': 5722, 'companion': 5723, 'financesmor': 5724, 'indian': 5725, '43430316': 5726, '22534984': 5727, 'repli': 5728, 'undertak': 5729, 'pace': 5730, 'embarrass': 5731, '8031': 5732, '326': 5733, 'greatli': 5734, 'afford': 5735, 'sailor': 5736, 'albeit': 5737, 'accountthi': 5738, '1032017': 5739, 'topp': 5740, 'esea': 5741, 'gabas': 5742, 'stumbl': 5743, 'bluestein': 5744, 'informationst': 5745, 'cloudflar': 5746, 'tavi': 5747, 'ormandi': 5748, 'heartble': 5749, '1password': 5750, 'shodan': 5751, 'olson': 5752, 'wv': 5753, 'vanderbilt': 5754, 'brain': 5755, 'goldenvoic': 5756, 'rsync': 5757, 'wild': 5758, '52': 5759, 'popul': 5760, 'millionth': 5761, 'halfmillion': 5762, 'cannabi': 5763, 'cater': 5764, 'rehab': 5765, 'nbeo': 5766, 'gannett': 5767, 'affectedaccord': 5768, 'endoscopi': 5769, 'drb': 5770, 'desir': 5771, 'expiri': 5772, 'fdac': 5773, 'fein': 5774, 'flea': 5775, 'leal': 5776, 'newbornscreen': 5777, 'adh': 5778, 'unshred': 5779, 'lax': 5780, 'spoke': 5781, 'matt': 5782, 'hamilton': 5783, '450': 5784, 'leverag': 5785, 'turiano': 5786, 'plepler': 5787, 'def': 5788, 'rippl': 5789, 'motorist': 5790, 'stranger': 5791, '33877': 5792, 'timeth': 5793, 'beaumont': 5794, 'bartkowiak': 5795, '744': 5796, 'ourmin': 5797, 'webb': 5798, 'edgar': 5799, 'pgp': 5800, 'psirt': 5801, 'oral': 5802, 'wildli': 5803, 'rider': 5804, 'kalanick': 5805, 'boardth': 5806, 'imgur': 5807, 'af': 5808, 'wright': 5809, 'ancestri': 5810, 'elia': 5811, 'kansan': 5812, 'bee': 5813, 'treatmentrel': 5814, '22nd': 5815, 'myfitnessp': 5816, 'cryptocurr': 5817, 'gemini': 5818, 'shldo': 5819, 'daln': 5820, 'childrenth': 5821, 'teensaf': 5822, 'zach': 5823, 'reportsa': 5824, 'ticketfli': 5825, 'scientist': 5826, 'deanonymis': 5827, 'pdq': 5828, 'arena': 5829, 'edward': 5830, 'quizz': 5831, 'insight': 5832, 'exacti': 5833, 'he': 5834, 'shooter': 5835, 'alerrt': 5836, 'dataset': 5837, 'saverspycom': 5838, 'bluegrass': 5839, 'parkway': 5840, 'aclu': 5841, 'subcontract': 5842, '01072013': 5843, 'sonogram': 5844, 'yahoocom': 5845, 'gair': 5846, '3162011': 5847, 'wentworth': 5848, 'ph': 5849, 'wvchampscom': 5850, 'eisenhow': 5851, 'midstat': 5852, 'lockerman': 5853, 'compos': 5854, 'triniti': 5855, 'montclair': 5856, 'bennett': 5857, 'centura': 5858, 'refundsupd': 5859, 'hillandal': 5860, 'shelv': 5861, 'reznick': 5862, 'shc': 5863, 'msc': 5864, '763000': 5865, 'chiropractor': 5866, 'systemsunbelt': 5867, 'nemour': 5868, 'genentech': 5869, 'avia': 5870, '16288': 5871, 'smf': 5872, '5updat': 5873, '222': 5874, 'brite': 5875, 'homecar': 5876, 'implant': 5877, 'ambulatori': 5878, 'ppmh': 5879, '112': 5880, 'restart': 5881, 'greenplum': 5882, 'kindr': 5883, 'clubhous': 5884, '01022013': 5885, 'prognosi': 5886, 'hazard': 5887, 'systemat': 5888, 'teton': 5889, 'carewis': 5890, 'woodwind': 5891, 'phillip': 5892, 'uniontown': 5893, 'mah': 5894, 'dorn': 5895, 'schneck': 5896, 'erlang': 5897, '1974': 5898, 'sonoma': 5899, 'rhd': 5900, 'dme': 5901, 'healthfit': 5902, 'rotech': 5903, 'eastsid': 5904, 'uxbridg': 5905, 'albertina': 5906, 'dbhdd': 5907, 'brookvil': 5908, 'wellcar': 5909, 'dhl': 5910, 'lengthi': 5911, 'gamestop': 5912, '1102018': 5913, '11172017': 5914, 'incl': 5915, 'netcrack': 5916, 'hf10': 5917, 'ventiv': 5918, 'xo': 5919, 'truenet': 5920, 'fortyfour': 5921, 'hobe': 5922, 'luca': 5923, '01': 5924, 'bdf': 5925, '0111': 5926, '08212017': 5927, '01112018': 5928, 'ccd': 5929, 'mariott': 5930, 'anniemac': 5931, 'trimont': 5932, 'ah': 5933, 'abat': 5934, '1800908449018009084490': 5935, 'embassi': 5936, 'crl': 5937, 'wilshir': 5938, 'snakeriverfarmscom': 5939, 'theinvestig': 5940, 'yeo': 5941, 'ministorag': 5942, 'surveyor': 5943, 'brent': 5944, 'carefirst': 5945, '30000updat': 5946, '242014': 5947, 'kamala': 5948, 'practicesorigin': 5949, '20539': 5950, 'datahold': 5951, 'expedi': 5952, 'storeroom': 5953, '4262012': 5954, 'startearli': 5955, '5112012': 5956, 'reuseitcom': 5957, 'pantonecom': 5958, 'cigna': 5959, 'dap': 5960, 'dapupd': 5961, 'bullmarketcom': 5962, '6062012': 5963, 'rackspac': 5964, '108500': 5965, 'contractsupd': 5966, '5292012': 5967, '4058': 5968, 'nfss': 5969, 'tune': 5970, 'payflow': 5971, 'regardless': 5972, 'wwwgoticketscom': 5973, '11302012': 5974, '105': 5975, 'thepartsbincom': 5976, 'seed': 5977, 'figueroa': 5978, 'tear': 5979, '1112': 5980, 'hamner': 5981, '2533': 5982, 'arch': 5983, 'july3': 5984, '2457': 5985, 'reformat': 5986, 'croissant': 5987, 'bellacor': 5988, 'jsco': 5989, 'twinspirescom': 5990, 'whatgreatskincom': 5991, 'culinari': 5992, 'bartetend': 5993, 'elder': 5994, 'theres': 5995, 'protectednam': 5996, '236': 5997, '10132012': 5998, '10152014': 5999, 'na': 6000, 'saidmor': 6001, 'httpwwwbloombergcomnews20141015tdbankresolvesclaimsoverdaupd': 6002, '12102014': 6003, '625000': 6004, 'seper': 6005, 'httpwwwamericanbankercomnewsbanktechnologytdbankpays625000i': 6006, '05212013': 6007, 'padsupd': 6008, 'svsp': 6009, 'institutionalposit': 6010, '4access': 6011, 'alli': 6012, 'knownudp': 6013, '12102012': 6014, '28468': 6015, '534': 6016, '12490': 6017, '286': 6018, '5050': 6019, '170': 6020, '98191': 6021, '244188': 6022, 'nonpolicyhold': 6023, 'spinal': 6024, 'urinalysi': 6025, 'exposedit': 6026, '11232012': 6027, '12042012': 6028, '01052013': 6029, 'phiprivacynet': 6030, 'httpwwwphiprivacynetp10825upd': 6031, 'httptinyurlcoma335kakupd': 6032, '03142013': 6033, 'westcoast': 6034, 'formatupd': 6035, 'pepperdin': 6036, 'wwwcopcocom': 6037, '10the': 6038, 'diablo': 6039, 'wth': 6040, 'selfservic': 6041, 'balli': 6042, 'collin': 6043, 'wwwaccesscatalogcom': 6044, 'centric': 6045, '01222013': 6046, '57000': 6047, 'necaibem': 6048, 'fmcp': 6049, 'riskthi': 6050, '10012013': 6051, '8911': 6052, 'stethoscopecom': 6053, 'antioch': 6054, 'wwwthorlocom': 6055, 'candidaci': 6056, 'knitpickscom': 6057, 'artistsclubcom': 6058, 'connectingthreadscom': 6059, 'americana': 6060, 'hotusa': 6061, 'mercedesbenz': 6062, 'convey': 6063, 'decker': 6064, 'oc': 6065, 'tlo': 6066, 'sequenc': 6067, 'midfebruari': 6068, 'shoplet': 6069, 'ellison': 6070, 'zone': 6071, 'fsc': 6072, 'powder': 6073, '05292013': 6074, 'dayton': 6075, 'primedia': 6076, 'alta': 6077, 'beupdat': 6078, 'discoveredupd': 6079, '06072013': 6080, 'ipaupd': 6081, '1566': 6082, '07012013': 6083, '3164': 6084, 'quaysid': 6085, 'roy': 6086, 'koolina': 6087, 'waikiki': 6088, 'kaanapali': 6089, 'poipu': 6090, 'waikoloa': 6091, 'uci': 6092, 'investm': 6093, 'm2comsi': 6094, 'healthcareupd': 6095, '9172013': 6096, '1001': 6097, 'centinela': 6098, '2182': 6099, 'paymastrservic': 6100, 'paycheckplu': 6101, 'metabank': 6102, 'vintag': 6103, 'fisherman': 6104, 'yusen': 6105, 'logist': 6106, 'cosmetolog': 6107, 'manicur': 6108, 'esthetician': 6109, 'electrolog': 6110, 'cablelock': 6111, '04062015': 6112, 'ble': 6113, '830000': 6114, 'clain': 6115, 'httpwwwnjcomnewsindexssf201504judgetossesdatabreachsuitash': 6116, 'precend': 6117, 'cecchi': 6118, '0312017': 6119, 'porrino': 6120, 'feb17': 6121, 'impro': 6122, '690000': 6123, 'policyholdersmor': 6124, 'httplegalnewslinecomstories511085361horizonhealthcareservicess': 6125, 'bg': 6126, 'mapl': 6127, 'citgo': 6128, 'techmedia': 6129, 'entail': 6130, 'seuriti': 6131, 'easton': 6132, 'nuy': 6133, 'viciou': 6134, 'cardsonc': 6135, 'emeri': 6136, 'bradleyth': 6137, '11132014': 6138, 'httppennrecordcomnews15093classactionfiledagainstcocacolafoupd': 6139, 'httpwwwbusinessinsurancecomarticle20151013news06151019945penn': 6140, 'bringittomecom': 6141, 'useraccord': 6142, 'accountthey': 6143, 'facilitiesinform': 6144, 'min': 6145, 'yi': 6146, 'themth': 6147, 'notesth': 6148, 'freeman': 6149, 'agencysfor': 6150, 'romana': 6151, 'herrera': 6152, '916': 6153, '3416285': 6154, 'numberthey': 6155, 'strictli': 6156, 'partiescal': 6157, '17138316316': 6158, 'reassign': 6159, 'correctedthey': 6160, 'privacyofficerlacareorg': 6161, '18552702327': 6162, '1055': 6163, '90017': 6164, 'holdersth': 6165, 'eari': 6166, '3503': 6167, '2598': 6168, 'die': 6169, 'pscholog': 6170, 'eureka': 6171, 'oanda': 6172, 'fxpens': 6173, 'passwordsupon': 6174, 'httpwwwoandacomcorpcontact': 6175, 'frontdeskoandacom': 6176, '1877868928418778689284': 6177, 'wwwmyidcarecomsecurityandprotectionupd': 6178, '372014': 6179, '168000': 6180, 'divulgedupd': 6181, '5272014': 6182, 'vedor': 6183, 'sutherlandth': 6184, 'ucsfid': 6185, '1888236029918882360299': 6186, '59832updat': 6187, '3202014': 6188, 'silversag': 6189, 'protector': 6190, '18889697500': 6191, 'carearcadia': 6192, 'alegr': 6193, 'call180073384278007338427callsend': 6194, 'marian': 6195, 'maria': 6196, 'arroyo': 6197, '1877906160318779061603callsend': 6198, 'malibu': 6199, 'tast': 6200, '13108998903': 6201, 'networksan': 6202, '18664864809': 6203, 'wwwmyidcarecomidexpertshealthcareprotect': 6204, 'affectedamerican': 6205, '18002977672': 6206, 'wwwamericanexpresscomidtheftassist': 6207, 'captioncal': 6208, 'companyprovid': 6209, 'hrsupportsorensoncom': 6210, 'barrier': 6211, 'raceethn': 6212, 'studiescurr': 6213, 'affectedthos': 6214, '1877811001918778110019': 6215, '1800368101918003681019callsend': 6216, 'facilitiesth': 6217, 'fite': 6218, '16618235011': 6219, 'banksth': 6220, '18005729809': 6221, 'amercian': 6222, 'impactedthos': 6223, '1855693221318556932213': 6224, 'companycallsend': 6225, 'outvfw': 6226, '18553986437': 6227, 'websitefor': 6228, 'edt': 6229, 'revspr': 6230, '1866274437118662744371callsend': 6231, 'boomerand': 6232, 'tagscom': 6233, '2014ani': 6234, 'httpwwwboomerangtagscompagephpccontactemailform': 6235, 'launchedth': 6236, '18779792595': 6237, 'groundctrl': 6238, '18774632875': 6239, 'securitygroundctrlcom': 6240, '18669013212': 6241, 'gingerbread': 6242, 'shed': 6243, '18665978199': 6244, '5474042814': 6245, 'nonstud': 6246, 'cyberscan': 6247, 'wwwidexpertscorpcomprotect': 6248, '18778108083': 6249, 'asr': 6250, '18772637997': 6251, '15125792449': 6252, '18553986436': 6253, 'precolleg': 6254, 'felecia': 6255, 'vlaho': 6256, 'isosdsuedu': 6257, '18555940142': 6258, 'h05007': 6259, 'sharper': 6260, 'informationsinc': 6261, 'cosign': 6262, '18557379123': 6263, 'dale': 6264, 'calfornia': 6265, 'postion': 6266, 'statusthos': 6267, 'stan': 6268, 'dupre': 6269, '76067437777606743777or': 6270, 'sdupreecollegeofthedeserteduupd': 6271, '6192014': 6272, 'publiccallsend': 6273, 'provideremploye': 6274, 'preapprov': 6275, 'conglomer': 6276, 'affectedfor': 6277, '18557810033': 6278, 'wwwkrollidmonitoringservicecom': 6279, 'preenrol': 6280, 'gosignmeupcom': 6281, 'databasesfor': 6282, 'passwordthos': 6283, 'techhelpucdcedu': 6284, 'olympu': 6285, 'laptopfor': 6286, 'christina': 6287, 'quijada': 6288, '18775001255': 6289, '9519555757': 6290, 'stern': 6291, 'leach': 6292, 'codesth': 6293, 'wwwprotecmyidecomredeem': 6294, 'documentationth': 6295, 'areasfor': 6296, 'freeoneyear': 6297, 'watermark': 6298, '1800597661818005976618callsend': 6299, 'jiffi': 6300, 'lube': 6301, '18774374004': 6302, 'aecom': 6303, 'specificallyth': 6304, 'clearid': 6305, '18776153770': 6306, 'addreass': 6307, 'informationthos': 6308, '18555052774': 6309, 'timeframesc': 6310, '1993octob': 6311, '2011citi': 6312, 'safetyfir': 6313, '2011san': 6314, 'districtjuli': 6315, '2011the': 6316, 'myid': 6317, 'infocom': 6318, 'courtney': 6319, 'barrett': 6320, '7606332631': 6321, 'jace': 6322, 'schwarm': 6323, '7606332636': 6324, '18663107373': 6325, '18004882265': 6326, '2780': 6327, '18775792269': 6328, 'backcountri': 6329, '18009535499': 6330, 'databackcountrygearcom': 6331, 'informationa': 6332, 'lasko': 6333, 'datesth': 6334, 'enrollallclearidcom': 6335, '18772180052': 6336, 'passwordsfor': 6337, 'privacyreicom': 6338, '1800426484018004264840': 6339, 'vibrum': 6340, 'compay': 6341, 'vibramfivefingercom': 6342, 'systemwhen': 6343, 'quoteestim': 6344, 'watercraft': 6345, 'etcth': 6346, '18442638605': 6347, 'recordssmmc': 6348, '18445304127': 6349, '7172014': 6350, '18776153771': 6351, 'meetm': 6352, '4470': 6353, '18557316016': 6354, 'httpoagcagovsystemfilescalifornia20distribution0pdf': 6355, 'managedm': 6356, 'inca': 6357, 'nonmanagedm': 6358, 'medicationtest': 6359, 'geekfac': 6360, 'hatchwisecom': 6361, 'elogocontestcom': 6362, '1800303091118003030911': 6363, 'hatchwisecomcallsend': 6364, 'imhoff': 6365, 'vehicleth': 6366, '18776153769': 6367, 'altam': 6368, 'continuinglaw': 6369, '7383759': 6370, 'questionsconcern': 6371, 'httpoagcagovecrimedatabreachreportssb2446513': 6372, 'yandycom': 6373, 'customersfor': 6374, '18442361015': 6375, 'httpoagcagovecrimedatabreachreportssb2446527': 6376, 'coomb': 6377, 'hhsthe': 6378, 'drivethey': 6379, 'httpoagcagovecrimedatabreachreportssb2446595': 6380, 'mccoy': 6381, 'neat': 6382, '18888296550': 6383, 'httpoagcagovecrimedatabreachreportssb2446601': 6384, '18886800710': 6385, 'httpoagcagovecrimedatabreachreportssb2446657': 6386, 'bioscienc': 6387, 'httpoagcagovecrimedatabreachreportssb2446702': 6388, 'baybioorg': 6389, 'processth': 6390, 'httpoagcagovecrimedatabreachreportssb2446727': 6391, 'ab': 6392, 'saver': 6393, 'islandth': 6394, '18558654449more': 6395, 'httpoagcagovecrimedatabreachreportssb2446749': 6396, 'flinn': 6397, 'startedmor': 6398, 'informationhttpoagcagovecrimedatabreachreportssb2446816': 6399, 'salvat': 6400, 'shelter': 6401, 'encompass': 6402, 'httpoagcagovecrimedatabreachreportssb2446834': 6403, 'cardsfor': 6404, '1877322822818773228228more': 6405, 'httpoagcagovecrimedatabreachreportssb2446935callsend': 6406, 'martel': 6407, '14153327400': 6408, 'gmsausalitoyachtcluborg': 6409, 'abnorm': 6410, '19167348808': 6411, 'privacyprogramucdmcucdavisedu': 6412, 'httpoagcagovecrimedatabreachreportssb2446960': 6413, 'cyberswimcom': 6414, 'breachedon': 6415, 'siteinform': 6416, 'codespurchas': 6417, '18442864855': 6418, 'oagcagovecrimedatabreachreportssb2446986': 6419, 'sourcebook': 6420, 'valuesth': 6421, '18448101155': 6422, '530': 6423, 'httpwwwsourcebookscomcardfaqmor': 6424, 'httpoagcagovecrimedatabreachreportssb2447029': 6425, 'reev': 6426, 'wwwbreyerhorsescom': 6427, '1877572062818775720628': 6428, 'twentyfour': 6429, 'httpoagcagovecrimedatabreachreportssb2447096callsend': 6430, 'transactionth': 6431, 'conductedfor': 6432, '1800626777418006267774more': 6433, 'httpoagcagovecrimedatabreachreportssb2446986callsend': 6434, 'employeesfnf': 6435, '1877676037418776760374': 6436, 'httpoagcagovecrimedatabreachreportssb2447112callsend': 6437, '1866979259518669792595': 6438, 'dpitiglianopalmspringsfcucom': 6439, 'httpoagcagovecrimedatabreachreportssb2447289upd': 6440, '1162015': 6441, 'httpwwwbankinfosecuritycomagencytakesresponsibilityforbreachacallsend': 6442, 'reevewood': 6443, 'systemluci': 6444, 'blankley': 6445, 'claimsth': 6446, '18772201388more': 6447, 'httpoagcagovecrimedatabreachreportssb2447592': 6448, '18663281993': 6449, 'httpoagcagovecrimedatabreachreportssb2447593': 6450, 'wed': 6451, 'diva': 6452, 'shutterfli': 6453, 'httpoagcagovecrimedatabreachreportssb2447602': 6454, 'residu': 6455, 'talen': 6456, '18772977780more': 6457, 'httpoagcagovecrimedatabreachreportssb2447623': 6458, 'emcor': 6459, 'mesa': 6460, 'thelaptop': 6461, '1866775420918667754209': 6462, '1949460460519494604605more': 6463, 'httpoagcagovecrimedatabreachreportssb2447705': 6464, 'datapark': 6465, '1877238379018772383790': 6466, 'httpoagcagovecrimedatabreachreportssb2447710callsend': 6467, 'acosta': 6468, 'mosaic': 6469, '2014for': 6470, '1877237497118772374971': 6471, '5316120814more': 6472, 'httpoagcagovecrimedatabreachreportssb2447713': 6473, 'midto': 6474, '1877846634018778466340': 6475, 'wwwmyidcarecomucbinfo': 6476, 'httpoagcagovecrimedatabreachreportssb2447717callsend': 6477, 'kirbi': 6478, 'dependentsmor': 6479, 'httpoagcagovecrimedatabreachreportssb2447844': 6480, 'theonepercentorg': 6481, 'httpoagcagovecrimedatabreachreportssb2447847': 6482, '1855434807718554348077': 6483, 'httpswwwallclearidcommor': 6484, 'httpoagcagovecrimedatabreachreportssb2447852': 6485, 'boersma': 6486, 'dutchwear': 6487, '18448358656': 6488, 'httpoagcagovecrimedatabreachreportssb2447840': 6489, '18774373998more': 6490, 'httpoagcagovecrimedatabreachreportssb2447861': 6491, 'jolla': 6492, '1877403028118774030281': 6493, 'httpoagcagovecrimedatabreachreportssb2447915callsend': 6494, 'hesh': 6495, '1800421465518004214655': 6496, 'httpoagcagovecrimedatabreachreportssb2447959': 6497, 'httpoagcagovecrimedatabreachreportssb2447824': 6498, 'lokai': 6499, '1800981757118009817571': 6500, 'httpoagcagovecrimedatabreachreportssb2447853callsend': 6501, 'firmth': 6502, '1888766000818887660008': 6503, '1800225567718002255677': 6504, '800am': 6505, '800pm': 6506, 'wwwoppenheimerfundscommor': 6507, 'httpoagcagovecrimedatabreachreportssb2448071callsend': 6508, 'grillpartscom': 6509, 'httpoagcagovecrimedatabreachreportssb2448107': 6510, 'authorizationa': 6511, '1855771422018557714220': 6512, 'httpoagcagovecrimedatabreachreportssb2448217callsend': 6513, 'opthamolog': 6514, '18663137993': 6515, 'httpoagcagovecrimedatabreachreportssb2448266': 6516, 'cic': 6517, '18558654453': 6518, '18885935379more': 6519, 'httpoagcagovecrimedatabreachreportssb2448292': 6520, 'httpoagcagovecrimedatabreachreportssb2448355': 6521, '8775347032': 6522, 'httpoagcagovecrimedatabreachreportssb2448441': 6523, 'usernman': 6524, 'httpoagcagovecrimedatabreachreportssb2448501': 6525, 'empir': 6526, 'iehp': 6527, 'httpoagcagovecrimedatabreachreportssb2447991': 6528, 'dbo': 6529, '18662752677more': 6530, 'httpoagcagovecrimedatabreachreportssb2449208': 6531, 'sri': 6532, '18008009588more': 6533, 'httpoagcagovecrimedatabreachreportssb2449214': 6534, 'ttaxinvestigationsintuitcom': 6535, '18666024279more': 6536, 'httpoagcagovecrimedatabreachreportssb2449249': 6537, 'farmersvil': 6538, 'reregist': 6539, 'httpoagcagovecrimedatabreachreportssb2449239': 6540, 'divison': 6541, '18668274844more': 6542, 'httpoagcagovecrimedatabreachreportssb2449300': 6543, '18009017107': 6544, 'am11': 6545, 'am6': 6546, 'httpoagcagovecrimedatabreachreportssb2449318': 6547, 'kellogg': 6548, 'wwwprotectmyidecomprotect': 6549, 'kellog': 6550, 'httpoagcagovecrimedatabreachreportssb2449323': 6551, '1874416943more': 6552, 'httpoagcagovecrimedatabreachreportssb2449325': 6553, 'homebridg': 6554, '4156595331': 6555, 'httpoagcagovecrimedatabreachreportssb2449328': 6556, 'interrpret': 6557, '8582777353': 6558, '8442389431more': 6559, 'httpoagcagovecrimedatabreachreportssb2449386': 6560, 'stater': 6561, 'aprehend': 6562, 'azuza': 6563, 'californiathey': 6564, '18557828377': 6565, '899': 6566, 'httpoagcagovecrimedatabreachreportssb2455627': 6567, 'gallant': 6568, '18553306366': 6569, 'httpoagcagovecrimedatabreachreportssb2456236': 6570, 'aerogrow': 6571, 'ccvcvv': 6572, '18663481808': 6573, 'httpoagcagovecrimedatabreachreportssb2456231': 6574, 'authorizationth': 6575, 'ordersresult': 6576, '18886536036more': 6577, 'httpoagcagovecrimedatabreachreportssb2456428': 6578, '8668337917': 6579, 'httpoagcagovecrimedatabreachreportssb2456488': 6580, 'cdthe': 6581, 'httpoagcagovecrimedatabreachreportssb2456repo501': 6582, 'trustmark': 6583, 'insuredsmor': 6584, 'httpoagcagovecrimedatabreachreportssb2456493': 6585, '18667754209more': 6586, 'httpoagcagovecrimedatabreachreportssb2456587': 6587, 'httpoagcagovecrimedatabreachreportssb2456609upd': 6588, '7232015': 6589, 'httpswwwmiewebcomnoticeupd': 6590, '862015': 6591, 'httpwwwibjcomarticles54329patientssuingindianamedicalcompani': 6592, 'bonita': 6593, 'dima': 6594, '19099718320': 6595, 'donna': 6596, '5201': 6597, 'httpoagcagovecrimedatabreachreportssb2456705': 6598, 'legaci': 6599, 'toth': 6600, 'protecton': 6601, '18558614023more': 6602, 'httpoagcagovecrimedatabreachreportssb2456920': 6603, 'evan': 6604, 'checkin': 6605, '8887383786': 6606, 'pmmore': 6607, 'httpoagcagovecrimedatabreachreportssb2456969': 6608, '18669792512': 6609, 'httpoagcagovecrimedatabreachreportssb2457002': 6610, 'locationsboston': 6611, 'genevahong': 6612, 'hyde': 6613, 'londonla': 6614, 'miaminew': 6615, 'franciscowashington': 6616, 'landmark': 6617, 'kongth': 6618, 'httpoagcagovecrimedatabreachreportssb2456994': 6619, 'iso': 6620, '18008884476': 6621, 'njsupportisocommor': 6622, 'httpoagcagovecrimedatabreachreportssb2457032': 6623, 'mule': 6624, 'ayo': 6625, '2092745978more': 6626, 'httpoagcagovecrimedatabreachreportssb2457023': 6627, 'httpoagcagovecrimedatabreachreportssb2457066': 6628, 'payerinsur': 6629, 'httpoagcagovecrimedatabreachreportssb2457240': 6630, 'loya': 6631, 'ruud': 6632, 'romo': 6633, 'myidcar': 6634, '18773414604': 6635, 'httpoagcagovecrimedatabreachreportssb2457094': 6636, 'httpoagcagovecrimedatabreachreportssb2457170': 6637, 'nonmemb': 6638, 'velec': 6639, 'dependentsth': 6640, 'catalogu': 6641, 'olartino': 6642, 'dyoco': 6643, 'httpoagcagovecrimedatabreachreportssb2457245': 6644, 'mama': 6645, 'mio': 6646, '3digit': 6647, '18889626264': 6648, 'privacymioskincarecommor': 6649, 'httpoagcagovecrimedatabreachreportssb2457280': 6650, 'providedth': 6651, 'securitywattpadcommor': 6652, 'httpoagcagovecrimedatabreachreportssb2457318': 6653, 'sterlingbackcheck': 6654, '18552279823': 6655, 'httpoagcagovecrimedatabreachreportssb2457330': 6656, 'greenlight': 6657, '8774416943': 6658, 'wwwprotectmyidcomenrollmor': 6659, 'httpoagcagovecrimedatabreachreportssb2457381': 6660, 'icannorg': 6661, 'usernamesemail': 6662, 'compromisedus': 6663, 'httpswwwicannorguserspasswordnew': 6664, 'httpoagcagovecrimedatabreachreportssb2457383': 6665, '4200': 6666, '4159861892': 6667, 'infoleesdelicommor': 6668, 'httpoagcagovecrimedatabreachreportssb2457419': 6669, 'bpg': 6670, 'areath': 6671, 'privacybpgwicommor': 6672, 'httpoagcagovecrimedatabreachreportssb2457473': 6673, 'volkswagen': 6674, 'vechicl': 6675, 'licen': 6676, 'referencesmor': 6677, 'httpoagcagovecrimedatabreachreportssb2457502': 6678, 'soper': 6679, 'deciphermor': 6680, 'httpoagcagovecrimedatabreachreportssb2457565': 6681, 'reverbn': 6682, 'httpoagcagovecrimedatabreachreportssb2457665': 6683, 'patientscustom': 6684, '18772350796': 6685, 'httpoagcagovecrimedatabreachreportssb2457764': 6686, 'updatedmor': 6687, 'httpoagcagovecrimedatabreachreportssb2457770upd': 6688, '9302015': 6689, 'httpwwwlaw360comarticles708884vrbopaymentprocessorhitwithda': 6690, 'glidewel': 6691, 'ceram': 6692, '8882271416': 6693, 'wwwprotectmyidcomalert': 6694, 'pc96191more': 6695, 'informationhttpoagcagovecrimedatabreachreportssb2457775': 6696, 'outback': 6697, 'tbird': 6698, '18887739953': 6699, 'wwwidexpertscorpcomprotectmor': 6700, 'httpoagcagovecrimedatabreachreportssb2457861': 6701, 'silverberg': 6702, '18445304126more': 6703, 'httpoagcagovecrimedatabreachreportssb2457984': 6704, '8552290083': 6705, 'httpsoagcagovsystemfilesscottrade20california20notice20only2upd': 6706, '1022015': 6707, 'scottstrad': 6708, 'srp': 6709, 'srpsfor': 6710, '18007247526more': 6711, 'httpoagcagovsystemfilesparticipant20incident20notification20t': 6712, 'datesonlin': 6713, '18552290069': 6714, 'httpoagcagovecrimedatabreachreportssb2458183': 6715, '18002192031': 6716, 'httpoagcagovecrimedatabreachreportssb2458194': 6717, 'httpoagcagovecrimedatabreachreportssb2458203': 6718, 'chaffe': 6719, 'ppg': 6720, 'aquariumvisit': 6721, 'httpwwwkmssacomcreditcardbreach': 6722, 'httpoagcagovecrimedatabreachreportssb2458264upd': 6723, '10202015': 6724, 'httpdojnhgovconsumersecuritybreachesdocumentsservicesystems2': 6725, 'alesia': 6726, '3441237': 6727, 'httpoagcagovecrimedatabreachreportssb2458324': 6728, 'foodcom': 6729, 'foodnetworkcom': 6730, '18003806336': 6731, '1031100715more': 6732, 'httpoagcagovecrimedatabreachreportssb2458311': 6733, 'nextbu': 6734, 'httpoagcagovecrimedatabreachreportssb2458315': 6735, 'nobel': 6736, 'httpoagcagovecrimedatabreachreportssb2458535': 6737, 'stiletto': 6738, 'httpoagcagovecrimedatabreachreportssb2458547': 6739, '18002265377more': 6740, 'informationhttpoagcagovecrimedatabreachreportssb2458430': 6741, 'accuform': 6742, '18002333352': 6743, 'wwwsafetybreachinfomor': 6744, 'httpoagcagovecrimedatabreachreportssb2458598': 6745, 'avi': 6746, 'httpoagcagovecrimedatabreachreportssb2458635': 6747, 'httpoagcagovecrimedatabreachreportssb2458698': 6748, '18778680171': 6749, 'am800': 6750, 'httpsoagcagovecrimedatabreachreportssb2458851': 6751, '18476473275': 6752, 'oagcagovecrimedatabreachreportssb2458923': 6753, 'hospitalth': 6754, 'bureaufor': 6755, '18778666056': 6756, 'httpoagcagovecrimedatabreachreportssb2459101': 6757, 'keenan': 6758, '18552879328more': 6759, 'httpoagcagovecrimedatabreachreportssb2459125': 6760, 'holli': 6761, 'nordhu': 6762, 'cyberhack': 6763, 'deductionssh': 6764, '18776760379more': 6765, 'httpoagcagovecrimedatabreachreportssb2459137': 6766, 'muji': 6767, 'httpoagcagovecrimedatabreachreportssb2459200': 6768, 'httpoagcagovecrimedatabreachreportssb2459212': 6769, 'httpoagcagovecrimedatabreachreportssb2459260': 6770, 'sorrento': 6771, 'httpoagcagovecrimedatabreachreportssb2459275': 6772, 'consumerinfocom': 6773, '18773717902more': 6774, 'httpoagcagovecrimedatabreachreportssb2459287': 6775, 'httpoagcagovecrimedatabreachreportssb2459339': 6776, 'httpoagcagovecrimedatabreachreportssb2459371': 6777, 'acclaim': 6778, 'checkmor': 6779, 'httpoagcagovecrimedatabreachreportssb2459396': 6780, 'aboard': 6781, 'twic': 6782, 'mmd': 6783, 'mmc': 6784, '18557115990more': 6785, 'httpoagcagovecrimedatabreachreportssb2459399': 6786, '18886689189': 6787, 'pstmore': 6788, 'httpoagcagovecrimedatabreachreportssb2459419': 6789, 'ratemyprofessorscom': 6790, 'httpoagcagovecrimedatabreachreportssb2459576': 6791, 'httpoagcagovecrimedatabreachreportssb2459575': 6792, 'pretect': 6793, 'hbc': 6794, 'numberr': 6795, 'httpoagcagovecrimedatabreachreportssb2459603': 6796, 'kicki': 6797, 'spell': 6798, 'kicke': 6799, '18668337924': 6800, 'informationhttpoagcagovecrimedatabreachreportssb2459770': 6801, 'cava': 6802, 'providerfor': 6803, '18055870202': 6804, 'httpoagcagovecrimedatabreachreportssb2459786': 6805, 'realselfcom': 6806, 'httpswwwrealselftcomuserforgotpasswordmor': 6807, 'informationhttpoagcagovecrimedatabreachreportssb2459793': 6808, 'withth': 6809, 'httpoagcagovecrimedatabreachreportssb2459797': 6810, 'hsa': 6811, 'httpoagcagovecrimedatabreachreportssb2459801': 6812, '134': 6813, 'levi': 6814, 'informationindividu': 6815, 'httpoagcagovecrimedatabreachreportssb2459899': 6816, 'gyft': 6817, '2015for': 6818, 'wwwmyidcarecomgyftmor': 6819, 'httpoagcagovecrimedatabreachreportssb2459990': 6820, 'bajaboundcom': 6821, 'httpoagcagovecrimedatabreachreportssb2460000': 6822, 'preauthor': 6823, 'du': 6824, '998': 6825, 'portervil': 6826, 'merritt': 6827, 'incth': 6828, 'salaryhourli': 6829, 'salaryr': 6830, 'facilitymor': 6831, 'httpoagcagovecrimedatabreachreportssb2460061': 6832, 'bailey': 6833, 'puchas': 6834, 'storemor': 6835, 'httpoagcagovecrimedatabreachreportssb2459802': 6836, 'concret': 6837, 'httpoagcagovecrimedatabreachreportssb2460270': 6838, 'httpoagcagovecrimedatabreachreportssb2460307upd': 6839, '3242016': 6840, 'myersbas': 6841, 'cancercar': 6842, 'httpwwwnewspresscomstorynews2016032321stcenturybreachprom': 6843, 'stockopt': 6844, 'contricut': 6845, 'httpoagcagovecrimedatabreachreportssb2460310': 6846, 'rosen': 6847, 'httpoagcagovecrimedatabreachreportssb2460301': 6848, 'billi': 6849, 'casper': 6850, '8772135100': 6851, '9416022816more': 6852, 'httpoagcagovecrimedatabreachreportssb2460368': 6853, 'suhsd': 6854, '18447545532': 6855, 'httpoagcagovecrimedatabreachreportssb2460445': 6856, 'httpoagcagovecrimedatabreachreportssb2460473': 6857, 'memberth': 6858, 'httpoagcagovecrimedatabreachreportssb2460488': 6859, 'taxesmor': 6860, 'httpoagcagovecrimedatabreachreportssb2460518': 6861, 'perkinelm': 6862, 'httpoagcagovecrimedatabreachreportssb2460521': 6863, 'httpoagcagovecrimedatabreachreportssb2460586': 6864, 'returnsmor': 6865, 'httpoagcagovecrimedatabreachreportssb2460670upd': 6866, '442016': 6867, 'riskinform': 6868, 'frank': 6869, 'varela': 6870, '516cv00577': 6871, 'riversidemor': 6872, 'httptopclassactionscomlawsuitsettlementslawsuitnews331892lamp': 6873, 'aspiranet': 6874, 'httpoagcagovecrimedatabreachreportssb2460715': 6875, 'httpoagcagovecrimedatabreachreportssb2460739': 6876, 'ullrich': 6877, 'delevati': 6878, 'httpoagcagovecrimedatabreachreportssb2460748': 6879, 'mee': 6880, 'meemor': 6881, 'httpoagcagovecrimedatabreachreportssb2460798': 6882, 'kathermin': 6883, 'kitss': 6884, 'carsther': 6885, 'httpoagcagovecrimedatabreachreportssb2460867': 6886, 'thir': 6887, '1095': 6888, 'httpoagcagovecrimedatabreachreportssb2460875': 6889, 'httpoagcagovecrimedatabreachreportssb2460898': 6890, 'discountrubberstampscom': 6891, '18446083819': 6892, 'customersdiscountrubberstampscom': 6893, 'httpoagcagovecrimedatabreachreportssb2460906': 6894, 'httpoagcagovecrimedatabreachreportssb2460912': 6895, 'bristol': 6896, 'httpoagcagovecrimedatabreachreportssb2460914': 6897, 'httpoagcagovecrimedatabreachreportssb2460936': 6898, 'voya': 6899, 'balancesmor': 6900, 'httpoagcagovecrimedatabreachreportssb2461193': 6901, 'httpoagcagovecrimedatabreachreportssb2461243': 6902, 'lucki': 6903, 'httpoagcagovecrimedatabreachreportssb2461371': 6904, 'httpoagcagovecrimedatabreachreportssb2461377': 6905, 'cursor': 6906, 'impactedth': 6907, 'httpoagcagovecrimedatabreachreportssb2461621': 6908, 'waterman': 6909, 'customerson': 6910, 'kw': 6911, 'httpoagcagovecrimedatabreachreportssb2461628': 6912, 'schemeon': 6913, 'peron': 6914, 'httpoagcagovecrimedatabreachreportssb2461634': 6915, 'bec': 6916, 'compromisecorrespond': 6917, 'httpoagcagovecrimedatabreachreportssb2461673': 6918, 'systemswhat': 6919, 'certifikid': 6920, 'httpoagcagovecrimedatabreachreportssb2461677': 6921, 'httpoagcagovecrimedatabreachreportssb2461646': 6922, 'httpoagcagovecrimedatabreachreportssb2461707': 6923, 'inur': 6924, 'httpoagcagovecrimedatabreachreportssb2461688': 6925, 'httpoagcagovecrimedatabreachreportssb2461796': 6926, 'disclosurepleas': 6927, 'pollic': 6928, 'httpoagcagovecrimedatabreachreportssb2461794': 6929, 'confirmd': 6930, 'functioningth': 6931, 'httpoagcagovecrimedatabreachreportssb2461797': 6932, 'httpoagcagovecrimedatabreachreportssb2461821': 6933, 'sampat': 6934, 'dring': 6935, 'httpoagcagovecrimedatabreachreportssb2461822': 6936, 'widget': 6937, 'httpoagcagovecrimedatabreachreportssb2461852': 6938, 'matterth': 6939, 'httpoagcagovecrimedatabreachreportssb2461842': 6940, 'limitedth': 6941, 'httpoagcagovecrimedatabreachreportssb2461838': 6942, 'include': 6943, 'filingsmor': 6944, 'httpoagcagovecrimedatabreachreportssb2461876': 6945, 'notifica': 6946, 'hiddenth': 6947, 'httpoagcagovecrimedatabreachreportssb2461958': 6948, 'potentiali': 6949, 'httpoagcagovecrimedatabreachreportssb2461962': 6950, 'formmor': 6951, 'httpoagcagovecrimedatabreachreportssb2462088': 6952, 'empathia': 6953, '2004more': 6954, 'httpoagcagovecrimedatabreachreportssb2462197': 6955, 'chino': 6956, 'divert': 6957, 'knowled': 6958, 'consentmor': 6959, 'httpoagcagovecrimedatabreachreportssb2462237': 6960, 'inforamt': 6961, 'httpoagcagovecrimedatabreachreportssb2462337': 6962, 'deductionsmor': 6963, 'httpoagcagovecrimedatabreachreportssb2462338': 6964, 'httpoagcagovecrimedatabreachreportssb2462344upd': 6965, '2102017': 6966, 'schneiderman': 6967, '2250': 6968, '5012': 6969, 'affectedac': 6970, 'taiwan': 6971, 'debug': 6972, 'subdirectori': 6973, 'agmor': 6974, 'httpwwwmondaqcomunitedstatesx567202consumerlawnyagsettlesw': 6975, 'securityrel': 6976, 'httpoagcagovecrimedatabreachreportssb2462350mor': 6977, 'httptodayuconnedu201507uconnrespondstodatabreachatschoolo': 6978, 'represent': 6979, 'recrod': 6980, 'firmon': 6981, 'office': 6982, 'eithr': 6983, 'httpoagcagovecrimedatabreachreportssb2462424': 6984, 'investigationunfortun': 6985, 'informatt': 6986, 'followingyour': 6987, 'notesyour': 6988, 'andyour': 6989, 'idmor': 6990, 'httpoagcagovecrimedatabreachreportssb2462536': 6991, 'verticalscop': 6992, 'withmor': 6993, 'httpoagcagovecrimedatabreachreportssb2462619': 6994, 'topanga': 6995, 'servicestarzana': 6996, 'httpoagcagovecrimedatabreachreportssb2462623': 6997, 'kontrolfreek': 6998, 'personinform': 6999, 'httpoagcagovecrimedatabreachreportssb2462703': 7000, 'omni': 7001, 'datemor': 7002, 'httpoagcagovecrimedatabreachreportssb2462753': 7003, 'awayth': 7004, 'httpoagcagovecrimedatabreachreportssb2462850': 7005, '2324': 7006, 'httpoagcagovecrimedatabreachreportssb2462846': 7007, 'matador': 7008, 'httpoagcagovecrimedatabreachreportssb2462853': 7009, 'shoemak': 7010, 'andcoordin': 7011, 'lawenforc': 7012, 'httpoagcagovecrimedatabreachreportssb2462930': 7013, 'httpoagcagovecrimedatabreachreportssb2462962': 7014, 'banner': 7015, 'httpoagcagovecrimedatabreachreportssb2463197': 7016, 'franchiseeth': 7017, 'httpoagcagovecrimedatabreachreportssb2463282': 7018, 'haleviegoldman': 7019, 'themslev': 7020, 'thiefth': 7021, 'chartsmor': 7022, 'httpoagcagovecrimedatabreachreportssb2463286': 7023, 'httpoagcagovecrimedatabreachreportssb2463305': 7024, 'wwwjuulvaporcom': 7025, 'wwwpaxvaporcom': 7026, 'httpoagcagovecrimedatabreachreportssb2463327': 7027, 'vapc': 7028, 'evidenc': 7029, 'rul': 7030, 'ontain': 7031, 'httpoagcagovecrimedatabreachreportssb2463349': 7032, 'breifcas': 7033, 'digist': 7034, 'recend': 7035, 'storedmor': 7036, 'httpoagcagovecrimedatabreachreportssb2463351': 7037, 'numberscardsourc': 7038, 'httpoagcagovecrimedatabreachreportssb2463471': 7039, 'accela': 7040, '2016while': 7041, 'incud': 7042, 'httpoagcagovecrimedatabreachreportssb2463584': 7043, 'tf': 7044, 'payoff': 7045, 'matur': 7046, 'datesmor': 7047, 'httpoagcagovecrimedatabreachreportssb2463586': 7048, 'trend': 7049, 'instor': 7050, 'httpoagcagovecrimedatabreachreportssb2463613': 7051, 'identifiedkona': 7052, 'kai': 7053, 'barfrom': 7054, '2016littl': 7055, 'portofino': 7056, 'marina': 7057, 'redondo': 7058, '2016river': 7059, 'café': 7060, '252016': 7061, '2016laplaya': 7062, 'napl': 7063, '2016mountain': 7064, '2016hotel': 7065, 'deca': 7066, '2016blue': 7067, 'mermaid': 7068, '32016pescator': 7069, '32016': 7070, 'namemor': 7071, 'httpoagcagovecrimedatabreachreportssb2463728': 7072, 'rebecca': 7073, 'minkoff': 7074, 'httpoagcagovecrimedatabreachreportssb2463838': 7075, 'httpoagcagovecrimedatabreachreportssb2463840': 7076, 'singular': 7077, 'difficulti': 7078, 'httpoagcagovecrimedatabreachreportssb2463839': 7079, 'hae': 7080, 'httpoagcagovecrimedatabreachreportssb2463841': 7081, 'httpsoagcagovecrimedatabreachreportssb2463911': 7082, 'washingtonth': 7083, 'httpsoagcagovecrimedatabreachreportssb2463929': 7084, 'httpsoagcagovecrimedatabreachreportssb2463931': 7085, 'credentialsth': 7086, 'httpsoagcagovecrimedatabreachreportssb2463932': 7087, 'virusth': 7088, 'httpsoagcagovecrimedatabreachreportssb2463986': 7089, 'httpsoagcagovecrimedatabreachreportssb2463988': 7090, 'whatev': 7091, 'justin': 7092, 'newberri': 7093, 'httpsoagcagovecrimedatabreachreportssb2464007': 7094, 'nonpremi': 7095, 'httpsoagcagovecrimedatabreachreportssb2464011': 7096, 'httpsoagcagovecrimedatabreachreportssb2464012': 7097, 'actionth': 7098, 'httpsoagcagovecrimedatabreachreportssb2464018': 7099, 'factgath': 7100, 'misusedth': 7101, 'httpsoagcagovecrimedatabreachreportssb2464028': 7102, 'vallejo': 7103, 'httpsoagcagovecrimedatabreachreportssb2464148': 7104, 'cehtp': 7105, 'daysth': 7106, 'httpsoagcagovecrimedatabreachreportssb2464216': 7107, 'correctedth': 7108, 'httpsoagcagovecrimedatabreachreportssb2464308': 7109, 'keck': 7110, 'norri': 7111, 'serversth': 7112, 'httpsoagcagovecrimedatabreachreportssb2463962': 7113, 'lean': 7114, 'onemor': 7115, 'httpsoagcagovecrimedatabreachreportssb2464398': 7116, 'sharedth': 7117, 'httpsoagcagovecrimedatabreachreportssb2464419': 7118, 'accountsfind': 7119, 'httpsoagcagovecrimedatabreachreportssb2464437': 7120, 'eastwood': 7121, 'codeth': 7122, 'httpsoagcagovecrimedatabreachreportssb2464455': 7123, 'youmor': 7124, 'httpsoagcagovecrimedatabreachreportssb2464473': 7125, 'gilroy': 7126, 'sunnyval': 7127, 'httpsoagcagovecrimedatabreachreportssb2464521': 7128, 'settingfollow': 7129, 'incidenta': 7130, 'invovledexpos': 7131, 'disabilitymor': 7132, 'httpsoagcagovecrimedatabreachreportssb2464548': 7133, 'loyal': 7134, 'privacybeyondyogacommor': 7135, 'httpsoagcagovecrimedatabreachreportssb2464630': 7136, 'systemsi': 7137, 'httpsoagcagovecrimedatabreachreportssb2464633': 7138, '14281': 7139, 'wwwshopnationalcom': 7140, 'periodsn': 7141, 'websitew': 7142, 'exposedpleas': 7143, 'httpsoagcagovecrimedatabreachreportssb2464682': 7144, 'httpsoagcagovecrimedatabreachreportssb2464721': 7145, 'ufcw': 7146, '655': 7147, 'httpsoagcagovecrimedatabreachreportssb2464824': 7148, 'eileenfishercom': 7149, 'timew': 7150, 'httpsoagcagovecrimedatabreachreportssb2464832': 7151, 'systemit': 7152, 'bcu': 7153, 'fraudi': 7154, '8445129008': 7155, 'httpsoagcagovecrimedatabreachreportssb2464838': 7156, 'httpsoagcagovsystemfilesluque2020press20release1pdf': 7157, 'sentth': 7158, 'httpsoagcagovecrimedatabreachreportssb2464962': 7159, 'httpsoagcagovecrimedatabreachreportssb2464977': 7160, 'httpsoagcagovecrimedatabreachreportssb2464988': 7161, 'mir': 7162, 'nonconfidenti': 7163, 'classif': 7164, 'tenur': 7165, 'nonesecur': 7166, 'fsp': 7167, '2016to': 7168, 'enclosuremor': 7169, 'httpsoagcagovecrimedatabreachreportssb2465014': 7170, 'matterfind': 7171, 'ticketmastermor': 7172, 'httpsoagcagovecrimedatabreachreportssb2465042': 7173, 'paradis': 7174, 'resortsinc': 7175, 'cba': 7176, 'benefitsnow': 7177, '2892': 7178, 'httpsoagcagovecrimedatabreachreportssb2465100': 7179, 'sherriff': 7180, 'miracul': 7181, 'mailingour': 7182, 'affix': 7183, 'packagewhat': 7184, 'involvedghi': 7185, 'pkg': 7186, 'wwwlangcom': 7187, 'involvedour': 7188, 'httpsoagcagovecrimedatabreachreportssb2465124': 7189, 'yourselfmor': 7190, 'httpsoagcagovecrimedatabreachreportssb2465161': 7191, 'identificationdriv': 7192, 'troldeshshad': 7193, 'birthplac': 7194, 'contactsmor': 7195, 'httpsoagcagovecrimedatabreachreportssb2465361': 7196, 'myquest': 7197, 'care360': 7198, '34000': 7199, 'httpsoagcagovecrimedatabreachreportssb2465390': 7200, 'braceabl': 7201, 'purchasemor': 7202, 'httpsoagcagovecrimedatabreachreportssb2465407': 7203, 'httpsoagcagovecrimedatabreachreportssb2465435': 7204, 'trustworthi': 7205, 'authoritiesw': 7206, 'httpsoagcagovecrimedatabreachreportssb2465476compani': 7207, 'httpssupportbleacherreportcom': 7208, 'paymentsdollar': 7209, 'httpsoagcagovecrimedatabreachreportssb2465536': 7210, 'vendorsuppli': 7211, 'httpsoagcagovecrimedatabreachreportssb2465549': 7212, 'httpsoagcagovecrimedatabreachreportssb2465580': 7213, 'claremont': 7214, 'httpsoagcagovecrimedatabreachreportssb2465602': 7215, 'pictureframescom': 7216, 'httpsoagcagovecrimedatabreachreportssb2465625': 7217, 'blogger': 7218, 'httpsoagcagovecrimedatabreachreportssb2465675': 7219, 'httpsoagcagovecrimedatabreachreportssb2465751': 7220, 'ican': 7221, 'httpsoagcagovsystemfileslegal20aid20orange20county20notice0': 7222, 'wwwswimoutletcom': 7223, '2016novemb': 7224, 'httpsoagcagovecrimedatabreachreportssb2465809': 7225, 'httpsoagcagovecrimedatabreachreportssb2465827mor': 7226, 'httpwwwesecurityplanetcomnetworksecuritythreemedicaldatabreac': 7227, 'wwwmonovischcpcom1': 7228, 'injectionsmor': 7229, 'httpsoagcagovecrimedatabreachreportssb2465922mor': 7230, 'wonder': 7231, 'innov': 7232, 'httpsoagcagovecrimedatabreachreportssb2465961': 7233, 'poolsupplyunlimitedcom': 7234, 'iran': 7235, 'cuas': 7236, 'an': 7237, 'yearsw': 7238, 'httpsoagcagovecrimedatabreachreportssb2465971': 7239, 'filesmor': 7240, 'httpsoagcagovecrimedatabreachreportssb2466044': 7241, 'drjsbdpmgmailcom': 7242, 'quicker': 7243, 'httpsoagcagovecrimedatabreachreportssb2466062': 7244, 'icc': 7245, 'yourselfwhat': 7246, 'ehealth': 7247, 'httpsoagcagovecrimedatabreachreportssb2466102': 7248, 'httpsoagcagovecrimedatabreachreportssb2466148': 7249, 'employeesmor': 7250, 'httpsoagcagovecrimedatabreachreportssb2466150': 7251, 'accountswhat': 7252, 'involvedaccount': 7253, 'geoffrey': 7254, 'httpsoagcagovecrimedatabreachreportssb2466154': 7255, 'httpsoagcagovecrimedatabreachreportssb2466165': 7256, 'nakawatas': 7257, 'kaminski': 7258, 'addressesd': 7259, 'numberstax': 7260, 'unitmor': 7261, 'httpsoagcagovecrimedatabreachreportssb2466191': 7262, 'ongoingfind': 7263, 'servermor': 7264, 'httpsoagcagovecrimedatabreachreportssb2466180': 7265, 'addressedwhat': 7266, 'httpsoagcagovecrimedatabreachreportssb2466214': 7267, 'informationwhen': 7268, 'foundationsan': 7269, 'authoritiesmor': 7270, 'httpsoagcagovecrimedatabreachlist': 7271, 'columnsmor': 7272, 'httpsoagcagovecrimedatabreachreportssb2466255': 7273, 'january26': 7274, '2017a': 7275, 'departmentwhat': 7276, 'httpsoagcagovecrimedatabreachreportssb2466267': 7277, 'httpsoagcagovecrimedatabreachreportssb2466307': 7278, 'honest': 7279, 'httpsoagcagovecrimedatabreachreportssb2466352': 7280, 'involved1098t': 7281, 'wwwoe3org': 7282, 'deliber': 7283, 'doingaft': 7284, 'membersonli': 7285, 'httpsoagcagovecrimedatabreachreportssb2466363': 7286, 'identi': 7287, 'refundmor': 7288, 'httpsoagcagovecrimedatabreachreportssb2466415httpsoagcago': 7289, 'prive': 7290, 'httpsoagcagovecrimedatabreachreportssb2466423': 7291, 'httpsoagcagovecrimedatabreachreportssb2466446': 7292, 'accessth': 7293, 'statedth': 7294, '2953': 7295, 'incidentcatalina': 7296, 'erp': 7297, 'involvedin': 7298, 'stark': 7299, 'informationhowev': 7300, 'intrusionw': 7301, 'wwwrodscom': 7302, 'cvv2cvc2cidcvd': 7303, 'httpsoagcagovecrimedatabreachreportssb2466493': 7304, 'involvedapto': 7305, 'datesaddit': 7306, 'httpsoagcagovecrimedatabreachreportssb2466497': 7307, 'airportwaikikishuttlecom': 7308, 'airportwaikikishuttlecomus': 7309, 'xxxx': 7310, 'httpsoagcagovecrimedatabreachreportssb2466502': 7311, 'lettermor': 7312, 'httpsoagcagovecrimedatabreachreportssb2466571': 7313, 'earningsmor': 7314, 'httpsoagcagovecrimedatabreachreportssb2466620': 7315, 'resecur': 7316, '1099misc': 7317, 'employerpay': 7318, 'k1': 7319, 'ira': 7320, 'httpsoagcagovecrimedatabreachreportssb2466627': 7321, 'researcherinstructor': 7322, 'recoveredour': 7323, 'targetwhat': 7324, 'laptopsth': 7325, 'encryptedmor': 7326, 'httpsoagcagovecrimedatabreachreportssb2466636': 7327, 'notabl': 7328, 'httpsoagcagovecrimedatabreachreportssb2466646': 7329, 'httpsoagcagovecrimedatabreachreportssb2466802': 7330, 'wwwpranacom': 7331, 'websitewhat': 7332, 'involvedfind': 7333, 'httpsoagcagovecrimedatabreachreportssb2466814': 7334, 'hutchinson': 7335, 'bloodgood': 7336, 'httpsoagcagovecrimedatabreachreportssb2466868': 7337, 'february6': 7338, 'partnershareholderoffic': 7339, 'httpsoagcagovecrimedatabreachreportssb2466908': 7340, 'requestor': 7341, 'liter': 7342, 'existswhat': 7343, 'httpsoagcagovsystemfilesnsc20data20breachca20letter0307170': 7344, 'httpsoagcagovecrimedatabreachreportssb2467004': 7345, 'hampton': 7346, 'jitney': 7347, 'accessw': 7348, 'investigationsto': 7349, 'stolenw': 7350, 'intrusionwhat': 7351, 'httpsoagcagovecrimedatabreachreportssb2467007': 7352, 'httpsoagcagovecrimedatabreachreportssb2467009': 7353, 'numberexpir': 7354, 'httpsoagcagovecrimedatabreachreportssb2467028': 7355, 'yearswhat': 7356, 'contentmor': 7357, 'httpsoagcagovecrimedatabreachreportssb2467050': 7358, 'happenedit': 7359, 'runway': 7360, 'namebirthday': 7361, 'httpsoagcagovecrimedatabreachreportssb2467055': 7362, 'schurman': 7363, 'requestwhat': 7364, 'httpsoagcagovecrimedatabreachreportssb2467056': 7365, 'iiwhat': 7366, '12746': 7367, '90094': 7368, '24201': 7369, 'ste': 7370, '3260': 7371, '91355': 7372, '38103': 7373, '6201': 7374, 'poplar': 7375, '38119': 7376, 'henderson': 7377, 'nv': 7378, '89102more': 7379, 'httpsoagcagovecrimedatabreachreportssb2467060': 7380, 'httpsoagcagovecrimedatabreachreportssb2467070httpsoagcago': 7381, 'forumsusfirstorg': 7382, 'ftcforumusfirstorg': 7383, 'robot': 7384, 'websitesmor': 7385, 'informationhttpsoagcagovecrimedatabreachreportssb2467116': 7386, 'httpsoagcagovecrimedatabreachreportssb2467162': 7387, 'informationhttpsoagcagovecrimedatabreachreportssb2467171': 7388, 'careerbuild': 7389, '2016we': 7390, 'forgotten': 7391, 'timesensit': 7392, 'combinationmor': 7393, 'httpsoagcagovecrimedatabreachreportssb2467192': 7394, 'occurredmor': 7395, 'httpsoagcagovecrimedatabreachreportssb2467200': 7396, 'showtix4ucom': 7397, 'httpsoagcagovecrimedatabreachreportssb2467213': 7398, 'escal': 7399, 'usif': 7400, 'shareholderoffic': 7401, 'wildwat': 7402, 'carwash': 7403, 'clearwat': 7404, 'codeif': 7405, '62017': 7406, '232017the': 7407, 'fingerhut': 7408, 'westlak': 7409, 'touchless': 7410, 'happenedmani': 7411, 'effici': 7412, 'regionwhat': 7413, 'affectedy': 7414, 'wwwihgcomprotectingourguest': 7415, 'bergdorf': 7416, 'goodman': 7417, 'cusp': 7418, 'horchow': 7419, 'nmb': 7420, 'repel': 7421, 'attacksa': 7422, 'loginpassword': 7423, 'vallejofairfieldvacavillesacramento': 7424, 'scomput': 7425, 'quickbook': 7426, 'appropriatewhat': 7427, 'websiteswhat': 7428, 'happenedequifax': 7429, 'aka': 7430, 'partyi': 7431, 'happenedsometim': 7432, '3302017': 7433, '462017': 7434, 'serverswhat': 7435, 'enforcementcampbel': 7436, 'lacer': 7437, 'arisen': 7438, 'kickbox': 7439, 'timewhat': 7440, 'potential': 7441, '28may': 7442, 'golfteccent': 7443, 'centersfrom': 7444, 'june15': 7445, 'affectedhowev': 7446, 'sincerest': 7447, 'haveconfirm': 7448, 'availalb': 7449, 'treatmentdiagnost': 7450, 'happenedwhat': 7451, 'stateissu': 7452, 'namew': 7453, 'irregular': 7454, 'compromisedno': 7455, 'activityw': 7456, 'accounta': 7457, 'httpswwwbedbathandbeyondcomstoreaccountlogin': 7458, 'linkclick': 7459, 'issuanc': 7460, 'usedforstorecarorg': 7461, 'storecarorg': 7462, 'reb': 7463, 'paypalwhat': 7464, 'storefront': 7465, 'codew': 7466, 'wwwsportsmemorabiliacom': 7467, 'eyecar': 7468, '39dollarglassescom': 7469, 'hauppaug': 7470, 'fortyseven': 7471, '14647': 7472, 'authorizationwhat': 7473, 'avanti': 7474, 'involvedat': 7475, 'smash': 7476, 'occurr': 7477, 'internetw': 7478, 'multilay': 7479, 'personwhat': 7480, 'httpwwwhydroflaskcom': 7481, 'compromisedwhat': 7482, 'restorationvisit': 7483, 'myidmonitoringservicecom': 7484, '18553660139': 7485, 'letterwhat': 7486, 'happenedbi': 7487, 'yearsupon': 7488, 'undertook': 7489, 'happenedn': 7490, 'nativ': 7491, 'nativeshoescom': 7492, 'atissu': 7493, 'includedcredit': 7494, 'nativeshoescomyour': 7495, 'happenedunfortun': 7496, 'customerswhat': 7497, 'recurr': 7498, 'informationinclud': 7499, 'followingsoci': 7500, 'agentsth': 7501, 'multifactor': 7502, 'clientswhat': 7503, 'addressd': 7504, 'asturmcohnhandlercom': 7505, 'licensepassportst': 7506, 'happenedabb': 7507, 'individualswhat': 7508, 'fmla': 7509, 'happenedan': 7510, 'determinedthat': 7511, '24hour': 7512, 'companyimpl': 7513, 'firmwhat': 7514, 'namessn': 7515, 'emailaccount': 7516, 'davidjacob': 7517, 'elainachjcomand': 7518, 'elainachjcom': 7519, 'beencompromis': 7520, 'birthdatetelephon': 7521, 'anddirect': 7522, 'includingrout': 7523, 'usdespit': 7524, 'haveaccess': 7525, 'becameawar': 7526, 'accessedhbo': 7527, 'involvedthough': 7528, 'incidentinclud': 7529, 'websiteapp': 7530, 'kimberlyclar': 7531, 'huggi': 7532, 'kleenex': 7533, 'exposedwhat': 7534, 'sir': 7535, 'madam': 7536, 'pursuant': 7537, '4844': 7538, 'affectedcalifornia': 7539, 'browsabl': 7540, 'googlenam': 7541, 'happenedlast': 7542, 'rinker': 7543, 'involvedi': 7544, 'w9': 7545, 'toan': 7546, 'alead': 7547, 'gainedaccess': 7548, 'thevendor': 7549, 'vendorstweenbrandscom': 7550, 'promulg': 7551, 'databasewhat': 7552, 'andsourc': 7553, 'relateswhat': 7554, '424': 7555, 'twentyon': 7556, 'minuteswhat': 7557, 'cheddar': 7558, 'scratch': 7559, 'ongoingwhat': 7560, 'involvedwhil': 7561, 'unaffect': 7562, 'dataour': 7563, 'cafemom': 7564, 'teh': 7565, 'cafemomcom': 7566, 'notificationwhat': 7567, 'armor': 7568, 'emailspassword': 7569, 'userswhat': 7570, 'wwwbulletproofcom': 7571, '1519': 7572, 'periodwhat': 7573, 'hoist': 7574, 'overlord': 7575, 'occurredwhat': 7576, 'nonunion': 7577, 'forever21': 7578, 'salvag': 7579, 'dual': 7580, 'checkouton': 7581, 'seventythre': 7582, '309': 7583, '94025': 7584, 'b5000': 7585, 'containedpdf': 7586, 'formswhat': 7587, '18778909332': 7588, 'wwwexperianidworkscomrestorationwhil': 7589, 'httpswwwexperianidworkscom3bplu': 7590, 'w4dgymrvp': 7591, 'wwwliveglamcom': 7592, 'frontpag': 7593, '32603388': 7594, 'preclud': 7595, 'secureupd': 7596, '3272012': 7597, '179000': 7598, 'palisad': 7599, 'nyack': 7600, 'metropark': 7601, 'brio': 7602, 'tuscan': 7603, 'missouriupd': 7604, '72610': 7605, 'namesupd': 7606, '1823': 7607, '3080': 7608, '3205': 7609, '05102010': 7610, '291495': 7611, 'dietitian': 7612, 'glove': 7613, 'galeton': 7614, 'coon': 7615, 'tgi': 7616, 'pinella': 7617, 'sandi': 7618, 'haiti': 7619, '101310': 7620, '11111': 7621, 'randl': 7622, 'beer': 7623, 'hobbi': 7624, 'beecher': 7625, 'carlson': 7626, 'massachusettsupd': 7627, '81710': 7628, '5432': 7629, '2824': 7630, 'plymouth': 7631, '872011': 7632, '148count': 7633, 'bond': 7634, 'hart': 7635, '162000': 7636, 'mid2009': 7637, 'carbon': 7638, 'kcera': 7639, 'lorillard': 7640, '6222010': 7641, 'astonish': 7642, 'tatum': 7643, 'sfn': 7644, 'lam': 7645, 'hesc': 7646, 'legibl': 7647, 'ash': 7648, 'plasma': 7649, '2nd': 7650, '210': 7651, 'cuisin': 7652, 'jen': 7653, 'cheesecak': 7654, 'factori': 7655, '117000': 7656, '1023': 7657, 'gx': 7658, 'inovi': 7659, 'disord': 7660, 'nhtsa': 7661, 'vin': 7662, '78157180': 7663, 'statesupd': 7664, '21311': 7665, '8400': 7666, 'sffcu': 7667, 'telesal': 7668, 'unopen': 7669, '114': 7670, 'psat': 7671, 'sparta': 7672, '7810': 7673, 'jess': 7674, '600800': 7675, '200300': 7676, '2009updat': 7677, '1242010': 7678, 'identifiedupd': 7679, '472011': 7680, 'emili': 7681, 'tapeupd': 7682, '8910': 7683, 'bois': 7684, '82610': 7685, '20072008': 7686, 'creditupd': 7687, '8510': 7688, '58000': 7689, 'antiimmigr': 7690, 'expatri': 7691, 'alcoa': 7692, 'sang': 7693, 'h': 7694, 'yoon': 7695, 'patricia': 7696, 'bridgeport': 7697, 'stateprovid': 7698, 'breed': 7699, 'secretli': 7700, '382': 7701, 'vouchersupd': 7702, '102810': 7703, 'natchez': 7704, 'rowland': 7705, 'divers': 7706, 'slept': 7707, 'layov': 7708, 'tc': 7709, 'tcss': 7710, 'hingham': 7711, 'knock': 7712, '1099a': 7713, '1099c': 7714, 'thomson': 7715, 'compumark': 7716, 'tino': 7717, 'frrom': 7718, 'edmond': 7719, 'baton': 7720, 'roug': 7721, '21811': 7722, '10174': 7723, '91104': 7724, 'townhom': 7725, 'coop': 7726, '2484': 7727, 'cellphon': 7728, 'clone': 7729, 'seachang': 7730, 'databasesupd': 7731, '9152011': 7732, 'floridian': 7733, '91810': 7734, '2270': 7735, 'razvan': 7736, 'apost': 7737, 'compupay': 7738, 'problemupd': 7739, '10110': 7740, 'romania': 7741, 'larocqu': 7742, '1230pm': 7743, '420pm': 7744, 'webaccess': 7745, '121610': 7746, '3667': 7747, '155th': 7748, 'brigad': 7749, 'passwordbas': 7750, 'addresse': 7751, '284': 7752, 'accomack': 7753, '6299': 7754, '3913': 7755, '2386': 7756, 'florenc': 7757, 'adecco': 7758, 'kathi': 7759, '17500000': 7760, 'bernardino': 7761, 'postag': 7762, 'ester': 7763, 'gaino': 7764, 'uhwo': 7765, '1988': 7766, '111910': 7767, '259000': 7768, '2005updat': 7769, '1272012': 7770, 'jflacorg': 7771, 'profici': 7772, 'thai': 7773, 'exspous': 7774, '3300': 7775, '9845': 7776, 'delinqu': 7777, '4152011': 7778, '6212011': 7779, 'elliot': 7780, 'ampl': 7781, 'lender': 7782, '112110': 7783, 'monadnock': 7784, 'offset': 7785, 'intermundo': 7786, '21511': 7787, '4486': 7788, 'eodt': 7789, 'fedcomp': 7790, 'underwrit': 7791, 'aarp': 7792, 'harlingen': 7793, 'farber': 7794, 'fiction': 7795, 'nonsensit': 7796, 'ninetysix': 7797, '147': 7798, 'freshmen': 7799, 'libertyvil': 7800, 'mtso': 7801, 'offcampu': 7802, 'swirca': 7803, 'tyler': 7804, '8102011': 7805, 'restaurantrel': 7806, '11022011': 7807, 'chicken': 7808, 'realisticlook': 7809, 'kidz': 7810, 'johnston': 7811, 'shi': 7812, '01172013': 7813, 'lid': 7814, 'unnecessari': 7815, 'industrywid': 7816, 'outright': 7817, 'arrog': 7818, 'mound': 7819, 'contractorsupd': 7820, '517729': 7821, '65663': 7822, '2222011': 7823, '226000': 7824, '142011': 7825, 'recod': 7826, 'out': 7827, 'iraq': 7828, 'sbuchatcom': 7829, 'netid': 7830, '183': 7831, 'rig': 7832, 'hbpa': 7833, 'subscribersupd': 7834, '12411': 7835, 'patr1099': 7836, 'stationupd': 7837, '1611': 7838, '11011': 7839, '380': 7840, '109000': 7841, '514': 7842, '11811': 7843, '674': 7844, 'backlash': 7845, 'riskupd': 7846, '1312011': 7847, '2192011': 7848, 'fandotech': 7849, 'fe': 7850, 'southeast': 7851, 'ingenix': 7852, 'pop': 7853, 'accomplish': 7854, 'lui': 7855, 'obispo': 7856, 'genesi': 7857, '312011': 7858, 'uti': 7859, 'wrinkl': 7860, 'wwwhamiltonbeachcom': 7861, 'wwwproctorsilexcom': 7862, 'hmtbccvgmailcom': 7863, 'prosilexccvgmailcom': 7864, 'kbr': 7865, 'variat': 7866, 'lowercas': 7867, 'uppercas': 7868, 'passwordpassword': 7869, 'blueski': 7870, 'staten': 7871, 'ube': 7872, '2132011': 7873, '8222011': 7874, 'submiit': 7875, 'cyberstalk': 7876, 'trivial': 7877, '23page': 7878, 'jewel': 7879, 'microbilt': 7880, 'mircrobilt': 7881, 'brandman': 7882, 'condominium': 7883, 'realtor': 7884, 'delray': 7885, 'racetrac': 7886, 'fairbank': 7887, '10252011': 7888, 'nfcu': 7889, '460000': 7890, 'hamburg': 7891, 'spoil': 7892, 'rotten': 7893, 'overwritten': 7894, 'randstad': 7895, 'forti': 7896, 'instant': 7897, 'shredder': 7898, 'laredo': 7899, '321': 7900, 'w4': 7901, 'factfind': 7902, 'closingupd': 7903, '11292011': 7904, 'cattl': 7905, 'dallasth': 7906, 'ls': 7907, 'ticketmast': 7908, 'bp': 7909, 'oil': 7910, 'rington': 7911, 'httpwwwdatabreachesnetp17374': 7912, 'everth': 7913, 'phishingreportuscertgovupd': 7914, '05022011': 7915, '5060': 7916, 'flashdriv': 7917, '515000': 7918, 'incarcer': 7919, 'deplet': 7920, '9302011': 7921, '408000': 7922, 'statecontrol': 7923, 'sftp': 7924, 'universitiesupdate562011': 7925, 'texan': 7926, 'individualupd': 7927, '2132012': 7928, 'loophol': 7929, 'yearli': 7930, 'revoc': 7931, 'harmar': 7932, 'waterwork': 7933, 'pompano': 7934, 'astoria': 7935, 'yorkupd': 7936, '208000': 7937, 'wordpresss': 7938, 'spokespeopl': 7939, '0f': 7940, '26930': 7941, 'ssa': 7942, '36657': 7943, 'pervert': 7944, 'unflatt': 7945, 'infidel': 7946, 'radar': 7947, '9038634': 7948, 'fool': 7949, '13500': 7950, 'cotc': 7951, 'ieee': 7952, 'underwritten': 7953, 'gogrid': 7954, '1218': 7955, 'isp': 7956, 'duluth': 7957, '5779': 7958, '393': 7959, 'hud': 7960, 'operationsupd': 7961, '10242011': 7962, '7300': 7963, 'cruiser': 7964, 'autodealership': 7965, 'expecteda': 7966, 'informationhuntington': 7967, 'partiallyshred': 7968, 'roadsid': 7969, 'exposeda': 7970, 'prank': 7971, 'fireprotect': 7972, '7200': 7973, '964': 7974, 'checkedth': 7975, 'hardest': 7976, 'statementupd': 7977, '05192011': 7978, 'cyberpickpocket': 7979, 'theori': 7980, 'membran': 7981, '05312011': 7982, '1816': 7983, 'michaelsupd': 7984, '06202011': 7985, 'storesupd': 7986, '06272011': 7987, 'beaverton': 7988, '07132011': 7989, '03212012': 7990, '94000': 7991, '42000': 7992, '15175': 7993, 'w32qakbot': 7994, 'eolwd': 7995, '5182011': 7996, 'withdrew': 7997, '5312011': 7998, 'lamar': 7999, '278144': 8000, 'tenaci': 8001, 'interfac': 8002, 'fbiupdat': 8003, 'lulz': 8004, 'hid': 8005, 'backlog': 8006, 'otherupd': 8007, '37500': 8008, '04182013': 8009, 'releaseupd': 8010, '08082013': 8011, '605663': 8012, 'victoria': 8013, 'renteria': 8014, 'escort': 8015, 'clientel': 8016, 'sugar': 8017, 'prostitut': 8018, '6132011': 8019, 'websiteupd': 8020, 'mayupd': 8021, '6162011': 8022, '3400': 8023, '2700000updat': 8024, 'guaranti': 8025, 'methamphetamin': 8026, 'patton': 8027, 'dar': 8028, 'westport': 8029, 'bittersweet': 8030, 'altoona': 8031, 'scmlc': 8032, 'brink': 8033, 'slu': 8034, 'windowstyl': 8035, 'trss': 8036, '1290755': 8037, 'conor': 8038, 'oneil': 8039, 'stolenon': 8040, 'sb1070': 8041, 'antiimmigrantupd': 8042, 'entryupd': 8043, '6292011': 8044, 'kin': 8045, 'stane': 8046, 'nomine': 8047, 'hacktivist': 8048, 'branford': 8049, 'ggc': 8050, 'colloc': 8051, '14market': 8052, '451': 8053, 'responsibilityupd': 8054, '7182011': 8055, 'toshiba': 8056, '7520': 8057, '681': 8058, 'unsur': 8059, 'upromis': 8060, 'studentcitycom': 8061, '266': 8062, 'zpizza': 8063, 'obviou': 8064, 'belmont': 8065, 'inciner': 8066, 'bsb': 8067, 'uncchapel': 8068, '892011': 8069, 'breakingand': 8070, 'parenthesi': 8071, 'mcdonaldsupd': 8072, '2032012': 8073, '185': 8074, 'fugit': 8075, 'eaten': 8076, 'nonresid': 8077, 'fatal': 8078, 'officerinvolv': 8079, 'latter': 8080, 'french': 8081, 'dodg': 8082, 'allstat': 8083, 'myepisdorg': 8084, 'sy5t3mf41lur3': 8085, 't3hblackhatt': 8086, 'h05tbu5t0rzupd': 8087, '09072012': 8088, 'birdvil': 8089, '14500': 8090, 'chesterfield': 8091, 'fa': 8092, 'ctuckerfasharvardedu': 8093, 'ctuckercollegeharvardcom': 8094, '3gb': 8095, 'icfmr': 8096, '1820359': 8097, 'adt': 8098, 'vacationland': 8099, 'waterpark': 8100, 'seviervil': 8101, 'vod': 8102, 'nonappropri': 8103, 'guilford': 8104, 'garnish': 8105, '9162011': 8106, 'overload': 8107, 'flexiblebenefit': 8108, 'dynam': 8109, 'caci': 8110, '354': 8111, '6250000updat': 8112, '12172012': 8113, '113000': 8114, '1202012': 8115, '23500': 8116, 'frailti': 8117, 'perpati': 8118, 'outlier': 8119, 'checklist': 8120, 'confidentialaccret': 8121, 'sickest': 8122, 'amass': 8123, 'offshor': 8124, 'lori': 8125, 'swanson': 8126, 'baxter': 8127, 'sidl': 8128, 'conn': 8129, 'cardiologist': 8130, '31931': 8131, 'whod': 8132, 'saisd': 8133, '6070': 8134, 'leadership': 8135, 'congreg': 8136, 'clearanceupd': 8137, '05192012': 8138, 'pseg': 8139, 'unecrypt': 8140, 'milliman': 8141, 'iacp': 8142, 'pan': 8143, 'guadalajara': 8144, 'scaveng': 8145, 'aluminum': 8146, 'ravag': 8147, 'indigo': 8148, 'clarinda': 8149, 'interst': 8150, 'eaton': 8151, 'metrolux': 8152, '1180': 8153, '1008': 8154, 'maloney': 8155, 'unnecessarili': 8156, '621': 8157, 'midterm': 8158, 'peoria': 8159, 'cefcu': 8160, '1734': 8161, 'divisadero': 8162, '6197': 8163, 'perident': 8164, 'valueopt': 8165, '6669': 8166, 'habitat': 8167, '444': 8168, 'socialdistribut': 8169, '11162012': 8170, 'fcat': 8171, 'eid': 8172, '19276': 8173, 'providencenightlifenet': 8174, 'pastebin': 8175, 'cleartext': 8176, 'benefitsrisk': 8177, 'subtl': 8178, 'fs': 8179, 'mock': 8180, 'highlimit': 8181, 'apec': 8182, 'barack': 8183, 'underag': 8184, 'crimesth': 8185, 'blairsvil': 8186, 'winelibrarycom': 8187, 'massbay': 8188, 'skagit': 8189, 'bluesitcom': 8190, 'freedomaincom': 8191, 'rerundomainscom': 8192, 'rwgusacom': 8193, 'rwgusanet': 8194, '101domain': 8195, 'kahuna': 8196, 'realti': 8197, '625': 8198, 'ku': 8199, '01082013': 8200, 'mistreat': 8201, 'tlc': 8202, 'allamerican': 8203, 'strongli': 8204, 'tvanonym': 8205, 'cave': 8206, 'trilegi': 8207, 'grader': 8208, 'jetro': 8209, 'iqor': 8210, 'towamencin': 8211, '2million': 8212, 'anim': 8213, 'bsah': 8214, 'ridgewood': 8215, 'respit': 8216, '3200': 8217, 'satisfact': 8218, 'hardship': 8219, 'anonymousantisec': 8220, 'stratforcom': 8221, '200gb': 8222, 'leakedupd': 8223, '859311': 8224, '860160': 8225, '50569': 8226, '50618': 8227, '2152012': 8228, '2272012': 8229, 'wikileak': 8230, 'intelligencegath': 8231, 'stratforupd': 8232, 'irish': 8233, 'british': 8234, 'anonymouss': 8235, 'safetyupd': 8236, '7022012': 8237, '2908': 8238, 'stratfo': 8239, '1299': 8240, 'lump': 8241, 'feesupd': 8242, '08112012': 8243, 'centerupd': 8244, '05282013': 8245, 'patrolmen': 8246, 'guideyoucom': 8247, 'cvc2cvv2cid': 8248, 'hast': 8249, 'drafthous': 8250, 'cinema': 8251, '2991974': 8252, 'itinerari': 8253, '17900617': 8254, 'precinct': 8255, 'recudedpric': 8256, 'federallyfund': 8257, '1332': 8258, '245': 8259, 'sitesupd': 8260, '1212012': 8261, 'kentuckyupd': 8262, '9222014': 8263, 'settlementmor': 8264, 'httpwwwcourthousenewscom2014092271619htm': 8265, 'asu': 8266, 'discoveryupd': 8267, '2072012': 8268, 'starter': 8269, '878000': 8270, '367000': 8271, 'nysegfg': 8272, 'refin': 8273, 'rubenstein': 8274, 'nutrit': 8275, 'iu': 8276, 'intercampu': 8277, 'craigslistcom': 8278, 'craigslist': 8279, 'vacant': 8280, 'bamastuffcom': 8281, 'slightli': 8282, 'materiala': 8283, 'activestor': 8284, 'segmark': 8285, 'sixmonth': 8286, '181000': 8287, 'firstdegre': 8288, 'com': 8289, '1099g': 8290, 'nonpolic': 8291, 'graffiti': 8292, 'xoom': 8293, 'wootcom': 8294, '156': 8295, 'anonymousupd': 8296, '1406217': 8297, '46000': 8298, '787': 8299, 'intox': 8300, '305000': 8301, 'shortliv': 8302, 'unccharlott': 8303, '5092012': 8304, 'zbot': 8305, 'drivethrough': 8306, 'latenight': 8307, 'steadi': 8308, '6071': 8309, 'tone': 8310, '15887': 8311, '1041': 8312, '284618': 8313, 'borel': 8314, 'iii': 8315, 'canin': 8316, 'lacpca': 8317, 'sqli': 8318, '82': 8319, 'mil': 8320, 'eas': 8321, 'hurri': 8322, 'lindenleak': 8323, 'edmund': 8324, '6818': 8325, '29540': 8326, '22722': 8327, 'gradepoint': 8328, 'kennedi': 8329, 'motivatedupd': 8330, 'obgyn': 8331, 'afscm': 8332, '1659': 8333, '3309': 8334, '3606': 8335, 'restitutionupd': 8336, '03222012': 8337, 'bottl': 8338, 'ventil': 8339, 'shaft': 8340, 'wear': 8341, 'disguis': 8342, '2960': 8343, '6900': 8344, 'reborn': 8345, 'announcementupd': 8346, '3282012': 8347, 'diagnosisrel': 8348, '09212012': 8349, '34503': 8350, '66601': 8351, 'activityupd': 8352, '04022012': 8353, '04052012': 8354, '05012012': 8355, '07262012': 8356, 'upgradesupd': 8357, 'comerica': 8358, '01102013': 8359, '359': 8360, 'impos': 8361, 'recoveriesglob': 8362, 'noncompli': 8363, 'providersupd': 8364, '927': 8365, 'recuper': 8366, 'lsat': 8367, 'universityissu': 8368, 'bachelor': 8369, 'canva': 8370, 'daycar': 8371, 'dorm': 8372, 'coursework': 8373, 'blueprint': 8374, 'predat': 8375, 'guid': 8376, 'sniper': 8377, 'thurston': 8378, '4493766': 8379, '8416937': 8380, '700000': 8381, '326000': 8382, '748902': 8383, 'caretak': 8384, 'glade': 8385, '192': 8386, 'gci': 8387, 'frtib': 8388, '43587': 8389, 'fortythre': 8390, 'haven': 8391, '09012012': 8392, 'unfair': 8393, 'unf': 8394, '4j': 8395, 'httpwww4jlaneeducommunicationsstory20120611securitybreachinfupd': 8396, '08252012': 8397, 'expel': 8398, 'taunt': 8399, 'tilt': 8400, 'kilt': 8401, 'pub': 8402, 'jointli': 8403, '358780': 8404, 'gourmet': 8405, 'levin': 8406, 'mid2000': 8407, 'convictedupd': 8408, '08082012': 8409, 'studentrun': 8410, 'winchest': 8411, '420000': 8412, '08022012': 8413, 'orcutt': 8414, 'yale': 8415, 'processorsupd': 8416, '09112013': 8417, 'pell': 8418, 'disburs': 8419, '5100': 8420, 'julyupd': 8421, '10282013': 8422, 'missil': 8423, 'environmetn': 8424, 'aeronaut': 8425, 'bnsf': 8426, 'railway': 8427, 'marta': 8428, 'lieuten': 8429, 'racket': 8430, 'powerteach': 8431, '190000': 8432, 'meter': 8433, 'planner': 8434, 'rerout': 8435, '4848866': 8436, 'mcallen': 8437, 'kill': 8438, 'fraudth': 8439, 'carjack': 8440, 'cheer': 8441, 'brightlin': 8442, 'robeson': 8443, 'unsupervis': 8444, 'driveway': 8445, 'foreclos': 8446, 'ghostshel': 8447, '200607': 8448, 'kornferri': 8449, 'wwwapplitrackcom': 8450, 'joliet': 8451, 'beij': 8452, '133494': 8453, 'labelmastercom': 8454, 'nonemploye': 8455, '12142012': 8456, 'connectuserscom': 8457, 'siteupd': 8458, '11142012': 8459, 'dirt': 8460, 'apg': 8461, 'govdealscom': 8462, 'macon': 8463, 'ktsu': 8464, 'pledg': 8465, '01122013': 8466, 'enumb': 8467, '132': 8468, 'pound': 8469, '407': 8470, 'insurnac': 8471, 'windhaven': 8472, '419': 8473, 'payjunct': 8474, 'datapak': 8475, '12042013': 8476, '739': 8477, 'wheelock': 8478, '1167': 8479, '825': 8480, 'vernon': 8481, 'dryclean': 8482, '18887604869': 8483, 'httpwwwdatabreachesnetctalertedthatbankshaddiscoveredaprobl': 8484, 'pia': 8485, 'updatedvpn': 8486, 'v52': 8487, '27the': 8488, 'httpwwwnwpccom': 8489, 'informationalli': 8490, 'claimsdatabreachesnet': 8491, 'httpwwwdatabreachesnetmisconfigureddatabasemayhaveexposed15compani': 8492, 'httpswwwalliancehealthcomnewsstatementregardingdatasecur': 8493, 'salarymor': 8494, 'httpwwwdatabreachesnetimproperredactionexposedvirginiaemploye': 8495, 'ailmentmemb': 8496, 'hmsacommediacent': 8497, '808': 8498, '9486404': 8499, '4593963': 8500, 'mainland': 8501, 'httpshmsacommediacenter201512lettererror': 8502, '900000': 8503, 'tenn': 8504, 'aros': 8505, '04192005': 8506, '1300000': 8507, '100000updat': 8508, '08232012': 8509, 'stipul': 8510, 'prejudg': 8511, '41205': 8512, '310000': 8513, '1976': 8514, 'onethird': 8515, 'diagram': 8516, 'holograph': 8517, 'lamin': 8518, 'donovan': 8519, 'sevi': 8520, 'liber': 8521, 'ruffalocodi': 8522, 'hsbcissu': 8523, 'wharton': 8524, 'bookstor': 8525, '532005': 8526, 'fragment': 8527, '68000': 8528, 'caspian': 8529, 'fifti': 8530, 'kodak': 8531, 'sabotag': 8532, 'medica': 8533, 'prolong': 8534, 'heavier': 8535, 'punish': 8536, 'mte': 8537, 'biodyn': 8538, 'matc': 8539, 'unt': 8540, 'fork': 8541, 'blew': 8542, 'waiv': 8543, '265': 8544, 'buxx': 8545, 'dain': 8546, 'rauscher': 8547, '677': 8548, 'weekscould': 8549, 'systemprotect': 8550, '772': 8551, 'english': 8552, 'northbound': 8553, 'expressway': 8554, 'woodal': 8555, 'rodger': 8556, 'exit': 8557, '40digit': 8558, 'elgin': 8559, 'entomolog': 8560, 'ecolog': 8561, 'bundl': 8562, 'eightyf': 8563, 'misalign': 8564, 'wamu': 8565, '31406': 8566, 'tobacco': 8567, 'jacksonvillebas': 8568, '580000': 8569, 'spencerport': 8570, 'landscap': 8571, 'medco': 8572, '92806an': 8573, 'audiolink': 8574, 'chi': 8575, 'dca': 8576, 'bison': 8577, 'fivecolleg': 8578, 'murri': 8579, 'rosssimon': 8580, 'fico': 8581, 'reproduc': 8582, 'unionsponsor': 8583, 'classmat': 8584, 'stearn': 8585, '1099int': 8586, 'persh': 8587, 'brandywin': 8588, '41806': 8589, '42006': 8590, 'merril': 8591, 'lynch': 8592, 'hbr': 8593, 'socail': 8594, 'tg': 8595, 'cdh': 8596, 'andov': 8597, 'thruway': 8598, 'passportvisa': 8599, '2326': 8600, '10506': 8601, 'spira': 8602, 'pullen': 8603, 'roch': 8604, 'deferr': 8605, 'cpe': 8606, 'sixtyeight': 8607, 'geographi': 8608, '5210': 8609, 'bluetooth': 8610, 'headset': 8611, 'fmcsa': 8612, '193': 8613, 'compass': 8614, 'paymap': 8615, 'linden': 8616, 'harlem': 8617, 'morri': 8618, 'profitshar': 8619, 'northforkbankcom': 8620, 'nfb': 8621, 'voo': 8622, 'agribusi': 8623, 'checkedin': 8624, 'cumberland': 8625, 'tier': 8626, '720': 8627, '4624': 8628, 'noncustom': 8629, 'firstbank': 8630, 'notforprofit': 8631, 'evacu': 8632, '396': 8633, 'avaya': 8634, '12072006': 8635, 'wesco': 8636, 'jena': 8637, 'computershar': 8638, 'offpric': 8639, 'worldwidenot': 8640, '45700000': 8641, '1indic': 8642, '2222007tjx': 8643, '3212007': 8644, '3292007': 8645, '4222007': 8646, '04262007': 8647, '05042007': 8648, 'wsj': 8649, 'pricecheck': 8650, '07102007': 8651, 'highqual': 8652, 'asia': 8653, 'cuban': 8654, '08312007': 8655, '09212007': 8656, 'coslink': 8657, '09252007': 8658, '3day': 8659, '167': 8660, '216': 8661, '11302007': 8662, '12052007': 8663, 'internetnewscom': 8664, '12182007': 8665, 'amountalthough': 8666, 'secondquart': 8667, 'earningstjx': 8668, 'cardissu': 8669, '2102008': 8670, '422008': 8671, '5142008': 8672, '995': 8673, '852008': 8674, 'wardriv': 8675, '8302008': 8676, 'bankcorp': 8677, 'recoup': 8678, '9222008one': 8679, 'jx': 8680, '6262009': 8681, '7282009': 8682, '942009': 8683, '525k': 8684, 'amerifirst': 8685, 'massbas': 8686, '525000': 8687, 'actionupd': 8688, '12152009a': 8689, 'tj': 8690, 'maxx': 8691, '711': 8692, '1715': 8693, 'snif': 8694, '3172010': 8695, 'humza': 8696, 'coder': 8697, 'siphon': 8698, '3292010': 8699, '28yearold': 8700, '75000ayear': 8701, 'cloak': 8702, 'secreci': 8703, 'storefrontbacktalk': 8704, '561': 8705, '504': 8706, '4162010': 8707, 'damon': 8708, 'patrick': 8709, 'toey': 8710, '782010': 8711, '595000': 8712, 'filesupd': 8713, '482011': 8714, 'z': 8715, 'aldermen': 8716, 'committeemen': 8717, 'nextel': 8718, 'cassett': 8719, '20052006': 8720, '20062007': 8721, 'indot': 8722, 'um': 8723, 'annd': 8724, '220': 8725, 'ged': 8726, 'millionair': 8727, 'adc': 8728, 'flex': 8729, '63400': 8730, 'hudiburg': 8731, 'chevrolet': 8732, 'laser': 8733, 'il': 8734, 'fireman': 8735, 'aba': 8736, 'vallarta': 8737, '1099r': 8738, 'protiv': 8739, 'bellco': 8740, 'winner': 8741, 'fulton': 8742, 'symposium': 8743, 'repost': 8744, 'cure': 8745, 'honeywel': 8746, '38700': 8747, 'bogu': 8748, 'checkoutlin': 8749, 'reappoint': 8750, 'bonu': 8751, 'champaign': 8752, '51407': 8753, 'proprietorship': 8754, 'artei': 8755, 'ezcorp': 8756, 'promissori': 8757, 'ecounselor': 8758, 'exwork': 8759, 'frm': 8760, '1468': 8761, '758': 8762, '4106': 8763, '31607': 8764, 'essay': 8765, '91': 8766, 'dictionari': 8767, 'mytreonet': 8768, 'officeteam': 8769, 'wwwvfinancecom': 8770, 'lynchburg': 8771, '127': 8772, 'computersecur': 8773, 'update82707': 8774, 'update112307': 8775, '82707the': 8776, '112307': 8777, '7708a': 8778, '7708': 8779, '42610': 8780, 'informationsecur': 8781, 'evolv': 8782, '10554': 8783, 'penson': 8784, 'axia': 8785, 'intercolleg': 8786, '5530': 8787, 'applera': 8788, 'workroom': 8789, 'celgen': 8790, 'cosmetologist': 8791, '445000': 8792, 'printpack': 8793, '1446': 8794, 'firsthealth': 8795, 'voxant': 8796, 'omahabas': 8797, '42809td': 8798, 'databaseupd': 8799, '102709': 8800, 'discern': 8801, 'settlementupd': 8802, '111610': 8803, 'accountfraudbas': 8804, '6500000httpwwwcitizenorglitigationformscasesgetlinkforcasecfmcid499httpwwwbargaineeringcomarticlestdameritradediscoversdatabasebreachhtml': 8805, '10072011': 8806, '6500000': 8807, 'kelley': 8808, 'afba': 8809, '545': 8810, '811': 8811, 'nfp': 8812, 'pharmalot': 8813, 'iwir': 8814, 'aap': 8815, 'meadwestvaco': 8816, '652': 8817, 'kimscraft': 8818, '1554': 8819, 'lodestar': 8820, '470': 8821, 'decreas': 8822, 'ywca': 8823, 'ocd': 8824, 'springfieldbas': 8825, 'menswear': 8826, 'dnr': 8827, 'peerlesss': 8828, 'agingown': 8829, 'brotherhood': 8830, '103': 8831, 'passwordcrack': 8832, 'streetscap': 8833, 'horsham': 8834, 'saveseniorcar': 8835, 'taught': 8836, 'biolog': 8837, '331': 8838, 'grievanc': 8839, 'foreman': 8840, 'throw': 8841, '1279': 8842, '20002001': 8843, 'billingship': 8844, 'panason': 8845, 'toughbook': 8846, '1004': 8847, 'mumbai': 8848, 'indiabas': 8849, 'cerrito': 8850, 'insurancebil': 8851, 'ci': 8852, 'fertil': 8853, 'harddriv': 8854, '165': 8855, '422009': 8856, '5142009': 8857, 'reviv': 8858, '5222009': 8859, '1122011': 8860, 'insurancecredit': 8861, 'httptinyurlcom3kxxmnb': 8862, 'httptinyurlcom3jkg489upd': 8863, '3292013': 8864, 'httptinyurlcombsg9xpu': 8865, 'ludlow': 8866, '5108': 8867, 'aisl': 8868, 'readersupd': 8869, '8408': 8870, 'drunken': 8871, 'islandia': 8872, '675': 8873, '04052010': 8874, 'fanfar': 8875, 'filter': 8876, 'decre': 8877, '07192012': 8878, 'jcpenney': 8879, 'bbt': 8880, 'fuqua': 8881, 'irv': 8882, '2509': 8883, '6910': 8884, 'englewood': 8885, 'colo': 8886, 'providerth': 8887, 'ninepag': 8888, 'universityhttpwwwcomputerworldcomsarticle9177702insurersaysitsnotliableforuniversityofutahs33mdatabreach': 8889, 'columbian': 8890, 'googlehost': 8891, 'computerdata': 8892, 'utd': 8893, 'kinko': 8894, 'pitch': 8895, '1302009': 8896, 'unfreez': 8897, 'reportsupd': 8898, '4092010': 8899, 'ventura': 8900, 'poster': 8901, '5082010': 8902, 'wwwcwdataclaimscom': 8903, '9403612updat': 8904, '8242010': 8905, '9282011': 8906, 'repay': 8907, 'costsupd': 8908, '7132012': 8909, 'object': 8910, 'lowerlevel': 8911, 'brevard': 8912, 'testpreparatori': 8913, 'jam': 8914, 'reynoldsburg': 8915, 'mailroom': 8916, 'nonmalici': 8917, 'burk': 8918, 'krm': 8919, 'shenendehowa': 8920, 'belatedli': 8921, 'openloop': 8922, 'pinen': 8923, '2309': 8924, 'stagger': 8925, '21009': 8926, '52809': 8927, '12updat': 8928, '40510': 8929, 'nab': 8930, 'mastermind': 8931, 'sergei': 8932, 'tsurikov': 8933, 'estonia': 8934, 'extradit': 8935, '83110': 8936, 'vladislav': 8937, 'anatolievich': 8938, 'horohorin': 8939, 'moscowupd': 8940, '91510': 8941, 'zaeltsovskiy': 8942, 'novosibirsk': 8943, 'yevgeni': 8944, 'scotland': 8945, '8212012': 8946, 'sonya': 8947, 'cashout': 8948, 'checkfre': 8949, 'geekscom': 8950, 'cyberfraud': 8951, '01262009': 8952, 'inexplic': 8953, 'inaccuraci': 8954, '02122009': 8955, 'bankinfosecuritycom': 8956, '06042009': 8957, 'hpi': 8958, '656': 8959, '06162009': 8960, 'multidistrict': 8961, 'thirtyon': 8962, 'princetonnjbas': 8963, '07062009': 8964, 'phase': 8965, 'endtoend': 8966, 'segvec': 8967, 'jerseybas': 8968, 'hacktot': 8969, 'combinedupd': 8970, '05122010': 8971, 'steadili': 8972, 'accru': 8973, '1394': 8974, '428': 8975, 'companiesupd': 8976, '06022010': 8977, 'us411': 8978, 'offerupd': 8979, '09012010': 8980, '09192010': 8981, 'brothersupd': 8982, '09222010': 8983, 'michio': 8984, 'taniguchi': 8985, 'participatedupd': 8986, '12072011': 8987, 'dismissedupd': 8988, '02122012': 8989, 'defeat': 8990, 'creditcardissu': 8991, 'heartlandupd': 8992, '07252013': 8993, 'dow': 8994, 'jetblu': 8995, 'mooresvil': 8996, 'bandit': 8997, 'broom': 8998, 'pantri': 8999, 'undat': 9000, 'muskoge': 9001, 'homehealth': 9002, 'deleg': 9003, '7845': 9004, 'cbiz': 9005, 'mose': 9006, 'abid': 9007, 'lexi': 9008, 'nexi': 9009, 'kapiolani': 9010, '119': 9011, 'batteriescom': 9012, 'fiber': 9013, '597': 9014, '081110': 9015, 'studentloan': 9016, '64page': 9017, '455': 9018, 'mitsubishi': 9019, 'downeast': 9020, '38yearold': 9021, 'avon': 9022, 'rocki': 9023, 'madoff': 9024, '236000': 9025, 'chapel': 9026, 'carolinaupd': 9027, '10610': 9028, 'demot': 9029, '592011': 9030, 'penros': 9031, 'evetrec': 9032, 'array': 9033, 'roan': 9034, 'bullitt': 9035, 'kentuckiana': 9036, '1700000': 9037, 'inhous': 9038, '1122010there': 9039, 'chaminad': 9040, 'obscur': 9041, 'compress': 9042, 'blumenth': 9043, 'hitech': 9044, '772010': 9045, '1082010': 9046, '1202011': 9047, 'datasecur': 9048, 'pennsylvanian': 9049, 'ambulancechas': 9050, 'drum': 9051, 'trauma': 9052, 'fineupd': 9053, '10station': 9054, 'hospitalist': 9055, '303': 9056, 'sloppi': 9057, 'decod': 9058, 'hinsdal': 9059, 'deo': 9060, 'colburn': 9061, 'adirondack': 9062, 'placid': 9063, 'medsolut': 9064, 'holdov': 9065, 'ninedigit': 9066, 'potter': 9067, 'bushland': 9068, 'subsid': 9069, 'mpr': 9070, 'lookout': 9071, 'bellair': 9072, 'everifi': 9073, 'fmwrc': 9074, '48202': 9075, '48205': 9076, 'kiefer': 9077, 'nh': 9078, 'beaufort': 9079, 'bladen': 9080, 'albemarl': 9081, 'gaston': 9082, 'haywood': 9083, 'lenoir': 9084, 'nash': 9085, 'roanokechowan': 9086, 'rowancabarru': 9087, 'sandhil': 9088, 'tricounti': 9089, 'vanc': 9090, 'dickinson': 9091, '261': 9092, 'eberli': 9093, '7758': 9094, '6827': 9095, 'informationtechnolog': 9096, '2499': 9097, 'lynn': 9098, 'milagro': 9099, 'weslaco': 9100, 'abvi': 9101, 'passaic': 9102, '15500': 9103, 'medicalrecord': 9104, 'recordingsbut': 9105, 'alldiagnost': 9106, 'grown': 9107, '521761': 9108, 'thompson': 9109, 'bluesupd': 9110, '11310': 9111, '1023209': 9112, 'threetier': 9113, '451274': 9114, '319325': 9115, '239730': 9116, '3142012': 9117, 'biometr': 9118, 'keycard': 9119, 'oakridg': 9120, '759': 9121, '315': 9122, 'fourcampu': 9123, '77000': 9124, 'waterhous': 9125, 'mismatch': 9126, 'curian': 9127, 'rabjohn': 9128, 'groupnew': 9129, 'correspons': 9130, 'ameriquest': 9131, 'fruit': 9132, 'costli': 9133, '3052963': 9134, '23updat': 9135, 'domin': 9136, 'boscov': 9137, 'utep': 9138, '969': 9139, 'yorker': 9140, 'dinner': 9141, 'limo': 9142, 'luxuri': 9143, 'listen': 9144, 'cubicl': 9145, 'aloud': 9146, 'hancevil': 9147, 'valdosta': 9148, '3900': 9149, 'shock': 9150, 'shand': 9151, '260': 9152, '51810': 9153, 'bonaventur': 9154, 'bonavista': 9155, 'valet': 9156, 'monopricecom': 9157, '1191': 9158, 'residentsth': 9159, '7174': 9160, 'albano': 9161, 'emphas': 9162, 'furnac': 9163, 'ind': 9164, 'influenc': 9165, 'treasuretrov': 9166, 'yellow': 9167, '21yearold': 9168, 'shouldersurf': 9169, '32510': 9170, 'ecmc': 9171, '41610': 9172, '19972009': 9173, '20032006': 9174, 'programs20042006': 9175, 'programs20042005': 9176, 'boat': 9177, 'programs20072008': 9178, 'programs20062008': 9179, 'photon': 9180, 'fought': 9181, 'huenem': 9182, 'creekbas': 9183, '5450': 9184, 'thenemploy': 9185, 'computeraccess': 9186, 'peopleupd': 9187, '112410': 9188, 'civic': 9189, 'frustrat': 9190, '30yearold': 9191, 'router': 9192, 'tooth': 9193, 'cant': 9194, 'frustratingupd': 9195, '41010': 9196, '246000': 9197, 'boss': 9198, 'dead': 9199, 'needi': 9200, '330': 9201, 'greenbush': 9202, 'uneras': 9203, '409262': 9204, 'coverageupd': 9205, 'totten': 9206, '77th': 9207, 'absorb': 9208, '99th': 9209, 'neurologist': 9210, 'tinnitu': 9211, 'numberupd': 9212, '09172012': 9213, 'httpwwwhhsgovnewspress2012pres0920120917ahtml': 9214, 'threer': 9215, '1272': 9216, 'apr': 9217, 'moneymarket': 9218, 'datastorag': 9219, '3097': 9220, 'jumbl': 9221, 'awri': 9222, 'disarray': 9223, 'drc': 9224, 'frontload': 9225, 'peer': 9226, 'dupont': 9227, 'hutcheson': 9228, '5418': 9229, '24600': 9230, 'ladi': 9231, 'westmont': 9232, 'millennium': 9233, 'millenium': 9234, 'ehp': 9235, 'fhg': 9236, 'padlock': 9237, 'engrav': 9238, 'nonbep': 9239, 'beptreasgov': 9240, 'moneyfactorycom': 9241, 'avg': 9242, 'treasgov': 9243, 'ifram': 9244, 'java': 9245, 'roguewar': 9246, '207000': 9247, 'morrow': 9248, 'reston': 9249, 'pilfer': 9250, '616': 9251, '5220': 9252, 'loma': 9253, 'ferrel': 9254, 'handoff': 9255, 'unannounc': 9256, 'guy': 9257, 'what': 9258, 'countryupd': 9259, '8210': 9260, '7250': 9261, '6372': 9262, 'roanok': 9263, 'bishop': 9264, '708': 9265, '806': 9266, 'cnc': 9267, 'cacheupd': 9268, '6810': 9269, 'shatter': 9270, '19yearold': 9271, 'porat': 9272, 'nazaren': 9273, 'marylandbas': 9274, 'bunch': 9275, '640000': 9276, 'eft': 9277, 'politician': 9278, 'cellularen': 9279, 'earlyadopt': 9280, 'alist': 9281, 'robinson': 9282, 'sawyer': 9283, 'mogul': 9284, 'harvey': 9285, 'rahm': 9286, 'emanuel': 9287, '114000': 9288, '01182011': 9289, 'slurper': 9290, 'fraudupd': 9291, '06232011': 9292, 'attackupd': 9293, 'issueupd': 9294, 'exempt': 9295, '7110': 9296, '2004updat': 9297, '6292010': 9298, '7122010': 9299, 'wellpointupd': 9300, '9172010': 9301, 'statusupd': 9302, '10292010': 9303, '19407': 9304, 'fiu': 9305, 'efolio': 9306, 'masteri': 9307, '4585': 9308, 'highend': 9309, 'vail': 9310, 'taho': 9311, 'maui': 9312, '7210': 9313, 'driskil': 9314, 'zeu': 9315, 'zbod': 9316, '79000': 9317, 'datelin': 9318, '10500': 9319, '90day': 9320, 'broader': 9321, 'unexpect': 9322, 'ciscolive2010com': 9323, 'lv': 9324, 'unpaid': 9325, '240': 9326, 'includedupd': 9327, 'cambrium': 9328, '154pm': 9329, '546pm': 9330, '7152011': 9331, 'warranti': 9332, 'wong': 9333, '11cv3092lb': 9334, 'nd': 9335, 'onehitplaycom': 9336, '214000': 9337, '3410': 9338, 'bklightingcom': 9339, '214': 9340, '4504': 9341, 'syracus': 9342, 'hactivist': 9343, 'supremacist': 9344, 'yurman': 9345, 'powerblogcom': 9346, 'indianapolissuperbowlcom': 9347, 'gossip': 9348, 'bahrain': 9349, 'upris': 9350, 'dividend': 9351, 'undeliver': 9352, 'speedi': 9353, 'islamicfinderorg': 9354, 'do': 9355, 'adultstaffingcom': 9356, '686': 9357, 'yamaha': 9358, '1755': 9359, 'wwwhagertycom': 9360, 'accucom': 9361, 'epson': 9362, 'ceed': 9363, 'uclaedu': 9364, '128': 9365, 'pge': 9366, '1784': 9367, '282': 9368, '07022012': 9369, '51000': 9370, 'lifes': 9371, 'tran': 9372, 'manulif': 9373, 'irandefencenet': 9374, 'vbcoderzcom': 9375, '1290': 9376, 'arizonasportsfanscom': 9377, 'ncpc': 9378, 'adultinsidercom': 9379, 'sailboat': 9380, '2258': 9381, 'zybez': 9382, 'aat': 9383, 'duhsaffili': 9384, 'chapter': 9385, 'worldpass': 9386, 'wreckag': 9387, 'gokart': 9388, 'sin': 9389, '1598': 9390, 'thirtysix': 9391, 'reclaim': 9392, 'savvyinsidercom': 9393, 'eclips': 9394, '3647': 9395, 'bjscom': 9396, 'glenwood': 9397, 'iga': 9398, 'globe': 9399, 'warcraft': 9400, 'latino': 9401, 'mosler': 9402, 'wilmington': 9403, 'contempo': 9404, 'acewar': 9405, 'lewisclark': 9406, 'housaton': 9407, 'subtransf': 9408, 'berrien': 9409, 'hometown': 9410, '258': 9411, 'rubi': 9412, 'opiat': 9413, '04202012': 9414, '03222013': 9415, 'custodyupd': 9416, '08062013': 9417, '23765788': 9418, 'formula': 9419, 'behrain': 9420, 'uab': 9421, 'resourcesonli': 9422, 'proprietor': 9423, 'clarita': 9424, 'reassembl': 9425, 'friendpingcom': 9426, 'infolink': 9427, '1820': 9428, 'serverpronto': 9429, 'cloudpronto': 9430, 'overflow': 9431, 'ninemonth': 9432, 'crazi': 9433, 'motorcycl': 9434, 'truncat': 9435, 'postsecondari': 9436, 'iwacu': 9437, 'endow': 9438, 'buffet': 9439, 'portrait': 9440, '05292012': 9441, '654000': 9442, 'kearney': 9443, '1985updat': 9444, '06012012': 9445, 'nesi': 9446, 'chadron': 9447, 'peru': 9448, '09102012': 9449, 'nebraskalincoln': 9450, '5000updat': 9451, '06222013': 9452, 'systemsupd': 9453, 'uersnam': 9454, 'duan': 9455, 'gridiron': 9456, '2109': 9457, 'officialsupd': 9458, '07182012': 9459, 'moab': 9460, 'novel': 9461, 'workbook': 9462, 'usedbook': 9463, 'phandroid': 9464, 'androidforumscom': 9465, 'androidforum': 9466, '8900': 9467, '1313': 9468, 'marquett': 9469, 'gm': 9470, 'dialin': 9471, '11122012': 9472, 'securedupd': 9473, 'entertainmentupd': 9474, 'napervil': 9475, 'weathergov': 9476, 'toolbar': 9477, 'telco': 9478, '847': 9479, 'imageshack': 9480, 'usedcar': 9481, 'dealershipupd': 9482, '02132013': 9483, 'edg': 9484, 'basha': 9485, 'havasu': 9486, 'pinal': 9487, 'lossport': 9488, 'httpsocrportalhhsgovocrbreachbreachreport': 9489, 'httpswwwdatabreachesnetalabamawomanpleadsguiltyinidtheftandupd': 9490, '01292013': 9491, 'ringupd': 9492, '3132013': 9493, 'httpsocrportalhhsgovocrbreachbreachreportupd': 9494, 'multiyear': 9495, 'breachesscott': 9496, 'summeral': 9497, 'patientsw': 9498, 'enact': 9499, 'pressth': 9500, 'informationhttpwwwnbcdfwcomnewshealthchildrenshealthpays3mfineoverpat': 9501, 'californiaupd': 9502, '8252014': 9503, 'evidentiari': 9504, '1079': 9505, 'talyst': 9506, 'mdlnr': 9507, 'emailsaddit': 9508, 'reconcil': 9509, 'employeeâ': 9510, 'rainier': 9511, 'warehouseth': 9512, 'garrettro': 9513, 'eras': 9514, 'diana': 9515, 'guth': 9516, 'hansen': 9517, 'stolenspecif': 9518, 'providedmor': 9519, 'urogynecolog': 9520, 'patientsno': 9521, 'containedmor': 9522, 'midatlant': 9523, '630': 9524, 'baskin': 9525, 'clinicmor': 9526, 'sunflow': 9527, 'materialth': 9528, 'parenthood': 9529, 'dispend': 9530, 'logsmor': 9531, '955': 9532, 'anser': 9533, 'contactmor': 9534, 'arturo': 9535, 'toma': 9536, '680': 9537, 'wile': 9538, 'epi': 9539, '2153': 9540, 'implementig': 9541, 'syystem': 9542, '4668': 9543, 'nvestig': 9544, 'bphi': 9545, '2202': 9546, 'inusr': 9547, 'followng': 9548, 'wih': 9549, 'aspir': 9550, 'facitl': 9551, 'hhsmore': 9552, 'livongo': 9553, 'filesfilm': 9554, 'grx': 9555, 'medicap': 9556, 'seim': 9557, 'nonbusi': 9558, '30972': 9559, '603': 9560, 'mailng': 9561, 'refresh': 9562, 'proceduresmor': 9563, 'jasacar': 9564, 'lossther': 9565, 'computerelectron': 9566, 'recordsemaillaptopnetwork': 9567, 'incidentdestop': 9568, 'computernetwork': 9569, 'accesstheft': 9570, 'theftlaptopemail': 9571, 'laptopnetwork': 9572, 'incidentemailnetwork': 9573, 'incidentunauthor': 9574, 'accessdisclosurenetwork': 9575, 'serverelectron': 9576, 'emrehr': 9577, 'httpwwwhealthcareinformaticscomnewsitemcybersecurityclose1500a': 9578, 'accessdisclosurepap': 9579, 'disposalpap': 9580, 'accessdisclosurepaperfilm': 9581, 'incidentoth': 9582, 'paperfilm': 9583, 'tag': 9584, 'companydur': 9585, 'possibleth': 9586, 'schriever': 9587, 'httpsidfgidahogovpressidahofishandgamecustomerinformationpo': 9588, 'accessdisclosureelectron': 9589, 'mid2006': 9590, 'informationand': 9591, 'eyehair': 9592, 'httpwdfwwagovlicensingwildsystem': 9593, 'accessdisclosureport': 9594, 'httpsocrportalhhsgovocrbreachbreachreportjsfjsessionid9': 9595, 'identifir': 9596, 'subscriberbil': 9597, 'accountsnotic': 9598, 'residentsbegin': 9599, 'sixtythre': 9600, '263': 9601, 'ramscrap': 9602, 'corporateown': 9603, 'exp': 9604, '240000': 9605, 'datawhat': 9606, 'maygo': 9607, 'deeper': 9608, 'associateson': 9609, 'includedal': 9610, 'httpwwwkdadsksgov': 9611, '18004323535': 9612, 'kahlea': 9613, 'porter': 9614, 'chegg': 9615, 'yellowston': 9616, 'ranch': 9617, 'bcbsnc': 9618, 'httpwwwbcbsnccomcontentcorporateprivacybreach20150925htmhttphealthitsecuritycomnewstheftprintingerrorleadtohealthdat': 9619, 'barrinton': 9620, 'machinc': 9621, 'httpwwwbarringtonorthocomsitesbarringtonorthocomfileshipaapathttphealthitsecuritycomnewstheftprintingerrorleadtohealthdat': 9622, 'membersthi': 9623, 'chldren': 9624, 'httphealthitsecuritycomnewsmisprintedletterleadstoaffinityhealett': 9625, 'httpwwwaffinityplanorguploadedfilesaffinitywhowearepressrel': 9626, 'medicationpathway': 9627, 'httphealthitsecuritycomnewslaptoptheftresultsinphidatabreach': 9628, '554': 9629, 'carupd': 9630, 'gynecolog': 9631, 'healthgroup': 9632, 'caudil': 9633, 'veljko': 9634, 'zivkovich': 9635, 'colman': 9636, 'whitney': 9637, 'moli': 9638, '2123': 9639, 'unitedhealth': 9640, 'carecor': 9641, 'hil': 9642, 'purs': 9643, 'charlton': 9644, 'palli': 9645, 'cahaba': 9646, 'feeforservic': 9647, 'dietician': 9648, 'tuba': 9649, 'hpsm': 9650, 'government': 9651, 'areclara': 9652, 'maass': 9653, '8795commun': 9654, '6950kimbal': 9655, '6785monmouth': 9656, '6443newark': 9657, '15015saint': 9658, '6179also': 9659, '32008': 9660, 'cchh': 9661, 'yanez': 9662, 'tissu': 9663, 'hjd': 9664, 'mold': 9665, 'hampshireupd': 9666, '03052012': 9667, 'newburyport': 9668, 'lowel': 9669, 'lea': 9670, 'pri': 9671, '2223': 9672, 'aroudn': 9673, 'workfit': 9674, '771': 9675, 'miscommun': 9676, 'pbh': 9677, 'dma': 9678, '8updat': 9679, 'amerita': 9680, 'employersponsor': 9681, 'fender': 9682, 'ukhealthcar': 9683, '27updat': 9684, '08162012': 9685, '505': 9686, '890': 9687, 'auditori': 9688, 'colon': 9689, 'digest': 9690, '17updat': 9691, '11262012': 9692, 'gulf': 9693, 'chronolog': 9694, 'reclassifi': 9695, '1749': 9696, 'sanit': 9697, 'brigham': 9698, '615': 9699, 'connext': 9700, '4814': 9701, 'reconstruct': 9702, 'assurancemd': 9703, 'zdi': 9704, 'westchest': 9705, 'admitt': 9706, '4305': 9707, 'grumman': 9708, 'occr': 9709, 'bcc': 9710, 'reproduct': 9711, 'radiat': 9712, 'dose': 9713, 'newport': 9714, 'administratorlevel': 9715, 'atla': 9716, 'avermedia': 9717, '12202013': 9718, 'luther': 9719, 'bahoo': 9720, 'allaaddin': 9721, 'mollabashi': 9722, 'nathan': 9723, 'f': 9724, 'gilbert': 9725, 'neuropsycholog': 9726, 'ashburn': 9727, 'unihealth': 9728, 'fitzgerald': 9729, 'palmyra': 9730, 'sylvest': 9731, 'cardnotpres': 9732, 'breachindustri': 9733, 'transactin': 9734, 'cardskreb': 9735, 'midsiz': 9736, 'cmopromis': 9737, 'bere': 9738, 'notat': 9739, 'intth': 9740, '06302014': 9741, 'dosom': 9742, '842014': 9743, 'investigatin': 9744, 'mbia': 9745, 'wellth': 9746, 'selfdescrib': 9747, 'chatlizardpartrolcom': 9748, 'misguid': 9749, 'amus': 9750, 'annoy': 9751, 'dissapoint': 9752, 'consol': 9753, 'giftsmor': 9754, 'har': 9755, 'simultan': 9756, 'junk': 9757, 'attackmor': 9758, 'leaplab': 9759, 'httpkrebsonsecuritycom201412paydayloannetworksoldinfotoscam': 9760, 'datal': 9761, 'invlov': 9762, 'unauthro': 9763, '93': 9764, 'injust': 9765, 'cardsnoop': 9766, 'httpskrebsonsecuritycom201503naturalgrocersinvestigatingcardb': 9767, 'europeth': 9768, 'harbortouch': 9769, 'httpkrebsonsecuritycom201505harbortouchislatestposvendorbreach': 9770, 'josh': 9771, 'koskinenmr': 9772, 'atte27politicsirscyberbreachmpt': 9773, 'httpkrebsonsecuritycom201505irscrooksstoledataon100ktaxpayersviagettranscriptfeatur': 9774, '5282015': 9775, 'httpwwwcnncom20150527politicsirscyberbreachrussiaindexhtmlupd': 9776, '8172015': 9777, 'threetim': 9778, 'httpmoneycnncom20150817technologyirsdatatheftindexhtmlprivaci': 9779, 'ecellar': 9780, 'consumerdirect': 9781, 'httpkrebsonsecuritycom201506breachatwinerycardprocessormissinglink': 9782, '732015': 9783, 'reportd': 9784, 'notificaton': 9785, 'httpoagcagovecrimedatabreachlist': 9786, 'cain': 9787, 'corison': 9788, 'winerycharl': 9789, 'krug': 9790, 'modavi': 9791, 'flora': 9792, 'vineyardgemston': 9793, 'heitz': 9794, 'cellarsjessup': 9795, 'cellar': 9796, 'larkmead': 9797, 'vinter': 9798, 'growermartinelli': 9799, 'outpost': 9800, 'vineyardspalmaz': 9801, 'vineyardsrepri': 9802, 'rhi': 9803, 'vineyardssilverado': 9804, 'signorello': 9805, 'estateround': 9806, 'pond': 9807, 'winesspr': 9808, 'wineryrombau': 9809, 'cellarsclif': 9810, 'fred': 9811, 'cheat': 9812, 'compromisedreach': 9813, 'noel': 9814, 'biderman': 9815, 'feverishli': 9816, 'respondingbesid': 9817, 'snippet': 9818, 'httpkrebsonsecuritycom201507onlinecheatingsiteashleymadisonhaupd': 9819, '8182015': 9820, 'onlinea': 9821, '97': 9822, 'onion': 9823, 'chargeraja': 9824, 'bhatia': 9825, 'ashleymadison': 9826, 'httpwwwwiredcom201508happenedhackerspostedstolenashleymadishttpkrebsonsecuritycom201508wastheashleymadisondatabaseleak': 9827, 'ubiqu': 9828, '467': 9829, 'transfersubiqu': 9830, 'landesk': 9831, 'employeesemail': 9832, 'prize': 9833, 'httpskrebsonsecuritycom201603seagatephishexposesallemployeew': 9834, 'httpkrebsonsecuritycom201603hackerstargetantiddosfirmstaminu': 9835, 'bigthre': 9836, 'kroger': 9837, 'httpkrebsonsecuritycom201605noodlescompanyprobesbreachclaimsupd': 9838, '972016': 9839, 'presentselco': 9840, 'broomfieldbas': 9841, 'fastcasu': 9842, 'queenmor': 9843, 'httpwwwdenverpostcom20160907noodlescompanydatabreach': 9844, 'gotomypc': 9845, 'boutiqu': 9846, '62': 9847, 'locationson': 9848, 'twodozen': 9849, 'countrytoday': 9850, 'httpkrebsonsecuritycom201607kimptonhotelsprobescardbreachcla': 9851, 'systemsmicro': 9852, '330000': 9853, 'httpskrebsonsecuritycom201608databreachatoraclesmicrospoint': 9854, 'soundcloud': 9855, 'spotifi': 9856, 'reddit': 9857, 'customersin': 9858, '1110': 9859, 'utc': 9860, 'wrotedyn': 9861, 'teammor': 9862, 'httpskrebsonsecuritycom201610ddosondynimpactstwitterspotifycompani': 9863, 'httpdyncomblogdynstatementon10212016ddosattack': 9864, 'locationslast': 9865, 'locationsask': 9866, 'denham': 9867, 'impactedsan': 9868, 'fuel': 9869, 'stationson': 9870, 'pen': 9871, 'steve': 9872, 'horan': 9873, 'noticeth': 9874, 'laptopsask': 9875, 'httpskrebsonsecuritycom201703paymentsgiantverifoneinvestigatin': 9876, 'netalexandria': 9877, 'vabas': 9878, 'snare': 9879, 'mckenzi': 9880, 'httpkrebsonsecuritycom': 9881, 'docusignsan': 9882, 'recipientnam': 9883, 'header': 9884, 'noncor': 9885, 'servicerel': 9886, 'spamdocusigncom': 9887, 'misspel': 9888, 'docusgncom': 9889, 'docuscom': 9890, 'httpswwwdocusigncom': 9891, 'httpswwwdocusignnet': 9892, 'advisoryif': 9893, 'doubt': 9894, 'emaildocusign': 9895, 'perenni': 9896, 'intensifi': 9897, 'nefari': 9898, 'authenticationin': 9899, 'claimsmor': 9900, 'fiddl': 9901, 'bit': 9902, 'claimid123456789in': 9903, 'enumer': 9904, 'happili': 9905, 'medicationsi': 9906, 'utmost': 9907, 'eport': 9908, 'drivein': 9909, 'peddl': 9910, 'shadowi': 9911, 'citybas': 9912, 'mckenna': 9913, 'aldridg': 9914, 'mla': 9915, 'officesa': 9916, 'serversmla': 9917, '1877371790218773717902': 9918, 'protectid': 9919, 'httpwwwprotectmyidcomredeem': 9920, 'mymatrix': 9921, 'tho': 9922, 'jeffrey': 9923, 'lisenbi': 9924, '18002826242': 9925, 'mymatrixx': 9926, '18887705571': 9927, 'osteopath': 9928, '216000': 9929, 'overlay': 9930, 'breachreportedli': 9931, 'creation': 9932, 'intervalsthes': 9933, 'tin': 9934, '18663128654': 9935, 'feinsand': 9936, 'usedthos': 9937, '18002926697': 9938, 'supportservaltadmcom': 9939, 'laon': 9940, 'hexawar': 9941, 'bankcredit': 9942, 'dlnaddress': 9943, 'usaa': 9944, 'nsu': 9945, 'namesssn': 9946, 'statusw': 9947, 'httpswwwoagstatemdusidtheftbreach20notices2015itu262365pdf': 9948, 'httpwwwnewenglandcalendarcom': 9949, 'httpwwwancompanycalcom': 9950, 'een': 9951, 'httpswwwoagstatemdusidtheftbreach20notices2015itu263308pdf': 9952, 'amen': 9953, 'companiesmor': 9954, 'httpswwwoagstatemdusidtheftbreach20notices2015itu262196pdf': 9955, 'httpswwwoagstatemdusidtheftbreach20notices2015itu262197pdf': 9956, 'wabash': 9957, 'httpswwwoagstatemdusidtheftbreach20notices2015itu262315pdf': 9958, 'mademor': 9959, 'httpswwwoagstatemdusidtheftbreach20notices2015itu262206pdf': 9960, '6671': 9961, 'twentytwo': 9962, 'cahtol': 9963, 'unaccompani': 9964, 'acf': 9965, 'resettl': 9966, 'orr': 9967, 'acfocr': 9968, 'httpswwwoagstatemdusidtheftbreach20notices2015itu262207pdf': 9969, 'httpswwwoagstatemdusidtheftbreach20notices2015itu262351pdf': 9970, 'httpswwwoagstatemdusidtheftbreach20notices2015itu262305pdf': 9971, 'hdi': 9972, 'incontin': 9973, 'wwwhdiscom': 9974, 'httpswwwoagstatemdusidtheftbreach20notices2015itu262307pdf': 9975, 'sa': 9976, 'websitewwwsassafetycom': 9977, 'logon': 9978, 'httpswwwoagstatemdusidtheftbreach20notices2015itu262306pdf': 9979, 'flewel': 9980, 'mitton': 9981, 'cashmor': 9982, 'httpswwwoagstatemdusidtheftbreach20notices2015itu262309pdf': 9983, 'breez': 9984, 'httpswwwoagstatemdusidtheftbreach20notices2015itu262311201pdf': 9985, 'httpoagcagovecrimedatabreachreportssb2463675': 9986, 'addrss': 9987, 'homepati': 9988, 'addr': 9989, 'ieransomwar': 9990, '842': 9991, 'diagnosescondit': 9992, 'shakedown': 9993, 'demandsvarieti': 9994, 'bayth': 9995, '1146': 9996, 'upcom': 9997, 'baynetflix': 9998, 'streamer': 9999, 'leakedrep': 10000, 'developmentaccord': 10001, 'ifc': 10002, 'postproduct': 10003, 'piracynew': 10004, 'torrentfreak': 10005, 'availablein': 10006, 'piraci': 10007, 'underworld': 10008, 'centralreserv': 10009, 'statementsabr': 10010, 'investigatori': 10011, 'systemsabr': 10012, 'wholli': 10013, 'happenedtalx': 10014, 'wwwmytaxformcom': 10015, 'httpspaperlesspaytalxcomallegi': 10016, 'involvedan': 10017, 'cardprocessor': 10018, 'toidentifi': 10019, 'dataus': 10020, 'wwwkurufootwearcom': 10021, '2017sinc': 10022, 'whatinform': 10023, 'debitand': 10024, 'orcredit': 10025, 'incidentthrough': 10026, 'involvedthrough': 10027, 'onfebruari': 10028, 'atwwwkurufootwearcom': 10029, 'thisev': 10030, 'happenedin': 10031, 'involvedinform': 10032, 'reportsof': 10033, 'statewideth': 10034, 'avanco': 10035, 'virginiabas': 10036, 'governmentsth': 10037, 'internetwjactv': 10038, 'johnstown': 10039, 'pennsylvaniabas': 10040, 'onlineeri': 10041, 'oci': 10042, 'lana': 10043, 'correctedre': 10044, 'onlinelett': 10045, 'breachccap': 10046, 'homerul': 10047, 'countyth': 10048, 'serviceno': 10049, 'techupguard': 10050, 'accountschri': 10051, 'israelbas': 10052, 'monthsvickeri': 10053, '22the': 10054, 'formermaiden': 10055, 'coincid': 10056, 'authoiz': 10057, 'asneededbasi': 10058, 'issueswhat': 10059, 'involvedit': 10060, 'therebi': 10061, '85pound': 10062, 'phil': 10063, 'wsuwsu': 10064, 'unravel': 10065, 'computerforens': 10066, 'protectionth': 10067, 'jobtrain': 10068, 'employmentweil': 10069, 'longterm': 10070, 'lostth': 10071, 'httpoagcagovsystemfilesnonmassachusetts20consumer20notificati': 10072, 'nihfcu': 10073, 'thestatecom': 10074, 'compulinx': 10075, 'moneygram': 10076, 'bossier': 10077, 'gmat': 10078, 'reactiv': 10079, 'usda': 10080, '82907': 10081, 'monstercom': 10082, '5247': 10083, 'managemyhomecom': 10084, '50708': 10085, '53108': 10086, 'courant': 10087, '403894': 10088, '33586': 10089, '18361': 10090, '83008': 10091, '21909': 10092, 'redbox': 10093, 'snap': 10094, 'ream': 10095, 'smithtown': 10096, 'stockhold': 10097, 'tva': 10098, 'camelot': 10099, 'zealand': 10100, 'consul': 10101, 'jerusalem': 10102, 'unpatch': 10103, 'phplist': 10104, 'wilk': 10105, 'walk': 10106, 'brazen': 10107, 'rudder': 10108, 'organizedcrim': 10109, 'broadridg': 10110, '8508': 10111, 'adrienn': 10112, 'denis': 10113, 'httpwwwjusticegovusaoalmpresscurrentpress20100505stovallpdf': 10114, 'elanc': 10115, 'charlottebas': 10116, 'nysebac': 10117, 'nysec': 10118, '480000': 10119, 'doityourself': 10120, 'collective2com': 10121, 'policyupd': 10122, '06032010': 10123, '11172010': 10124, 'explicitli': 10125, '362014': 10126, 'whr': 10127, '05182010': 10128, 'wwwwyndhamworldwidecomcustomercaredataclaimcfmupd': 10129, '05122011': 10130, '06262012': 10131, 'httpwwwftcgovopa201206wyndhamshtmupd': 10132, 'assertionupd': 10133, '06252014': 10134, '25th': 10135, 'interlocutori': 10136, 'esther': 10137, 'sala': 10138, 'opion': 10139, 'bl': 10140, '174519': 10141, 'dnj': 10142, '213cv01887': 10143, '62314updat': 10144, '12092015': 10145, 'arrow': 10146, '4004': 10147, 'aircard': 10148, '596': 10149, 'bigg': 10150, 'irrelev': 10151, 'fsa': 10152, 'nsld': 10153, '21year': 10154, 'serviceupd': 10155, '8262011': 10156, 'tripadvisorcom': 10157, 'gunnallen': 10158, 'hulu': 10159, 'networkqrioc': 10160, 'handlepsn': 10161, 'rebuild': 10162, '532011': 10163, '24600000': 10164, 'austria': 10165, '12700': 10166, '10700': 10167, 'knownupd': 10168, '562011': 10169, 'readupd': 10170, '572011': 10171, 'databaseservic': 10172, 'indefinit': 10173, 'letterupd': 10174, '5172011': 10175, '5232011': 10176, 'concis': 10177, '7212011': 10178, 'zurich': 10179, '10112011': 10180, 'unjust': 10181, 'enrich': 10182, 'bailment': 10183, 'consumerprotect': 10184, 'lawsuitupd': 10185, '7302014': 10186, 'ps3': 10187, 'theme': 10188, '363': 10189, 'fox15': 10190, '73000': 10191, 'mastercardissu': 10192, 'reinstat': 10193, 'consecut': 10194, 'greec': 10195, 'sweden': 10196, 'kingdom': 10197, 'eveningupd': 10198, '06042013': 10199, '7170': 10200, 'reopen': 10201, 'eatingdisord': 10202, '763': 10203, '6827733': 10204, 'workup': 10205, 'stereo': 10206, 'gp': 10207, '13updat': 10208, '10162011': 10209, 'individualsupd': 10210, '5117799': 10211, '01062012': 10212, 'tapesupd': 10213, '03142012': 10214, '04082012': 10215, 'dcupdat': 10216, '5132014': 10217, 'individualsin': 10218, 'boasberg': 10219, 'thorni': 10220, 'partyh': 10221, 'kolbasuk': 10222, 'mcgee': 10223, 'govinfosecur': 10224, '513': 10225, 'carmel': 10226, 'lapd': 10227, 'biograph': 10228, 'coalit': 10229, 'helpdesk': 10230, 'personalidentif': 10231, 'showticket': 10232, 'travelocitycom': 10233, 'tradepolici': 10234, 'alpharetta': 10235, 'daytoday': 10236, 'golocalprov': 10237, 'costoflivingadjust': 10238, 'glenn': 10239, '6458020': 10240, 'linkedincorp': 10241, 'mannerupd': 10242, '03062013': 10243, 'sufferedupd': 10244, 'injuryupd': 10245, '05232016': 10246, 'cori': 10247, 'linkein': 10248, 'httpfortunecom20160518linkedindatabreachemailpassword': 10249, 'cftc': 10250, 'ctc': 10251, 'passwordupd': 10252, '07132012': 10253, 'devzon': 10254, '20updat': 10255, '07312012': 10256, '8312016': 10257, '8243809': 10258, 'seller': 10259, '110795': 10260, 'paryol': 10261, 'noon': 10262, 'neutral': 10263, '387999': 10264, 'encryptedupd': 10265, '10312012': 10266, '31updat': 10267, '11052012': 10268, 'chicagoupd': 10269, '11152012': 10270, '11292012': 10271, 'obtainedupd': 10272, 'resetupd': 10273, '03012013': 10274, '04022013': 10275, '1448798': 10276, '41446': 10277, 'monitoringupd': 10278, '10252013': 10279, 'reconnaiss': 10280, 'nongovernment': 10281, 'monmouth': 10282, 'spi': 10283, 'devicescbr': 10284, 'cbr': 10285, 'httpftcgovopa201301cbrshtm': 10286, 'littleton': 10287, 'wellupd': 10288, '03112013': 10289, 'ssytem': 10290, 'documentupd': 10291, 'offersanddealslatimescom': 10292, 'jawbon': 10293, 'mytalk': 10294, 'zombi': 10295, 'sneak': 10296, 'depauw': 10297, 'pinterest': 10298, 'curios': 10299, '08072013': 10300, '9252013': 10301, 'citadel': 10302, '8500': 10303, 'activitiesupd': 10304, '05132013': 10305, 'hawaiian': 10306, '03092013': 10307, 'heath': 10308, 'codeupd': 10309, '04232013': 10310, 'editor': 10311, 'catalog': 10312, 'stepsupd': 10313, '03232013': 10314, 'sr': 10315, 'langley': 10316, 'plane': 10317, '7262046': 10318, 'willard': 10319, 'tooel': 10320, 'unavail': 10321, 'chasecom': 10322, 'pawn': 10323, '10142013': 10324, 'unprofession': 10325, '0762016': 10326, 'keen': 10327, 'brattleboro': 10328, 'collegecredit': 10329, 'syring': 10330, 'wanton': 10331, 'punit': 10332, 'threshold': 10333, 'lawupd': 10334, '08312013': 10335, 'guantanamo': 10336, 'detaine': 10337, 'paus': 10338, 'wawa': 10339, 'rochest': 10340, 'besid': 10341, 'cenpatico': 10342, '04172013': 10343, 'hostgat': 10344, 'inacit': 10345, '05032013': 10346, 'gasolin': 10347, '8100': 10348, 'reus': 10349, 'mayhem': 10350, '1925': 10351, '2021': 10352, '21updat': 10353, '07082013': 10354, 'namecom': 10355, 'htp': 10356, 'int': 10357, 'exposedaddit': 10358, '05152013': 10359, 'pledmont': 10360, 'optinos': 10361, 'akron': 10362, '47452': 10363, 'lp': 10364, 'dataservic': 10365, '127000': 10366, 'lowincom': 10367, 'foodstamp': 10368, 'parol': 10369, '05232013': 10370, 'terracomrel': 10371, 'terracom': 10372, 'yourtel': 10373, 'dent': 10374, '22900': 10375, 'concert': 10376, 'proxi': 10377, 'eason': 10378, '2638': 10379, 'toddler': 10380, 'drupalorg': 10381, 'associationdrupalorg': 10382, 'drupal': 10383, 'serer': 10384, 'groupsdrupalorg': 10385, '11222016': 10386, 'amherst': 10387, 'httpwwwhhsgovaboutnews20161122umasssettlespotentialhipaav': 10388, 'raley': 10389, 'datareportedli': 10390, 'ownership': 10391, 'dyi': 10392, 'hat': 10393, 'purposeudp': 10394, '47000': 10395, '20112012': 10396, 'backseat': 10397, 'astronomi': 10398, 'triad': 10399, 'fssa': 10400, 'rcr': 10401, '990t': 10402, 'shredit': 10403, 'guildford': 10404, 'curious': 10405, 'banana': 10406, 'troubleshoot': 10407, 'calvert': 10408, 'omig': 10409, 'paitient': 10410, '675000': 10411, 'inforim': 10412, 'openenrol': 10413, 'ot': 10414, 'delt': 10415, '160': 10416, 'financilai': 10417, 'oshu': 10418, 'healthdepartmentissu': 10419, 'plot': 10420, 'hte': 10421, '08192013': 10422, '09132013': 10423, '09302013': 10424, 'alliedbarton': 10425, 'incorect': 10426, 'divid': 10427, 'frequentfli': 10428, '08022013': 10429, 'balkan': 10430, 'additionali': 10431, 'michican': 10432, 'stricter': 10433, 'lostupd': 10434, '08302013': 10435, 'doeinfo': 10436, '2539': 10437, '3172': 10438, '104000updat': 10439, 'indidvidu': 10440, '62000': 10441, '380000': 10442, 'legend': 10443, 'accidnet': 10444, 'hcr': 10445, 'netidusernam': 10446, 'bpa': 10447, 'webmail': 10448, 'registrar': 10449, 'circumstancesupd': 10450, '82160': 10451, 'customersupd': 10452, '09042013': 10453, 'freight': 10454, '11042013': 10455, 'handler': 10456, 'jewelrey': 10457, 'bpss': 10458, 'univeristi': 10459, '09092013': 10460, 'ccv2': 10461, 'blackhhawk': 10462, 'usedupd': 10463, '09152013': 10464, 'conexi': 10465, '4457': 10466, 'cobbcheroke': 10467, '550000': 10468, 'usf': 10469, 'boatsnet': 10470, 'partzillacom': 10471, 'so': 10472, '10232013': 10473, 'expier': 10474, 'conway': 10475, 'durant': 10476, 'instructur': 10477, '11262013': 10478, '16642': 10479, 'afterhour': 10480, '687': 10481, 'rt': 10482, 'ellucian': 10483, 'morton': 10484, 'triton': 10485, 'furman': 10486, '13cv06749': 10487, 'audiolog': 10488, 'brainwav': 10489, '433': 10490, 'custoemr': 10491, 'photoshop': 10492, 'indesign': 10493, '10112013': 10494, 'serverupd': 10495, '10212013': 10496, '11202013': 10497, 'australianbas': 10498, 'cupid': 10499, 'collar': 10500, 'tenet': 10501, 'rothman': 10502, 'internalus': 10503, '2350': 10504, '9900': 10505, '10082013': 10506, '10042013': 10507, 'backyard': 10508, 'cop': 10509, '960': 10510, 'thin': 10511, 'baysid': 10512, 'neck': 10513, 'greenval': 10514, 'merillon': 10515, '7035': 10516, 'situationupd': 10517, '3102014': 10518, 'supergetinfo': 10519, 'clientskreb': 10520, 'rack': 10521, 'feb2013': 10522, 'americanskreb': 10523, 'httpkrebsonsecuritycomtagcourtventuresupd': 10524, '2232015': 10525, '31014': 10526, '22315': 10527, '7152015': 10528, 'vietnames': 10529, '7212015': 10530, 'invegtig': 10531, 'gabriel': 10532, 'garfield': 10533, 'moneterey': 10534, 'whittier': 10535, 'mont': 10536, 'mccarthi': 10537, 'topfer': 10538, 'kozmetski': 10539, 'webcam': 10540, 'gorham': 10541, 'hrpayrol': 10542, '3800': 10543, 'inver': 10544, 'mp': 10545, 'paragon': 10546, 'boon': 10547, 'limousin': 10548, '6633': 10549, 'openbook': 10550, 'cellular': 10551, '15updat': 10552, '11182013': 10553, 'missingupd': 10554, '11212013': 10555, 'rightsupd': 10556, '11292013': 10557, '9414': 10558, 'impropr': 10559, 'breakfast': 10560, 'clariti': 10561, 'cardiopumlonari': 10562, '24500': 10563, 'yoke': 10564, 'rosauer': 10565, 'resolvedupd': 10566, '12022013': 10567, '12072013': 10568, 'kahkedjian': 10569, 'edd': 10570, 'flamingo': 10571, '860': 10572, '99': 10573, 'ucard': 10574, '12062013': 10575, 'wwwucardchasecom': 10576, 'attackchild': 10577, '12092013': 10578, 'siu': 10579, 'mcandrew': 10580, 'gay': 10581, 'lesbian': 10582, '12152013': 10583, 'insync': 10584, 'exhibit': 10585, 'marketupd': 10586, '12242013': 10587, '12272013': 10588, '12282013': 10589, '122014': 10590, 'officeupd': 10591, '1102014': 10592, 'climb': 10593, 'thoughtupd': 10594, '1142014': 10595, 'trojanposram': 10596, 'memoryscrap': 10597, 'blackpo': 10598, 'agenciesupd': 10599, '1202014': 10600, 'firmupd': 10601, '1212014': 10602, 'chiefa': 10603, 'newtorkupd': 10604, 'customerssharehold': 10605, 'maureen': 10606, 'collier': 10607, 'directorsupd': 10608, '252014': 10609, 'summerupd': 10610, '20122013': 10611, 'tennova': 10612, 'primm': 10613, 'whiskey': 10614, 'pete': 10615, 'mardi': 10616, 'gra': 10617, 'gulch': 10618, 'twain': 10619, 'rv': 10620, 'lakesid': 10621, 'jo': 10622, 'frontier': 10623, 'deloach': 10624, 'williamson': 10625, 'novembercurr': 10626, '1918': 10627, 'ccha': 10628, 'hisher': 10629, 'businessth': 10630, '919': 10631, 'syrian': 10632, 'lightcontact': 10633, 'snapchatcom': 10634, 'straight': 10635, 'dope': 10636, 'schoolmor': 10637, 'emergencyaddit': 10638, 'courrs': 10639, 'administratorsth': 10640, 'rsiaccord': 10641, '1286': 10642, 'individualslock': 10643, '192014': 10644, 'customari': 10645, 'attacksupd': 10646, 'systemupd': 10647, '721105': 10648, 'standingth': 10649, 'rakecia': 10650, 'matres': 10651, 'quilti': 10652, 'inflat': 10653, 'norcom': 10654, 'duval': 10655, 'skykomish': 10656, 'snoqualmi': 10657, '231': 10658, 'fulltim': 10659, 'informatin': 10660, '4658': 10661, 'dew': 10662, 'companyupd': 10663, '2112014': 10664, 'fear': 10665, 'manay': 10666, 'fraudlent': 10667, '5302014': 10668, 'fullest': 10669, 'disclosuresth': 10670, 'spokewoman': 10671, 'uhealth': 10672, 'venetian': 10673, 'palazzo': 10674, 'sheldon': 10675, 'adelson': 10676, 'minist': 10677, 'netanyahuin': 10678, 'macau': 10679, 'hackedupd': 10680, '2282014': 10681, 'originin': 10682, 'crowdfund': 10683, 'kickstart': 10684, 'sourcethi': 10685, '309079': 10686, 'shadi': 10687, 'campusesth': 10688, 'apprar': 10689, 'databaseaccord': 10690, 'intrusionsth': 10691, 'statementsth': 10692, 'additino': 10693, 'serviceunivers': 10694, 'informational': 10695, '3014054440': 10696, 'datasecurityumdedu': 10697, 'datamin': 10698, 'webcrawl': 10699, 'capabilitiesth': 10700, 'downth': 10701, '1866254148418662541484': 10702, 'httpbitly1kbx505': 10703, 'os': 10704, 'x': 10705, 'himherself': 10706, 'rief': 10707, 'froze': 10708, 'tourist': 10709, 'hault': 10710, 'renegad': 10711, 'entrepreneur': 10712, 'gox': 10713, 'messi': 10714, 'raw': 10715, 'inexperienceit': 10716, 'collaps': 10717, '460': 10718, '274': 10719, 'tokyobas': 10720, 'inner': 10721, 'endus': 10722, 'suck': 10723, 'preencrypt': 10724, 'outgoingkrebsonsecur': 10725, 'cmopani': 10726, 'plunder': 10727, 'applicatoin': 10728, 'systemson': 10729, '282000': 10730, 'investigationupd': 10731, '3172014': 10732, 'breachincid': 10733, 'postgazetteth': 10734, 'callcent': 10735, '780': 10736, 'larri': 10737, 'skogen': 10738, 'wwwndusedudata': 10739, 'affectedauthor': 10740, 'hackth': 10741, 'requestoffici': 10742, '1307': 10743, 'affectedther': 10744, 'numbershsm': 10745, 'nomorerackcom': 10746, 'vishal': 10747, 'wtih': 10748, 'leakag': 10749, 'systemsdiscov': 10750, 'centerharp': 10751, '1087': 10752, 'bloomfield': 10753, 'numberswhen': 10754, 'hospitalsfor': 10755, '18558309731': 10756, '8800': 10757, 'ssnpatient': 10758, 'hso': 10759, '18004957647': 10760, 'statelicens': 10761, '9700': 10762, 'seizedservic': 10763, 'mclellan': 10764, 'brutal': 10765, 'higherprofil': 10766, 'frenzi': 10767, 'ton': 10768, 'bilk': 10769, 'companyexpert': 10770, 'emloye': 10771, 'stare': 10772, '339': 10773, 'victimsit': 10774, 'completedthos': 10775, 'wisconsinparksid': 10776, 'httpwwwuwpeduexplorecontactusindexcfm': 10777, '586': 10778, 'gestat': 10779, 'suv': 10780, '1866313799318663137993': 10781, '158000': 10782, 'boxeetv': 10783, 'changesth': 10784, 'bigmoneyjobscom': 10785, 'probablyonion': 10786, '36802': 10787, 'talent': 10788, 'breachedthos': 10789, 'freeit': 10790, 'protectdeltekcom': 10791, 'knoxvil': 10792, 'exposedaccord': 10793, 'statment': 10794, 'conductedupd': 10795, '4212014': 10796, 'lifelock': 10797, '18553068274': 10798, 'johnhoustonupmcedu': 10799, 'upmcupd': 10800, '5142014': 10801, 'kraemer': 10802, 'mane': 10803, '1877403028118774030281here': 10804, 'httpwwwnewsiastateedunews20140422serverbreach': 10805, '51529446075152944607': 10806, '51529465255152946525': 10807, 'serverbreachiastateeducallsend': 10808, 'wont': 10809, 'accountsaol': 10810, '1142016': 10811, 'ammend': 10812, 'suchmor': 10813, 'plano': 10814, 'safetyfirst': 10815, 'lossa': 10816, 'passwordsebay': 10817, 'informationhttpwwwebayinccomhttpwwwebayinccominthenewsstoryfaqebaypasswordchang': 10818, 'useinform': 10819, 'httpwwwkshbcomnewslocalnewsmistakeduringconstructionledtolupd': 10820, '1232014': 10821, 'mistaken': 10822, 'healthar': 10823, 'httpwwwkshbcomnewslocalnewsexclusivesettlementreachedoverim': 10824, 'promedica': 10825, '1800809295618008092956callsend': 10826, 'childhood': 10827, 'astat': 10828, 'torr': 10829, 'httpwwwpjstarcomarticle20140604news14060956410924new': 10830, 'hershey': 10831, 'hackersthey': 10832, 'compromisedfeder': 10833, 'breech': 10834, 'emailthos': 10835, '1800723499818007234998callsend': 10836, '413': 10837, 'radi': 10838, 'parentguardian': 10839, 'silk': 10840, 'splash': 10841, 'cound': 10842, 'apprehens': 10843, 'butlerth': 10844, 'informationstvinc': 10845, 'houstonian': 10846, 'informationonc': 10847, 'topsecret': 10848, 'clearanceth': 10849, '1176': 10850, 'uic': 10851, 'dataa': 10852, 'orangeburgcalhoun': 10853, 'revpriv8': 10854, 'cnetcom': 10855, 'sitecnet': 10856, 'joomla': 10857, 'hackedth': 10858, 'vulnerabl': 10859, 'cvscaremark': 10860, '742': 10861, 'silverth': 10862, '1714937482517149374825': 10863, 'httpwwwocregistercomarticlesmedical631456raysgrouphtml': 10864, '3763': 10865, 'standalon': 10866, 'httpbitsblogsnytimescom20140818hackofcommunityhealthsystem': 10867, '8262014': 10868, 'httpwwwlatimescombusinesslaficedarsbreach20140823storyhtml': 10869, 'contan': 10870, '33136': 10871, 'httpwwwlatimescombusinesslaficedarsdatabreach20141002stori': 10872, 'unitsth': 10873, 'addressesoffici': 10874, 'continuesmor': 10875, 'httpwwwreuterscomarticle20140822ususasecuritycontractorcyb': 10876, '9182014': 10877, 'carth': 10878, 'httpwwwmercurynewscomsportsci26375263milpitasyouthfootballpl': 10879, 'backoff': 10880, 'specificsmor': 10881, 'httpbringmethenewscom20140827dairyqueenconfirmspotentialbreaupdate9102014': 10882, 'sufferedth': 10883, 'httpminnesotacbslocalcom20140903dairyqueentakingsecuritysteupd': 10884, '10102014': 10885, 'juliu': 10886, 'httpwwwdairyqueencomusendatasecurityincidentaffectedstoreslo': 10887, 'thoughtth': 10888, 'bankexpert': 10889, 'highlevel': 10890, 'undetectedmor': 10891, 'httpwwwfoxnewscompolitics20140828fbireportedlyprobinghackjhttpwwwcnetcomnewsjpmorganhackersaltereddeletedbankrecordssupd': 10892, 'anticip': 10893, 'httpwwwtomsguidecomuschasebankbreachupdatenews19545htmlupd': 10894, 'hermann': 10895, 'patientsreportedli': 10896, 'severn': 10897, 'hackappcom': 10898, 'ushom': 10899, 'inmor': 10900, 'httpwwwlatimescombusinesslafiretailhacking20140904storyhtml': 10901, '9102014': 10902, 'surpass': 10903, 'hackingmor': 10904, 'httpwwwreuterscomarticle20140909ususahomedepotdatabreachiupd': 10905, 'healthcaregov': 10906, 'investigatingaccord': 10907, 'begain': 10908, 'floridareportedli': 10909, 'bartel': 10910, 'provo': 10911, 'httpfox13nowcom20141001provocityschooldistrictwarningemploy': 10912, 'hay': 10913, 'httpksncom20141001forthaysstateuniversityexperiencesdatabr': 10914, 'httpwwwmountsinaihealthorgaboutthehealthsystemnewsreleasesst': 10915, 'touchston': 10916, 'internetth': 10917, 'httpwwwcsoonlinecomarticle2691601databreachtouchstonemed': 10918, 'httpwwwzdnetcomatandthitbyinsiderdatabreachunspecifiednumupd': 10919, '1072014': 10920, 'informationhttpwwwreuterscomarticle20141007usattcybersecurityiduskcn0': 10921, 'worksourc': 10922, 'httpwwworegonlivecommoneyindexssf201410securitybreachdiscov': 10923, 'httpwww9newscomstorynewslocal20141010coloradohealthofficia': 10924, 'systemskmart': 10925, 'investigatorsfor': 10926, '18884885978more': 10927, 'httpabcnewsgocombusinesswirestorykmartlatestvictimdatabreachcallsend': 10928, 'interneton': 10929, 'desktopbas': 10930, 'handsetbas': 10931, 'viewedsnapsav': 10932, 'followingi': 10933, 'unsign': 10934, 'sic': 10935, '500mb': 10936, 'httpwwwtheguardiancomtechnology2014oct13thirdpartysnapchat': 10937, 'pramod': 10938, 'raval': 10939, 'intactth': 10940, 'shreddedmor': 10941, 'httpwwwclickondetroitcomnewsmedicalfilesfounddumpedinoakpar': 10942, 'novant': 10943, 'gaffney': 10944, 'httpwwwwspacomstory26681323laptopswithpatientdatastolenfrom': 10945, 'testament': 10946, 'flyertalk': 10947, 'stayson': 10948, 'brendan': 10949, 'jessi': 10950, 'trice': 10951, 'httpwwwclinicalinnovationcomtopicsprivacysecurityidentitythef': 10952, 'employeescurr': 10953, 'professionala': 10954, 'httpbitsblogsnytimescom20141110oopshealthinsurerexposesmem': 10955, 'racecurr': 10956, 'httphealthitsecuritycom20141110potentialhealthdatabreachhit': 10957, 'dallasbas': 10958, 'planth': 10959, 'httpwwwhealthcareitnewscomnewshackersswipedata60kvendorhipaa': 10960, 'atmospher': 10961, 'networkreport': 10962, 'crucial': 10963, 'smullen': 10964, 'httpwwwwashingtonpostcomlocalchinesehackusweathersystemss': 10965, 'informationl': 10966, '2076': 10967, 'httpwwwwfmynews2comstorynewslocal20141009conehealthadmit': 10968, 'jeff': 10969, 'nonclassifi': 10970, 'httpphysorgnews201411statedepthackedemailhtmlinlrlvon': 10971, 'skull': 10972, 'omin': 10973, '692': 10974, 'dismissedth': 10975, 'debtcredit': 10976, '3295860': 10977, 'httpwwwclevelandcommetroindexssf201411uhemployeegainedimpr': 10978, 'firerescu': 10979, 'httpfortunecom20141205bebedatabreach': 10980, 'httpwwwwashingtonpostcombusinesseconomykeypointsuffersnetworkbreachthousandsoffedworkerscouldbeaffected20141218e6c7146c86e111e4a702fa31ff4ae98estoryhtml': 10981, 'chicfila': 10982, 'extensiveth': 10983, 'chaind': 10984, '1850': 10985, 'investigationaddit': 10986, 'httpwwweweekcomsecuritychickfilamaybethelatestretaildatafast': 10987, 'httpwwwbloombergcomnewsprint20150105morganstanleyfiresempl': 10988, '915': 10989, 'sunglo': 10990, 'customerspati': 10991, 'patientsmor': 10992, 'httpwwwkrgvcomnewslocalnewscomputerwithpatientspersonalinfo': 10993, 'citistorag': 10994, 'businessesamongst': 10995, 'char': 10996, 'strewn': 10997, 'amerigroup': 10998, 'healthlink': 10999, '1877263799518772637995': 11000, 'freemor': 11001, 'hereaddit': 11002, 'httpmoneycnncom20150204technologyantheminsurancehackdataseupd': 11003, '2102015': 11004, 'panda': 11005, 'we11pointcom': 11006, 'myhrwe11pointcombecaus': 11007, 'contruct': 11008, 'httpthehillcompolicycybersecurity232285analysisanthemattackmacallsend': 11009, 'httpwwwutsandiegocomnews2015feb17tpschooldistrictwarnsofp': 11010, 'jeb': 11011, 'bush': 11012, '332999': 11013, 'httpwwwwelivesecuritycom2015021812000exposedpossibleidtheft': 11014, '604': 11015, '941': 11016, 'httpumaineedunewsblog20150218umaineworkingwithinform': 11017, 'httpwwwstatesmancomnewsnewsdatabreachatlonestarcircleofca': 11018, 'ncc': 11019, 'cathrin': 11020, 'steinborn': 11021, 'httpwwwscmagazinecomcaliforniadentistannouncestheftofserverc': 11022, 'httpwwwscmagazinecommalwareonlimecrimewebsitepaymentcardsco': 11023, 'httpwwwbloombergcomnewsarticles20150227uberdisclosesdataba': 11024, 'httpwwwscmagazinecombulkreefsupplywebsitecompromisedcreditca': 11025, 'authenticationmor': 11026, 'httpwwwscmagazinecomnorthcarolinacreditunionnotificationsay': 11027, '28th': 11028, 'httpwwwwelivesecuritycom20150303toysrusresetsaccountpasswo': 11029, 'httpwwwscmagazinecomlaptopstolenfromemployeecontaineddataon': 11030, '151626': 11031, 'httpssecureadvantagedentalcom': 11032, 'httpportlandtribunecompt9news253880123802advantagedentalsay': 11033, 'premera': 11034, '11266': 11035, 'amongst': 11036, 'alcala': 11037, 'httpwwwwelivesecuritycom20150403usteenpleadsguilty100milli': 11038, 'informationcal': 11039, 'phillipin': 11040, 'marketsa': 11041, 'httpwwwcnbccomid': 11042, 'dashcam': 11043, 'grapevin': 11044, 'wwwthescoopblogdallasnewscom201504anonymoushackergroupdemandspolicevideoofshootingofmexicanimmigrantbygrapevinecophtml': 11045, 'damariscotta': 11046, 'wwwtechnewstodaycomuspolicedepartmentforcedtopaybitcoinsafterhackersentersystem': 11047, 'affectedlast': 11048, 'wwwwsjcomarticlessallybeautyinvestigatingpossibledatabreach1430747729': 11049, 'intrusio': 11050, 'httpnewspsuedustory35765420150515administrationmessagepresith': 11051, 'criteria': 11052, 'httparstechnicacomsecurity201505pennstateseversengineeringn': 11053, 'finder': 11054, 'httpwwwwashingtonpostcomworldnationalsecuritychinesehackersbreachfederalgoernmentspersonneloffice20150604889c0e52oaf711e595fdd580f1c5d44estoryhtml': 11055, 'faq': 11056, 'httpwwwopmgovfaqstopiccybersecurityinformationupd': 11057, '06152015': 11058, 'timelin': 11059, 'httpkrebsonsecuritycom201506catchingupontheopmbreach': 11060, '06242015': 11061, 'wwwcnncom20150622politicsopmhack18millionindexhtml': 11062, '06252015': 11063, 'httpwwwwsjcomarticleshackdefinedastwodistinctbreaches1435158334upd': 11064, '722015': 11065, 'httpswwwopmgovcybersecuritymor': 11066, 'httpwwwcomputerworldcomarticle2942038securityopmhitbyclassac': 11067, '792015': 11068, 'httpwwwfoxnewscompolitics20150709hackersstolesocialsecurityupd': 11069, '9232015': 11070, 'finger': 11071, 'httpswwwwashingtonpostcomnewstheswitchwp20150923opmnowsaysmorethanfivemillionfingerprintscompromisedinbreach': 11072, 'lastpass': 11073, 'httpwwwnytimescom20150617sportsbaseballstlouiscardinalshacupd': 11074, 'sohaib': 11075, 'obstruct': 11076, 'wednesdayth': 11077, 'radcliff': 11078, 'paulson': 11079, 'th': 11080, 'chan': 11081, 'proceduresit': 11082, 'datapati': 11083, '877': 11084, '5345972': 11085, 'wwwmyidcar': 11086, 'comuclaprotectionmor': 11087, 'httpwwwlatimescombusinesslafiuclamedicaldata20150717storyhtml': 11088, 'saturn': 11089, 'boulevard': 11090, 'imperi': 11091, 'nicol': 11092, 'yvonn': 11093, 'floresmor': 11094, 'httpwwwsandiegouniontribunecomnews2015jul17pharmacypatientdata': 11095, 'pni': 11096, 'costco': 11097, 'anthemunit': 11098, 'secondlargest': 11099, 'incurs': 11100, 'hot': 11101, 'httpwwwfoxnewscomus20150803sdvawaitsmorethantwomonthsto': 11102, 'corporationsabr': 11103, 'httpirwebcomreleasedetailcfmreleaseid928078mor': 11104, 'httpsthreatpostcomwebcomloses93000creditcardnumbersinbreach': 11105, 'inadvertentlli': 11106, 'onlineaccord': 11107, 'httpwwwkare11comstorynews20150831statediscoversdriverslic': 11108, '1242': 11109, 'patientsucla': 11110, '18882360447': 11111, 'httpswwwuclahealthorgnewsuclahealthnotifyingpatientsofstolenmor': 11112, 'httpwwwdailynewscomgeneralnews20150901uclahealthnotifying124': 11113, 'sixyearold': 11114, 'cane': 11115, '15045688672': 11116, '18445782656more': 11117, 'httpwgnocom20150915lsudocsstolenlaptopbringsofferforfre': 11118, 'kardashian': 11119, 'jenner': 11120, 'websitethi': 11121, 'unapprov': 11122, 'utahth': 11123, 'httpwwwmodernhealthcarecomarticle20150921news150929997': 11124, 'httpwwwnjcomnewsindexssf201509njinsurersayssomedatastol': 11125, 'ginger': 11126, 'planter': 11127, 'prepad': 11128, 'httpwwlpcom20150925waiterchargedwithcreditcardfraud': 11129, 'accessedmor': 11130, 'httpwwwamericanbankercomnewsbanktechnologyexperianababreach': 11131, '8443228235': 11132, 'coe151471mor': 11133, 'httphamptonroadscom201510securitybreachsentarahearthospit': 11134, 'centerpiec': 11135, 'korean': 11136, 'governmentaffili': 11137, 'hackersa': 11138, 'codoso': 11139, 'sunshock': 11140, 'stillunfold': 11141, 'oneaccord': 11142, '18007945907': 11143, 'httpwwwwtspcomstorynewshealth20151009careplusmightmishandl': 11144, 'alledgedli': 11145, 'wwwwaaytvcomappnewsdatabreachatamericasthriftstorearticle54d': 11146, 'subscribersmor': 11147, 'httpwwwwsjcomarticlesdowjonesdisclosescustomerdatabreach144compani': 11148, 'httponlinewsjcompublicresourcesdocumentsdowjonesletterpdf': 11149, 'httpmotherboardvicecomreaduberlefthundredsofdriverslicensesupd': 11150, '172016': 11151, 'god': 11152, 'ridertrack': 11153, 'httpwwwcnetcomnewsuberfined20kinsurveillancedatabreachprob': 11154, '10000more': 11155, 'httpwwwfox10phoenixcomarizonanews32931241stori': 11156, 'kuroi': 11157, 'sh': 11158, 'usu': 11159, 'onlineusu': 11160, 'peppermil': 11161, '18006627030': 11162, 'httpwwwwralcomncdhhsrevealspotentialmedicaiddatabreach14975': 11163, 'xero': 11164, 'httpsgrahamcluleycom201510onlineaccountingsoftwarexerotellsu': 11165, '590000': 11166, 'flanvel': 11167, 'pulledmor': 11168, 'httpwwwmsncomenusnewsuscbs11investigatesnorthtexassecur': 11169, 'files12': 11170, 'httpwwwajccomnewsnewsstateregionalgovtpoliticssuitaccusesg': 11171, 'yellowfront': 11172, 'logmein': 11173, 'thirdlargest': 11174, 'seventhlargest': 11175, 'echo': 11176, 'breachesth': 11177, 'breachcox': 11178, 'alia': 11179, 'websitewith': 11180, 'questionsansw': 11181, 'unresolv': 11182, 'nissan': 11183, 'httpwwwlohudcomstorynewscrime20151127carsalesmancharged76': 11184, 'httpwww11alivecomstorynewseducation20151120dekalbcountytea': 11185, 'vtech': 11186, 'middlesex': 11187, 'httpfox61com20151208middlesexhospitalsufferspatientdatasecu': 11188, 'ebar': 11189, 'eleph': 11190, 'belowhttpwwwelephantbarcomincidentani': 11191, '18885785412more': 11192, 'httpsacramentocbslocalcom20151208elephantbarrestaurantwarn': 11193, 'passwordsat': 11194, 'robust': 11195, 'yesterdayout': 11196, 'httppittsburghcbslocalcom20151215riverscasinohitwithcomput': 11197, 'restauranthotel': 11198, 'restaurantsth': 11199, 'bubba': 11200, 'gump': 11201, 'shrimp': 11202, 'grass': 11203, 'aquarium': 11204, 'vic': 11205, 'kemah': 11206, 'boardwalk': 11207, 'pleasur': 11208, 'pier': 11209, 'nugget': 11210, 'httpwwwchroncombusinessretailarticlelandrysinvestigatespaymeupd': 11211, '212016': 11212, 'httpwwwlandrysinccomprotectingourcustomerslocationsasplocldryfor': 11213, '8772382151': 11214, '9am': 11215, '7pm': 11216, 'cottonwood': 11217, 'httpkrqecom20151218newmexicansmedicalrecordsdumpedalongw': 11218, '509': 11219, 'burglaryfox': 11220, '2015inform': 11221, 'httpwwwthenorthwesterncomstorynews20151221counselingclinicw': 11222, 'myer': 11223, 'finaci': 11224, 'flew': 11225, 'truckmor': 11226, 'httpwwwwinknewscom20151221medicalrecordsfoundonfowlerstreet': 11227, 'screeno': 11228, 'livestream': 11229, 'unauthoris': 11230, 'stewart': 11231, 'wbztv': 11232, 'httpijprorgpostpersonalinfohundredsoregonveteranscompromis': 11233, 'indivud': 11234, 'agencymor': 11235, 'httpwwwclevelandcommetroindexssf201601ritalosespersonalinf': 11236, 'httpwwwcsoonlinecomarticle3019278securitysnhustillinvestigati': 11237, 'httpwwwbeckershospitalreviewcomhealthcareinformationtechnologyf': 11238, 'mcfadden': 11239, '320000': 11240, 'httpwwwfoxnewscomtech20160108timewarnercablesays320000cu': 11241, '025': 11242, 'httpwwwscmagazinecomtaxactbreachedcustomerbankingandsocialsemor': 11243, 'httpwwwwsjcomarticlestaxpreparationfirmdisclosesdatabreach1': 11244, 'cornwal': 11245, 'recept': 11246, 'itali': 11247, 'franc': 11248, 'csidclick': 11249, 'httpwwwzdnetcomarticle250hyatthotelsinfectedlastyearwithpa': 11250, 'anselmo': 11251, 'allentown': 11252, 'httpwwwmcallcomnewslocalwatchdogmcemploymentagencyapplicatio': 11253, 'ogi': 11254, 'indent': 11255, 'httpwwwkcrgcomcontentnewssuspectchargedinuniversityofnorth': 11256, 'crest': 11257, 'httpwwwnews9comstory30995309personalinformationfoundondiscar': 11258, 'usersfollow': 11259, 'faithlessbut': 11260, 'faithless': 11261, '325k': 11262, 'shodanio': 11263, 'connectionwer': 11264, 'httpwwwtheindychannelcomnewscall6investigatorscall6taxdocum': 11265, 'numbersetc': 11266, 'httpwwwzdnetcomarticleuniversityofvirginiadatabreachexpos': 11267, 'centen': 11268, 'louisbas': 11269, 'payercenten': 11270, 'unaccount': 11271, 'outcomesth': 11272, 'noticemor': 11273, 'processcustom': 11274, 'eventspay': 11275, 'safepassword': 11276, 'ought': 11277, 'republish': 11278, 'acceler': 11279, 'addedthi': 11280, 'emailsmor': 11281, 'httpwwwtheregistercouk20160127cpanelsecuritybreach': 11282, 'slayer': 11283, 'returnth': 11284, 'taxslay': 11285, 'usedmor': 11286, 'httpwwwscmagazinecomtaxslayerbreached8800customersnotifiedpii': 11287, 'rawlinson': 11288, 'httpwwwscmagazinecomattackeraccesses5200neimanmarcusgroupcu': 11289, 'motherboardonc': 11290, 'tb': 11291, 'gb': 11292, 'reportaccord': 11293, 'palestinemor': 11294, 'httpwwwbeckershospitalreviewcomhealthcareinformationtechnologyh': 11295, 'hca': 11296, 'httpwwwking5comstorynewshealth20160209statedatabreachimpa': 11297, '101000': 11298, '464000': 11299, 'attemptsth': 11300, 'marker': 11301, 'httpwwwjournalofaccountancycomnews2016febirsdatabreachexpos': 11302, 'httpwwwcsmonitorcomusajustice20160218whycaliforniahospitalp': 11303, 'systembf': 11304, 'affecteda': 11305, 'fridayaccord': 11306, 'yearswithin': 11307, 'gilmoreonc': 11308, 'preserv': 11309, 'disbursementsmor': 11310, 'httpwwwdailycalorg20160226campusnotifiesnearly80000stud': 11311, 'physicianl': 11312, 'multispecialti': 11313, '3322': 11314, 'willow': 11315, 'knoll': 11316, 'unknowinglyth': 11317, 'receivership': 11318, 'httpswwwwashingtonpostcomnewspowerpostwp20160411inadvert': 11319, 'doterra': 11320, 'beautifulpeoplecom': 11321, 'httpwwwwelivesecuritycom20160426beautifulpeoplecomexperi': 11322, 'spoofon': 11323, 'legit': 11324, 'nazareth': 11325, 'httpwwwlehighvalleylivecomnazarethindexssf201605findoutwhat': 11326, 'adpth': 11327, 'departmentsnow': 11328, 'punch': 11329, '1040': 11330, 'legendari': 11331, 'rocker': 11332, 'fame': 11333, 'kenni': 11334, 'artiststh': 11335, 'alik': 11336, 'morefrom': 11337, 'obsess': 11338, 'royaltyalthough': 11339, 'tabloid': 11340, 'drama': 11341, 'aspect': 11342, 'famou': 11343, 'rockstar': 11344, 'meticul': 11345, 'communicationswith': 11346, 'availablemor': 11347, 'httpsmackeepercomblogpost307joanjettsblackheartrecordsleak': 11348, 'yahooown': 11349, 'microblog': 11350, 'poway': 11351, 'onlyth': 11352, 'districtbas': 11353, 'fluenci': 11354, 'httpwwwsandiegouniontribunecomnews2016may16powaydatabreach': 11355, 'businessori': 11356, 'buck': 11357, 'formsth': 11358, 'httpwwwusatodaycomstorysportsnbabucks20160519milwaukeebuck': 11359, 'locatd': 11360, 'boardman': 11361, '2077': 11362, 'interchang': 11363, '855': 11364, '9073245': 11365, 'httpwww11alivecommoneypersonalfinancegeorgiaagolenswarnsresreleas': 11366, 'httpwwwocharleyscomprotectingourguest': 11367, 'lewispalm': 11368, 'infinit': 11369, 'lewispalmerorg': 11370, 'formatsever': 11371, 'breachedaft': 11372, 'walkd': 11373, 'sibl': 11374, 'httpcompletecoloradocompagetwo20160524probablesecuritybreach': 11375, 'connecticutbas': 11376, 'stamford': 11377, 'ehremr': 11378, 'unsalt': 11379, 'secondth': 11380, 'passwordstim': 11381, 'httpwwwusatodaycomstorytech20160531360millionmyspaceaccoun': 11382, 'redskin': 11383, 'trainer': 11384, 'deadspinaccord': 11385, 'nflpa': 11386, 'deadspin': 11387, 'mondayth': 11388, 'appealdemocrat': 11389, 'hansel': 11390, 'publicfor': 11391, 'privacymor': 11392, 'httpwwwgovtechcomdcarticlescaliforniacountycourthousesuff': 11393, 'politico': 11394, 'perkin': 11395, 'coie': 11396, 'shawn': 11397, 'amiss': 11398, 'discoveredcrowdstrik': 11399, 'codenam': 11400, 'cozi': 11401, 'computersmor': 11402, 'httpwwwpoliticocomstory201606russiangovernmenthackersbrokeintodncserversstoletrumpoppo224315ixzz4bev49jq9': 11403, 'irvingth': 11404, 'medicaidindividu': 11405, 'httpwwwhipaajournalcomtexashealthhumanservicescommissionnotif': 11406, 'recordsprovid': 11407, 'portlandbas': 11408, 'httpwwwkgwcomnewshealthprovidencenotifies5400oregonpati': 11409, 'clash': 11410, 'nameless': 11411, 'leakedsourcecom': 11412, 'datathre': 11413, 'patienc': 11414, 'fadingin': 11415, 'havoc': 11416, 'ayala': 11417, 'worx': 11418, 'fife': 11419, 'httpwwwnjcomhudsonindexssf201607thisnjtownswebsitehasbe': 11420, 'reportthi': 11421, 'httpdailyjournalonlinecomnewslocallocalmedicalgroupinvolvedinmor': 11422, 'httpwwwhipaajournalcomfarmingtonmedicalgroupconfirmscyberattac': 11423, 'authorizationcardon': 11424, 'cardon': 11425, 'filecardon': 11426, 'httpwwwwyff4comnewsunauthorizedemployeeaccessedhospitalpatien': 11427, 'informationi': 11428, 'dawn': 11429, 'hey': 11430, 'informationthi': 11431, 'gilchrist': 11432, 'tovickeri': 11433, 'securityit': 11434, 'saidgilchrist': 11435, 'folk': 11436, 'appropriatevickeri': 11437, 'knewwher': 11438, 'lookther': 11439, 'analog': 11440, 'here': 11441, 'negligentgilchrist': 11442, 'httpwwwwdamcomstory32712941securityflawmayberesponsiblefor': 11443, 'hillari': 11444, 'reutersth': 11445, 'representativesth': 11446, 'saidin': 11447, 'httpwwwcnbccom20160729hackersbreachedclintoncampaigncomput': 11448, 'forumsa': 11449, 'playdomforumscom': 11450, 'httpwwwtripwirecomstateofsecuritylatestsecuritynewsdisneyco': 11451, 'sylvia': 11452, 'burwel': 11453, 'gop': 11454, 'peopleyour': 11455, 'chaffetz': 11456, 'elijah': 11457, 'cum': 11458, 'enforcementchaffetz': 11459, 'workersmor': 11460, 'httpwwwusnewscomnewspoliticsarticles20160405senatefewansw': 11461, 'novato': 11462, 'officiala': 11463, 'doctorr': 11464, 'weekmor': 11465, 'httpwwwmercurynewscom20160805marinelectronicmedicalrecordsi': 11466, 'firmnewkirk': 11467, 'breachednewkirk': 11468, 'latham': 11469, 'insurersth': 11470, 'httpwwwbizjournalscomalbanynews20160808databreachatalbani': 11471, '23015': 11472, 'understood': 11473, 'hackeraccord': 11474, 'httpwwwhipaajournalcomhackerstealsphi23000patientsprosthet': 11475, '655000': 11476, 'aprilaccord': 11477, 'rc': 11478, '21stthe': 11479, 'httpwtkrcom20160812655000bonsecourspatientsexposedtodatab': 11480, 'columbiain': 11481, 'breachw': 11482, 'heiaccord': 11483, 'purchaselist': 11484, 'httpwwwheihotelscomlistofpropertiesmor': 11485, 'wwwusatodaycomstorytechnews20160815majorhoteloperatorhitdatupd': 11486, '8192016': 11487, 'snag': 11488, 'stolenaffect': 11489, 'pasadena': 11490, 'snowmass': 11491, 'lauderdal': 11492, 'tennesseeth': 11493, 'dallasfort': 11494, 'minneapolismor': 11495, 'httpwwwpymntscomnewssecurityandrisk2016heidatabreachstarwo': 11496, 'accessori': 11497, 'stolenjust': 11498, '350orso': 11499, 'attackclean': 11500, 'mess': 11501, 'cheap': 11502, 'httpfortunecom20160819eddiebauerdatabreach': 11503, '808000': 11504, 'monthsth': 11505, 'cari': 11506, 'toolsth': 11507, 'infin': 11508, 'blade': 11509, 'udk': 11510, 'unreal': 11511, 'tournament': 11512, 'leakedmor': 11513, 'httpwwwbankinfosecuritycomepicgamesforumsbreachedagaina9355': 11514, 'thursdayth': 11515, 'saidfish': 11516, 'systemsanyon': 11517, '8008581549more': 11518, 'httpwwwwcpocomnewsstatestatekentuckykyfishandwildlifedata': 11519, 'infowar': 11520, 'undergroundinfowar': 11521, 'eyewit': 11522, 'langston': 11523, 'hugh': 11524, '236they': 11525, 'boardaccord': 11526, 'matthew': 11527, 'httpwwwcnncom20160829politicshackersbreachillinoisarizona': 11528, 'omh': 11529, 'hutton': 11530, 'cutom': 11531, 'breachthi': 11532, '2015thi': 11533, 'bankmor': 11534, 'httpwwwwsmvcomstory33014980huttonhotelwarningcustomersabouthttpwwwhuttonhotelcomnotic': 11535, 'cred': 11536, 'fantasis': 11537, 'fetish': 11538, 'openth': 11539, 'softwarebrazz': 11540, 'fuzzi': 11541, 'malwaredetect': 11542, 'httpwwwktxscomnewsabilenepolicerevealdetailsofrestaurantcr': 11543, 'consciou': 11544, 'olivi': 11545, 'niggli': 11546, 'condemn': 11547, 'undermin': 11548, 'httpswwwbuzzfeedcomsheerafrenkelsimonebilesserenawilliamsamon': 11549, 'salethi': 11550, 'databaseaft': 11551, 'balanceaccord': 11552, 'technica': 11553, 'dumpin': 11554, 'biddermor': 11555, 'httpwwwzdnetcomarticleclixsensedatabreachexposespersonalinfo': 11556, '1609': 11557, 'bellmead': 11558, '910': 11559, 'loop': 11560, 'killeen': 11561, 'hood': 11562, 'mondaycard': 11563, 'vulnerablemalwar': 11564, 'companymor': 11565, 'httpwwwwacotribcomnewsbusinesscreditcardsecuritybreachedatl': 11566, 'pois': 11567, 'jamila': 11568, 'loretta': 11569, 'coburn': 11570, 'shockingauthor': 11571, 'yalenew': 11572, 'sitteraccord': 11573, 'httpwwwnbcconnecticutcomtroubleshootershospitalpatientscaughti': 11574, 'httpwwwsihborgcurrentid135': 11575, 'evoni': 11576, '33407472': 11577, '938000': 11578, 'httpswwwhackreadcomevonygamingcompanywebsitehack': 11579, 'agoth': 11580, 'leakedsourceth': 11581, 'httpwwwcsoonlinecomarticle3133031securityweeblydatabreachaff': 11582, 'searchanddiscoveri': 11583, 'newyorkbas': 11584, 'crossreferenc': 11585, 'idsmor': 11586, 'httpswwwhackreadcomweeblyfoursquarehackedaccountsstolen': 11587, 'membersaccord': 11588, '22new': 11589, 'saysbayst': 11590, 'hackersmor': 11591, 'httpwwlpcom20161021baystatehealthpatientinformationposs': 11592, 'anotherin': 11593, 'httpwwwwftvcomnewslocalboxesofpatientinformationmissingfrom': 11594, 'discoveredth': 11595, 'screwup': 11596, 'burgeon': 11597, 'grassroot': 11598, 'donorsgreat': 11599, 'dan': 11600, 'backer': 11601, 'culprit': 11602, 'httpswwwpublicintegrityorg2016102120370whoopsprodonaldtrump': 11603, 'identityrestor': 11604, 'serviceth': 11605, 'compromisedan': 11606, 'httpwwwrecordonlinecomnews20161021hackersbreachcityofmiddlet': 11607, 'retrospect': 11608, 'cyberthreat': 11609, 'httpwwwwsjcomarticlesusbankregulatornotifiescongressofmajo': 11610, 'monthjonathan': 11611, 'powel': 11612, '1035': 11613, 'keyword': 11614, 'horni': 11615, 'trentaccord': 11616, 'oncal': 11617, 'nonpac': 11618, 'httppacechroniclecomnews20161108manarrestedforhackingmoret': 11619, 'internetnam': 11620, 'shoddi': 11621, 'securityth': 11622, 'dealerbuilt': 11623, 'iowabas': 11624, 'needsmor': 11625, 'httpwwwzdnetcomarticleboughtacarrecentlymillionsofcustom': 11626, 'yearsfriendfind': 11627, 'stretch': 11628, 'saidleakedsourc': 11629, 'camscom': 11630, 'penthousecom': 11631, 'leakedsourcemor': 11632, 'httpswwwwashingtonpostcomnewstheswitchwp20161114adultfrien': 11633, '13accord': 11634, 'informationmsu': 11635, '449': 11636, 'httpwwwwxyzcomnewsmichiganstateuniversityconfirmsdatabreach': 11637, 'nonir': 11638, 'httpwwwfedsmithcom20161120igirsemployeessentunencryptedemamor': 11639, 'httpwwwfedsmithcom20161120igirsemployeessentunencryptedema': 11640, 'reenlist': 11641, '134386': 11642, 'httpwwwwashingtonexaminercomnavy130000currentandformersailor': 11643, 'lucr': 11644, 'chkp': 11645, 'firmpeopl': 11646, 'innocentlook': 11647, 'boobytrap': 11648, 'goog': 11649, 'deepest': 11650, 'httpfortunecom20161130googleandroidfraud': 11651, 'excit': 11652, 'overshadow': 11653, 'programaccord': 11654, 'sync': 11655, 'seemingli': 11656, 'detailsmor': 11657, 'httpbgrcom20161207tmobiledigitssecurityfailexposepriv': 11658, 'yhooo': 11659, 'historyth': 11660, 'implic': 11661, 'governmentyahoo': 11662, 'passwordyahoo': 11663, 'screw': 11664, 'schneier': 11665, 'cryptologist': 11666, 'werent': 11667, 'forwardyahoo': 11668, 'tent': 11669, 'answersmor': 11670, 'httpwwwreuterscomarticleusyahoocyberiduskbn1432wzyahoo': 11671, 'httpsyahoocomsecurityupdateupd': 11672, '2152017yahoo': 11673, '2016a': 11674, 'statesponsor': 11675, 'accountsforg': 11676, 'reenter': 11677, 'httpwwwcnbccom20170215yahoosendsnewwarningtocustomersabouupd': 11678, '3152017': 11679, 'halfbillion': 11680, 'moscow': 11681, 'casesmor': 11682, 'httpkrebsonsecuritycomupd': 11683, '972017': 11684, 'judgement': 11685, 'httpswwwdocumentcloudorgdocuments3986196yahoojudgementondataupd': 11686, 'yearth': 11687, 'theftmor': 11688, 'httphostedaporgdynamicstoriesuusyahoodatabreachsiteapsect': 11689, 'russiansecur': 11690, 'russianth': 11691, 'andrei': 11692, 'barysevich': 11693, 'httpswwwcnetcomnewsuselectionagencyhackedbysuspectedrussian': 11694, 'breachmartin': 11695, 'roger': 11696, 'systemhowev': 11697, 'problemrussiaback': 11698, 'attackersa': 11699, 'conflict': 11700, 'annex': 11701, 'crimeath': 11702, 'httpnewssoftpediacomnewsrussianhackersseizedcontrolofpentago': 11703, 'detailsaccord': 11704, 'darin': 11705, 'numberattack': 11706, 'numbera': 11707, 'profilesin': 11708, 'softwaremor': 11709, 'httpswwwbleepingcomputercomnewssecurityattacksonphonesofbitc': 11710, 'icon': 11711, 'frozen': 11712, 'sportsrel': 11713, 'fortifi': 11714, 'httpswwwengadgetcom20161231toppstradingcardmakersecuritybr': 11715, 'esport': 11716, 'kpcc': 11717, 'npr': 11718, 'justiceth': 11719, '3424': 11720, 'nraila': 11721, 'rifl': 11722, 'associationth': 11723, 'informationhttpwwwfoxnewscomus20170118californiasnafureleasesperson': 11724, 'halfdozen': 11725, 'inquir': 11726, 'nationwidea': 11727, 'arg': 11728, 'krebsonsecuritymor': 11729, 'httpskrebsonsecuritycom201702fastfoodchainarbysacknowledgesbhttpwwwesecurityplanetcomnetworksecurityarbyshackedhtml': 11730, 'immigrationrel': 11731, 'pip': 11732, 'riskpip': 11733, 'httpwwwnbcnewscomnewsusnewsdatabreachpipprintingcompanylea': 11734, 'yearaccord': 11735, 'reasonst': 11736, 'letterspotenti': 11737, 'placebut': 11738, 'frantic': 11739, 'ssltl': 11740, 'formit': 11741, 'becloudflar': 11742, 'downstreamth': 11743, 'jokingli': 11744, 'cloudble': 11745, 'portmanteau': 11746, 'openssl': 11747, 'vulnerablea': 11748, 'ormandycloudflar': 11749, 'sweet': 11750, 'cofound': 11751, 'cto': 11752, 'blitzka': 11753, 'cloudlfar': 11754, 'narrow': 11755, 'errorso': 11756, 'fitbit': 11757, 'okcupid': 11758, 'httpwwwdatabreachtodaycomcloudflarecodingerrorspillssensit': 11759, 'internetconnect': 11760, 'ransomresearch': 11761, 'researchersth': 11762, 'magnitud': 11763, 'textbookexampl': 11764, 'worthless': 11765, 'cyberscoopcloudpet': 11766, 'publicfac': 11767, 'securityin': 11768, 'fate': 11769, 'dayssensit': 11770, 'notifiedmor': 11771, 'httpswwwcyberscoopcominternetconnectedteddybearcompanyhack': 11772, 'spousenew': 11773, 'websitefortyseven': 11774, '7288': 11775, 'impactedaccord': 11776, 'olsonspreadsheet': 11777, 'deletedaccord': 11778, '8in': 11779, 'deletedmor': 11780, 'httpsthreatpostcomboeingnotifies36000employeesfollowingbreach': 11781, '7400': 11782, 'monthswvu': 11783, 'departmenta': 11784, 'martinsburg': 11785, 'ranson': 11786, 'enforcementno': 11787, 'teresa': 11788, 'mccabe': 11789, '7445': 11790, 'accessaft': 11791, 'prosecutedth': 11792, 'servicesal': 11793, 'eob': 11794, 'httpwwwhipaajournalcomberkeleymedicalcenteremployeeinappropria': 11795, 'hipaawhil': 11796, 'hipaacov': 11797, 'detectedvanderbilt': 11798, 'logsthat': 11799, 'actionspati': 11800, 'vigilantli': 11801, 'httpwwwhipaajournalcomvanderbiltuniversitymedicalcenteremploy': 11802, 'spotlight': 11803, 'exert': 11804, 'nextin': 11805, 'ehc': 11806, 'restoredin': 11807, 'remediedth': 11808, 'mongo': 11809, 'wrotemor': 11810, 'httpwwwdatabreachtodaycomemoryhealthcaredatabasebreachwhathap': 11811, '12731': 11812, 'discoveredthi': 11813, 'monthson': 11814, '49000': 11815, '1615': 11816, 'precautionin': 11817, 'identifiedmor': 11818, 'httpwwwhipaajournalcomnorthcarolinadepartmenthealthhumanservi': 11819, 'autoneum': 11820, 'anahid': 11821, 'rickmann': 11822, 'nois': 11823, 'heat': 11824, 'bloomsburg': 11825, 'aiken': 11826, 'michiganmor': 11827, 'httpcitizensvoicecomnewsdatabreachputsemployeesatbloomsburgp': 11828, 'coachellacom': 11829, 'concertpromot': 11830, 'accessedgoldenvoic': 11831, 'barg': 11832, 'rememb': 11833, 'informationno': 11834, 'anywaymor': 11835, 'httpmashablecom20170301coachellahacknamesemailsprexwijuxeqh': 11836, 'slurp': 11837, 'aptosth': 11838, 'toldrath': 11839, 'serversaccord': 11840, '750': 11841, 'sharp': 11842, 'diegobas': 11843, 'planon': 11844, 'numbersupon': 11845, 'breachwhil': 11846, 'ephia': 11847, 'experianth': 11848, '14005': 11849, 'httpwwwhipaajournalcomconfigurationerrorvendorresultsexposur': 11850, 'prolif': 11851, '137': 11852, 'raft': 11853, 'informationchri': 11854, 'sm': 11855, 'groupth': 11856, 'januaryif': 11857, 'astound': 11858, 'exboyfriend': 11859, 'stalker': 11860, 'wouldnt': 11861, 'timebas': 11862, 'preliminarili': 11863, 'postinvestig': 11864, 'writesmor': 11865, 'httpwwwdatabreachtodaycombackuperrorexposes137billionrecord': 11866, 'netprospex': 11867, 'usfocus': 11868, '101013': 11869, '88153': 11870, '76379': 11871, 'whilst': 11872, 'enorm': 11873, 'bradshaw': 11874, 'readmor': 11875, 'httpwwwzdnetcomarticlemillionsofrecordsleakedfromhugecorpor': 11876, 'spew': 11877, 'swastika': 11878, 'servicesit': 11879, 'amnesti': 11880, 'bbc': 11881, 'forb': 11882, 'parliament': 11883, 'bori': 11884, 'becker': 11885, 'twitterwer': 11886, 'httpwwwdatabreachtodaycomtwitterapphackspewsswastikasturkish': 11887, 'asap': 11888, 'tween': 11889, '287000': 11890, '18the': 11891, 'incub': 11892, 'itunesus': 11893, '2017per': 11894, 'howeverus': 11895, 'inapp': 11896, 'notificationth': 11897, 'fixedunfortun': 11898, 'ipod': 11899, 'httpstechcrunchcom20170315teenquizappwishbonehackedusersem': 11900, 'tarleton': 11901, 'recordspotenti': 11902, '3929': 11903, 'lettertarleton': 11904, 'timesdispatchon': 11905, 'ehr': 11906, '2017follow': 11907, 'justif': 11908, 'inappropriatelyth': 11909, 'terminatedemploye': 11910, 'numbersvcu': 11911, 'denton': 11912, 'healthtexa': 11913, 'numberspres': 11914, 'reevalu': 11915, 'reinsur': 11916, 'claimfocus': 11917, 'informationsummit': 11918, 'wayto': 11919, 'restorationthi': 11920, 'hawk': 11921, 'phisummit': 11922, 'forwardmor': 11923, 'novak': 11924, 'requestth': 11925, 'cannabist': 11926, 'partiesmor': 11927, 'httpextractsuntimescomnews1015320392washingtonmarijuanaappli': 11928, 'wauwatosa': 11929, 'wisbas': 11930, '2016accord': 11931, 'virusaccord': 11932, '17634': 11933, 'digicorp': 11934, 'httpswwwhealthcareinformaticscomnewsitemcybersecuritywisconsin': 11935, 'dol': 11936, 'seekersajla': 11937, 'websitehack': 11938, 'statesaccord': 11939, 'usersan': 11940, 'portalaffect': 11941, 'httpswwwbleepingcomputercomnewssecurityhackersbreacheddepartmehttpwwwajlanetpressreleasehtml': 11942, '2014it': 11943, 'scottsvil': 11944, 'employeedavid': 11945, 'habich': 11946, 'investigatea': 11947, 'recordsemail': 11948, 'investigatinga': 11949, 'investigatorsmor': 11950, 'httpwwwbgdailynewscomnewskaffectedbymedcenterdatabreachart': 11951, 'governmentnearli': 11952, 'fafsa': 11953, 'aidfraudul': 11954, 'testifi': 11955, '52000': 11956, 'requestsit': 11957, 'downmor': 11958, 'httpswwwcnetcomnewshackersusedcollegestudentloanstooltost': 11959, 'californiabas': 11960, 'kindergarten': 11961, '12grade': 11962, 'schoolsa': 11963, 'bucketsth': 11964, 'expedit': 11965, 'prais': 11966, 'swift': 11967, 'saidunfortun': 11968, 'atyp': 11969, 'gruel': 11970, 'unpleas': 11971, 'constant': 11972, 'handsin': 11973, 'compromisefashion': 11974, 'lover': 11975, 'nanci': 11976, 'ganz': 11977, 'retailersov': 11978, 'placeinvestig': 11979, 'yearchipotl': 11980, 'customersa': 11981, 'creditlin': 11982, 'partieslik': 11983, 'groupreport': 11984, 'approvedat': 11985, 'truste': 11986, 'appris': 11987, 'optometr': 11988, 'favor': 11989, 'oe': 11990, 'monthslong': 11991, 'requestthi': 11992, 'teamoffici': 11993, 'departmentgannett': 11994, 'dauphin': 11995, 'breachharrisburg': 11996, 'mailinatorcom': 11997, 'trulyonc': 11998, 'passwordexcept': 11999, 'ssl': 12000, 'riskyanke': 12001, 'akronbas': 12002, 'enlarg': 12003, 'moreaetb': 12004, 'newsoth': 12005, 'affiliationsbob': 12006, 'ihealth': 12007, 'technologyit': 12008, 'blhc': 12009, 'marchth': 12010, 'locationssom': 12011, 'saidbrook': 12012, 'codeshowev': 12013, 'impactedbrook': 12014, 'timeto': 12015, 'saysth': 12016, 'informationtwitt': 12017, 'detailsan': 12018, 'blockeddur': 12019, '469': 12020, '16190': 12021, 'rio': 12022, 'marketten': 12023, 'cameron': 12024, 'countychannel': 12025, '77': 12026, 'itchannel': 12027, 'saidaft': 12028, 'purposesth': 12029, 'locatedon': 12030, 'carbondal': 12031, 'outofst': 12032, 'adhsboth': 12033, 'hasnt': 12034, 'au': 12035, 'informationforens': 12036, 'fox54': 12037, 'viewer': 12038, 'charlottemecklenburg': 12039, 'windbut': 12040, 'johnstonoehl': 12041, 'mallard': 12042, 'studentson': 12043, 'shockedmi': 12044, 'alvaro': 12045, 'hoyo': 12046, 'omit': 12047, 'cursorili': 12048, 'zdnetonelogin': 12049, 'readhack': 12050, 'oauth': 12051, 'decryptedbut': 12052, 'beverli': 12053, 'officialsa': 12054, 'zain': 12055, 'reada': 12056, 'nobodi': 12057, 'saidthough': 12058, 'statementcal': 12059, 'returnedkadri': 12060, 'earliest': 12061, 'lawth': 12062, 'files': 12063, 'ept': 12064, 'allowedin': 12065, 'discover': 12066, 'delv': 12067, 'deeprootanalyt': 12068, 'foundth': 12069, 'statusa': 12070, 'huffpost': 12071, 'situationth': 12072, 'exposuredeep': 12073, 'timevickeri': 12074, '198': 12075, 'debat': 12076, 'stanc': 12077, 'gun': 12078, 'studentsth': 12079, 'careless': 12080, 'langer': 12081, 'httpwwwmiamiheraldcomnewslocaleducationarticle157361084htmlst': 12082, '6100': 12083, 'associationccisd': 12084, 'informationdxc': 12085, 'fiscal': 12086, 'ihcp': 12087, 'channelth': 12088, 'amountsno': 12089, 'releasedth': 12090, 'dxc': 12091, 'precautionif': 12092, 'patientsoffici': 12093, 'accountonc': 12094, 'victimsth': 12095, 'kcur': 12096, 'kmuw': 12097, 'requestmor': 12098, 'commerceth': 12099, 'kansasworkscom': 12100, 'affectedin': 12101, '805000': 12102, 'riskth': 12103, 'teamth': 12104, 'defam': 12105, 'casebut': 12106, 'wealthiest': 12107, 'copiou': 12108, 'highnetworth': 12109, 'investorsbi': 12110, 'vivid': 12111, 'lawsuitth': 12112, 'perfectli': 12113, 'recordth': 12114, 'angela': 12115, 'bressler': 12116, 'ameri': 12117, 'florham': 12118, 'nj': 12119, 'zeisler': 12120, 'theftanthem': 12121, 'agoin': 12122, '18500': 12123, 'spokeswomananthem': 12124, 'httpswwwanthemcomblogmembernewslaunchpointprivacyconcernimpactsmedicarememb': 12125, 'indianalaunchpoint': 12126, 'nonanthem': 12127, 'expertswhil': 12128, 'datasoci': 12129, 'obvious': 12130, 'disturb': 12131, 'baller': 12132, 'throne': 12133, 'votersorgan': 12134, 'expresspoll5000': 12135, 'frighten': 12136, 'shelbi': 12137, 'tennesseeaccord': 12138, 'gizmodo': 12139, 'absente': 12140, 'macroeconom': 12141, 'participantsbut': 12142, 'subscribersbut': 12143, 'linn': 12144, 'joel': 12145, 'cbs2fox28': 12146, 'sinist': 12147, 'dataoffici': 12148, 'identityprotect': 12149, 'parkbytext': 12150, 'outageth': 12151, 'compromisedhowev': 12152, 'peoplewhen': 12153, 'dial': 12154, '212': 12155, 'menu': 12156, 'voicemailcustom': 12157, 'alison': 12158, 'backtoschool': 12159, 'errorin': 12160, 'dropoff': 12161, 'informationtwentyf': 12162, 'mcpherson': 12163, 'directorutil': 12164, 'prescriptionsth': 12165, 'saidbartkowiak': 12166, 'peopleoffici': 12167, 'lenox': 12168, 'datasilv': 12169, 'websitenam': 12170, 'indentifi': 12171, 'rep': 12172, 'michiganbas': 12173, 'mclaren': 12174, 'healthitsecuritycomth': 12175, 'midmichigan': 12176, 'practicescan': 12177, 'recordskromtech': 12178, 'broadsoft': 12179, 'gever': 12180, 'gdi': 12181, 'foundationon': 12182, 'patientsa': 12183, 'networkdata': 12184, 'statesequifax': 12185, 'saidequifax': 12186, '182000': 12187, 'consumerslink': 12188, 'httpswwwequifaxsecurity2017com': 12189, '10022017': 12190, '1455': 12191, 'sundayhttpswwwusatodaycomstorytech20171002equifaxbreachhit25mi': 12192, 'paulino': 12193, 'rego': 12194, 'barro': 12195, 'contradictori': 12196, 'weekequifax': 12197, 'addedhttpswwwmediapostcompublicationsarticle314389': 12198, '593328': 12199, 'couchdb': 12200, 'vevo': 12201, '312': 12202, 'groupnorm': 12203, 'infract': 12204, 'yolanda': 12205, 'twhile': 12206, 'marketmov': 12207, 'announcementsnow': 12208, 'headach': 12209, 'systemedgar': 12210, 'jay': 12211, 'clayton': 12212, 'paramount': 12213, 'mtv': 12214, 'exposedon': 12215, 'infrastructureth': 12216, 'manifest': 12217, 'aroundtheclock': 12218, 'tow': 12219, 'discreet': 12220, 'somewher': 12221, 'itaccord': 12222, 'heartbeat': 12223, 'deviceemail': 12224, 'revealth': 12225, 'departmentsso': 12226, 'ongoingth': 12227, 'mockeri': 12228, 'bloglast': 12229, 'lesson': 12230, 'taproom': 12231, 'tableservic': 12232, 'thursdaywhol': 12233, 'fayettevillebas': 12234, 'patientsan': 12235, 'encryptedhowev': 12236, 'imsi': 12237, '696': 12238, 'imageshar': 12239, '2013although': 12240, 'arden': 12241, 'hillsbas': 12242, 'tart': 12243, 'crueltyfre': 12244, 'sephora': 12245, 'ulta': 12246, 'databasesth': 12247, 'lovens': 12248, 'sixminut': 12249, 'remotecontrol': 12250, 'vibrat': 12251, 'webist': 12252, 'mainer': 12253, 'multin': 12254, 'yearsth': 12255, 'guam': 12256, '02': 12257, 'hut': 12258, 'approughli': 12259, '28hour': 12260, 'midday': 12261, '2among': 12262, 'accessedin': 12263, 'samar': 12264, 'plagu': 12265, 'haulnow': 12266, 'bare': 12267, 'downplay': 12268, 'hadnt': 12269, 'julyan': 12270, 'ransomth': 12271, 'travi': 12272, 'privateth': 12273, 'imagehost': 12274, 'usersimgur': 12275, 'haveibeenpwn': 12276, 'stateson': 12277, 'recentlyacquir': 12278, 'breachlast': 12279, 'canadabas': 12280, 'accessin': 12281, 'billersin': 12282, 'cleri': 12283, 'nonteach': 12284, 'snapshot': 12285, 'mba': 12286, 'rutger': 12287, 'plainfieldunivers': 12288, 'neal': 12289, 'buccino': 12290, 'buccinoth': 12291, 'usershil': 12292, 'usersrootsweb': 12293, 'compromisedhttpsblogsancestrycomancestry20171223rootswebsecurityupd': 12294, 'prussia': 12295, 'statedpati': 12296, '18332148740': 12297, 'misstep': 12298, 'handset': 12299, 'storeoneplu': 12300, 'sniff': 12301, 'maryellen': 12302, 'thursdayquestar': 12303, 'kri': 12304, 'kobach': 12305, 'compar': 12306, 'floridath': 12307, 'revel': 12308, 'fridayin': 12309, '945': 12310, 'truli': 12311, 'anita': 12312, 'parsa': 12313, 'crosscheck': 12314, '663': 12315, 'countyst': 12316, 'carey': 12317, '490': 12318, '72': 12319, '1among': 12320, '19501258': 12321, '52873': 12322, '119000': 12323, 'businesss': 12324, 'devicesth': 12325, '1882': 12326, '2016compromis': 12327, 'studentathlet': 12328, 'sportscamp': 12329, '33420': 12330, 'monthsbjc': 12331, 'engadget': 12332, 'amex': 12333, 'expediaown': 12334, 'monthund': 12335, 'bcrypt': 12336, 'passwordsund': 12337, 'securityjohn': 12338, 'lord': 12339, 'sak': 12340, 'yearsrecord': 12341, 'numbersther': 12342, 'patent': 12343, 'evildo': 12344, 'campaignscruci': 12345, 'houlihan': 12346, 'promis': 12347, 'paymentcard': 12348, 'companiesth': 12349, 'datesdelta': 12350, 'holdingsth': 12351, 'deltacom': 12352, 'skymil': 12353, '247aidepart': 12354, '247aia': 12355, 'reutersmik': 12356, 'blakesear': 12357, 'customerstechnolog': 12358, '247aisimilar': 12359, 'chatsupport': 12360, 'neededbest': 12361, 'overal': 12362, 'partyoffici': 12363, 'arlingtonbas': 12364, 'saidlaw': 12365, 'saidtexa': 12366, 'ok': 12367, 'openli': 12368, 'localblox': 12369, 'bellevu': 12370, 'washbas': 12371, 'crawl': 12372, 'augment': 12373, 'zillow': 12374, 'profilesbut': 12375, 'contentsth': 12376, 'lbdump': 12377, 'unpack': 12378, 'scrape': 12379, 'stitch': 12380, 'underscor': 12381, 'carereview': 12382, 'yeartod': 12383, 'recognizeth': 12384, '8553313612': 12385, '16500': 12386, 'themaccess': 12387, 'lenderaccess': 12388, 'lateraccord': 12389, 'programaccess': 12390, 'chester': 12391, 'locationsamerican': 12392, 'esoter': 12393, 'securityan': 12394, 'aei': 12395, 'companyupon': 12396, 'statedan': 12397, '8882859795ael': 12398, 'prattvil': 12399, 'reportsth': 12400, 'vulnerabilityupguard': 12401, 'repositori': 12402, 'weakli': 12403, 'serverth': 12404, '33000': 12405, '2016in': 12406, 'dementia': 12407, 'meth': 12408, 'suicid': 12409, 'paranoia': 12410, 'verg': 12411, 'zack': 12412, 'reportsat': 12413, 'installedalthough': 12414, 'privacyinvas': 12415, 'childrenbut': 12416, 'datanon': 12417, 'completeshortli': 12418, 'duplicatesteensaf': 12419, 'littleknown': 12420, 'promotooltmobilecom': 12421, 'pastdu': 12422, 'suspendedth': 12423, 'supporttmobil': 12424, 'userspumpup': 12425, 'ontariobas': 12426, 'usersbut': 12427, 'timezon': 12428, 'appth': 12429, 'usersubmit': 12430, 'caffein': 12431, 'consumpt': 12432, 'frequenc': 12433, 'injuriesalso': 12434, 'passwordus': 12435, 'riskin': 12436, '2018on': 12437, '1pm': 12438, 'passwordsimmedi': 12439, '92283889': 12440, 'bluesnap': 12441, 'dna': 12442, 'segreg': 12443, 'reportsdata': 12444, 'intim': 12445, 'foundacadem': 12446, 'insuffici': 12447, 'illicitli': 12448, 'easyth': 12449, 'sharedmor': 12450, 'scoop': 12451, 'minuteth': 12452, 'codeshar': 12453, 'conscienti': 12454, 'agreeabl': 12455, 'neurotic': 12456, 'reidentifi': 12457, 'dixon': 12458, 'techradar': 12459, 'reportspageup': 12460, 'australiabas': 12461, 'worldwideth': 12462, 'companieswhil': 12463, 'swarthmor': 12464, 'bucknel': 12465, 'testimoni': 12466, 'reportsnu': 12467, 'recognit': 12468, 'recordsse': 12469, 'needsso': 12470, 'zuckerberg': 12471, 'breachtheir': 12472, 'wivb4': 12473, 'reportingunivers': 12474, '25hundr': 12475, '18hundr': 12476, 'accounts28': 12477, 'accounts862': 12478, 'accounts1800': 12479, 'abc15': 12480, 'reportsoffici': 12481, 'terro': 12482, 'patientsin': 12483, 'partypati': 12484, 'exposednearli': 12485, 'dunlap': 12486, '1241': 12487, 'hackedal': 12488, '4100': 12489, '33607': 12490, 'amali': 12491, '401': 12492, 'channelsid': 12493, '33602': 12494, '27607the': 12495, 'medium': 12496, 'inti': 12497, 'ceukelair': 12498, 'nametestscom': 12499, 'nametest': 12500, 'attackerwhat': 12501, 'leakeddepend': 12502, 'javascript': 12503, 'friendswhat': 12504, 'deletedif': 12505, 'afterward': 12506, 'logout': 12507, 'athleticwear': 12508, 'adida': 12509, 'adidascomu': 12510, 'childrenit': 12511, 'yorkbas': 12512, 'lion': 12513, 'saysasid': 12514, 'breadth': 12515, 'remark': 12516, 'depth': 12517, 'cat': 12518, 'scuba': 12519, 'dive': 12520, 'plussiz': 12521, 'universityth': 12522, 'numbersoffici': 12523, 'cbp': 12524, 'databasein': 12525, 'exposedanoth': 12526, 'instructorsanoth': 12527, '51345': 12528, 'geoloc': 12529, 'residencemani': 12530, 'databaseoth': 12531, 'offeredthat': 12532, 'availableif': 12533, 'catalin': 12534, 'cimbanu': 12535, '435gb': 12536, '10999535': 12537, 'usersal': 12538, 'yahoobas': 12539, 'suffix': 12540, 'contentsaverspy09092018': 12541, 'saverspycombin': 12542, 'couponscom': 12543, 'quotient': 12544, 'saverspi': 12545, '50000000': 12546, 'officialsmor': 12547, 'accountsfacebook': 12548, 'usersunderlin': 12549, 'strobe': 12550, 'apisus': 12551, 'apith': 12552, 'static': 12553, 'g': 12554, 'contentw': 12555, 'changew': 12556, '438': 12557, 'apiw': 12558, 'techchrunchfitmetrix': 12559, 'mindbodi': 12560, 'fitmetrix': 12561, 'septemberbob': 12562, 'hackenio': 12563, '1135': 12564, 'anomal': 12565, 'unaccept': 12566, 'guestsaccord': 12567, '327': 12568, 'publiclyaccess': 12569, 'themupd': 12570, '12010': 12571, 'shreveport': 12572, 'haughton': 12573, 'minden': 12574, 'farmervil': 12575, 'ero': 12576, 'downsvil': 12577, 'nech': 12578, 'vidor': 12579, 'deweyvil': 12580, 'nose': 12581, 'throat': 12582, '1824': 12583, '82510': 12584, '1907': 12585, '73110': 12586, '1590': 12587, '972011': 12588, '1107000': 12589, 'licensesupd': 12590, '11082012': 12591, 'grammleachbliley': 12592, '101500': 12593, 'fcu': 12594, '60632408886063240888': 12595, 'jami': 12596, 'darlingcallsend': 12597, 'fresholog': 12598, 'bellin': 12599, 'logic': 12600, '110186537': 12601, '968583': 12602, '20th': 12603, 'hospitalupd': 12604, '06212012': 12605, '9062011': 12606, 'changeof': 12607, 'biopsi': 12608, 'inoper': 12609, 'collat': 12610, 'voyeur': 12611, 'pornographi': 12612, 'airmen': 12613, 'existnot': 12614, 'mistakeinform': 12615, 'httpwwwoigdotgovsitesdotfilesmss20final20report2028signed29206182010pdf': 12616, 'siemen': 12617, 'schoolbas': 12618, 'centerston': 12619, 'dishonestli': 12620, 'impostor': 12621, 'treatmentupd': 12622, '91010': 12623, 'graham': 12624, 'organizationaft': 12625, 'skip': 12626, 'precautionsupd': 12627, '5242012': 12628, '225000': 12629, 'licc': 12630, '694': 12631, 'computersupd': 12632, '8310': 12633, 'electromyogram': 12634, 'neurophysiolog': 12635, '81810': 12636, '11440': 12637, 'holyok': 12638, '24750': 12639, '101110': 12640, '19750': 12641, 'chestnust': 12642, 'protectedcomput': 12643, 'patientord': 12644, 'mayo': 12645, 'fineupdate91010': 12646, 'countsupd': 12647, '7052011': 12648, 'shadysid': 12649, 'returnsupd': 12650, '10212011': 12651, '84190': 12652, 'zambia': 12653, 'yorkpresbyterian': 12654, 'accessibleupd': 12655, '5172014': 12656, '16day': 12657, 'kmtv': 12658, 'cattaneo': 12659, 'ucd': 12660, 'ultraex': 12661, 'remitt': 12662, 'abduct': 12663, 'murder': 12664, 'apl': 12665, '108000': 12666, 'prostat': 12667, '112310': 12668, 'cardiopulmonari': 12669, 'resuscit': 12670, 'cpr': 12671, '1950': 12672, 'vamc': 12673, 'shreddedupd': 12674, 'tss': 12675, 'rican': 12676, 'sacremento': 12677, '13964': 12678, '11982': 12679, 'eeoc': 12680, 'fiftyeight': 12681, 'guardianship': 12682, 'fiftyseven': 12683, 'toledo': 12684, 'conspicu': 12685, 'crush': 12686, 'outofservic': 12687, '501': 12688, 'seaburi': 12689, '231400': 12690, 'bandwidth': 12691, 'op': 12692, 'injur': 12693, 'intrigu': 12694, 'notifiedupd': 12695, '18871': 12696, 'tstream': 12697, '2979': 12698, 'azur': 12699, 'acr': 12700, 'abbott': 12701, 'contour': 12702, 'lasik': 12703, 'coventri': 12704, 'align': 12705, '2712963': 12706, '3000000': 12707, 'deaf': 12708, 'hawkey': 12709, 'mediaupd': 12710, 'infractionupd': 12711, '452011': 12712, 'chemistri': 12713, 'spine': 12714, 'caseload': 12715, 'grm': 12716, 'instituteupd': 12717, '552011': 12718, 'seclus': 12719, 'libel': 12720, 'seventyseven': 12721, 'urinari': 12722, 'tract': 12723, 'tiller': 12724, 'beeb': 12725, 'lew': 12726, 'machineri': 12727, 'uh': 12728, '37000': 12729, 'rancho': 12730, 'cordova': 12731, '622000': 12732, '223000': 12733, 'ppo': 12734, '14updat': 12735, '06072011': 12736, '17982': 12737, 'prof': 12738, '17200': 12739, 'injunct': 12740, 'compensatori': 12741, 'bourna': 12742, 'no211cv01262': 12743, '08092011': 12744, '124000': 12745, 'oregonian': 12746, '5222014': 12747, 'actaccord': 12748, 'treatmentif': 12749, '670': 12750, 'langon': 12751, 'misusedupd': 12752, '532011a': 12753, '7262011': 12754, 'pornwikileak': 12755, '04072011': 12756, 'freezesupd': 12757, 'scrap': 12758, 'preval': 12759, 'southdal': 12760, 'edina': 12761, '5122011': 12762, 'dea': 12763, 'thirddegre': 12764, 'sixthdegre': 12765, 'allkid': 12766, '264000': 12767, 'twentyeight': 12768, 'uniti': 12769, 'overdos': 12770, 'aprilupd': 12771, 'mailer': 12772, '611': 12773, '72746': 12774, '7032011': 12775, 'misde': 12776, 'reportupd': 12777, 'hoarder': 12778, '7142011': 12779, '221': 12780, 'hipaaupd': 12781, '2012012': 12782, 'supposedli': 12783, 'flamboy': 12784, 'investigationsh': 12785, 'caribbean': 12786, '43000': 12787, '123': 12788, '90count': 12789, 'hospitalsupd': 12790, '9272011': 12791, 'platt': 12792, '1262011': 12793, 'lakewood': 12794, 'sentupd': 12795, '7272011': 12796, 'snp': 12797, 'choicepartn': 12798, '10282011': 12799, '1378': 12800, 'medicalaid': 12801, 'hcpf': 12802, 'siteman': 12803, 'barnesjewish': 12804, 'sgmf': 12805, 'displac': 12806, 'lung': 12807, '1938': 12808, 'irsupd': 12809, '06132012': 12810, '22count': 12811, '10262012': 12812, '02072013': 12813, '1198063': 12814, '06132013': 12815, '10year': 12816, 'jeannett': 12817, 'excela': 12818, '12172011': 12819, 'tuberculosi': 12820, 'walgreenscom': 12821, 'dilemma': 12822, 'psychiatri': 12823, '10122012': 12824, 'reinstal': 12825, '10222011': 12826, '1438': 12827, 'overwhelm': 12828, '05222013': 12829, '17500': 12830, 'httpwwwhhsgovocrprivacyhipaaenforcementexamplesisuagreementpdfupd': 12831, '10132011': 12832, '474': 12833, 'matern': 12834, 'shappley': 12835, 'behav': 12836, 'malic': 12837, 'winnebago': 12838, 'securityupd': 12839, '03022013': 12840, '1032011': 12841, 'multispeci': 12842, '1052011': 12843, 'mscss': 12844, 'brandywyn': 12845, 'biloxi': 12846, 'panhandl': 12847, 'seebabi': 12848, 'directmail': 12849, 'listupd': 12850, '1102012': 12851, 'lure': 12852, 'caraccid': 12853, '10192011': 12854, 'funer': 12855, 'victimupd': 12856, '08182012': 12857, '10222012': 12858, 'nonlicens': 12859, 'physicianupd': 12860, '04122013': 12861, '07122013': 12862, 'sweeper': 12863, 'remodel': 12864, '10122011': 12865, 'nonessenti': 12866, 'offduti': 12867, 'turbo': 12868, '10302011': 12869, '705': 12870, '1631': 12871, '3994': 12872, '582': 12873, '28updat': 12874, '690': 12875, 'nio': 12876, 'westborough': 12877, 'worcest': 12878, 'southbridg': 12879, 'fitchburg': 12880, 'weymouth': 12881, '1970': 12882, 'cp': 12883, 'cpss': 12884, 'slide': 12885, 'microscop': 12886, 'genotyp': 12887, 'kunz': 12888, 'opera': 12889, 'recoveredupd': 12890, '2761': 12891, '10172013': 12892, 'sky': 12893, 'udpat': 12894, '11172011': 12895, 'lmg': 12896, 'elearn': 12897, 'pastebincom': 12898, 'pastieorg': 12899, 'teku': 12900, 'jospeh': 12901, 'emot': 12902, 'bhl': 12903, '934000': 12904, '11232011': 12905, '07212014': 12906, 'medcent': 12907, 'draw': 12908, 'hale': 12909, 'sawicki': 12910, 'phelp': 12911, '399m': 12912, '459': 12913, 'asthma': 12914, 'influenza': 12915, 'selfencrypt': 12916, 'sitka': 12917, 'electorn': 12918, 'emr4doctorscom': 12919, '5338': 12920, '2777': 12921, 'seventi': 12922, 'guidelin': 12923, 'redmond': 12924, 'brush': 12925, 'ochsner': 12926, 'stash': 12927, 'dianos': 12928, 'mdwise': 12929, 'hoosier': 12930, 'healthwis': 12931, '112299208': 12932, 'ayuda': 12933, 'dod': 12934, 'ell': 12935, 'gat': 12936, 'gif': 12937, 'hal': 12938, '640': 12939, 'pathologist': 12940, 'triumph': 12941, 'forsyth': 12942, 'brighton': 12943, 'revealedupd': 12944, '40912': 12945, '6831': 12946, 'fli': 12947, 'destructionupd': 12948, '7142015': 12949, '218400': 12950, '6235': 12951, 'petaluma': 12952, '4263': 12953, 'viejo': 12954, '31800': 12955, '318': 12956, 'patientupd': 12957, '10182016': 12958, 'ministri': 12959, '2140500': 12960, 'mexicomor': 12961, 'httpwwwhhsgovaboutnews20161018214millionhipaasettlementun': 12962, 'sidewalk': 12963, 'entranc': 12964, 'robley': 12965, 'rex': 12966, 'hackensack': 12967, '4202012': 12968, 'cocci': 12969, 'hepat': 12970, 'sickl': 12971, 'commonli': 12972, 'dcss': 12973, '460000updat': 12974, '04102012': 12975, '181604': 12976, '25096': 12977, '05152012': 12978, 'ombudsman': 12979, 'shepherd': 12980, 'partli': 12981, 'transitupd': 12982, '07222012': 12983, 'tour': 12984, '03252013': 12985, 'legislatur': 12986, '59500': 12987, '8015386923': 12988, 'ombudsmanutahgov': 12989, '20132014': 12990, 'healthlogix': 12991, 'starmedicaid': 12992, '04122012': 12993, 'nippon': 12994, 'employeesupd': 12995, '02052013': 12996, '03042013': 12997, '5242014': 12998, 'latoya': 12999, 'talbert': 13000, 'crawford': 13001, '315000': 13002, 'indig': 13003, '22600': 13004, 'agencyupd': 13005, '02202013': 13006, 'employeeupd': 13007, '10092013': 13008, 'willful': 13009, 'uamss': 13010, 'naugatuck': 13011, 'occupationjob': 13012, 'estrang': 13013, 'sheppard': 13014, '82nd': 13015, '741': 13016, 'intak': 13017, 'halfway': 13018, 'oxycodon': 13019, 'icu': 13020, 'bueno': 13021, 'fivedigit': 13022, 'phoeb': 13023, 'putney': 13024, '110431': 13025, 'reckless': 13026, '1979': 13027, 'sloankett': 13028, '568': 13029, 'attic': 13030, 'swedishamerican': 13031, 'perspect': 13032, 'preciou': 13033, 'emc': 13034, '7461': 13035, 'vna': 13036, '2097': 13037, 'empoye': 13038, '702': 13039, '195': 13040, 'officeth': 13041, 'internetupd': 13042, '08132012': 13043, '01092013': 13044, 'apria': 13045, '09292012': 13046, '65700': 13047, 'limitedus': 13048, 'shuttl': 13049, 'yearlong': 13050, '875': 13051, '3172016': 13052, 'feinstein': 13053, 'hipaamor': 13054, 'httpwwwhhsgovaboutnews20160317improperdisclosureresearchpa': 13055, 'tiff': 13056, 'medicalhealth': 13057, 'passwordfre': 13058, 'lahey': 13059, 'countupd': 13060, '04112013': 13061, 'forfeit': 13062, 'apex': 13063, 'hhss': 13064, 'litton': 13065, 'gid': 13066, 'waipahu': 13067, 'bedford': 13068, '11102012': 13069, '14004': 13070, 'clot': 13071, 'aler': 13072, 'highlandtown': 13073, '2009anoth': 13074, 'fellowship': 13075, '188000': 13076, '12212012': 13077, '683': 13078, 'soundent': 13079, 'rope': 13080, '555000': 13081, 'housekeep': 13082, 'crothal': 13083, 'cafeteria': 13084, 'marchupd': 13085, 'searchedat': 13086, '377': 13087, '416': 13088, 'centerrandolph': 13089, '1657': 13090, 'mishandledupd': 13091, '12132012': 13092, 'ez': 13093, 'durabl': 13094, '630000': 13095, 'dispensari': 13096, '6601': 13097, '122013': 13098, '3997': 13099, 'careplex': 13100, 'leigh': 13101, 'norfolk': 13102, 'obici': 13103, 'princess': 13104, 'ann': 13105, 'williamsburg': 13106, 'harbour': 13107, 'warwick': 13108, '8555': 13109, 'integri': 13110, 'hewlettpackard': 13111, 'assessmentsplan': 13112, '01312013': 13113, 'bujandawagn': 13114, '818000': 13115, 'tray': 13116, '306720': 13117, '750469': 13118, '07302013': 13119, '15795': 13120, 'honesdal': 13121, 'novita': 13122, '2012she': 13123, 'seminol': 13124, 'psychotherapi': 13125, '03152013': 13126, 'othersupd': 13127, '04262013': 13128, 'lighten': 13129, '04012013': 13130, 'indirectli': 13131, 'melros': 13132, 'medstar': 13133, '18552240004': 13134, 'hoursupd': 13135, '07222013': 13136, 'proven': 13137, '87': 13138, 'dianosi': 13139, 'lifestyl': 13140, 'glen': 13141, 'carpathia': 13142, '05172013': 13143, 'watersid': 13144, '06272013': 13145, 'clover': 13146, 'urmc': 13147, 'laundri': 13148, 'reel': 13149, 'shasta': 13150, 'siskiy': 13151, 'tehama': 13152, 'silverupd': 13153, '05182013': 13154, 'medcheck': 13155, '07102013': 13156, 'winter': 13157, 'disenrol': 13158, 'cousin': 13159, 'nonfunct': 13160, 'marion': 13161, 'kokomo': 13162, '5690': 13163, 'kendal': 13164, 'bridgewat': 13165, 'occass': 13166, 'insulin': 13167, 'glucos': 13168, 'infocross': 13169, 'healthnet': 13170, '09232013': 13171, 'janna': 13172, 'benkelman': 13173, 'emr': 13174, 'allscript': 13175, '1456': 13176, 'identificaiton': 13177, 'paddar': 13178, 'bw': 13179, 'arthriti': 13180, 'rheumatolog': 13181, 'rgv': 13182, 'sinani': 13183, 'residenceth': 13184, 'administor': 13185, '148': 13186, 'targetedupd': 13187, '12212013': 13188, 'janesvil': 13189, 'misuseupd': 13190, '10680': 13191, 'lanap': 13192, 'dsh': 13193, 'chemic': 13194, 'publicassist': 13195, 'ncdhh': 13196, 'inspira': 13197, 'vineland': 13198, 'computerlik': 13199, 'statementbut': 13200, 'numbershumana': 13201, '33702': 13202, 'salina': 13203, 'sfhc': 13204, 'monthcgi': 13205, 'ashburnhamwestminst': 13206, 'northboro': 13207, 'northborosouthboro': 13208, 'southboro': 13209, 'sutton': 13210, 'unknownth': 13211, 'somersworth': 13212, 'massachusettsth': 13213, 'numbersmultist': 13214, 'greatlyth': 13215, 'clientsclient': 13216, '86677811448667781144': 13217, 'biorefer': 13218, 'patientmed': 13219, '196': 13220, '1800229522718002295227': 13221, '8433': 13222, 'compliancedepartmentbioreferencecomcallsend': 13223, 'centershould': 13224, 'elbow': 13225, 'itselffor': 13226, '18776153762': 13227, 'beachwoodlakewood': 13228, 'stevem': 13229, 'golman': 13230, 'win': 13231, 'starplu': 13232, '1866876hipa1866876hipa': 13233, '4472more': 13234, 'httpwwwphiprivacynetuniversityoffloridaandtexashhscnotifyt': 13235, 'httpprivacyufleduwpcontentuploads201409brchletrichpkcasep': 13236, '18882760529more': 13237, 'httpwwworegonlivecomgreshamindexssf201410laptopsstolenfrom': 13238, 'intergovernment': 13239, 'mitn': 13240, 'httpwwwphiprivacynet201410page13': 13241, 'conferenceth': 13242, 'encryptedfor': 13243, '8448885998': 13244, 'httpwwwphiprivacynet201410page12': 13245, '18554012640': 13246, 'highlandscashi': 13247, 'trubridg': 13248, 'servicesa': 13249, 'helath': 13250, '1888227141618882271416': 13251, 'httpwwwphiprivacynethighlandscashiershospitaldiscoverspati': 13252, 'insurerth': 13253, '2404946888': 13254, '2404946more': 13255, 'httpwwwdemocratandchroniclecomstorynews20141206wellcaremediccallsend': 13256, '145000': 13257, 'parole': 13258, 'reciev': 13259, '122005': 13260, 'taxcut': 13261, 'cs': 13262, 'corelog': 13263, 'dwp': 13264, '2007updat': 13265, '21508': 13266, 'disclosedupd': 13267, '113010': 13268, '122210': 13269, 'capella': 13270, 'incidentsupd': 13271, '11232013': 13272, 'sachem': 13273, 'trespass': 13274, '20102011': 13275, 'healthsouth': 13276, 'breatch': 13277, 'stolenhealthsouth': 13278, 'reliant': 13279, '1359': 13280, 'httpwwwhealthsouthroundrockcomennewslisting2015databreachsth': 13281, '8777525527': 13282, 'httpwwwucfedudatasecur': 13283, 'httpwwwscandatafactscomsubstitut': 13284, 'vera': 13285, 'verabradleycom': 13286, 'wwwverabradleycomprotectingourcustomersth': 13287, 'httpinvestorsverabradleycomreleasedetailcfmreleaseid993213': 13288, 'causewhat': 13289, 'wwwgamestopcom': 13290, 'multnomah': 13291, 'sixti': 13292, '661': 13293, 'rbc': 13294, '66000': 13295, '4232015': 13296, 'readeem': 13297, '18133': 13298, '11272017': 13299, '152018': 13300, 'cetera': 13301, '1182017': 13302, '1260': 13303, 'cyruson': 13304, '10182017': 13305, '402': 13306, 'talentreef': 13307, '11603': 13308, 'petssmart': 13309, '1434': 13310, '1219201712262017': 13311, '12222017': 13312, '112417': 13313, '692017': 13314, '1022017': 13315, '187788': 13316, '53173': 13317, '1122018': 13318, 'hallmark': 13319, '2816': 13320, '12082017': 13321, 'deaco': 13322, '9212017': 13323, '2649': 13324, 'ameripris': 13325, '162018': 13326, 'indianpoli': 13327, '257': 13328, '16212017': 13329, 'westminst': 13330, 'inglesid': 13331, '9769': 13332, '2181': 13333, 'purportedli': 13334, 'eastconn': 13335, '194': 13336, 'txteam': 13337, '10302017': 13338, 'â': 13339, 'œadpâ': 13340, 'carit': 13341, '346': 13342, '11816': 13343, '843': 13344, '11252017': 13345, '36840': 13346, '10312017': 13347, '6020': 13348, 'earnedamount': 13349, 'scorppartnershipllctrust': 13350, '1095a': 13351, 'pentair': 13352, 'aquat': 13353, 'eco': 13354, '12192017': 13355, 'scoppachio': 13356, '204': 13357, 'storedw': 13358, 'providernevro': 13359, '281': 13360, 'rdx': 13361, 'rdxemploye': 13362, 'infonn': 13363, 'wasfraudul': 13364, 'namelast': 13365, '101417': 13366, '12517': 13367, '1518': 13368, '212018': 13369, '22182': 13370, '2017until': 13371, 'tadocu': 13372, 'fur': 13373, 'doral': 13374, 'theftswhat': 13375, 'ware': 13376, 'err': 13377, 'fontainebleau': 13378, '158': 13379, 'daintre': 13380, 'driscol': 13381, 'in': 13382, 'unformat': 13383, '10981': 13384, '12282017': 13385, 'mindlanc': 13386, '3085': 13387, 'islip': 13388, 'bbb': 13389, '139': 13390, '1172018': 13391, '19438': 13392, 'engl': 13393, '2508': 13394, '557': 13395, 'ahm': 13396, 'staybridg': 13397, 'lexington': 13398, '344': 13399, 'ccdc': 13400, 'wherebi': 13401, '67': 13402, 'lendkey': 13403, '6403': 13404, 'mistyp': 13405, 'wotc': 13406, 'transpos': 13407, 'daughter': 13408, 'jemison': 13409, 'repackag': 13410, 'representativerecord': 13411, 'wesley': 13412, 'activitybreach': 13413, 'cascad': 13414, 'platformrecord': 13415, 'formrecord': 13416, 'fbiâ': 13417, '24999': 13418, 'emailbas': 13419, 'futurebreach': 13420, 'biotechnolog': 13421, 'click2': 13422, 'cient': 13423, 'aveneusacom': 13424, 'renefurtererusacom': 13425, 'kloraneusacom': 13426, 'glytoneusacom': 13427, 'zed': 13428, '018': 13429, 'exposedinform': 13430, 'numbersblu': 13431, 'southwestcom': 13432, 'whih': 13433, 'dbi': 13434, 'sentli': 13435, 'sworn': 13436, 'copiesth': 13437, 'employeesw': 13438, 'datainclud': 13439, 'driverslicens': 13440, 'ts': 13441, 'bomba': 13442, 'sock': 13443, 'removedwhat': 13444, 'deriv': 13445, 'generalund': 13446, 'unicef': 13447, 'joann': 13448, 'dunster': 13449, 'administratoresd': 13450, '18027696155': 13451, 'universityon': 13452, 'theyv': 13453, '18009817571': 13454, '47911': 13455, 'clerktreasur': 13456, 'unredact': 13457, 'assessorth': 13458, 'clickabl': 13459, '2014those': 13460, 'rusten': 13461, '18028657000': 13462, 'dartmouthhitchcock': 13463, 'companyon': 13464, 'goff': 13465, '16036531380': 13466, 'issecurityhitchcockorg': 13467, 'hireth': 13468, 'questionsth': 13469, 'obtainedlaw': 13470, 'assett': 13471, 'acces': 13472, 'monit': 13473, 'lovel': 13474, 'informationfor': 13475, '8002328081': 13476, '818669792593': 13477, 'servicesani': 13478, 'httpwwwalaskacommunicationscom': 13479, 'dta': 13480, 'secccur': 13481, 'instructionsth': 13482, 'wwwprotecmyidcomredeem': 13483, 'faudul': 13484, 'reutrn': 13485, 'gold': 13486, '3in1': 13487, 'shelburn': 13488, 'supportallclearidcom': 13489, '18554348077': 13490, 'returnsccc': 13491, '18667781144': 13492, 'missingth': 13493, 'conductedth': 13494, 'solutionsfor': 13495, '1855758754318557587543': 13496, 'disclosurehelpcrlcorpcomcallsend': 13497, 'numberthos': 13498, '1866591156818665911568': 13499, '219512': 13500, '641219512': 13501, '64105callsend': 13502, 'citystatezip': 13503, 'wwwtrustedidcomenhancedidentitytheftprotect': 13504, 'wwwtrustedidcomwilli': 13505, 'wnaide0314': 13506, '18888800761': 13507, 'woud': 13508, '18776760382': 13509, 'auton': 13510, 'trademot': 13511, '18662529553': 13512, 'sea': 13513, 'jaunari': 13514, 'httpagovermontgovassetsfilesconsumersecuritybreachbed20bath': 13515, 'geral': 13516, 'darring': 13517, 'httpwwwdfrvermontgovsitesdefaultfiles114201520genworthpdf': 13518, 'cindi': 13519, 'httpwwwdfrvermontgovsitesdefaultfiles1112201520capital20fi': 13520, 'httpagovermontgovassetsfilesconsumersecuritybreachthomas20n': 13521, 'taxrel': 13522, 'deter': 13523, 'accountw': 13524, 'httpsubispeedcom': 13525, 'httpft86speedfactorycom': 13526, 'incidentsth': 13527, 'possibleat': 13528, 'httpwwwdfrvermontgovdatasecuritybreachnotic': 13529, 'baja': 13530, 'wwwbajaboundcom': 13531, 'cautionmor': 13532, 'httpwwwdfrvermontgovsitesdefaultfiles28201620baja20bound2': 13533, 'nonschwab': 13534, 'schwabcom': 13535, 'sitesth': 13536, 'httpwwwdfrvermontgovsitesdefaultfilesschwab20data20secur': 13537, 'httpagovermontgovassetsfilesconsumersecuritybreachuniversityhttpuniversitygicomsecurityincidentpdf': 13538, 'happenedgorilla': 13539, 'gorilla': 13540, 'usedto': 13541, 'accountsbas': 13542, 'nonintuit': 13543, 'onfrom': 13544, 'dated': 13545, 'issueswith': 13546, 'determinedthrough': 13547, 'someperson': 13548, 'accessto': 13549, 'fromfebruari': 13550, 'systemsmay': 13551, '4wagesalari': 13552, 'nonaffili': 13553, '69': 13554, 'pow': 13555, 'cheroke': 13556, 'notr': 13557, 'dame': 13558, 'tire': 13559, '35959': 13560, '48count': 13561, 'nassau': 13562, 'georgiaupd': 13563, '12192012': 13564, '6209': 13565, '169': 13566, '858': 13567, 'independentsfor': 13568, '831645562': 13569, '35212': 13570, 'addressth': 13571, '18882669438': 13572, 'cstomer': 13573, 'expressvitalscom': 13574, '19686': 13575, '772249868': 13576, '18442455654': 13577, 'bfe': 13578, 'allclearpro': 13579, 'wwwenrollallclearidcom': 13580, 'httpswwwmyidmanagercompromocodehtml': 13581, '1866717942918667179429': 13582, '1800405610818004056108': 13583, 'httpoagcagovecrimedatabreachreportssb2447924callsend': 13584, 'breachedmor': 13585, 'wwwcarefirstanswerscommor': 13586, 'httpwwwbaltimoresuncomhealthbsbzcarefirstdatabreach20150520': 13587, 'hillsid': 13588, 'stard': 13589, 'genderfor': 13590, '13235432800': 13591, '830am': 13592, 'taikinshillsidesorgmor': 13593, 'httpoagcagovecrimedatabreachreportssb2459475': 13594, '1800flower': 13595, 'informationinform': 13596, 'codesfor': 13597, '8886879294': 13598, 'httpoagcagovecrimedatabreachreportssb2460377': 13599, 'activityth': 13600, 'mrn': 13601, 'httpoagcagovecrimedatabreachreportssb2462796': 13602, 'httpwwwcnncom20160829politicshackersbreachillinoisarizonaehttpswwwelectionsilgovnewsdetailaspxidaw6ijk5ttzs3d': 13603, 'clientsa': 13604, 'statementwhil': 13605, 'httpwwwconcordmonitorcomnhstateofficialsworkingtomakenetwork': 13606, 'websiteon': 13607, 'partnersupon': 13608, 'issuesaft': 13609, 'emailsin': 13610, 'reeduc': 13611, 'eventmor': 13612, '1215': 13613, 'drier': 13614, 'situationwhat': 13615, 'usernameemail': 13616}\n"
     ]
    }
   ],
   "source": [
    "print(word_index)"
   ]
  },
  {
   "cell_type": "code",
   "execution_count": 14,
   "id": "c395ee31",
   "metadata": {
    "execution": {
     "iopub.execute_input": "2022-06-14T10:26:48.906578Z",
     "iopub.status.busy": "2022-06-14T10:26:48.906323Z",
     "iopub.status.idle": "2022-06-14T10:26:49.151000Z",
     "shell.execute_reply": "2022-06-14T10:26:49.150203Z"
    },
    "papermill": {
     "duration": 0.331646,
     "end_time": "2022-06-14T10:26:49.153397",
     "exception": false,
     "start_time": "2022-06-14T10:26:48.821751",
     "status": "completed"
    },
    "tags": []
   },
   "outputs": [
    {
     "name": "stdout",
     "output_type": "stream",
     "text": [
      "Shape of data tensor: (8901, 300)\n"
     ]
    }
   ],
   "source": [
    "X = tokenizer.texts_to_sequences(df1['desp_clean_final'].values)\n",
    "X = pad_sequences(X, maxlen=MAX_SEQUENCE_LENGTH)\n",
    "print('Shape of data tensor:', X.shape)"
   ]
  },
  {
   "cell_type": "code",
   "execution_count": 15,
   "id": "3c42dba8",
   "metadata": {
    "execution": {
     "iopub.execute_input": "2022-06-14T10:26:49.307171Z",
     "iopub.status.busy": "2022-06-14T10:26:49.306645Z",
     "iopub.status.idle": "2022-06-14T10:26:49.314964Z",
     "shell.execute_reply": "2022-06-14T10:26:49.314323Z"
    },
    "papermill": {
     "duration": 0.086983,
     "end_time": "2022-06-14T10:26:49.317828",
     "exception": false,
     "start_time": "2022-06-14T10:26:49.230845",
     "status": "completed"
    },
    "tags": []
   },
   "outputs": [
    {
     "name": "stdout",
     "output_type": "stream",
     "text": [
      "[[   0    0    0    0    0    0    0    0    0    0    0    0    0    0\n",
      "     0    0    0    0    0    0    0    0    0    0    0    0    0    0\n",
      "     0    0    0    0    0    0    0    0    0    0    0    0    0    0\n",
      "     0    0    0    0    0    0    0    0    0    0    0    0    0    0\n",
      "     0    0    0    0    0    0    0    0    0    0    0    0    0    0\n",
      "     0    0    0    0    0    0    0    0    0    0    0    0    0    0\n",
      "     0    0    0    0    0    0    0    0    0    0    0    0    0    0\n",
      "     0    0    0    0    0    0    0    0    0    0    0    0    0    0\n",
      "     0    0    0    0    0    0    0    0    0    0    0    0    0    0\n",
      "     0    0    0    0    0    0    0    0    0    0    0    0    0    0\n",
      "     0    0    0    0    0    0    0    0    0    0    0    0    0    0\n",
      "     0    0    0    0    0    0    0    0    0    0    0    0    0    0\n",
      "     0    0    0    0    0    0    0    0    0    0    0    0    0    0\n",
      "     0    0    0    0    0    0    0    0    0    0    0    0    0    0\n",
      "     0    0    0    0    0    0    0    0    0    0    0    0    0    0\n",
      "     0    0    0    0    0    0    0    0    0    0    0    0    0    0\n",
      "     0    0    0    0    0    0    0    0    0    0    0    0    0    0\n",
      "     0    0    0    0    0    0    0    0    0    0    0    0    0    0\n",
      "     0    0    0    0    0    0    0    0    0    0    0    0    0    0\n",
      "     0    0   35   57    2  238  122  126  414   44  295  182   10  181\n",
      "    15  284    1    8    4    3    5    9   63   22    5   63   22    3\n",
      "    12   52  148 4259   54   24]\n",
      " [   0    0    0    0    0    0    0    0    0    0    0    0    0    0\n",
      "     0    0    0    0    0    0    0    0    0    0    0    0    0    0\n",
      "     0    0    0    0    0    0    0    0    0    0    0    0    0    0\n",
      "     0    0    0    0    0    0    0    0    0    0    0    0    0    0\n",
      "     0    0    0    0    0    0    0    0    0    0    0    0    0    0\n",
      "     0    0    0    0    0    0    0    0    0    0    0    0    0    0\n",
      "     0    0    0    0    0    0    0    0    0    0    0    0    0    0\n",
      "     0    0    0    0    0    0    0    0    0    0    0    0    0    0\n",
      "     0    0    0    0    0    0    0    0    0    0    0    0    0    0\n",
      "     0    0    0    0    0    0    0    0    0    0    0    0    0    0\n",
      "     0    0    0    0    0    0    0    0    0    0    0    0    0    0\n",
      "     0    0    0    0    0    0    0    0    0    0    0    0    0    0\n",
      "     0    0    0    0    0    0    0    0    0    0    0    0    0    0\n",
      "     0    0    0    0    0    0    0    0    0    0    0    0    0    0\n",
      "     0    0    0    0    0    0    0    0    0    0    0    0    0    0\n",
      "     0    0    0    0    0    0    0    0    0    0    0    0    0    0\n",
      "     0    0    0    0    0    0    0    0    0    0    0    0    0    0\n",
      "     0    0    0    0    0    0    0    0    0    0    0    0    0    0\n",
      "     0    0    0    0    0    0    0    0  115  459   97   18   31  545\n",
      "   190  508 1075   62  142   19    1    1   29  879 3361 4260  439   25\n",
      "   453 4261   25  453   73   53   22  880    5    8    4    3   17   36\n",
      "     9 4261   25  453   22    1]\n",
      " [   0    0    0    0    0    0    0    0    0    0    0    0    0    0\n",
      "     0    0    0    0    0    0    0    0    0    0    0    0    0    0\n",
      "     0    0    0    0    0    0    0    0    0    0    0    0    0    0\n",
      "     0    0    0    0    0    0    0    0    0    0    0    0    0    0\n",
      "     0    0    0    0    0    0    0    0    0    0    0    0    0    0\n",
      "     0    0    0    0    0    0    0    0    0    0    0    0    0    0\n",
      "     0    0    0    0    0    0    0    0    0    0    0    0    0    0\n",
      "     0    0    0    0    0    0    0    0    0    0    0    0    0    0\n",
      "     0    0    0    0    0    0    0    0    0    0    0    0    0    0\n",
      "     0    0    0    0    0    0    0    0    0    0    0    0    0    0\n",
      "     0    0    0    0    0    0    0    0    0    0    0    0    0    0\n",
      "     0    0    0    0    0    0    0    0    0    0    0    0    0    0\n",
      "     0    0    0    0    0    0    0    0    0    0    0    0    0    0\n",
      "     0    0    0    0    0    0    0    0    0    0    0    0    0    0\n",
      "     0    0    0    0    0    0    0    0    0    0    0    0    0    0\n",
      "     0    0    0    0    0    0    0    0    0    0    0    0    0    0\n",
      "     0    0    0    0    0    0    0 3362  559 3363  580   77  588   38\n",
      "  3362    7  225  212   55 1649   28 1649 1649   20  199 3363  343  581\n",
      "  1650  199   58  676 2135  469 3363  297  168 1649 1649  129   37 3362\n",
      "     7  421  343  581    1   20    5  133    3   39  523   17  142   39\n",
      "   523    1   16    7  133 1526 2549    8    4    3   96 1107 2135 1974\n",
      "   199   20    5    8    4    3]]\n"
     ]
    }
   ],
   "source": [
    "print(X[0:3])"
   ]
  },
  {
   "cell_type": "code",
   "execution_count": 16,
   "id": "34438210",
   "metadata": {
    "execution": {
     "iopub.execute_input": "2022-06-14T10:26:49.471342Z",
     "iopub.status.busy": "2022-06-14T10:26:49.471074Z",
     "iopub.status.idle": "2022-06-14T10:26:49.479043Z",
     "shell.execute_reply": "2022-06-14T10:26:49.477905Z"
    },
    "papermill": {
     "duration": 0.087949,
     "end_time": "2022-06-14T10:26:49.481640",
     "exception": false,
     "start_time": "2022-06-14T10:26:49.393691",
     "status": "completed"
    },
    "tags": []
   },
   "outputs": [
    {
     "name": "stdout",
     "output_type": "stream",
     "text": [
      "Shape of label tensor: (8901, 7)\n"
     ]
    }
   ],
   "source": [
    "Y = pd.get_dummies(df1['INCIBE TAXONOMY']).values\n",
    "print('Shape of label tensor:', Y.shape)"
   ]
  },
  {
   "cell_type": "code",
   "execution_count": 17,
   "id": "6781f47a",
   "metadata": {
    "execution": {
     "iopub.execute_input": "2022-06-14T10:26:49.640231Z",
     "iopub.status.busy": "2022-06-14T10:26:49.639981Z",
     "iopub.status.idle": "2022-06-14T10:26:49.644742Z",
     "shell.execute_reply": "2022-06-14T10:26:49.643996Z"
    },
    "papermill": {
     "duration": 0.085481,
     "end_time": "2022-06-14T10:26:49.647351",
     "exception": false,
     "start_time": "2022-06-14T10:26:49.561870",
     "status": "completed"
    },
    "tags": []
   },
   "outputs": [
    {
     "name": "stdout",
     "output_type": "stream",
     "text": [
      "[[0 0 1 0 0 0 0]\n",
      " [1 0 0 0 0 0 0]\n",
      " [1 0 0 0 0 0 0]\n",
      " [0 0 1 0 0 0 0]\n",
      " [1 0 0 0 0 0 0]\n",
      " [0 1 0 0 0 0 0]\n",
      " [0 1 0 0 0 0 0]\n",
      " [0 1 0 0 0 0 0]\n",
      " [0 0 1 0 0 0 0]\n",
      " [0 0 0 0 0 1 0]]\n"
     ]
    }
   ],
   "source": [
    "print(Y[0:10])"
   ]
  },
  {
   "cell_type": "code",
   "execution_count": 18,
   "id": "bd240bb9",
   "metadata": {
    "execution": {
     "iopub.execute_input": "2022-06-14T10:26:49.908685Z",
     "iopub.status.busy": "2022-06-14T10:26:49.908420Z",
     "iopub.status.idle": "2022-06-14T10:26:49.923722Z",
     "shell.execute_reply": "2022-06-14T10:26:49.922056Z"
    },
    "papermill": {
     "duration": 0.173512,
     "end_time": "2022-06-14T10:26:49.926291",
     "exception": false,
     "start_time": "2022-06-14T10:26:49.752779",
     "status": "completed"
    },
    "tags": []
   },
   "outputs": [
    {
     "name": "stdout",
     "output_type": "stream",
     "text": [
      "300\n"
     ]
    }
   ],
   "source": [
    "max_length=0\n",
    "for descp_number in range(len(X)):\n",
    "  numofwords=len(X[descp_number])\n",
    "  if(numofwords)>(max_length):\n",
    "    max_length = numofwords\n",
    "print(max_length) "
   ]
  },
  {
   "cell_type": "code",
   "execution_count": 19,
   "id": "d3429168",
   "metadata": {
    "execution": {
     "iopub.execute_input": "2022-06-14T10:26:50.181570Z",
     "iopub.status.busy": "2022-06-14T10:26:50.181148Z",
     "iopub.status.idle": "2022-06-14T10:26:50.695126Z",
     "shell.execute_reply": "2022-06-14T10:26:50.691742Z"
    },
    "papermill": {
     "duration": 0.646476,
     "end_time": "2022-06-14T10:26:50.699706",
     "exception": false,
     "start_time": "2022-06-14T10:26:50.053230",
     "status": "completed"
    },
    "tags": []
   },
   "outputs": [
    {
     "name": "stdout",
     "output_type": "stream",
     "text": [
      "[[   0    0    0 ... 4259   54   24]\n",
      " [   0    0    0 ...  453   22    1]\n",
      " [   0    0    0 ...    8    4    3]\n",
      " ...\n",
      " [   0    0    0 ...    2    1   18]\n",
      " [   0    0    0 ...    2    1   18]\n",
      " [   0    0    0 ...    2    1   18]]\n",
      "Shape of descriptions tensor:  (8901, 300)\n",
      "Shape of label tensor:  (8901, 7)\n"
     ]
    }
   ],
   "source": [
    "from tensorflow.keras.preprocessing.sequence import pad_sequences\n",
    "import numpy as np\n",
    "data = pad_sequences(X, maxlen = max_length)\n",
    "y = np.asarray(Y)\n",
    "print(data)\n",
    "print('Shape of descriptions tensor: ', data.shape)\n",
    "print('Shape of label tensor: ', y.shape)"
   ]
  },
  {
   "cell_type": "code",
   "execution_count": 20,
   "id": "27aadd14",
   "metadata": {
    "execution": {
     "iopub.execute_input": "2022-06-14T10:26:50.966056Z",
     "iopub.status.busy": "2022-06-14T10:26:50.965474Z",
     "iopub.status.idle": "2022-06-14T10:26:50.986830Z",
     "shell.execute_reply": "2022-06-14T10:26:50.985762Z"
    },
    "papermill": {
     "duration": 0.149598,
     "end_time": "2022-06-14T10:26:50.991051",
     "exception": false,
     "start_time": "2022-06-14T10:26:50.841453",
     "status": "completed"
    },
    "tags": []
   },
   "outputs": [
    {
     "name": "stdout",
     "output_type": "stream",
     "text": [
      "(8010, 300) (8010, 7)\n",
      "(891, 300) (891, 7)\n"
     ]
    }
   ],
   "source": [
    "X_train, X_test, Y_train, Y_test = train_test_split(data,y, test_size = 0.10, random_state = 42)\n",
    "print(X_train.shape,Y_train.shape)\n",
    "print(X_test.shape,Y_test.shape)"
   ]
  },
  {
   "cell_type": "code",
   "execution_count": 21,
   "id": "78ce0c62",
   "metadata": {
    "execution": {
     "iopub.execute_input": "2022-06-14T10:26:51.248432Z",
     "iopub.status.busy": "2022-06-14T10:26:51.248002Z",
     "iopub.status.idle": "2022-06-14T10:26:51.252166Z",
     "shell.execute_reply": "2022-06-14T10:26:51.251274Z"
    },
    "papermill": {
     "duration": 0.136751,
     "end_time": "2022-06-14T10:26:51.255639",
     "exception": false,
     "start_time": "2022-06-14T10:26:51.118888",
     "status": "completed"
    },
    "tags": []
   },
   "outputs": [],
   "source": [
    "#import gensim.downloader as api\n",
    "#w2v_model = api.load(\"../input/word2vec/GoogleNews-vectors-negative300.bin\")"
   ]
  },
  {
   "cell_type": "code",
   "execution_count": 22,
   "id": "87ad55d6",
   "metadata": {
    "execution": {
     "iopub.execute_input": "2022-06-14T10:26:51.519456Z",
     "iopub.status.busy": "2022-06-14T10:26:51.519038Z",
     "iopub.status.idle": "2022-06-14T10:26:51.652085Z",
     "shell.execute_reply": "2022-06-14T10:26:51.651320Z"
    },
    "papermill": {
     "duration": 0.269607,
     "end_time": "2022-06-14T10:26:51.654981",
     "exception": false,
     "start_time": "2022-06-14T10:26:51.385374",
     "status": "completed"
    },
    "tags": []
   },
   "outputs": [],
   "source": [
    "import tensorflow as tf\n",
    "from gensim.models import KeyedVectors\n",
    "from gensim import models"
   ]
  },
  {
   "cell_type": "code",
   "execution_count": 23,
   "id": "5aad964b",
   "metadata": {
    "execution": {
     "iopub.execute_input": "2022-06-14T10:26:51.856312Z",
     "iopub.status.busy": "2022-06-14T10:26:51.856058Z",
     "iopub.status.idle": "2022-06-14T10:27:56.937064Z",
     "shell.execute_reply": "2022-06-14T10:27:56.936217Z"
    },
    "papermill": {
     "duration": 65.162858,
     "end_time": "2022-06-14T10:27:56.939319",
     "exception": false,
     "start_time": "2022-06-14T10:26:51.776461",
     "status": "completed"
    },
    "tags": []
   },
   "outputs": [],
   "source": [
    "word2vec_path = '../input/word2vec/GoogleNews-vectors-negative300.bin'\n",
    "w2v_model = models.KeyedVectors.load_word2vec_format(word2vec_path, binary=True)"
   ]
  },
  {
   "cell_type": "code",
   "execution_count": 24,
   "id": "a2b99397",
   "metadata": {
    "execution": {
     "iopub.execute_input": "2022-06-14T10:27:57.096095Z",
     "iopub.status.busy": "2022-06-14T10:27:57.095074Z",
     "iopub.status.idle": "2022-06-14T10:27:57.171215Z",
     "shell.execute_reply": "2022-06-14T10:27:57.170422Z"
    },
    "papermill": {
     "duration": 0.155221,
     "end_time": "2022-06-14T10:27:57.173021",
     "exception": false,
     "start_time": "2022-06-14T10:27:57.017800",
     "status": "completed"
    },
    "tags": []
   },
   "outputs": [
    {
     "name": "stdout",
     "output_type": "stream",
     "text": [
      "Embedding Matrix shape:  (13617, 300)\n"
     ]
    }
   ],
   "source": [
    "unique_words = len(word_index)\n",
    "total_words = unique_words+1\n",
    "skipped_words = 0\n",
    "embedding_dim = 300\n",
    "embedding_matrix = np.zeros((total_words,embedding_dim))\n",
    "for word, index in tokenizer.word_index.items():\n",
    "  try:\n",
    "    embedding_vector = w2v_model[word]\n",
    "  except:\n",
    "    skipped_words = skipped_words+1\n",
    "    pass\n",
    "  if embedding_vector is not None:\n",
    "    embedding_matrix[index] = embedding_vector\n",
    "print(\"Embedding Matrix shape: \", embedding_matrix.shape)  "
   ]
  },
  {
   "cell_type": "code",
   "execution_count": 25,
   "id": "9dd1ee05",
   "metadata": {
    "execution": {
     "iopub.execute_input": "2022-06-14T10:27:57.330834Z",
     "iopub.status.busy": "2022-06-14T10:27:57.330191Z",
     "iopub.status.idle": "2022-06-14T10:27:57.451284Z",
     "shell.execute_reply": "2022-06-14T10:27:57.450545Z"
    },
    "papermill": {
     "duration": 0.203069,
     "end_time": "2022-06-14T10:27:57.453516",
     "exception": false,
     "start_time": "2022-06-14T10:27:57.250447",
     "status": "completed"
    },
    "tags": []
   },
   "outputs": [],
   "source": [
    "from tensorflow.keras.layers import *\n",
    "from tensorflow.keras.models import *\n",
    "embedding_layer = Embedding(total_words, embedding_dim, weights=[embedding_matrix], input_length=max_length, trainable = False)"
   ]
  },
  {
   "cell_type": "code",
   "execution_count": 26,
   "id": "00583071",
   "metadata": {
    "execution": {
     "iopub.execute_input": "2022-06-14T10:27:57.609434Z",
     "iopub.status.busy": "2022-06-14T10:27:57.609186Z",
     "iopub.status.idle": "2022-06-14T10:27:57.616632Z",
     "shell.execute_reply": "2022-06-14T10:27:57.615814Z"
    },
    "papermill": {
     "duration": 0.086418,
     "end_time": "2022-06-14T10:27:57.618733",
     "exception": false,
     "start_time": "2022-06-14T10:27:57.532315",
     "status": "completed"
    },
    "tags": []
   },
   "outputs": [],
   "source": [
    "from keras import backend as K\n",
    "\n",
    "def recall_m(y_true, y_pred):\n",
    "    true_positives = K.sum(K.round(K.clip(y_true * y_pred, 0, 1)))\n",
    "    possible_positives = K.sum(K.round(K.clip(y_true, 0, 1)))\n",
    "    recall = true_positives / (possible_positives + K.epsilon())\n",
    "    return recall\n",
    "\n",
    "def precision_m(y_true, y_pred):\n",
    "    true_positives = K.sum(K.round(K.clip(y_true * y_pred, 0, 1)))\n",
    "    predicted_positives = K.sum(K.round(K.clip(y_pred, 0, 1)))\n",
    "    precision = true_positives / (predicted_positives + K.epsilon())\n",
    "    return precision\n",
    "\n",
    "def f1_m(y_true, y_pred):\n",
    "    precision = precision_m(y_true, y_pred)\n",
    "    recall = recall_m(y_true, y_pred)\n",
    "    return 2*((precision*recall)/(precision+recall+K.epsilon()))"
   ]
  },
  {
   "cell_type": "markdown",
   "id": "62b38cbc",
   "metadata": {
    "papermill": {
     "duration": 0.075726,
     "end_time": "2022-06-14T10:27:57.769699",
     "exception": false,
     "start_time": "2022-06-14T10:27:57.693973",
     "status": "completed"
    },
    "tags": []
   },
   "source": [
    "# Red Neuronal LSTM + capa de embedding con Word2Vec"
   ]
  },
  {
   "cell_type": "code",
   "execution_count": 27,
   "id": "b977b433",
   "metadata": {
    "execution": {
     "iopub.execute_input": "2022-06-14T10:27:57.927732Z",
     "iopub.status.busy": "2022-06-14T10:27:57.927446Z",
     "iopub.status.idle": "2022-06-14T10:28:01.483580Z",
     "shell.execute_reply": "2022-06-14T10:28:01.482718Z"
    },
    "papermill": {
     "duration": 3.638114,
     "end_time": "2022-06-14T10:28:01.486039",
     "exception": false,
     "start_time": "2022-06-14T10:27:57.847925",
     "status": "completed"
    },
    "tags": []
   },
   "outputs": [
    {
     "name": "stderr",
     "output_type": "stream",
     "text": [
      "2022-06-14 10:27:57.998490: I tensorflow/stream_executor/cuda/cuda_gpu_executor.cc:937] successful NUMA node read from SysFS had negative value (-1), but there must be at least one NUMA node, so returning NUMA node zero\n",
      "2022-06-14 10:27:58.109973: I tensorflow/stream_executor/cuda/cuda_gpu_executor.cc:937] successful NUMA node read from SysFS had negative value (-1), but there must be at least one NUMA node, so returning NUMA node zero\n",
      "2022-06-14 10:27:58.110811: I tensorflow/stream_executor/cuda/cuda_gpu_executor.cc:937] successful NUMA node read from SysFS had negative value (-1), but there must be at least one NUMA node, so returning NUMA node zero\n",
      "2022-06-14 10:27:58.112153: I tensorflow/core/platform/cpu_feature_guard.cc:142] This TensorFlow binary is optimized with oneAPI Deep Neural Network Library (oneDNN) to use the following CPU instructions in performance-critical operations:  AVX2 AVX512F FMA\n",
      "To enable them in other operations, rebuild TensorFlow with the appropriate compiler flags.\n",
      "2022-06-14 10:27:58.112540: I tensorflow/stream_executor/cuda/cuda_gpu_executor.cc:937] successful NUMA node read from SysFS had negative value (-1), but there must be at least one NUMA node, so returning NUMA node zero\n",
      "2022-06-14 10:27:58.113596: I tensorflow/stream_executor/cuda/cuda_gpu_executor.cc:937] successful NUMA node read from SysFS had negative value (-1), but there must be at least one NUMA node, so returning NUMA node zero\n",
      "2022-06-14 10:27:58.114654: I tensorflow/stream_executor/cuda/cuda_gpu_executor.cc:937] successful NUMA node read from SysFS had negative value (-1), but there must be at least one NUMA node, so returning NUMA node zero\n",
      "2022-06-14 10:28:00.578741: I tensorflow/stream_executor/cuda/cuda_gpu_executor.cc:937] successful NUMA node read from SysFS had negative value (-1), but there must be at least one NUMA node, so returning NUMA node zero\n",
      "2022-06-14 10:28:00.579724: I tensorflow/stream_executor/cuda/cuda_gpu_executor.cc:937] successful NUMA node read from SysFS had negative value (-1), but there must be at least one NUMA node, so returning NUMA node zero\n",
      "2022-06-14 10:28:00.580506: I tensorflow/stream_executor/cuda/cuda_gpu_executor.cc:937] successful NUMA node read from SysFS had negative value (-1), but there must be at least one NUMA node, so returning NUMA node zero\n",
      "2022-06-14 10:28:00.582170: I tensorflow/core/common_runtime/gpu/gpu_device.cc:1510] Created device /job:localhost/replica:0/task:0/device:GPU:0 with 15403 MB memory:  -> device: 0, name: Tesla P100-PCIE-16GB, pci bus id: 0000:00:04.0, compute capability: 6.0\n"
     ]
    },
    {
     "name": "stdout",
     "output_type": "stream",
     "text": [
      "Model: \"sequential\"\n",
      "_________________________________________________________________\n",
      "Layer (type)                 Output Shape              Param #   \n",
      "=================================================================\n",
      "embedding (Embedding)        (None, 300, 300)          4085100   \n",
      "_________________________________________________________________\n",
      "lstm (LSTM)                  (None, 300, 300)          720000    \n",
      "_________________________________________________________________\n",
      "batch_normalization (BatchNo (None, 300, 300)          1200      \n",
      "_________________________________________________________________\n",
      "activation (Activation)      (None, 300, 300)          0         \n",
      "_________________________________________________________________\n",
      "lstm_1 (LSTM)                (None, 300, 200)          400000    \n",
      "_________________________________________________________________\n",
      "batch_normalization_1 (Batch (None, 300, 200)          800       \n",
      "_________________________________________________________________\n",
      "activation_1 (Activation)    (None, 300, 200)          0         \n",
      "_________________________________________________________________\n",
      "lstm_2 (LSTM)                (None, 100)               120000    \n",
      "_________________________________________________________________\n",
      "batch_normalization_2 (Batch (None, 100)               400       \n",
      "_________________________________________________________________\n",
      "activation_2 (Activation)    (None, 100)               0         \n",
      "_________________________________________________________________\n",
      "dense (Dense)                (None, 7)                 707       \n",
      "=================================================================\n",
      "Total params: 5,328,207\n",
      "Trainable params: 1,241,907\n",
      "Non-trainable params: 4,086,300\n",
      "_________________________________________________________________\n",
      "None\n"
     ]
    }
   ],
   "source": [
    "# LSTM model + Adamax\n",
    "modelx01 = Sequential()\n",
    "modelx01.add(embedding_layer)\n",
    "modelx01.add(LSTM(units=300, use_bias=False, return_sequences=True))\n",
    "modelx01.add(BatchNormalization())\n",
    "modelx01.add(Activation('relu'))\n",
    "modelx01.add(LSTM(units=200,use_bias=False, return_sequences=True))\n",
    "modelx01.add(BatchNormalization())\n",
    "modelx01.add(Activation('relu'))\n",
    "modelx01.add(LSTM(units=100,use_bias=False, return_sequences=False))\n",
    "modelx01.add(BatchNormalization())\n",
    "modelx01.add(Activation('relu'))\n",
    "modelx01.add(Dense(units=7, activation='softmax'))\n",
    "\n",
    "#modelx01.compile(loss = 'mse', optimizer = 'adamax', metrics=['F1Score'])\n",
    "# compile the model\n",
    "#probar con esta funcion de perdida\n",
    "#categorical_crossentropy \n",
    "modelx01.compile(optimizer='adamax', loss='categorical_crossentropy', metrics=['accuracy',f1_m,precision_m, recall_m])\n",
    "print(modelx01.summary())"
   ]
  },
  {
   "cell_type": "code",
   "execution_count": 28,
   "id": "ce56ec4e",
   "metadata": {
    "execution": {
     "iopub.execute_input": "2022-06-14T10:28:01.641366Z",
     "iopub.status.busy": "2022-06-14T10:28:01.640743Z",
     "iopub.status.idle": "2022-06-14T12:15:59.694297Z",
     "shell.execute_reply": "2022-06-14T12:15:59.693537Z"
    },
    "papermill": {
     "duration": 6479.442415,
     "end_time": "2022-06-14T12:16:01.006559",
     "exception": false,
     "start_time": "2022-06-14T10:28:01.564144",
     "status": "completed"
    },
    "tags": []
   },
   "outputs": [
    {
     "name": "stderr",
     "output_type": "stream",
     "text": [
      "2022-06-14 10:28:01.699480: I tensorflow/compiler/mlir/mlir_graph_optimization_pass.cc:185] None of the MLIR Optimization Passes are enabled (registered 2)\n"
     ]
    },
    {
     "name": "stdout",
     "output_type": "stream",
     "text": [
      "Epoch 1/10\n",
      "351/351 [==============================] - 607s 2s/step - loss: 0.9986 - accuracy: 0.6453 - f1_m: 0.6180 - precision_m: 0.8463 - recall_m: 0.4974 - val_loss: 1.6056 - val_accuracy: 0.3034 - val_f1_m: 0.0208 - val_precision_m: 0.1589 - val_recall_m: 0.0112\n",
      "Epoch 2/10\n",
      "351/351 [==============================] - 614s 2s/step - loss: 0.6723 - accuracy: 0.7710 - f1_m: 0.7547 - precision_m: 0.8892 - recall_m: 0.6625 - val_loss: 0.6160 - val_accuracy: 0.7998 - val_f1_m: 0.7875 - val_precision_m: 0.9098 - val_recall_m: 0.6998\n",
      "Epoch 3/10\n",
      "351/351 [==============================] - 616s 2s/step - loss: 0.5420 - accuracy: 0.8199 - f1_m: 0.8077 - precision_m: 0.8954 - recall_m: 0.7405 - val_loss: 0.6361 - val_accuracy: 0.7815 - val_f1_m: 0.7786 - val_precision_m: 0.8434 - val_recall_m: 0.7267\n",
      "Epoch 4/10\n",
      "351/351 [==============================] - 652s 2s/step - loss: 0.4377 - accuracy: 0.8546 - f1_m: 0.8473 - precision_m: 0.9079 - recall_m: 0.7983 - val_loss: 0.5889 - val_accuracy: 0.8140 - val_f1_m: 0.8142 - val_precision_m: 0.8629 - val_recall_m: 0.7730\n",
      "Epoch 5/10\n",
      "351/351 [==============================] - 657s 2s/step - loss: 0.3480 - accuracy: 0.8916 - f1_m: 0.8841 - precision_m: 0.9278 - recall_m: 0.8470 - val_loss: 0.5566 - val_accuracy: 0.8277 - val_f1_m: 0.8286 - val_precision_m: 0.8774 - val_recall_m: 0.7879\n",
      "Epoch 6/10\n",
      "351/351 [==============================] - 651s 2s/step - loss: 0.2757 - accuracy: 0.9140 - f1_m: 0.9126 - precision_m: 0.9443 - recall_m: 0.8849 - val_loss: 0.5944 - val_accuracy: 0.8202 - val_f1_m: 0.8217 - val_precision_m: 0.8652 - val_recall_m: 0.7846\n",
      "Epoch 7/10\n",
      "351/351 [==============================] - 659s 2s/step - loss: 0.2168 - accuracy: 0.9344 - f1_m: 0.9323 - precision_m: 0.9553 - recall_m: 0.9116 - val_loss: 0.6257 - val_accuracy: 0.8123 - val_f1_m: 0.8158 - val_precision_m: 0.8502 - val_recall_m: 0.7863\n",
      "Epoch 8/10\n",
      "351/351 [==============================] - 668s 2s/step - loss: 0.1701 - accuracy: 0.9510 - f1_m: 0.9491 - precision_m: 0.9658 - recall_m: 0.9339 - val_loss: 0.6485 - val_accuracy: 0.8094 - val_f1_m: 0.8065 - val_precision_m: 0.8347 - val_recall_m: 0.7817\n",
      "Epoch 9/10\n",
      "351/351 [==============================] - 692s 2s/step - loss: 0.1390 - accuracy: 0.9604 - f1_m: 0.9605 - precision_m: 0.9724 - recall_m: 0.9496 - val_loss: 0.6239 - val_accuracy: 0.8219 - val_f1_m: 0.8240 - val_precision_m: 0.8486 - val_recall_m: 0.8020\n",
      "Epoch 10/10\n",
      "351/351 [==============================] - 661s 2s/step - loss: 0.1151 - accuracy: 0.9675 - f1_m: 0.9671 - precision_m: 0.9767 - recall_m: 0.9583 - val_loss: 0.6527 - val_accuracy: 0.8186 - val_f1_m: 0.8255 - val_precision_m: 0.8485 - val_recall_m: 0.8049\n"
     ]
    }
   ],
   "source": [
    "epochs=10\n",
    "batch_size=16\n",
    "#histoty_modelx01 = modelx01.fit(X_train,Y_train,epochs=epochs,batch_size=batch_size,validation_split=0.1,callbacks=[EarlyStopping(monitor='val_loss', patience=5, min_delta=0.0001)])\n",
    "\n",
    "# fit the model\n",
    "history_modelx01 = modelx01.fit(X_train, Y_train, validation_split=0.3, epochs=epochs, verbose=1,batch_size=batch_size, callbacks=[EarlyStopping(monitor='val_loss', patience=5, min_delta=0.0001)])"
   ]
  },
  {
   "cell_type": "code",
   "execution_count": 29,
   "id": "251a22d2",
   "metadata": {
    "execution": {
     "iopub.execute_input": "2022-06-14T12:16:03.496510Z",
     "iopub.status.busy": "2022-06-14T12:16:03.496111Z",
     "iopub.status.idle": "2022-06-14T12:16:32.152528Z",
     "shell.execute_reply": "2022-06-14T12:16:32.151774Z"
    },
    "papermill": {
     "duration": 29.907304,
     "end_time": "2022-06-14T12:16:32.154798",
     "exception": false,
     "start_time": "2022-06-14T12:16:02.247494",
     "status": "completed"
    },
    "tags": []
   },
   "outputs": [
    {
     "name": "stdout",
     "output_type": "stream",
     "text": [
      "28/28 [==============================] - 3s 121ms/step - loss: 0.6613 - accuracy: 0.8294 - f1_m: 0.8382 - precision_m: 0.8636 - recall_m: 0.8148\n"
     ]
    }
   ],
   "source": [
    "# evaluate the model\n",
    "lossx01, accuracyx01, f1_scorex01, precisionx01, recallx01 = modelx01.evaluate(X_test, Y_test, verbose=1)"
   ]
  },
  {
   "cell_type": "code",
   "execution_count": 30,
   "id": "02b3fc9c",
   "metadata": {
    "execution": {
     "iopub.execute_input": "2022-06-14T12:16:34.735754Z",
     "iopub.status.busy": "2022-06-14T12:16:34.735123Z",
     "iopub.status.idle": "2022-06-14T12:16:39.891116Z",
     "shell.execute_reply": "2022-06-14T12:16:39.890389Z"
    },
    "papermill": {
     "duration": 6.437904,
     "end_time": "2022-06-14T12:16:39.893045",
     "exception": false,
     "start_time": "2022-06-14T12:16:33.455141",
     "status": "completed"
    },
    "tags": []
   },
   "outputs": [
    {
     "name": "stdout",
     "output_type": "stream",
     "text": [
      "28/28 [==============================] - 3s 111ms/step - loss: 0.6613 - accuracy: 0.8294 - f1_m: 0.8382 - precision_m: 0.8636 - recall_m: 0.8148\n",
      "Test set\n",
      " Loss: 0.6613\n",
      " Accuracy: 0.8294\n",
      " f1_score: 0.8382\n",
      " Precision: 0.8636\n",
      " Recall: 0.8148\n"
     ]
    }
   ],
   "source": [
    "accrx01 = modelx01.evaluate(X_test,Y_test)\n",
    "print('Test set\\n Loss: {:0.4f}\\n Accuracy: {:0.4f}\\n f1_score: {:0.4f}\\n Precision: {:0.4f}\\n Recall: {:0.4f}'.format(accrx01[0],accrx01[1],accrx01[2],accrx01[3],accrx01[4]))"
   ]
  },
  {
   "cell_type": "code",
   "execution_count": 31,
   "id": "de674151",
   "metadata": {
    "execution": {
     "iopub.execute_input": "2022-06-14T12:16:42.387408Z",
     "iopub.status.busy": "2022-06-14T12:16:42.387142Z",
     "iopub.status.idle": "2022-06-14T12:16:42.583867Z",
     "shell.execute_reply": "2022-06-14T12:16:42.583062Z"
    },
    "papermill": {
     "duration": 1.447569,
     "end_time": "2022-06-14T12:16:42.585902",
     "exception": false,
     "start_time": "2022-06-14T12:16:41.138333",
     "status": "completed"
    },
    "tags": []
   },
   "outputs": [
    {
     "data": {
      "image/png": "[encoded data removed]",
      "text/plain": [
       "<Figure size 432x288 with 1 Axes>"
      ]
     },
     "metadata": {
      "needs_background": "light"
     },
     "output_type": "display_data"
    }
   ],
   "source": [
    "plt.title('Loss')\n",
    "plt.plot(history_modelx01.history['loss'], label='train')\n",
    "plt.plot(history_modelx01.history['val_loss'], label='test')\n",
    "plt.legend()\n",
    "plt.show();"
   ]
  },
  {
   "cell_type": "code",
   "execution_count": 32,
   "id": "62f9d97f",
   "metadata": {
    "execution": {
     "iopub.execute_input": "2022-06-14T12:16:45.117419Z",
     "iopub.status.busy": "2022-06-14T12:16:45.117176Z",
     "iopub.status.idle": "2022-06-14T12:16:45.306164Z",
     "shell.execute_reply": "2022-06-14T12:16:45.305481Z"
    },
    "papermill": {
     "duration": 1.480116,
     "end_time": "2022-06-14T12:16:45.308476",
     "exception": false,
     "start_time": "2022-06-14T12:16:43.828360",
     "status": "completed"
    },
    "tags": []
   },
   "outputs": [
    {
     "data": {
      "image/png": "[encoded data removed]",
      "text/plain": [
       "<Figure size 432x288 with 1 Axes>"
      ]
     },
     "metadata": {
      "needs_background": "light"
     },
     "output_type": "display_data"
    }
   ],
   "source": [
    "plt.title('Accuracy')\n",
    "plt.plot(history_modelx01.history['accuracy'], label='train')\n",
    "plt.plot(history_modelx01.history['val_accuracy'], label='test')\n",
    "plt.legend()\n",
    "plt.show();"
   ]
  },
  {
   "cell_type": "code",
   "execution_count": 33,
   "id": "8205d417",
   "metadata": {
    "execution": {
     "iopub.execute_input": "2022-06-14T12:16:47.888074Z",
     "iopub.status.busy": "2022-06-14T12:16:47.887497Z",
     "iopub.status.idle": "2022-06-14T12:16:48.076873Z",
     "shell.execute_reply": "2022-06-14T12:16:48.076091Z"
    },
    "papermill": {
     "duration": 1.529825,
     "end_time": "2022-06-14T12:16:48.078899",
     "exception": false,
     "start_time": "2022-06-14T12:16:46.549074",
     "status": "completed"
    },
    "tags": []
   },
   "outputs": [
    {
     "data": {
      "image/png": "[encoded data removed]",
      "text/plain": [
       "<Figure size 432x288 with 1 Axes>"
      ]
     },
     "metadata": {
      "needs_background": "light"
     },
     "output_type": "display_data"
    }
   ],
   "source": [
    "plt.title('f1-score')\n",
    "plt.plot(history_modelx01.history['f1_m'], label='train')\n",
    "plt.plot(history_modelx01.history['val_f1_m'], label='test')\n",
    "plt.legend()\n",
    "plt.show();"
   ]
  },
  {
   "cell_type": "code",
   "execution_count": 34,
   "id": "6a55fd2a",
   "metadata": {
    "execution": {
     "iopub.execute_input": "2022-06-14T12:16:50.867865Z",
     "iopub.status.busy": "2022-06-14T12:16:50.867563Z",
     "iopub.status.idle": "2022-06-14T12:16:54.111992Z",
     "shell.execute_reply": "2022-06-14T12:16:54.111214Z"
    },
    "papermill": {
     "duration": 4.761826,
     "end_time": "2022-06-14T12:16:54.114448",
     "exception": false,
     "start_time": "2022-06-14T12:16:49.352622",
     "status": "completed"
    },
    "tags": []
   },
   "outputs": [],
   "source": [
    "y_pred_01 = np.where(modelx01.predict(X_test)>.5,1,0)"
   ]
  },
  {
   "cell_type": "code",
   "execution_count": 35,
   "id": "cd627b8a",
   "metadata": {
    "execution": {
     "iopub.execute_input": "2022-06-14T12:16:57.226845Z",
     "iopub.status.busy": "2022-06-14T12:16:57.226524Z",
     "iopub.status.idle": "2022-06-14T12:16:57.257244Z",
     "shell.execute_reply": "2022-06-14T12:16:57.256529Z"
    },
    "papermill": {
     "duration": 1.87756,
     "end_time": "2022-06-14T12:16:57.259855",
     "exception": false,
     "start_time": "2022-06-14T12:16:55.382295",
     "status": "completed"
    },
    "tags": []
   },
   "outputs": [
    {
     "name": "stdout",
     "output_type": "stream",
     "text": [
      "              precision    recall  f1-score   support\n",
      "\n",
      "           0     0.8750    0.8811    0.8780       143\n",
      "           1     0.7754    0.8480    0.8101       171\n",
      "           2     0.8826    0.8535    0.8678       273\n",
      "           3     0.7465    0.9298    0.8281        57\n",
      "           4     0.5000    0.7027    0.5843        37\n",
      "           5     0.8606    0.8987    0.8793       158\n",
      "           6     0.1250    0.5000    0.2000         2\n",
      "\n",
      "   micro avg     0.8148    0.8633    0.8383       841\n",
      "   macro avg     0.6807    0.8020    0.7211       841\n",
      "weighted avg     0.8275    0.8633    0.8432       841\n",
      " samples avg     0.8148    0.8148    0.8148       841\n",
      "\n"
     ]
    },
    {
     "name": "stderr",
     "output_type": "stream",
     "text": [
      "/opt/conda/lib/python3.7/site-packages/sklearn/metrics/_classification.py:1318: UndefinedMetricWarning: Recall and F-score are ill-defined and being set to 0.0 in samples with no true labels. Use `zero_division` parameter to control this behavior.\n",
      "  _warn_prf(average, modifier, msg_start, len(result))\n"
     ]
    }
   ],
   "source": [
    "from sklearn import metrics\n",
    "print(metrics.classification_report(y_pred_01, Y_test,digits=4))"
   ]
  },
  {
   "cell_type": "code",
   "execution_count": 36,
   "id": "6c559239",
   "metadata": {
    "execution": {
     "iopub.execute_input": "2022-06-14T12:16:59.844965Z",
     "iopub.status.busy": "2022-06-14T12:16:59.844709Z",
     "iopub.status.idle": "2022-06-14T12:17:00.207997Z",
     "shell.execute_reply": "2022-06-14T12:17:00.207068Z"
    },
    "papermill": {
     "duration": 1.662214,
     "end_time": "2022-06-14T12:17:00.211120",
     "exception": false,
     "start_time": "2022-06-14T12:16:58.548906",
     "status": "completed"
    },
    "tags": []
   },
   "outputs": [
    {
     "data": {
      "text/plain": [
       "Text(33.0, 0.5, 'real')"
      ]
     },
     "execution_count": 36,
     "metadata": {},
     "output_type": "execute_result"
    },
    {
     "data": {
      "image/png": "[encoded data removed]",
      "text/plain": [
       "<Figure size 432x288 with 1 Axes>"
      ]
     },
     "metadata": {
      "needs_background": "light"
     },
     "output_type": "display_data"
    }
   ],
   "source": [
    "from sklearn.metrics import confusion_matrix\n",
    "import seaborn as sns\n",
    "mat_LSTM_W2V01= confusion_matrix(np.asarray(Y_test).argmax(axis=1), np.asarray(y_pred_01).argmax(axis=1))\n",
    "sns.heatmap(mat_LSTM_W2V01, \n",
    "            annot = True, \n",
    "            fmt = 'd',\n",
    "            cbar = False,\n",
    "            xticklabels = labels,\n",
    "            yticklabels= labels)\n",
    "plt.xlabel('pred')\n",
    "plt.ylabel('real')"
   ]
  },
  {
   "cell_type": "markdown",
   "id": "e3a49817",
   "metadata": {
    "papermill": {
     "duration": 1.29023,
     "end_time": "2022-06-14T12:17:03.065282",
     "exception": false,
     "start_time": "2022-06-14T12:17:01.775052",
     "status": "completed"
    },
    "tags": []
   },
   "source": [
    "# Word2Vec + LSTM + ADAM"
   ]
  },
  {
   "cell_type": "code",
   "execution_count": 37,
   "id": "5da28fe3",
   "metadata": {
    "execution": {
     "iopub.execute_input": "2022-06-14T12:17:05.693097Z",
     "iopub.status.busy": "2022-06-14T12:17:05.692830Z",
     "iopub.status.idle": "2022-06-14T12:17:05.981378Z",
     "shell.execute_reply": "2022-06-14T12:17:05.980583Z"
    },
    "papermill": {
     "duration": 1.616622,
     "end_time": "2022-06-14T12:17:05.983414",
     "exception": false,
     "start_time": "2022-06-14T12:17:04.366792",
     "status": "completed"
    },
    "tags": []
   },
   "outputs": [
    {
     "name": "stdout",
     "output_type": "stream",
     "text": [
      "Model: \"sequential_1\"\n",
      "_________________________________________________________________\n",
      "Layer (type)                 Output Shape              Param #   \n",
      "=================================================================\n",
      "embedding (Embedding)        (None, 300, 300)          4085100   \n",
      "_________________________________________________________________\n",
      "lstm_3 (LSTM)                (None, 300, 300)          720000    \n",
      "_________________________________________________________________\n",
      "batch_normalization_3 (Batch (None, 300, 300)          1200      \n",
      "_________________________________________________________________\n",
      "activation_3 (Activation)    (None, 300, 300)          0         \n",
      "_________________________________________________________________\n",
      "lstm_4 (LSTM)                (None, 300, 200)          400000    \n",
      "_________________________________________________________________\n",
      "batch_normalization_4 (Batch (None, 300, 200)          800       \n",
      "_________________________________________________________________\n",
      "activation_4 (Activation)    (None, 300, 200)          0         \n",
      "_________________________________________________________________\n",
      "lstm_5 (LSTM)                (None, 100)               120000    \n",
      "_________________________________________________________________\n",
      "batch_normalization_5 (Batch (None, 100)               400       \n",
      "_________________________________________________________________\n",
      "activation_5 (Activation)    (None, 100)               0         \n",
      "_________________________________________________________________\n",
      "dense_1 (Dense)              (None, 7)                 707       \n",
      "=================================================================\n",
      "Total params: 5,328,207\n",
      "Trainable params: 1,241,907\n",
      "Non-trainable params: 4,086,300\n",
      "_________________________________________________________________\n",
      "None\n"
     ]
    }
   ],
   "source": [
    "# LSTM model + Adam\n",
    "modelx02 = Sequential()\n",
    "modelx02.add(embedding_layer)\n",
    "modelx02.add(LSTM(units=300, use_bias=False, return_sequences=True))\n",
    "modelx02.add(BatchNormalization())\n",
    "modelx02.add(Activation('relu'))\n",
    "modelx02.add(LSTM(units=200,use_bias=False, return_sequences=True))\n",
    "modelx02.add(BatchNormalization())\n",
    "modelx02.add(Activation('relu'))\n",
    "modelx02.add(LSTM(units=100,use_bias=False, return_sequences=False))\n",
    "modelx02.add(BatchNormalization())\n",
    "modelx02.add(Activation('relu'))\n",
    "modelx02.add(Dense(units=7, activation='softmax'))\n",
    "\n",
    "#modelx01.compile(loss = 'mse', optimizer = 'adamax', metrics=['F1Score'])\n",
    "# compile the model\n",
    "#probar con esta funcion de perdida\n",
    "#categorical_crossentropy \n",
    "modelx02.compile(optimizer='adam', loss='categorical_crossentropy', metrics=['accuracy',f1_m,precision_m, recall_m])\n",
    "print(modelx02.summary())"
   ]
  },
  {
   "cell_type": "code",
   "execution_count": 38,
   "id": "1865651d",
   "metadata": {
    "execution": {
     "iopub.execute_input": "2022-06-14T12:17:08.554411Z",
     "iopub.status.busy": "2022-06-14T12:17:08.554153Z",
     "iopub.status.idle": "2022-06-14T14:09:52.349832Z",
     "shell.execute_reply": "2022-06-14T14:09:52.348608Z"
    },
    "papermill": {
     "duration": 6765.085313,
     "end_time": "2022-06-14T14:09:52.357958",
     "exception": false,
     "start_time": "2022-06-14T12:17:07.272645",
     "status": "completed"
    },
    "tags": []
   },
   "outputs": [
    {
     "name": "stdout",
     "output_type": "stream",
     "text": [
      "Epoch 1/10\n",
      "351/351 [==============================] - 650s 2s/step - loss: 0.9555 - accuracy: 0.6619 - f1_m: 0.6418 - precision_m: 0.8594 - recall_m: 0.5227 - val_loss: 1.4663 - val_accuracy: 0.5639 - val_f1_m: 0.0372 - val_precision_m: 0.2517 - val_recall_m: 0.0203\n",
      "Epoch 2/10\n",
      "351/351 [==============================] - 675s 2s/step - loss: 0.7031 - accuracy: 0.7571 - f1_m: 0.7486 - precision_m: 0.8796 - recall_m: 0.6580 - val_loss: 0.6926 - val_accuracy: 0.7511 - val_f1_m: 0.7542 - val_precision_m: 0.8227 - val_recall_m: 0.7002\n",
      "Epoch 3/10\n",
      "351/351 [==============================] - 648s 2s/step - loss: 0.5803 - accuracy: 0.8056 - f1_m: 0.8018 - precision_m: 0.8902 - recall_m: 0.7337 - val_loss: 0.6486 - val_accuracy: 0.7824 - val_f1_m: 0.7889 - val_precision_m: 0.8527 - val_recall_m: 0.7379\n",
      "Epoch 4/10\n",
      "351/351 [==============================] - 663s 2s/step - loss: 0.5229 - accuracy: 0.8261 - f1_m: 0.8289 - precision_m: 0.8904 - recall_m: 0.7786 - val_loss: 0.6216 - val_accuracy: 0.7944 - val_f1_m: 0.7967 - val_precision_m: 0.8481 - val_recall_m: 0.7540\n",
      "Epoch 5/10\n",
      "351/351 [==============================] - 702s 2s/step - loss: 0.4618 - accuracy: 0.8502 - f1_m: 0.8500 - precision_m: 0.8968 - recall_m: 0.8103 - val_loss: 0.5644 - val_accuracy: 0.8236 - val_f1_m: 0.8239 - val_precision_m: 0.8668 - val_recall_m: 0.7875\n",
      "Epoch 6/10\n",
      "351/351 [==============================] - 706s 2s/step - loss: 0.3815 - accuracy: 0.8721 - f1_m: 0.8734 - precision_m: 0.9145 - recall_m: 0.8381 - val_loss: 0.6190 - val_accuracy: 0.8107 - val_f1_m: 0.8152 - val_precision_m: 0.8587 - val_recall_m: 0.7788\n",
      "Epoch 7/10\n",
      "351/351 [==============================] - 690s 2s/step - loss: 0.3541 - accuracy: 0.8821 - f1_m: 0.8816 - precision_m: 0.9162 - recall_m: 0.8515 - val_loss: 0.6014 - val_accuracy: 0.8119 - val_f1_m: 0.8189 - val_precision_m: 0.8522 - val_recall_m: 0.7900\n",
      "Epoch 8/10\n",
      "351/351 [==============================] - 662s 2s/step - loss: 0.2872 - accuracy: 0.9048 - f1_m: 0.9044 - precision_m: 0.9303 - recall_m: 0.8815 - val_loss: 0.6559 - val_accuracy: 0.8019 - val_f1_m: 0.8096 - val_precision_m: 0.8405 - val_recall_m: 0.7830\n",
      "Epoch 9/10\n",
      "351/351 [==============================] - 678s 2s/step - loss: 0.2620 - accuracy: 0.9135 - f1_m: 0.9138 - precision_m: 0.9357 - recall_m: 0.8942 - val_loss: 0.7083 - val_accuracy: 0.8040 - val_f1_m: 0.8077 - val_precision_m: 0.8323 - val_recall_m: 0.7863\n",
      "Epoch 10/10\n",
      "351/351 [==============================] - 689s 2s/step - loss: 0.1975 - accuracy: 0.9362 - f1_m: 0.9358 - precision_m: 0.9498 - recall_m: 0.9231 - val_loss: 0.7761 - val_accuracy: 0.7944 - val_f1_m: 0.8013 - val_precision_m: 0.8239 - val_recall_m: 0.7813\n"
     ]
    }
   ],
   "source": [
    "epochs=10\n",
    "batch_size=16\n",
    "# fit the model\n",
    "history_modelx02 = modelx02.fit(X_train, Y_train, validation_split=0.3, epochs=epochs, verbose=1,batch_size=batch_size, callbacks=[EarlyStopping(monitor='val_loss', patience=5, min_delta=0.0001)])"
   ]
  },
  {
   "cell_type": "code",
   "execution_count": 39,
   "id": "3c3e7048",
   "metadata": {
    "execution": {
     "iopub.execute_input": "2022-06-14T14:09:58.742319Z",
     "iopub.status.busy": "2022-06-14T14:09:58.742041Z",
     "iopub.status.idle": "2022-06-14T14:10:37.424926Z",
     "shell.execute_reply": "2022-06-14T14:10:37.424152Z"
    },
    "papermill": {
     "duration": 42.412774,
     "end_time": "2022-06-14T14:10:37.426939",
     "exception": false,
     "start_time": "2022-06-14T14:09:55.014165",
     "status": "completed"
    },
    "tags": []
   },
   "outputs": [
    {
     "name": "stdout",
     "output_type": "stream",
     "text": [
      "28/28 [==============================] - 3s 117ms/step - loss: 0.7522 - accuracy: 0.8002 - f1_m: 0.8074 - precision_m: 0.8297 - recall_m: 0.7867\n",
      "Test set\n",
      " Loss: 0.7522\n",
      " Accuracy: 0.8002\n",
      " f1_score: 0.8074\n",
      " Precision: 0.8297\n",
      " Recall: 0.7867\n"
     ]
    }
   ],
   "source": [
    "accrx02 = modelx02.evaluate(X_test,Y_test)\n",
    "print('Test set\\n Loss: {:0.4f}\\n Accuracy: {:0.4f}\\n f1_score: {:0.4f}\\n Precision: {:0.4f}\\n Recall: {:0.4f}'.format(accrx02[0],accrx02[1],accrx02[2],accrx02[3],accrx02[4]))"
   ]
  },
  {
   "cell_type": "code",
   "execution_count": 40,
   "id": "d6cb26e8",
   "metadata": {
    "execution": {
     "iopub.execute_input": "2022-06-14T14:10:42.839772Z",
     "iopub.status.busy": "2022-06-14T14:10:42.839420Z",
     "iopub.status.idle": "2022-06-14T14:10:43.035259Z",
     "shell.execute_reply": "2022-06-14T14:10:43.034513Z"
    },
    "papermill": {
     "duration": 2.995376,
     "end_time": "2022-06-14T14:10:43.037175",
     "exception": false,
     "start_time": "2022-06-14T14:10:40.041799",
     "status": "completed"
    },
    "tags": []
   },
   "outputs": [
    {
     "data": {
      "image/png": "[encoded data removed]",
      "text/plain": [
       "<Figure size 432x288 with 1 Axes>"
      ]
     },
     "metadata": {
      "needs_background": "light"
     },
     "output_type": "display_data"
    }
   ],
   "source": [
    "plt.title('Loss')\n",
    "plt.plot(history_modelx02.history['loss'], label='train')\n",
    "plt.plot(history_modelx02.history['val_loss'], label='test')\n",
    "plt.legend()\n",
    "plt.show();"
   ]
  },
  {
   "cell_type": "code",
   "execution_count": 41,
   "id": "bb465fe6",
   "metadata": {
    "execution": {
     "iopub.execute_input": "2022-06-14T14:10:48.107806Z",
     "iopub.status.busy": "2022-06-14T14:10:48.107527Z",
     "iopub.status.idle": "2022-06-14T14:10:48.313208Z",
     "shell.execute_reply": "2022-06-14T14:10:48.312463Z"
    },
    "papermill": {
     "duration": 2.69015,
     "end_time": "2022-06-14T14:10:48.315365",
     "exception": false,
     "start_time": "2022-06-14T14:10:45.625215",
     "status": "completed"
    },
    "tags": []
   },
   "outputs": [
    {
     "data": {
      "image/png": "[encoded data removed]",
      "text/plain": [
       "<Figure size 432x288 with 1 Axes>"
      ]
     },
     "metadata": {
      "needs_background": "light"
     },
     "output_type": "display_data"
    }
   ],
   "source": [
    "plt.title('Accuracy')\n",
    "plt.plot(history_modelx02.history['accuracy'], label='train')\n",
    "plt.plot(history_modelx02.history['val_accuracy'], label='test')\n",
    "plt.legend()\n",
    "plt.show();"
   ]
  },
  {
   "cell_type": "code",
   "execution_count": 42,
   "id": "053638fe",
   "metadata": {
    "execution": {
     "iopub.execute_input": "2022-06-14T14:10:53.696093Z",
     "iopub.status.busy": "2022-06-14T14:10:53.695812Z",
     "iopub.status.idle": "2022-06-14T14:10:53.892109Z",
     "shell.execute_reply": "2022-06-14T14:10:53.891378Z"
    },
    "papermill": {
     "duration": 3.030216,
     "end_time": "2022-06-14T14:10:53.894194",
     "exception": false,
     "start_time": "2022-06-14T14:10:50.863978",
     "status": "completed"
    },
    "tags": []
   },
   "outputs": [
    {
     "data": {
      "image/png": "[encoded data removed]",
      "text/plain": [
       "<Figure size 432x288 with 1 Axes>"
      ]
     },
     "metadata": {
      "needs_background": "light"
     },
     "output_type": "display_data"
    }
   ],
   "source": [
    "plt.title('f1-score')\n",
    "plt.plot(history_modelx02.history['f1_m'], label='train')\n",
    "plt.plot(history_modelx02.history['val_f1_m'], label='test')\n",
    "plt.legend()\n",
    "plt.show();"
   ]
  },
  {
   "cell_type": "code",
   "execution_count": 43,
   "id": "802c1641",
   "metadata": {
    "execution": {
     "iopub.execute_input": "2022-06-14T14:10:59.000173Z",
     "iopub.status.busy": "2022-06-14T14:10:58.999907Z",
     "iopub.status.idle": "2022-06-14T14:11:02.265519Z",
     "shell.execute_reply": "2022-06-14T14:11:02.264702Z"
    },
    "papermill": {
     "duration": 5.838793,
     "end_time": "2022-06-14T14:11:02.268193",
     "exception": false,
     "start_time": "2022-06-14T14:10:56.429400",
     "status": "completed"
    },
    "tags": []
   },
   "outputs": [],
   "source": [
    "y_pred_02 = np.where(modelx02.predict(X_test)>.5,1,0)"
   ]
  },
  {
   "cell_type": "code",
   "execution_count": 44,
   "id": "b7742d98",
   "metadata": {
    "execution": {
     "iopub.execute_input": "2022-06-14T14:11:08.040943Z",
     "iopub.status.busy": "2022-06-14T14:11:08.040642Z",
     "iopub.status.idle": "2022-06-14T14:11:08.059023Z",
     "shell.execute_reply": "2022-06-14T14:11:08.058080Z"
    },
    "papermill": {
     "duration": 2.63539,
     "end_time": "2022-06-14T14:11:08.062006",
     "exception": false,
     "start_time": "2022-06-14T14:11:05.426616",
     "status": "completed"
    },
    "tags": []
   },
   "outputs": [
    {
     "name": "stdout",
     "output_type": "stream",
     "text": [
      "              precision    recall  f1-score   support\n",
      "\n",
      "           0     0.8403    0.8462    0.8432       143\n",
      "           1     0.5775    0.9153    0.7082       118\n",
      "           2     0.9053    0.7940    0.8460       301\n",
      "           3     0.8028    0.7500    0.7755        76\n",
      "           4     0.6923    0.7200    0.7059        50\n",
      "           5     0.8424    0.8854    0.8634       157\n",
      "           6     0.1250    1.0000    0.2222         1\n",
      "\n",
      "   micro avg     0.7868    0.8286    0.8071       846\n",
      "   macro avg     0.6837    0.8444    0.7092       846\n",
      "weighted avg     0.8142    0.8286    0.8142       846\n",
      " samples avg     0.7868    0.7868    0.7868       846\n",
      "\n"
     ]
    },
    {
     "name": "stderr",
     "output_type": "stream",
     "text": [
      "/opt/conda/lib/python3.7/site-packages/sklearn/metrics/_classification.py:1318: UndefinedMetricWarning: Recall and F-score are ill-defined and being set to 0.0 in samples with no true labels. Use `zero_division` parameter to control this behavior.\n",
      "  _warn_prf(average, modifier, msg_start, len(result))\n"
     ]
    }
   ],
   "source": [
    "from sklearn import metrics\n",
    "print(metrics.classification_report(y_pred_02, Y_test,digits=4))"
   ]
  },
  {
   "cell_type": "code",
   "execution_count": 45,
   "id": "a09344af",
   "metadata": {
    "execution": {
     "iopub.execute_input": "2022-06-14T14:11:13.257105Z",
     "iopub.status.busy": "2022-06-14T14:11:13.256781Z",
     "iopub.status.idle": "2022-06-14T14:11:13.623104Z",
     "shell.execute_reply": "2022-06-14T14:11:13.622053Z"
    },
    "papermill": {
     "duration": 2.985065,
     "end_time": "2022-06-14T14:11:13.626286",
     "exception": false,
     "start_time": "2022-06-14T14:11:10.641221",
     "status": "completed"
    },
    "tags": []
   },
   "outputs": [
    {
     "data": {
      "text/plain": [
       "Text(33.0, 0.5, 'real')"
      ]
     },
     "execution_count": 45,
     "metadata": {},
     "output_type": "execute_result"
    },
    {
     "data": {
      "image/png": "[encoded data removed]",
      "text/plain": [
       "<Figure size 432x288 with 1 Axes>"
      ]
     },
     "metadata": {
      "needs_background": "light"
     },
     "output_type": "display_data"
    }
   ],
   "source": [
    "from sklearn.metrics import confusion_matrix\n",
    "import seaborn as sns\n",
    "mat_LSTM_W2V02= confusion_matrix(np.asarray(Y_test).argmax(axis=1), np.asarray(y_pred_02).argmax(axis=1))\n",
    "sns.heatmap(mat_LSTM_W2V02, \n",
    "            annot = True, \n",
    "            fmt = 'd',\n",
    "            cbar = False,\n",
    "            xticklabels = labels,\n",
    "            yticklabels= labels)\n",
    "plt.xlabel('pred')\n",
    "plt.ylabel('real')"
   ]
  },
  {
   "cell_type": "markdown",
   "id": "ab904a40",
   "metadata": {
    "papermill": {
     "duration": 2.594355,
     "end_time": "2022-06-14T14:11:19.750745",
     "exception": false,
     "start_time": "2022-06-14T14:11:17.156390",
     "status": "completed"
    },
    "tags": []
   },
   "source": [
    "# Word2Vec + CNN + Adam"
   ]
  },
  {
   "cell_type": "code",
   "execution_count": 46,
   "id": "061dfc17",
   "metadata": {
    "execution": {
     "iopub.execute_input": "2022-06-14T14:11:25.220974Z",
     "iopub.status.busy": "2022-06-14T14:11:25.220516Z",
     "iopub.status.idle": "2022-06-14T14:11:25.227501Z",
     "shell.execute_reply": "2022-06-14T14:11:25.226725Z"
    },
    "papermill": {
     "duration": 2.865471,
     "end_time": "2022-06-14T14:11:25.233021",
     "exception": false,
     "start_time": "2022-06-14T14:11:22.367550",
     "status": "completed"
    },
    "tags": []
   },
   "outputs": [],
   "source": [
    "embedding_layer_cnn = Embedding(total_words, embedding_dim, weights=[embedding_matrix], input_length=max_length, trainable = False)"
   ]
  },
  {
   "cell_type": "code",
   "execution_count": 47,
   "id": "b04f9919",
   "metadata": {
    "execution": {
     "iopub.execute_input": "2022-06-14T14:11:30.378213Z",
     "iopub.status.busy": "2022-06-14T14:11:30.377932Z",
     "iopub.status.idle": "2022-06-14T14:11:30.485476Z",
     "shell.execute_reply": "2022-06-14T14:11:30.484798Z"
    },
    "papermill": {
     "duration": 2.64103,
     "end_time": "2022-06-14T14:11:30.487501",
     "exception": false,
     "start_time": "2022-06-14T14:11:27.846471",
     "status": "completed"
    },
    "tags": []
   },
   "outputs": [
    {
     "name": "stdout",
     "output_type": "stream",
     "text": [
      "Model: \"sequential_2\"\n",
      "_________________________________________________________________\n",
      "Layer (type)                 Output Shape              Param #   \n",
      "=================================================================\n",
      "embedding (Embedding)        (None, 300, 300)          4085100   \n",
      "_________________________________________________________________\n",
      "conv1d (Conv1D)              (None, 300, 300)          630300    \n",
      "_________________________________________________________________\n",
      "max_pooling1d (MaxPooling1D) (None, 100, 300)          0         \n",
      "_________________________________________________________________\n",
      "batch_normalization_6 (Batch (None, 100, 300)          1200      \n",
      "_________________________________________________________________\n",
      "activation_6 (Activation)    (None, 100, 300)          0         \n",
      "_________________________________________________________________\n",
      "conv1d_1 (Conv1D)            (None, 100, 100)          210100    \n",
      "_________________________________________________________________\n",
      "max_pooling1d_1 (MaxPooling1 (None, 50, 100)           0         \n",
      "_________________________________________________________________\n",
      "batch_normalization_7 (Batch (None, 50, 100)           400       \n",
      "_________________________________________________________________\n",
      "activation_7 (Activation)    (None, 50, 100)           0         \n",
      "_________________________________________________________________\n",
      "flatten (Flatten)            (None, 5000)              0         \n",
      "_________________________________________________________________\n",
      "dense_2 (Dense)              (None, 10)                50010     \n",
      "_________________________________________________________________\n",
      "dense_3 (Dense)              (None, 7)                 77        \n",
      "=================================================================\n",
      "Total params: 4,977,187\n",
      "Trainable params: 891,287\n",
      "Non-trainable params: 4,085,900\n",
      "_________________________________________________________________\n",
      "None\n"
     ]
    }
   ],
   "source": [
    "# CNN model\n",
    "modelx03 = Sequential()\n",
    "modelx03.add(embedding_layer)\n",
    "\n",
    "modelx03.add(Conv1D(filters=300, kernel_size=7, padding='same', activation='relu'))\n",
    "modelx03.add(MaxPooling1D(pool_size=3))\n",
    "modelx03.add(BatchNormalization())\n",
    "modelx03.add(Activation('relu'))\n",
    "\n",
    "modelx03.add(Conv1D(filters=100, kernel_size=7, padding='same', activation='relu'))\n",
    "modelx03.add(MaxPooling1D(pool_size=2))\n",
    "modelx03.add(BatchNormalization())\n",
    "modelx03.add(Activation('relu'))\n",
    "\n",
    "modelx03.add(Flatten())\n",
    "modelx03.add(Dense(units=10, activation='relu'))\n",
    "modelx03.add(Dense(units=7, activation='softmax'))\n",
    "\n",
    "# compile the model\n",
    "modelx03.compile(optimizer='adam', loss='categorical_crossentropy', metrics=['accuracy',f1_m,precision_m, recall_m])\n",
    "print(modelx03.summary())"
   ]
  },
  {
   "cell_type": "code",
   "execution_count": 48,
   "id": "80ddabec",
   "metadata": {
    "execution": {
     "iopub.execute_input": "2022-06-14T14:11:35.558323Z",
     "iopub.status.busy": "2022-06-14T14:11:35.558052Z",
     "iopub.status.idle": "2022-06-14T14:12:11.908364Z",
     "shell.execute_reply": "2022-06-14T14:12:11.906729Z"
    },
    "papermill": {
     "duration": 38.931639,
     "end_time": "2022-06-14T14:12:11.910735",
     "exception": false,
     "start_time": "2022-06-14T14:11:32.979096",
     "status": "completed"
    },
    "tags": []
   },
   "outputs": [
    {
     "name": "stdout",
     "output_type": "stream",
     "text": [
      "Epoch 1/10\n"
     ]
    },
    {
     "name": "stderr",
     "output_type": "stream",
     "text": [
      "2022-06-14 14:11:37.657887: I tensorflow/stream_executor/cuda/cuda_dnn.cc:369] Loaded cuDNN version 8005\n"
     ]
    },
    {
     "name": "stdout",
     "output_type": "stream",
     "text": [
      "351/351 [==============================] - 12s 13ms/step - loss: 1.0444 - accuracy: 0.6390 - f1_m: 0.6253 - precision_m: 0.9067 - recall_m: 0.4910 - val_loss: 1.0861 - val_accuracy: 0.6846 - val_f1_m: 0.5445 - val_precision_m: 0.9909 - val_recall_m: 0.3856\n",
      "Epoch 2/10\n",
      "351/351 [==============================] - 5s 13ms/step - loss: 0.7096 - accuracy: 0.7574 - f1_m: 0.7547 - precision_m: 0.8904 - recall_m: 0.6603 - val_loss: 0.7516 - val_accuracy: 0.7432 - val_f1_m: 0.7312 - val_precision_m: 0.8605 - val_recall_m: 0.6418\n",
      "Epoch 3/10\n",
      "351/351 [==============================] - 4s 11ms/step - loss: 0.4942 - accuracy: 0.8372 - f1_m: 0.8381 - precision_m: 0.9067 - recall_m: 0.7824 - val_loss: 0.7664 - val_accuracy: 0.7732 - val_f1_m: 0.7784 - val_precision_m: 0.8367 - val_recall_m: 0.7317\n",
      "Epoch 4/10\n",
      "351/351 [==============================] - 4s 12ms/step - loss: 0.3410 - accuracy: 0.8894 - f1_m: 0.8921 - precision_m: 0.9312 - recall_m: 0.8581 - val_loss: 0.7985 - val_accuracy: 0.7853 - val_f1_m: 0.7930 - val_precision_m: 0.8378 - val_recall_m: 0.7552\n",
      "Epoch 5/10\n",
      "351/351 [==============================] - 4s 11ms/step - loss: 0.2623 - accuracy: 0.9112 - f1_m: 0.9159 - precision_m: 0.9403 - recall_m: 0.8942 - val_loss: 0.7860 - val_accuracy: 0.7753 - val_f1_m: 0.7869 - val_precision_m: 0.8412 - val_recall_m: 0.7416\n",
      "Epoch 6/10\n",
      "351/351 [==============================] - 4s 11ms/step - loss: 0.2117 - accuracy: 0.9310 - f1_m: 0.9321 - precision_m: 0.9489 - recall_m: 0.9168 - val_loss: 0.8643 - val_accuracy: 0.7836 - val_f1_m: 0.7898 - val_precision_m: 0.8209 - val_recall_m: 0.7631\n",
      "Epoch 7/10\n",
      "351/351 [==============================] - 4s 11ms/step - loss: 0.1490 - accuracy: 0.9492 - f1_m: 0.9536 - precision_m: 0.9666 - recall_m: 0.9418 - val_loss: 0.8654 - val_accuracy: 0.7961 - val_f1_m: 0.7976 - val_precision_m: 0.8272 - val_recall_m: 0.7714\n"
     ]
    }
   ],
   "source": [
    "epochs=10\n",
    "batch_size=16\n",
    "# fit the model\n",
    "history_modelx03 = modelx03.fit(X_train, Y_train, validation_split=0.3, epochs=epochs, verbose=1,batch_size=batch_size, callbacks=[EarlyStopping(monitor='val_loss', patience=5, min_delta=0.0001)])"
   ]
  },
  {
   "cell_type": "code",
   "execution_count": 49,
   "id": "392961c9",
   "metadata": {
    "execution": {
     "iopub.execute_input": "2022-06-14T14:12:17.275505Z",
     "iopub.status.busy": "2022-06-14T14:12:17.275110Z",
     "iopub.status.idle": "2022-06-14T14:12:17.627488Z",
     "shell.execute_reply": "2022-06-14T14:12:17.626600Z"
    },
    "papermill": {
     "duration": 3.045853,
     "end_time": "2022-06-14T14:12:17.629829",
     "exception": false,
     "start_time": "2022-06-14T14:12:14.583976",
     "status": "completed"
    },
    "tags": []
   },
   "outputs": [
    {
     "name": "stdout",
     "output_type": "stream",
     "text": [
      "28/28 [==============================] - 0s 6ms/step - loss: 0.8079 - accuracy: 0.7980 - f1_m: 0.8059 - precision_m: 0.8367 - recall_m: 0.7785\n"
     ]
    }
   ],
   "source": [
    "# evaluate the model\n",
    "lossx03, accuracyx03, f1_scorex03, precisionx03, recallx03 = modelx03.evaluate(X_test, Y_test, verbose=1)"
   ]
  },
  {
   "cell_type": "code",
   "execution_count": 50,
   "id": "5613c84f",
   "metadata": {
    "execution": {
     "iopub.execute_input": "2022-06-14T14:12:24.002319Z",
     "iopub.status.busy": "2022-06-14T14:12:24.001941Z",
     "iopub.status.idle": "2022-06-14T14:12:24.354542Z",
     "shell.execute_reply": "2022-06-14T14:12:24.353361Z"
    },
    "papermill": {
     "duration": 3.660951,
     "end_time": "2022-06-14T14:12:24.356535",
     "exception": false,
     "start_time": "2022-06-14T14:12:20.695584",
     "status": "completed"
    },
    "tags": []
   },
   "outputs": [
    {
     "name": "stdout",
     "output_type": "stream",
     "text": [
      "28/28 [==============================] - 0s 5ms/step - loss: 0.8079 - accuracy: 0.7980 - f1_m: 0.8059 - precision_m: 0.8367 - recall_m: 0.7785\n",
      "Test set\n",
      " Loss: 0.8079\n",
      " Accuracy: 0.7980\n",
      " f1_score: 0.8059\n",
      " Precision: 0.8367\n",
      " Recall: 0.7785\n"
     ]
    }
   ],
   "source": [
    "accrx03 = modelx03.evaluate(X_test,Y_test)\n",
    "print('Test set\\n Loss: {:0.4f}\\n Accuracy: {:0.4f}\\n f1_score: {:0.4f}\\n Precision: {:0.4f}\\n Recall: {:0.4f}'.format(accrx03[0],accrx03[1],accrx03[2],accrx03[3],accrx03[4]))"
   ]
  },
  {
   "cell_type": "code",
   "execution_count": 51,
   "id": "6f690734",
   "metadata": {
    "execution": {
     "iopub.execute_input": "2022-06-14T14:12:29.993147Z",
     "iopub.status.busy": "2022-06-14T14:12:29.992874Z",
     "iopub.status.idle": "2022-06-14T14:12:30.198184Z",
     "shell.execute_reply": "2022-06-14T14:12:30.197357Z"
    },
    "papermill": {
     "duration": 2.980101,
     "end_time": "2022-06-14T14:12:30.200440",
     "exception": false,
     "start_time": "2022-06-14T14:12:27.220339",
     "status": "completed"
    },
    "tags": []
   },
   "outputs": [
    {
     "data": {
      "image/png": "[encoded data removed]",
      "text/plain": [
       "<Figure size 432x288 with 1 Axes>"
      ]
     },
     "metadata": {
      "needs_background": "light"
     },
     "output_type": "display_data"
    }
   ],
   "source": [
    "plt.title('Loss')\n",
    "plt.plot(history_modelx03.history['loss'], label='train')\n",
    "plt.plot(history_modelx03.history['val_loss'], label='test')\n",
    "plt.legend()\n",
    "plt.show();"
   ]
  },
  {
   "cell_type": "code",
   "execution_count": 52,
   "id": "d62d4f6c",
   "metadata": {
    "execution": {
     "iopub.execute_input": "2022-06-14T14:12:35.932771Z",
     "iopub.status.busy": "2022-06-14T14:12:35.932393Z",
     "iopub.status.idle": "2022-06-14T14:12:36.137998Z",
     "shell.execute_reply": "2022-06-14T14:12:36.137237Z"
    },
    "papermill": {
     "duration": 2.860656,
     "end_time": "2022-06-14T14:12:36.140049",
     "exception": false,
     "start_time": "2022-06-14T14:12:33.279393",
     "status": "completed"
    },
    "tags": []
   },
   "outputs": [
    {
     "data": {
      "image/png": "[encoded data removed]",
      "text/plain": [
       "<Figure size 432x288 with 1 Axes>"
      ]
     },
     "metadata": {
      "needs_background": "light"
     },
     "output_type": "display_data"
    }
   ],
   "source": [
    "plt.title('Accuracy')\n",
    "plt.plot(history_modelx03.history['accuracy'], label='train')\n",
    "plt.plot(history_modelx03.history['val_accuracy'], label='test')\n",
    "plt.legend()\n",
    "plt.show();"
   ]
  },
  {
   "cell_type": "code",
   "execution_count": 53,
   "id": "d4501302",
   "metadata": {
    "execution": {
     "iopub.execute_input": "2022-06-14T14:12:41.663015Z",
     "iopub.status.busy": "2022-06-14T14:12:41.662685Z",
     "iopub.status.idle": "2022-06-14T14:12:42.027211Z",
     "shell.execute_reply": "2022-06-14T14:12:42.026320Z"
    },
    "papermill": {
     "duration": 3.172347,
     "end_time": "2022-06-14T14:12:42.030420",
     "exception": false,
     "start_time": "2022-06-14T14:12:38.858073",
     "status": "completed"
    },
    "tags": []
   },
   "outputs": [
    {
     "data": {
      "image/png": "[encoded data removed]",
      "text/plain": [
       "<Figure size 432x288 with 1 Axes>"
      ]
     },
     "metadata": {
      "needs_background": "light"
     },
     "output_type": "display_data"
    }
   ],
   "source": [
    "plt.title('f1-score')\n",
    "plt.plot(history_modelx03.history['f1_m'], label='train')\n",
    "plt.plot(history_modelx03.history['val_f1_m'], label='test')\n",
    "plt.legend()\n",
    "plt.show();"
   ]
  },
  {
   "cell_type": "code",
   "execution_count": 54,
   "id": "89567f0b",
   "metadata": {
    "execution": {
     "iopub.execute_input": "2022-06-14T14:12:47.841780Z",
     "iopub.status.busy": "2022-06-14T14:12:47.841391Z",
     "iopub.status.idle": "2022-06-14T14:12:48.106020Z",
     "shell.execute_reply": "2022-06-14T14:12:48.105082Z"
    },
    "papermill": {
     "duration": 2.961151,
     "end_time": "2022-06-14T14:12:48.108181",
     "exception": false,
     "start_time": "2022-06-14T14:12:45.147030",
     "status": "completed"
    },
    "tags": []
   },
   "outputs": [],
   "source": [
    "y_pred_03 = np.where(modelx03.predict(X_test)>.5,1,0)"
   ]
  },
  {
   "cell_type": "code",
   "execution_count": 55,
   "id": "7b977df0",
   "metadata": {
    "execution": {
     "iopub.execute_input": "2022-06-14T14:12:53.785431Z",
     "iopub.status.busy": "2022-06-14T14:12:53.785075Z",
     "iopub.status.idle": "2022-06-14T14:12:53.804385Z",
     "shell.execute_reply": "2022-06-14T14:12:53.803197Z"
    },
    "papermill": {
     "duration": 3.00652,
     "end_time": "2022-06-14T14:12:53.806811",
     "exception": false,
     "start_time": "2022-06-14T14:12:50.800291",
     "status": "completed"
    },
    "tags": []
   },
   "outputs": [
    {
     "name": "stdout",
     "output_type": "stream",
     "text": [
      "              precision    recall  f1-score   support\n",
      "\n",
      "           0     0.8056    0.8345    0.8198       139\n",
      "           1     0.6684    0.8224    0.7375       152\n",
      "           2     0.8939    0.7815    0.8339       302\n",
      "           3     0.7465    0.9815    0.8480        54\n",
      "           4     0.5000    0.7647    0.6047        34\n",
      "           5     0.8364    0.9324    0.8818       148\n",
      "           6     0.0000    0.0000    0.0000         0\n",
      "\n",
      "   micro avg     0.7789    0.8372    0.8070       829\n",
      "   macro avg     0.6358    0.7310    0.6751       829\n",
      "weighted avg     0.8017    0.8372    0.8139       829\n",
      " samples avg     0.7789    0.7789    0.7789       829\n",
      "\n"
     ]
    },
    {
     "name": "stderr",
     "output_type": "stream",
     "text": [
      "/opt/conda/lib/python3.7/site-packages/sklearn/metrics/_classification.py:1318: UndefinedMetricWarning: Recall and F-score are ill-defined and being set to 0.0 in labels with no true samples. Use `zero_division` parameter to control this behavior.\n",
      "  _warn_prf(average, modifier, msg_start, len(result))\n",
      "/opt/conda/lib/python3.7/site-packages/sklearn/metrics/_classification.py:1318: UndefinedMetricWarning: Recall and F-score are ill-defined and being set to 0.0 in samples with no true labels. Use `zero_division` parameter to control this behavior.\n",
      "  _warn_prf(average, modifier, msg_start, len(result))\n"
     ]
    }
   ],
   "source": [
    "from sklearn import metrics\n",
    "print(metrics.classification_report(y_pred_03, Y_test,digits=4))"
   ]
  },
  {
   "cell_type": "code",
   "execution_count": 56,
   "id": "43730b8a",
   "metadata": {
    "execution": {
     "iopub.execute_input": "2022-06-14T14:13:00.008064Z",
     "iopub.status.busy": "2022-06-14T14:13:00.007702Z",
     "iopub.status.idle": "2022-06-14T14:13:00.388947Z",
     "shell.execute_reply": "2022-06-14T14:13:00.387961Z"
    },
    "papermill": {
     "duration": 3.245585,
     "end_time": "2022-06-14T14:13:00.392608",
     "exception": false,
     "start_time": "2022-06-14T14:12:57.147023",
     "status": "completed"
    },
    "tags": []
   },
   "outputs": [
    {
     "data": {
      "text/plain": [
       "Text(33.0, 0.5, 'real')"
      ]
     },
     "execution_count": 56,
     "metadata": {},
     "output_type": "execute_result"
    },
    {
     "data": {
      "image/png": "[encoded data removed]",
      "text/plain": [
       "<Figure size 432x288 with 1 Axes>"
      ]
     },
     "metadata": {
      "needs_background": "light"
     },
     "output_type": "display_data"
    }
   ],
   "source": [
    "from sklearn.metrics import confusion_matrix\n",
    "import seaborn as sns\n",
    "mat_CNN_W2V01= confusion_matrix(np.asarray(Y_test).argmax(axis=1), np.asarray(y_pred_03).argmax(axis=1))\n",
    "sns.heatmap(mat_CNN_W2V01, \n",
    "            annot = True, \n",
    "            fmt = 'd',\n",
    "            cbar = False,\n",
    "            xticklabels = labels,\n",
    "            yticklabels= labels)\n",
    "plt.xlabel('pred')\n",
    "plt.ylabel('real')"
   ]
  },
  {
   "cell_type": "code",
   "execution_count": 57,
   "id": "2633bb28",
   "metadata": {
    "execution": {
     "iopub.execute_input": "2022-06-14T14:13:06.211378Z",
     "iopub.status.busy": "2022-06-14T14:13:06.211076Z",
     "iopub.status.idle": "2022-06-14T14:13:06.214849Z",
     "shell.execute_reply": "2022-06-14T14:13:06.214109Z"
    },
    "papermill": {
     "duration": 3.037429,
     "end_time": "2022-06-14T14:13:06.216653",
     "exception": false,
     "start_time": "2022-06-14T14:13:03.179224",
     "status": "completed"
    },
    "tags": []
   },
   "outputs": [],
   "source": [
    "#pip freeze (versiones)"
   ]
  },
  {
   "cell_type": "markdown",
   "id": "7687ad96",
   "metadata": {
    "papermill": {
     "duration": 2.726463,
     "end_time": "2022-06-14T14:13:11.702850",
     "exception": false,
     "start_time": "2022-06-14T14:13:08.976387",
     "status": "completed"
    },
    "tags": []
   },
   "source": [
    "# Word2Vec + CNN + ADAMAX"
   ]
  },
  {
   "cell_type": "code",
   "execution_count": 58,
   "id": "110e405f",
   "metadata": {
    "execution": {
     "iopub.execute_input": "2022-06-14T14:13:17.532409Z",
     "iopub.status.busy": "2022-06-14T14:13:17.532097Z",
     "iopub.status.idle": "2022-06-14T14:13:17.638074Z",
     "shell.execute_reply": "2022-06-14T14:13:17.637166Z"
    },
    "papermill": {
     "duration": 3.126862,
     "end_time": "2022-06-14T14:13:17.640577",
     "exception": false,
     "start_time": "2022-06-14T14:13:14.513715",
     "status": "completed"
    },
    "tags": []
   },
   "outputs": [
    {
     "name": "stdout",
     "output_type": "stream",
     "text": [
      "Model: \"sequential_3\"\n",
      "_________________________________________________________________\n",
      "Layer (type)                 Output Shape              Param #   \n",
      "=================================================================\n",
      "embedding (Embedding)        (None, 300, 300)          4085100   \n",
      "_________________________________________________________________\n",
      "conv1d_2 (Conv1D)            (None, 300, 300)          630300    \n",
      "_________________________________________________________________\n",
      "max_pooling1d_2 (MaxPooling1 (None, 100, 300)          0         \n",
      "_________________________________________________________________\n",
      "batch_normalization_8 (Batch (None, 100, 300)          1200      \n",
      "_________________________________________________________________\n",
      "activation_8 (Activation)    (None, 100, 300)          0         \n",
      "_________________________________________________________________\n",
      "conv1d_3 (Conv1D)            (None, 100, 100)          210100    \n",
      "_________________________________________________________________\n",
      "max_pooling1d_3 (MaxPooling1 (None, 50, 100)           0         \n",
      "_________________________________________________________________\n",
      "batch_normalization_9 (Batch (None, 50, 100)           400       \n",
      "_________________________________________________________________\n",
      "activation_9 (Activation)    (None, 50, 100)           0         \n",
      "_________________________________________________________________\n",
      "flatten_1 (Flatten)          (None, 5000)              0         \n",
      "_________________________________________________________________\n",
      "dense_4 (Dense)              (None, 10)                50010     \n",
      "_________________________________________________________________\n",
      "dense_5 (Dense)              (None, 7)                 77        \n",
      "=================================================================\n",
      "Total params: 4,977,187\n",
      "Trainable params: 891,287\n",
      "Non-trainable params: 4,085,900\n",
      "_________________________________________________________________\n",
      "None\n"
     ]
    }
   ],
   "source": [
    "# CNN model + Adamax\n",
    "modelx04 = Sequential()\n",
    "modelx04.add(embedding_layer)\n",
    "\n",
    "modelx04.add(Conv1D(filters=300, kernel_size=7, padding='same', activation='relu'))\n",
    "modelx04.add(MaxPooling1D(pool_size=3))\n",
    "modelx04.add(BatchNormalization())\n",
    "modelx04.add(Activation('relu'))\n",
    "\n",
    "modelx04.add(Conv1D(filters=100, kernel_size=7, padding='same', activation='relu'))\n",
    "modelx04.add(MaxPooling1D(pool_size=2))\n",
    "modelx04.add(BatchNormalization())\n",
    "modelx04.add(Activation('relu'))\n",
    "\n",
    "modelx04.add(Flatten())\n",
    "modelx04.add(Dense(units=10, activation='relu'))\n",
    "modelx04.add(Dense(units=7, activation='softmax'))\n",
    "\n",
    "# compile the model\n",
    "modelx04.compile(optimizer='adamax', loss='categorical_crossentropy', metrics=['accuracy',f1_m,precision_m, recall_m])\n",
    "print(modelx04.summary())"
   ]
  },
  {
   "cell_type": "code",
   "execution_count": 59,
   "id": "1dc0b270",
   "metadata": {
    "execution": {
     "iopub.execute_input": "2022-06-14T14:13:23.211309Z",
     "iopub.status.busy": "2022-06-14T14:13:23.210979Z",
     "iopub.status.idle": "2022-06-14T14:13:52.713523Z",
     "shell.execute_reply": "2022-06-14T14:13:52.712716Z"
    },
    "papermill": {
     "duration": 32.277004,
     "end_time": "2022-06-14T14:13:52.716095",
     "exception": false,
     "start_time": "2022-06-14T14:13:20.439091",
     "status": "completed"
    },
    "tags": []
   },
   "outputs": [
    {
     "name": "stdout",
     "output_type": "stream",
     "text": [
      "Epoch 1/10\n",
      "351/351 [==============================] - 6s 13ms/step - loss: 1.1337 - accuracy: 0.6107 - f1_m: 0.5648 - precision_m: 0.9137 - recall_m: 0.4294 - val_loss: 1.3412 - val_accuracy: 0.7079 - val_f1_m: 0.1231 - val_precision_m: 0.6821 - val_recall_m: 0.0693\n",
      "Epoch 2/10\n",
      "351/351 [==============================] - 4s 11ms/step - loss: 0.6744 - accuracy: 0.7780 - f1_m: 0.7575 - precision_m: 0.9285 - recall_m: 0.6472 - val_loss: 0.7758 - val_accuracy: 0.7449 - val_f1_m: 0.7266 - val_precision_m: 0.9274 - val_recall_m: 0.6046\n",
      "Epoch 3/10\n",
      "351/351 [==============================] - 4s 11ms/step - loss: 0.3644 - accuracy: 0.8876 - f1_m: 0.8796 - precision_m: 0.9493 - recall_m: 0.8234 - val_loss: 0.8025 - val_accuracy: 0.7412 - val_f1_m: 0.7463 - val_precision_m: 0.8570 - val_recall_m: 0.6658\n",
      "Epoch 4/10\n",
      "351/351 [==============================] - 4s 12ms/step - loss: 0.2092 - accuracy: 0.9447 - f1_m: 0.9433 - precision_m: 0.9670 - recall_m: 0.9222 - val_loss: 0.8194 - val_accuracy: 0.7561 - val_f1_m: 0.7626 - val_precision_m: 0.8384 - val_recall_m: 0.7035\n",
      "Epoch 5/10\n",
      "351/351 [==============================] - 4s 11ms/step - loss: 0.1367 - accuracy: 0.9672 - f1_m: 0.9669 - precision_m: 0.9791 - recall_m: 0.9557 - val_loss: 1.0491 - val_accuracy: 0.7187 - val_f1_m: 0.7266 - val_precision_m: 0.7886 - val_recall_m: 0.6770\n",
      "Epoch 6/10\n",
      "351/351 [==============================] - 4s 11ms/step - loss: 0.1023 - accuracy: 0.9750 - f1_m: 0.9761 - precision_m: 0.9854 - recall_m: 0.9676 - val_loss: 0.8523 - val_accuracy: 0.7595 - val_f1_m: 0.7687 - val_precision_m: 0.8274 - val_recall_m: 0.7205\n",
      "Epoch 7/10\n",
      "351/351 [==============================] - 4s 11ms/step - loss: 0.0766 - accuracy: 0.9831 - f1_m: 0.9837 - precision_m: 0.9891 - recall_m: 0.9788 - val_loss: 0.9023 - val_accuracy: 0.7678 - val_f1_m: 0.7740 - val_precision_m: 0.8201 - val_recall_m: 0.7354\n"
     ]
    }
   ],
   "source": [
    "epochs=10\n",
    "batch_size=16\n",
    "# fit the model\n",
    "history_modelx04 = modelx04.fit(X_train, Y_train, validation_split=0.3, epochs=epochs, verbose=1,batch_size=batch_size, callbacks=[EarlyStopping(monitor='val_loss', patience=5, min_delta=0.0001)])"
   ]
  },
  {
   "cell_type": "code",
   "execution_count": 60,
   "id": "4056deae",
   "metadata": {
    "execution": {
     "iopub.execute_input": "2022-06-14T14:13:58.461792Z",
     "iopub.status.busy": "2022-06-14T14:13:58.461369Z",
     "iopub.status.idle": "2022-06-14T14:13:58.815418Z",
     "shell.execute_reply": "2022-06-14T14:13:58.814212Z"
    },
    "papermill": {
     "duration": 3.234067,
     "end_time": "2022-06-14T14:13:58.818198",
     "exception": false,
     "start_time": "2022-06-14T14:13:55.584131",
     "status": "completed"
    },
    "tags": []
   },
   "outputs": [
    {
     "name": "stdout",
     "output_type": "stream",
     "text": [
      "28/28 [==============================] - 0s 5ms/step - loss: 0.8520 - accuracy: 0.7744 - f1_m: 0.7760 - precision_m: 0.8238 - recall_m: 0.7343\n"
     ]
    }
   ],
   "source": [
    "# evaluate the model\n",
    "lossx04, accuracyx04, f1_scorex04, precisionx04, recallx04 = modelx04.evaluate(X_test, Y_test, verbose=1)"
   ]
  },
  {
   "cell_type": "code",
   "execution_count": 61,
   "id": "6a16f861",
   "metadata": {
    "execution": {
     "iopub.execute_input": "2022-06-14T14:14:05.244216Z",
     "iopub.status.busy": "2022-06-14T14:14:05.243802Z",
     "iopub.status.idle": "2022-06-14T14:14:05.604214Z",
     "shell.execute_reply": "2022-06-14T14:14:05.603102Z"
    },
    "papermill": {
     "duration": 3.311256,
     "end_time": "2022-06-14T14:14:05.607106",
     "exception": false,
     "start_time": "2022-06-14T14:14:02.295850",
     "status": "completed"
    },
    "tags": []
   },
   "outputs": [
    {
     "name": "stdout",
     "output_type": "stream",
     "text": [
      "28/28 [==============================] - 0s 6ms/step - loss: 0.8520 - accuracy: 0.7744 - f1_m: 0.7760 - precision_m: 0.8238 - recall_m: 0.7343\n",
      "Test set\n",
      " Loss: 0.8520\n",
      " Accuracy: 0.7744\n",
      " f1_score: 0.7760\n",
      " Precision: 0.8238\n",
      " Recall: 0.7343\n"
     ]
    }
   ],
   "source": [
    "accrx04 = modelx04.evaluate(X_test,Y_test)\n",
    "print('Test set\\n Loss: {:0.4f}\\n Accuracy: {:0.4f}\\n f1_score: {:0.4f}\\n Precision: {:0.4f}\\n Recall: {:0.4f}'.format(accrx04[0],accrx04[1],accrx04[2],accrx04[3],accrx04[4]))"
   ]
  },
  {
   "cell_type": "code",
   "execution_count": 62,
   "id": "de55dd78",
   "metadata": {
    "execution": {
     "iopub.execute_input": "2022-06-14T14:14:11.869712Z",
     "iopub.status.busy": "2022-06-14T14:14:11.869142Z",
     "iopub.status.idle": "2022-06-14T14:14:12.081293Z",
     "shell.execute_reply": "2022-06-14T14:14:12.080510Z"
    },
    "papermill": {
     "duration": 3.53597,
     "end_time": "2022-06-14T14:14:12.083333",
     "exception": false,
     "start_time": "2022-06-14T14:14:08.547363",
     "status": "completed"
    },
    "tags": []
   },
   "outputs": [
    {
     "data": {
      "image/png": "[encoded data removed]",
      "text/plain": [
       "<Figure size 432x288 with 1 Axes>"
      ]
     },
     "metadata": {
      "needs_background": "light"
     },
     "output_type": "display_data"
    }
   ],
   "source": [
    "plt.title('Loss')\n",
    "plt.plot(history_modelx04.history['loss'], label='train')\n",
    "plt.plot(history_modelx04.history['val_loss'], label='test')\n",
    "plt.legend()\n",
    "plt.show();"
   ]
  },
  {
   "cell_type": "code",
   "execution_count": 63,
   "id": "1d167f04",
   "metadata": {
    "execution": {
     "iopub.execute_input": "2022-06-14T14:14:17.994576Z",
     "iopub.status.busy": "2022-06-14T14:14:17.994245Z",
     "iopub.status.idle": "2022-06-14T14:14:18.212198Z",
     "shell.execute_reply": "2022-06-14T14:14:18.211517Z"
    },
    "papermill": {
     "duration": 3.171459,
     "end_time": "2022-06-14T14:14:18.214071",
     "exception": false,
     "start_time": "2022-06-14T14:14:15.042612",
     "status": "completed"
    },
    "tags": []
   },
   "outputs": [
    {
     "data": {
      "image/png": "[encoded data removed]",
      "text/plain": [
       "<Figure size 432x288 with 1 Axes>"
      ]
     },
     "metadata": {
      "needs_background": "light"
     },
     "output_type": "display_data"
    }
   ],
   "source": [
    "plt.title('Accuracy')\n",
    "plt.plot(history_modelx04.history['accuracy'], label='train')\n",
    "plt.plot(history_modelx04.history['val_accuracy'], label='test')\n",
    "plt.legend()\n",
    "plt.show();"
   ]
  },
  {
   "cell_type": "code",
   "execution_count": 64,
   "id": "da9fb6c3",
   "metadata": {
    "execution": {
     "iopub.execute_input": "2022-06-14T14:14:24.428261Z",
     "iopub.status.busy": "2022-06-14T14:14:24.427937Z",
     "iopub.status.idle": "2022-06-14T14:14:24.627364Z",
     "shell.execute_reply": "2022-06-14T14:14:24.626558Z"
    },
    "papermill": {
     "duration": 3.207852,
     "end_time": "2022-06-14T14:14:24.629536",
     "exception": false,
     "start_time": "2022-06-14T14:14:21.421684",
     "status": "completed"
    },
    "tags": []
   },
   "outputs": [
    {
     "data": {
      "image/png": "[encoded data removed]",
      "text/plain": [
       "<Figure size 432x288 with 1 Axes>"
      ]
     },
     "metadata": {
      "needs_background": "light"
     },
     "output_type": "display_data"
    }
   ],
   "source": [
    "plt.title('f1-score')\n",
    "plt.plot(history_modelx04.history['f1_m'], label='train')\n",
    "plt.plot(history_modelx04.history['val_f1_m'], label='test')\n",
    "plt.legend()\n",
    "plt.show();"
   ]
  },
  {
   "cell_type": "code",
   "execution_count": 65,
   "id": "2a754cff",
   "metadata": {
    "execution": {
     "iopub.execute_input": "2022-06-14T14:14:30.482043Z",
     "iopub.status.busy": "2022-06-14T14:14:30.481651Z",
     "iopub.status.idle": "2022-06-14T14:14:30.751626Z",
     "shell.execute_reply": "2022-06-14T14:14:30.750718Z"
    },
    "papermill": {
     "duration": 3.176306,
     "end_time": "2022-06-14T14:14:30.754070",
     "exception": false,
     "start_time": "2022-06-14T14:14:27.577764",
     "status": "completed"
    },
    "tags": []
   },
   "outputs": [],
   "source": [
    "y_pred_04 = np.where(modelx04.predict(X_test)>.5,1,0)"
   ]
  },
  {
   "cell_type": "code",
   "execution_count": 66,
   "id": "b911d182",
   "metadata": {
    "execution": {
     "iopub.execute_input": "2022-06-14T14:14:37.412010Z",
     "iopub.status.busy": "2022-06-14T14:14:37.411741Z",
     "iopub.status.idle": "2022-06-14T14:14:37.428556Z",
     "shell.execute_reply": "2022-06-14T14:14:37.427599Z"
    },
    "papermill": {
     "duration": 3.509706,
     "end_time": "2022-06-14T14:14:37.432632",
     "exception": false,
     "start_time": "2022-06-14T14:14:33.922926",
     "status": "completed"
    },
    "tags": []
   },
   "outputs": [
    {
     "name": "stdout",
     "output_type": "stream",
     "text": [
      "              precision    recall  f1-score   support\n",
      "\n",
      "           0     0.7847    0.7847    0.7847       144\n",
      "           1     0.6257    0.8478    0.7200       138\n",
      "           2     0.7917    0.8566    0.8228       244\n",
      "           3     0.7465    0.9636    0.8413        55\n",
      "           4     0.4808    0.6250    0.5435        40\n",
      "           5     0.8364    0.7977    0.8166       173\n",
      "           6     0.0000    0.0000    0.0000         0\n",
      "\n",
      "   micro avg     0.7351    0.8249    0.7774       794\n",
      "   macro avg     0.6094    0.6965    0.6470       794\n",
      "weighted avg     0.7525    0.8249    0.7839       794\n",
      " samples avg     0.7351    0.7351    0.7351       794\n",
      "\n"
     ]
    },
    {
     "name": "stderr",
     "output_type": "stream",
     "text": [
      "/opt/conda/lib/python3.7/site-packages/sklearn/metrics/_classification.py:1318: UndefinedMetricWarning: Recall and F-score are ill-defined and being set to 0.0 in labels with no true samples. Use `zero_division` parameter to control this behavior.\n",
      "  _warn_prf(average, modifier, msg_start, len(result))\n",
      "/opt/conda/lib/python3.7/site-packages/sklearn/metrics/_classification.py:1318: UndefinedMetricWarning: Recall and F-score are ill-defined and being set to 0.0 in samples with no true labels. Use `zero_division` parameter to control this behavior.\n",
      "  _warn_prf(average, modifier, msg_start, len(result))\n"
     ]
    }
   ],
   "source": [
    "from sklearn import metrics\n",
    "print(metrics.classification_report(y_pred_04, Y_test,digits=4))"
   ]
  },
  {
   "cell_type": "code",
   "execution_count": 67,
   "id": "f6cba216",
   "metadata": {
    "execution": {
     "iopub.execute_input": "2022-06-14T14:14:43.654950Z",
     "iopub.status.busy": "2022-06-14T14:14:43.654551Z",
     "iopub.status.idle": "2022-06-14T14:14:44.032387Z",
     "shell.execute_reply": "2022-06-14T14:14:44.031380Z"
    },
    "papermill": {
     "duration": 3.661654,
     "end_time": "2022-06-14T14:14:44.035524",
     "exception": false,
     "start_time": "2022-06-14T14:14:40.373870",
     "status": "completed"
    },
    "tags": []
   },
   "outputs": [
    {
     "data": {
      "text/plain": [
       "Text(33.0, 0.5, 'real')"
      ]
     },
     "execution_count": 67,
     "metadata": {},
     "output_type": "execute_result"
    },
    {
     "data": {
      "image/png": "[encoded data removed]",
      "text/plain": [
       "<Figure size 432x288 with 1 Axes>"
      ]
     },
     "metadata": {
      "needs_background": "light"
     },
     "output_type": "display_data"
    }
   ],
   "source": [
    "from sklearn.metrics import confusion_matrix\n",
    "import seaborn as sns\n",
    "mat_CNN_W2V02= confusion_matrix(np.asarray(Y_test).argmax(axis=1), np.asarray(y_pred_04).argmax(axis=1))\n",
    "sns.heatmap(mat_CNN_W2V02, \n",
    "            annot = True, \n",
    "            fmt = 'd',\n",
    "            cbar = False,\n",
    "            xticklabels = labels,\n",
    "            yticklabels= labels)\n",
    "plt.xlabel('pred')\n",
    "plt.ylabel('real')"
   ]
  },
  {
   "cell_type": "markdown",
   "id": "535caba0",
   "metadata": {
    "papermill": {
     "duration": 2.843946,
     "end_time": "2022-06-14T14:14:49.764052",
     "exception": false,
     "start_time": "2022-06-14T14:14:46.920106",
     "status": "completed"
    },
    "tags": []
   },
   "source": [
    "# Comparación modelos"
   ]
  },
  {
   "cell_type": "code",
   "execution_count": 68,
   "id": "65b837ae",
   "metadata": {
    "execution": {
     "iopub.execute_input": "2022-06-14T14:14:55.887477Z",
     "iopub.status.busy": "2022-06-14T14:14:55.887124Z",
     "iopub.status.idle": "2022-06-14T14:14:55.896581Z",
     "shell.execute_reply": "2022-06-14T14:14:55.895684Z"
    },
    "papermill": {
     "duration": 3.268427,
     "end_time": "2022-06-14T14:14:55.899004",
     "exception": false,
     "start_time": "2022-06-14T14:14:52.630577",
     "status": "completed"
    },
    "tags": []
   },
   "outputs": [],
   "source": [
    "def show_values_on_bars(axs, h_v=\"v\", space=0.2):\n",
    "    def _show_on_single_plot(ax):\n",
    "        if h_v == \"v\":\n",
    "            for p in ax.patches:\n",
    "                _x = p.get_x() + p.get_width() / 2\n",
    "                _y = p.get_y() + p.get_height()\n",
    "                value = \"{:.2f}\".format(p.get_height())\n",
    "                ax.text(_x, _y, value, ha=\"center\") \n",
    "        elif h_v == \"h\":\n",
    "            for p in ax.patches:\n",
    "                _x = p.get_x() + p.get_width() + float(space)\n",
    "                _y = p.get_y() + p.get_height()\n",
    "                value = \"{:.2f}\".format(p.get_width())\n",
    "                ax.text(_x, _y, value, ha=\"left\")\n",
    "\n",
    "    if isinstance(axs, np.ndarray):\n",
    "        for idx, ax in np.ndenumerate(axs):\n",
    "            _show_on_single_plot(ax)\n",
    "    else:\n",
    "        _show_on_single_plot(axs)"
   ]
  },
  {
   "cell_type": "code",
   "execution_count": 69,
   "id": "9a67052d",
   "metadata": {
    "execution": {
     "iopub.execute_input": "2022-06-14T14:15:01.804209Z",
     "iopub.status.busy": "2022-06-14T14:15:01.803850Z",
     "iopub.status.idle": "2022-06-14T14:15:02.113851Z",
     "shell.execute_reply": "2022-06-14T14:15:02.113052Z"
    },
    "papermill": {
     "duration": 3.254057,
     "end_time": "2022-06-14T14:15:02.116049",
     "exception": false,
     "start_time": "2022-06-14T14:14:58.861992",
     "status": "completed"
    },
    "tags": []
   },
   "outputs": [
    {
     "data": {
      "image/png": "[encoded data removed]",
      "text/plain": [
       "<Figure size 720x720 with 1 Axes>"
      ]
     },
     "metadata": {
      "needs_background": "light"
     },
     "output_type": "display_data"
    }
   ],
   "source": [
    "results=[]\n",
    "#Test\n",
    "results.append([accrx01[2], 'f1-score', 'LSTM-Adam'])\n",
    "results.append([accrx02[2], 'f1-score', 'LSTM-Adamax'])\n",
    "results.append([accrx03[2], 'f1-score', 'CNN-Adam'])\n",
    "results.append([accrx04[2], 'f1-score', 'CNN-Adamax'])\n",
    "\n",
    "comparison = pd.DataFrame(results, columns = ['Score', 'Metric', 'Model'])\n",
    "\n",
    "plt.figure(figsize=(10,10))\n",
    "plt.title(\"Classifiers with Word2Vec\")\n",
    "plot = sns.barplot(x=comparison['Metric'],y=comparison['Score'], hue = comparison['Model'])\n",
    "\n",
    "show_values_on_bars(plot)"
   ]
  }
 ],
 "metadata": {
  "kernelspec": {
   "display_name": "Python 3",
   "language": "python",
   "name": "python3"
  },
  "language_info": {
   "codemirror_mode": {
    "name": "ipython",
    "version": 3
   },
   "file_extension": ".py",
   "mimetype": "text/x-python",
   "name": "python",
   "nbconvert_exporter": "python",
   "pygments_lexer": "ipython3",
   "version": "3.7.12"
  },
  "papermill": {
   "default_parameters": {},
   "duration": 13719.479965,
   "end_time": "2022-06-14T14:15:08.955778",
   "environment_variables": {},
   "exception": null,
   "input_path": "__notebook__.ipynb",
   "output_path": "__notebook__.ipynb",
   "parameters": {},
   "start_time": "2022-06-14T10:26:29.475813",
   "version": "2.3.4"
  }
 },
 "nbformat": 4,
 "nbformat_minor": 5
}
